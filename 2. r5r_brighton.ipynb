{
 "cells": [
  {
   "cell_type": "markdown",
   "id": "0ad15691-0d9c-4155-983e-9c9e21148cb4",
   "metadata": {},
   "source": [
    "# Geographical services (city centre and rail stations) (R) "
   ]
  },
  {
   "cell_type": "markdown",
   "id": "f8bb6522",
   "metadata": {},
   "source": [
    "## Libraries and data"
   ]
  },
  {
   "cell_type": "code",
   "execution_count": 1,
   "id": "1da63829",
   "metadata": {},
   "outputs": [
    {
     "name": "stderr",
     "output_type": "stream",
     "text": [
      "Linking to GEOS 3.11.2, GDAL 3.7.0, PROJ 9.2.0; sf_use_s2() is TRUE\n",
      "\n",
      "The legacy packages maptools, rgdal, and rgeos, underpinning this package\n",
      "will retire shortly. Please refer to R-spatial evolution reports on\n",
      "https://r-spatial.org/r/2023/05/15/evolution4.html for details.\n",
      "This package is now running under evolution status 0 \n",
      "\n",
      "\n",
      "Attaching package: ‘dplyr’\n",
      "\n",
      "\n",
      "The following objects are masked from ‘package:data.table’:\n",
      "\n",
      "    between, first, last\n",
      "\n",
      "\n",
      "The following objects are masked from ‘package:stats’:\n",
      "\n",
      "    filter, lag\n",
      "\n",
      "\n",
      "The following objects are masked from ‘package:base’:\n",
      "\n",
      "    intersect, setdiff, setequal, union\n",
      "\n",
      "\n",
      "Data (c) OpenStreetMap contributors, ODbL 1.0. https://www.openstreetmap.org/copyright\n",
      "\n"
     ]
    }
   ],
   "source": [
    "# Import libraries\n",
    "library(sf)\n",
    "library(data.table)\n",
    "library(ggplot2)\n",
    "library(tmap)\n",
    "library(tidygeocoder)\n",
    "library(leaflet)\n",
    "library(dplyr)\n",
    "library(osmdata)\n",
    "library(tmaptools)\n",
    "library(tidyr)\n",
    "library(readr)"
   ]
  },
  {
   "cell_type": "code",
   "execution_count": 2,
   "id": "1ba7918a",
   "metadata": {},
   "outputs": [
    {
     "data": {
      "text/html": [
       "<style>\n",
       ".list-inline {list-style: none; margin:0; padding: 0}\n",
       ".list-inline>li {display: inline-block}\n",
       ".list-inline>li:not(:last-child)::after {content: \"\\00b7\"; padding: 0 .5ex}\n",
       "</style>\n",
       "<ol class=list-inline><li>'Brighton_and_Hove_link_13082022.csv'</li><li>'Brighton_pop_points_2020.gpkg'</li><li>'Brighton-DEM.tif'</li><li>'brightonhove_1667288932.zip'</li><li>'brightonhove.pbf'</li><li>'brightonhove.pbf.mapdb'</li><li>'brightonhove.pbf.mapdb.p'</li><li>'city_centre.csv'</li><li>'network_settings.json'</li><li>'network.dat'</li><li>'ONSPD_MAY_2023_UK_BN.csv'</li><li>'stations.csv'</li></ol>\n"
      ],
      "text/latex": [
       "\\begin{enumerate*}\n",
       "\\item 'Brighton\\_and\\_Hove\\_link\\_13082022.csv'\n",
       "\\item 'Brighton\\_pop\\_points\\_2020.gpkg'\n",
       "\\item 'Brighton-DEM.tif'\n",
       "\\item 'brightonhove\\_1667288932.zip'\n",
       "\\item 'brightonhove.pbf'\n",
       "\\item 'brightonhove.pbf.mapdb'\n",
       "\\item 'brightonhove.pbf.mapdb.p'\n",
       "\\item 'city\\_centre.csv'\n",
       "\\item 'network\\_settings.json'\n",
       "\\item 'network.dat'\n",
       "\\item 'ONSPD\\_MAY\\_2023\\_UK\\_BN.csv'\n",
       "\\item 'stations.csv'\n",
       "\\end{enumerate*}\n"
      ],
      "text/markdown": [
       "1. 'Brighton_and_Hove_link_13082022.csv'\n",
       "2. 'Brighton_pop_points_2020.gpkg'\n",
       "3. 'Brighton-DEM.tif'\n",
       "4. 'brightonhove_1667288932.zip'\n",
       "5. 'brightonhove.pbf'\n",
       "6. 'brightonhove.pbf.mapdb'\n",
       "7. 'brightonhove.pbf.mapdb.p'\n",
       "8. 'city_centre.csv'\n",
       "9. 'network_settings.json'\n",
       "10. 'network.dat'\n",
       "11. 'ONSPD_MAY_2023_UK_BN.csv'\n",
       "12. 'stations.csv'\n",
       "\n",
       "\n"
      ],
      "text/plain": [
       " [1] \"Brighton_and_Hove_link_13082022.csv\" \"Brighton_pop_points_2020.gpkg\"      \n",
       " [3] \"Brighton-DEM.tif\"                    \"brightonhove_1667288932.zip\"        \n",
       " [5] \"brightonhove.pbf\"                    \"brightonhove.pbf.mapdb\"             \n",
       " [7] \"brightonhove.pbf.mapdb.p\"            \"city_centre.csv\"                    \n",
       " [9] \"network_settings.json\"               \"network.dat\"                        \n",
       "[11] \"ONSPD_MAY_2023_UK_BN.csv\"            \"stations.csv\"                       "
      ]
     },
     "metadata": {},
     "output_type": "display_data"
    }
   ],
   "source": [
    "# Specify data directory\n",
    "data_path = \"data/geo_services/data/Brighton\"\n",
    "\n",
    "# Check what files we have\n",
    "list.files(data_path)"
   ]
  },
  {
   "cell_type": "code",
   "execution_count": 3,
   "id": "59aa09a0",
   "metadata": {},
   "outputs": [
    {
     "name": "stderr",
     "output_type": "stream",
     "text": [
      "\u001b[1mRows: \u001b[22m\u001b[34m35547\u001b[39m \u001b[1mColumns: \u001b[22m\u001b[34m53\u001b[39m\n",
      "\u001b[36m──\u001b[39m \u001b[1mColumn specification\u001b[22m \u001b[36m────────────────────────────────────────────────────────────────────────────────────────────────\u001b[39m\n",
      "\u001b[1mDelimiter:\u001b[22m \",\"\n",
      "\u001b[31mchr\u001b[39m (42): pcd, pcd2, pcds, oscty, ced, oslaua, osward, parish, osnrth1m, osh...\n",
      "\u001b[32mdbl\u001b[39m (10): dointr, doterm, usertype, oseast1m, osgrdind, streg, ur01ind, lat,...\n",
      "\u001b[33mlgl\u001b[39m  (1): lep2\n",
      "\n",
      "\u001b[36mℹ\u001b[39m Use `spec()` to retrieve the full column specification for this data.\n",
      "\u001b[36mℹ\u001b[39m Specify the column types or set `show_col_types = FALSE` to quiet this message.\n"
     ]
    },
    {
     "data": {
      "text/html": [
       "<table class=\"dataframe\">\n",
       "<caption>A tibble: 6 × 53</caption>\n",
       "<thead>\n",
       "\t<tr><th scope=col>pcd</th><th scope=col>pcd2</th><th scope=col>pcds</th><th scope=col>dointr</th><th scope=col>doterm</th><th scope=col>oscty</th><th scope=col>ced</th><th scope=col>oslaua</th><th scope=col>osward</th><th scope=col>parish</th><th scope=col>⋯</th><th scope=col>long</th><th scope=col>lep1</th><th scope=col>lep2</th><th scope=col>pfa</th><th scope=col>imd</th><th scope=col>calncv</th><th scope=col>icb</th><th scope=col>oa21</th><th scope=col>lsoa21</th><th scope=col>msoa21</th></tr>\n",
       "\t<tr><th scope=col>&lt;chr&gt;</th><th scope=col>&lt;chr&gt;</th><th scope=col>&lt;chr&gt;</th><th scope=col>&lt;dbl&gt;</th><th scope=col>&lt;dbl&gt;</th><th scope=col>&lt;chr&gt;</th><th scope=col>&lt;chr&gt;</th><th scope=col>&lt;chr&gt;</th><th scope=col>&lt;chr&gt;</th><th scope=col>&lt;chr&gt;</th><th scope=col>⋯</th><th scope=col>&lt;dbl&gt;</th><th scope=col>&lt;chr&gt;</th><th scope=col>&lt;lgl&gt;</th><th scope=col>&lt;chr&gt;</th><th scope=col>&lt;dbl&gt;</th><th scope=col>&lt;chr&gt;</th><th scope=col>&lt;chr&gt;</th><th scope=col>&lt;chr&gt;</th><th scope=col>&lt;chr&gt;</th><th scope=col>&lt;chr&gt;</th></tr>\n",
       "</thead>\n",
       "<tbody>\n",
       "\t<tr><td>BN1 1AA</td><td>BN1  1AA</td><td>BN1 1AA</td><td>199002</td><td>NA</td><td>E99999999</td><td>E99999999</td><td>E06000043</td><td>E05015415</td><td>E43000034</td><td>⋯</td><td>-0.140818</td><td>E37000044</td><td>NA</td><td>E23000033</td><td>4311</td><td>E56000012</td><td>E54000064</td><td>E00085668</td><td>E01016969</td><td>E02003517</td></tr>\n",
       "\t<tr><td>BN1 1AB</td><td>BN1  1AB</td><td>BN1 1AB</td><td>198001</td><td>NA</td><td>E99999999</td><td>E99999999</td><td>E06000043</td><td>E05015411</td><td>E43000034</td><td>⋯</td><td>-0.141790</td><td>E37000044</td><td>NA</td><td>E23000033</td><td>8856</td><td>E56000012</td><td>E54000064</td><td>E00085586</td><td>E01016952</td><td>E02003517</td></tr>\n",
       "\t<tr><td>BN1 1AD</td><td>BN1  1AD</td><td>BN1 1AD</td><td>198307</td><td>NA</td><td>E99999999</td><td>E99999999</td><td>E06000043</td><td>E05015411</td><td>E43000034</td><td>⋯</td><td>-0.142167</td><td>E37000044</td><td>NA</td><td>E23000033</td><td>8856</td><td>E56000012</td><td>E54000064</td><td>E00184774</td><td>E01016952</td><td>E02003517</td></tr>\n",
       "\t<tr><td>BN1 1AE</td><td>BN1  1AE</td><td>BN1 1AE</td><td>198001</td><td>NA</td><td>E99999999</td><td>E99999999</td><td>E06000043</td><td>E05015411</td><td>E43000034</td><td>⋯</td><td>-0.141753</td><td>E37000044</td><td>NA</td><td>E23000033</td><td>8856</td><td>E56000012</td><td>E54000064</td><td>E00085586</td><td>E01016952</td><td>E02003517</td></tr>\n",
       "\t<tr><td>BN1 1AF</td><td>BN1  1AF</td><td>BN1 1AF</td><td>198001</td><td>NA</td><td>E99999999</td><td>E99999999</td><td>E06000043</td><td>E05015411</td><td>E43000034</td><td>⋯</td><td>-0.141426</td><td>E37000044</td><td>NA</td><td>E23000033</td><td>8856</td><td>E56000012</td><td>E54000064</td><td>E00085586</td><td>E01016952</td><td>E02003517</td></tr>\n",
       "\t<tr><td>BN1 1AG</td><td>BN1  1AG</td><td>BN1 1AG</td><td>198001</td><td>NA</td><td>E99999999</td><td>E99999999</td><td>E06000043</td><td>E05015411</td><td>E43000034</td><td>⋯</td><td>-0.142871</td><td>E37000044</td><td>NA</td><td>E23000033</td><td>8856</td><td>E56000012</td><td>E54000064</td><td>E00085586</td><td>E01016952</td><td>E02003517</td></tr>\n",
       "</tbody>\n",
       "</table>\n"
      ],
      "text/latex": [
       "A tibble: 6 × 53\n",
       "\\begin{tabular}{lllllllllllllllllllll}\n",
       " pcd & pcd2 & pcds & dointr & doterm & oscty & ced & oslaua & osward & parish & ⋯ & long & lep1 & lep2 & pfa & imd & calncv & icb & oa21 & lsoa21 & msoa21\\\\\n",
       " <chr> & <chr> & <chr> & <dbl> & <dbl> & <chr> & <chr> & <chr> & <chr> & <chr> & ⋯ & <dbl> & <chr> & <lgl> & <chr> & <dbl> & <chr> & <chr> & <chr> & <chr> & <chr>\\\\\n",
       "\\hline\n",
       "\t BN1 1AA & BN1  1AA & BN1 1AA & 199002 & NA & E99999999 & E99999999 & E06000043 & E05015415 & E43000034 & ⋯ & -0.140818 & E37000044 & NA & E23000033 & 4311 & E56000012 & E54000064 & E00085668 & E01016969 & E02003517\\\\\n",
       "\t BN1 1AB & BN1  1AB & BN1 1AB & 198001 & NA & E99999999 & E99999999 & E06000043 & E05015411 & E43000034 & ⋯ & -0.141790 & E37000044 & NA & E23000033 & 8856 & E56000012 & E54000064 & E00085586 & E01016952 & E02003517\\\\\n",
       "\t BN1 1AD & BN1  1AD & BN1 1AD & 198307 & NA & E99999999 & E99999999 & E06000043 & E05015411 & E43000034 & ⋯ & -0.142167 & E37000044 & NA & E23000033 & 8856 & E56000012 & E54000064 & E00184774 & E01016952 & E02003517\\\\\n",
       "\t BN1 1AE & BN1  1AE & BN1 1AE & 198001 & NA & E99999999 & E99999999 & E06000043 & E05015411 & E43000034 & ⋯ & -0.141753 & E37000044 & NA & E23000033 & 8856 & E56000012 & E54000064 & E00085586 & E01016952 & E02003517\\\\\n",
       "\t BN1 1AF & BN1  1AF & BN1 1AF & 198001 & NA & E99999999 & E99999999 & E06000043 & E05015411 & E43000034 & ⋯ & -0.141426 & E37000044 & NA & E23000033 & 8856 & E56000012 & E54000064 & E00085586 & E01016952 & E02003517\\\\\n",
       "\t BN1 1AG & BN1  1AG & BN1 1AG & 198001 & NA & E99999999 & E99999999 & E06000043 & E05015411 & E43000034 & ⋯ & -0.142871 & E37000044 & NA & E23000033 & 8856 & E56000012 & E54000064 & E00085586 & E01016952 & E02003517\\\\\n",
       "\\end{tabular}\n"
      ],
      "text/markdown": [
       "\n",
       "A tibble: 6 × 53\n",
       "\n",
       "| pcd &lt;chr&gt; | pcd2 &lt;chr&gt; | pcds &lt;chr&gt; | dointr &lt;dbl&gt; | doterm &lt;dbl&gt; | oscty &lt;chr&gt; | ced &lt;chr&gt; | oslaua &lt;chr&gt; | osward &lt;chr&gt; | parish &lt;chr&gt; | ⋯ ⋯ | long &lt;dbl&gt; | lep1 &lt;chr&gt; | lep2 &lt;lgl&gt; | pfa &lt;chr&gt; | imd &lt;dbl&gt; | calncv &lt;chr&gt; | icb &lt;chr&gt; | oa21 &lt;chr&gt; | lsoa21 &lt;chr&gt; | msoa21 &lt;chr&gt; |\n",
       "|---|---|---|---|---|---|---|---|---|---|---|---|---|---|---|---|---|---|---|---|---|\n",
       "| BN1 1AA | BN1  1AA | BN1 1AA | 199002 | NA | E99999999 | E99999999 | E06000043 | E05015415 | E43000034 | ⋯ | -0.140818 | E37000044 | NA | E23000033 | 4311 | E56000012 | E54000064 | E00085668 | E01016969 | E02003517 |\n",
       "| BN1 1AB | BN1  1AB | BN1 1AB | 198001 | NA | E99999999 | E99999999 | E06000043 | E05015411 | E43000034 | ⋯ | -0.141790 | E37000044 | NA | E23000033 | 8856 | E56000012 | E54000064 | E00085586 | E01016952 | E02003517 |\n",
       "| BN1 1AD | BN1  1AD | BN1 1AD | 198307 | NA | E99999999 | E99999999 | E06000043 | E05015411 | E43000034 | ⋯ | -0.142167 | E37000044 | NA | E23000033 | 8856 | E56000012 | E54000064 | E00184774 | E01016952 | E02003517 |\n",
       "| BN1 1AE | BN1  1AE | BN1 1AE | 198001 | NA | E99999999 | E99999999 | E06000043 | E05015411 | E43000034 | ⋯ | -0.141753 | E37000044 | NA | E23000033 | 8856 | E56000012 | E54000064 | E00085586 | E01016952 | E02003517 |\n",
       "| BN1 1AF | BN1  1AF | BN1 1AF | 198001 | NA | E99999999 | E99999999 | E06000043 | E05015411 | E43000034 | ⋯ | -0.141426 | E37000044 | NA | E23000033 | 8856 | E56000012 | E54000064 | E00085586 | E01016952 | E02003517 |\n",
       "| BN1 1AG | BN1  1AG | BN1 1AG | 198001 | NA | E99999999 | E99999999 | E06000043 | E05015411 | E43000034 | ⋯ | -0.142871 | E37000044 | NA | E23000033 | 8856 | E56000012 | E54000064 | E00085586 | E01016952 | E02003517 |\n",
       "\n"
      ],
      "text/plain": [
       "  pcd     pcd2     pcds    dointr doterm oscty     ced       oslaua   \n",
       "1 BN1 1AA BN1  1AA BN1 1AA 199002 NA     E99999999 E99999999 E06000043\n",
       "2 BN1 1AB BN1  1AB BN1 1AB 198001 NA     E99999999 E99999999 E06000043\n",
       "3 BN1 1AD BN1  1AD BN1 1AD 198307 NA     E99999999 E99999999 E06000043\n",
       "4 BN1 1AE BN1  1AE BN1 1AE 198001 NA     E99999999 E99999999 E06000043\n",
       "5 BN1 1AF BN1  1AF BN1 1AF 198001 NA     E99999999 E99999999 E06000043\n",
       "6 BN1 1AG BN1  1AG BN1 1AG 198001 NA     E99999999 E99999999 E06000043\n",
       "  osward    parish    ⋯ long      lep1      lep2 pfa       imd  calncv   \n",
       "1 E05015415 E43000034 ⋯ -0.140818 E37000044 NA   E23000033 4311 E56000012\n",
       "2 E05015411 E43000034 ⋯ -0.141790 E37000044 NA   E23000033 8856 E56000012\n",
       "3 E05015411 E43000034 ⋯ -0.142167 E37000044 NA   E23000033 8856 E56000012\n",
       "4 E05015411 E43000034 ⋯ -0.141753 E37000044 NA   E23000033 8856 E56000012\n",
       "5 E05015411 E43000034 ⋯ -0.141426 E37000044 NA   E23000033 8856 E56000012\n",
       "6 E05015411 E43000034 ⋯ -0.142871 E37000044 NA   E23000033 8856 E56000012\n",
       "  icb       oa21      lsoa21    msoa21   \n",
       "1 E54000064 E00085668 E01016969 E02003517\n",
       "2 E54000064 E00085586 E01016952 E02003517\n",
       "3 E54000064 E00184774 E01016952 E02003517\n",
       "4 E54000064 E00085586 E01016952 E02003517\n",
       "5 E54000064 E00085586 E01016952 E02003517\n",
       "6 E54000064 E00085586 E01016952 E02003517"
      ]
     },
     "metadata": {},
     "output_type": "display_data"
    }
   ],
   "source": [
    "# Load postcode data\n",
    "postcode_dir = read_csv(\"data/geo_services/data/Brighton/ONSPD_MAY_2023_UK_BN.csv\")\n",
    "head(postcode_dir)"
   ]
  },
  {
   "cell_type": "code",
   "execution_count": 4,
   "id": "be2765ba",
   "metadata": {},
   "outputs": [
    {
     "data": {
      "text/html": [
       "<table class=\"dataframe\">\n",
       "<caption>A tibble: 6 × 3</caption>\n",
       "<thead>\n",
       "\t<tr><th scope=col>pcds</th><th scope=col>lat</th><th scope=col>long</th></tr>\n",
       "\t<tr><th scope=col>&lt;chr&gt;</th><th scope=col>&lt;dbl&gt;</th><th scope=col>&lt;dbl&gt;</th></tr>\n",
       "</thead>\n",
       "<tbody>\n",
       "\t<tr><td>BN1 1AA</td><td>50.82633</td><td>-0.140818</td></tr>\n",
       "\t<tr><td>BN1 1AB</td><td>50.82296</td><td>-0.141790</td></tr>\n",
       "\t<tr><td>BN1 1AD</td><td>50.82169</td><td>-0.142167</td></tr>\n",
       "\t<tr><td>BN1 1AE</td><td>50.82138</td><td>-0.141753</td></tr>\n",
       "\t<tr><td>BN1 1AF</td><td>50.82248</td><td>-0.141426</td></tr>\n",
       "\t<tr><td>BN1 1AG</td><td>50.82292</td><td>-0.142871</td></tr>\n",
       "</tbody>\n",
       "</table>\n"
      ],
      "text/latex": [
       "A tibble: 6 × 3\n",
       "\\begin{tabular}{lll}\n",
       " pcds & lat & long\\\\\n",
       " <chr> & <dbl> & <dbl>\\\\\n",
       "\\hline\n",
       "\t BN1 1AA & 50.82633 & -0.140818\\\\\n",
       "\t BN1 1AB & 50.82296 & -0.141790\\\\\n",
       "\t BN1 1AD & 50.82169 & -0.142167\\\\\n",
       "\t BN1 1AE & 50.82138 & -0.141753\\\\\n",
       "\t BN1 1AF & 50.82248 & -0.141426\\\\\n",
       "\t BN1 1AG & 50.82292 & -0.142871\\\\\n",
       "\\end{tabular}\n"
      ],
      "text/markdown": [
       "\n",
       "A tibble: 6 × 3\n",
       "\n",
       "| pcds &lt;chr&gt; | lat &lt;dbl&gt; | long &lt;dbl&gt; |\n",
       "|---|---|---|\n",
       "| BN1 1AA | 50.82633 | -0.140818 |\n",
       "| BN1 1AB | 50.82296 | -0.141790 |\n",
       "| BN1 1AD | 50.82169 | -0.142167 |\n",
       "| BN1 1AE | 50.82138 | -0.141753 |\n",
       "| BN1 1AF | 50.82248 | -0.141426 |\n",
       "| BN1 1AG | 50.82292 | -0.142871 |\n",
       "\n"
      ],
      "text/plain": [
       "  pcds    lat      long     \n",
       "1 BN1 1AA 50.82633 -0.140818\n",
       "2 BN1 1AB 50.82296 -0.141790\n",
       "3 BN1 1AD 50.82169 -0.142167\n",
       "4 BN1 1AE 50.82138 -0.141753\n",
       "5 BN1 1AF 50.82248 -0.141426\n",
       "6 BN1 1AG 50.82292 -0.142871"
      ]
     },
     "metadata": {},
     "output_type": "display_data"
    }
   ],
   "source": [
    "# Load postcode data\n",
    "keep <- c(\"pcds\", \"lat\", \"long\")\n",
    "postcode_df = postcode_dir[keep]\n",
    "head(postcode_df)"
   ]
  },
  {
   "cell_type": "code",
   "execution_count": 5,
   "id": "7e10c528",
   "metadata": {},
   "outputs": [],
   "source": [
    "# df into point data\n",
    "#y is lat, x is lon\n",
    "postcode_points<- postcode_df%>%\n",
    "  #remove NAs or 0\n",
    "  filter(long != 0 )%>%\n",
    "  filter(lat != 0)%>%\n",
    "  st_as_sf(., coords = c(\"long\",\"lat\"), \n",
    "                   crs = 4326)"
   ]
  },
  {
   "cell_type": "code",
   "execution_count": 6,
   "id": "198e7b80",
   "metadata": {},
   "outputs": [
    {
     "data": {
      "image/png": "[encoded data removed]",
      "text/plain": [
       "plot without title"
      ]
     },
     "metadata": {
      "image/png": {
       "height": 420,
       "width": 420
      }
     },
     "output_type": "display_data"
    }
   ],
   "source": [
    "# Plot the points\n",
    "tm_shape(postcode_points) + tm_symbols(size=0.05, col=\"red\", border.lwd=0, alpha=0.5)"
   ]
  },
  {
   "cell_type": "code",
   "execution_count": 6,
   "id": "8f86c334",
   "metadata": {},
   "outputs": [],
   "source": [
    "#rename pcds to id to fit with r5r requirements\n",
    "# postcode_points %>% \n",
    "#   rename(\n",
    "#     id = pcds\n",
    "#     )\n",
    "names(postcode_points)[names(postcode_points) == \"pcds\"] <- \"id\""
   ]
  },
  {
   "cell_type": "code",
   "execution_count": 7,
   "id": "c8bd643b",
   "metadata": {},
   "outputs": [
    {
     "name": "stderr",
     "output_type": "stream",
     "text": [
      "Registered S3 method overwritten by 'geojsonsf':\n",
      "  method        from   \n",
      "  print.geojson geojson\n",
      "\n"
     ]
    },
    {
     "data": {
      "application/geo+json": {
       "features": [
        {
         "geometry": {
          "coordinates": [
           -0.1408,
           50.8263
          ],
          "type": "Point"
         },
         "properties": {
          "id": "BN1 1AA"
         },
         "type": "Feature"
        },
        {
         "geometry": {
          "coordinates": [
           -0.1418,
           50.823
          ],
          "type": "Point"
         },
         "properties": {
          "id": "BN1 1AB"
         },
         "type": "Feature"
        },
        {
         "geometry": {
          "coordinates": [
           -0.1422,
           50.8217
          ],
          "type": "Point"
         },
         "properties": {
          "id": "BN1 1AD"
         },
         "type": "Feature"
        },
        {
         "geometry": {
          "coordinates": [
           -0.1418,
           50.8214
          ],
          "type": "Point"
         },
         "properties": {
          "id": "BN1 1AE"
         },
         "type": "Feature"
        },
        {
         "geometry": {
          "coordinates": [
           -0.1414,
           50.8225
          ],
          "type": "Point"
         },
         "properties": {
          "id": "BN1 1AF"
         },
         "type": "Feature"
        },
        {
         "geometry": {
          "coordinates": [
           -0.1429,
           50.8229
          ],
          "type": "Point"
         },
         "properties": {
          "id": "BN1 1AG"
         },
         "type": "Feature"
        }
       ],
       "type": "FeatureCollection"
      },
      "text/html": [
       "<table class=\"dataframe\">\n",
       "<caption>A sf: 6 × 2</caption>\n",
       "<thead>\n",
       "\t<tr><th scope=col>id</th><th scope=col>geometry</th></tr>\n",
       "\t<tr><th scope=col>&lt;chr&gt;</th><th scope=col>&lt;POINT [°]&gt;</th></tr>\n",
       "</thead>\n",
       "<tbody>\n",
       "\t<tr><td>BN1 1AA</td><td>POINT (-0.140818 50.82633)</td></tr>\n",
       "\t<tr><td>BN1 1AB</td><td>POINT (-0.14179 50.82296)</td></tr>\n",
       "\t<tr><td>BN1 1AD</td><td>POINT (-0.142167 50.82169)</td></tr>\n",
       "\t<tr><td>BN1 1AE</td><td>POINT (-0.141753 50.82138)</td></tr>\n",
       "\t<tr><td>BN1 1AF</td><td>POINT (-0.141426 50.82248)</td></tr>\n",
       "\t<tr><td>BN1 1AG</td><td>POINT (-0.142871 50.82292)</td></tr>\n",
       "</tbody>\n",
       "</table>\n"
      ],
      "text/latex": [
       "A sf: 6 × 2\n",
       "\\begin{tabular}{ll}\n",
       " id & geometry\\\\\n",
       " <chr> & <POINT {[}°{]}>\\\\\n",
       "\\hline\n",
       "\t BN1 1AA & POINT (-0.140818 50.82633)\\\\\n",
       "\t BN1 1AB & POINT (-0.14179 50.82296)\\\\\n",
       "\t BN1 1AD & POINT (-0.142167 50.82169)\\\\\n",
       "\t BN1 1AE & POINT (-0.141753 50.82138)\\\\\n",
       "\t BN1 1AF & POINT (-0.141426 50.82248)\\\\\n",
       "\t BN1 1AG & POINT (-0.142871 50.82292)\\\\\n",
       "\\end{tabular}\n"
      ],
      "text/markdown": [
       "\n",
       "A sf: 6 × 2\n",
       "\n",
       "| id &lt;chr&gt; | geometry &lt;POINT [°]&gt; |\n",
       "|---|---|\n",
       "| BN1 1AA | POINT (-0.140818 50.82633) |\n",
       "| BN1 1AB | POINT (-0.14179 50.82296) |\n",
       "| BN1 1AD | POINT (-0.142167 50.82169) |\n",
       "| BN1 1AE | POINT (-0.141753 50.82138) |\n",
       "| BN1 1AF | POINT (-0.141426 50.82248) |\n",
       "| BN1 1AG | POINT (-0.142871 50.82292) |\n",
       "\n"
      ],
      "text/plain": [
       "  id      geometry                  \n",
       "1 BN1 1AA POINT (-0.140818 50.82633)\n",
       "2 BN1 1AB POINT (-0.14179 50.82296) \n",
       "3 BN1 1AD POINT (-0.142167 50.82169)\n",
       "4 BN1 1AE POINT (-0.141753 50.82138)\n",
       "5 BN1 1AF POINT (-0.141426 50.82248)\n",
       "6 BN1 1AG POINT (-0.142871 50.82292)"
      ]
     },
     "metadata": {},
     "output_type": "display_data"
    }
   ],
   "source": [
    "# Check the first 5 rows\n",
    "head(postcode_points)"
   ]
  },
  {
   "cell_type": "code",
   "execution_count": 8,
   "id": "a3f37cbf",
   "metadata": {},
   "outputs": [],
   "source": [
    "# create a duplicate of postcode points to contain categorical variables of travel time bands\n",
    "geo_time <- copy(postcode_points)"
   ]
  },
  {
   "cell_type": "code",
   "execution_count": 9,
   "id": "c72c23f0",
   "metadata": {},
   "outputs": [
    {
     "data": {
      "text/html": [
       "35465"
      ],
      "text/latex": [
       "35465"
      ],
      "text/markdown": [
       "35465"
      ],
      "text/plain": [
       "[1] 35465"
      ]
     },
     "metadata": {},
     "output_type": "display_data"
    }
   ],
   "source": [
    "nrow(postcode_points)"
   ]
  },
  {
   "cell_type": "code",
   "execution_count": 17,
   "id": "a21bd02c",
   "metadata": {},
   "outputs": [
    {
     "data": {
      "text/html": [
       "35465"
      ],
      "text/latex": [
       "35465"
      ],
      "text/markdown": [
       "35465"
      ],
      "text/plain": [
       "[1] 35465"
      ]
     },
     "metadata": {},
     "output_type": "display_data"
    }
   ],
   "source": [
    "nrow(geo_time)"
   ]
  },
  {
   "cell_type": "markdown",
   "id": "2e7b7afc",
   "metadata": {},
   "source": [
    "# Rail Stations"
   ]
  },
  {
   "cell_type": "code",
   "execution_count": 11,
   "id": "53257d07",
   "metadata": {},
   "outputs": [
    {
     "data": {
      "text/html": [
       "<table class=\"dataframe\">\n",
       "<caption>A tibble: 3 × 4</caption>\n",
       "<thead>\n",
       "\t<tr><th scope=col>address</th><th scope=col>id</th><th scope=col>lon</th><th scope=col>lat</th></tr>\n",
       "\t<tr><th scope=col>&lt;chr&gt;</th><th scope=col>&lt;chr&gt;</th><th scope=col>&lt;chr&gt;</th><th scope=col>&lt;chr&gt;</th></tr>\n",
       "</thead>\n",
       "<tbody>\n",
       "\t<tr><td>Brighton railway station    </td><td>0</td><td>-0.1407393</td><td>50.8288602</td></tr>\n",
       "\t<tr><td>Preston Park railway station</td><td>1</td><td>-0.1553443</td><td>50.8460091</td></tr>\n",
       "\t<tr><td>Hove railway station        </td><td>2</td><td>-0.17018  </td><td>50.8352056</td></tr>\n",
       "</tbody>\n",
       "</table>\n"
      ],
      "text/latex": [
       "A tibble: 3 × 4\n",
       "\\begin{tabular}{llll}\n",
       " address & id & lon & lat\\\\\n",
       " <chr> & <chr> & <chr> & <chr>\\\\\n",
       "\\hline\n",
       "\t Brighton railway station     & 0 & -0.1407393 & 50.8288602\\\\\n",
       "\t Preston Park railway station & 1 & -0.1553443 & 50.8460091\\\\\n",
       "\t Hove railway station         & 2 & -0.17018   & 50.8352056\\\\\n",
       "\\end{tabular}\n"
      ],
      "text/markdown": [
       "\n",
       "A tibble: 3 × 4\n",
       "\n",
       "| address &lt;chr&gt; | id &lt;chr&gt; | lon &lt;chr&gt; | lat &lt;chr&gt; |\n",
       "|---|---|---|---|\n",
       "| Brighton railway station     | 0 | -0.1407393 | 50.8288602 |\n",
       "| Preston Park railway station | 1 | -0.1553443 | 50.8460091 |\n",
       "| Hove railway station         | 2 | -0.17018   | 50.8352056 |\n",
       "\n"
      ],
      "text/plain": [
       "  address                      id lon        lat       \n",
       "1 Brighton railway station     0  -0.1407393 50.8288602\n",
       "2 Preston Park railway station 1  -0.1553443 50.8460091\n",
       "3 Hove railway station         2  -0.17018   50.8352056"
      ]
     },
     "metadata": {},
     "output_type": "display_data"
    }
   ],
   "source": [
    "#read in railway stations data (Brighton, Hove, Preston Park)\n",
    "stations_fp = file.path(data_path, \"stations.csv\")\n",
    "stations = read_sf(stations_fp)\n",
    "head(stations)"
   ]
  },
  {
   "cell_type": "code",
   "execution_count": 12,
   "id": "b22f68bd",
   "metadata": {},
   "outputs": [
    {
     "data": {
      "text/html": [
       "<style>\n",
       ".list-inline {list-style: none; margin:0; padding: 0}\n",
       ".list-inline>li {display: inline-block}\n",
       ".list-inline>li:not(:last-child)::after {content: \"\\00b7\"; padding: 0 .5ex}\n",
       "</style>\n",
       "<ol class=list-inline><li>'tbl_df'</li><li>'tbl'</li><li>'data.frame'</li></ol>\n"
      ],
      "text/latex": [
       "\\begin{enumerate*}\n",
       "\\item 'tbl\\_df'\n",
       "\\item 'tbl'\n",
       "\\item 'data.frame'\n",
       "\\end{enumerate*}\n"
      ],
      "text/markdown": [
       "1. 'tbl_df'\n",
       "2. 'tbl'\n",
       "3. 'data.frame'\n",
       "\n",
       "\n"
      ],
      "text/plain": [
       "[1] \"tbl_df\"     \"tbl\"        \"data.frame\""
      ]
     },
     "metadata": {},
     "output_type": "display_data"
    }
   ],
   "source": [
    "stations$lon = as.numeric(as.character(stations$lon))\n",
    "stations$lat = as.numeric(as.character(stations$lat))\n",
    "stations$id = as.double(as.character(stations$id))\n",
    "stations = stations %>% st_drop_geometry()\n",
    "class(stations)"
   ]
  },
  {
   "cell_type": "markdown",
   "id": "fa593cd3",
   "metadata": {},
   "source": [
    "## Prepare routable network with r5r"
   ]
  },
  {
   "cell_type": "code",
   "execution_count": 18,
   "id": "8588ed35",
   "metadata": {},
   "outputs": [],
   "source": [
    "# Allow 6 GiB of memory\n",
    "options(java.parameters = \"-Xmx6G\")"
   ]
  },
  {
   "cell_type": "code",
   "execution_count": 19,
   "id": "03b610ce",
   "metadata": {},
   "outputs": [],
   "source": [
    "# After allocating the memory import the r5r\n",
    "library(r5r)"
   ]
  },
  {
   "cell_type": "code",
   "execution_count": 20,
   "id": "31dc0e00",
   "metadata": {},
   "outputs": [
    {
     "name": "stderr",
     "output_type": "stream",
     "text": [
      "Using cached R5 version from /home/jtej22/miniconda3/envs/r5/lib/R/library/r5r/jar/r5-v6.9-all.jar\n",
      "\n",
      "\n",
      "Using cached network.dat from data/Brighton/network.dat\n",
      "\n"
     ]
    }
   ],
   "source": [
    "# Create the routable network by indicating the path where OSM, GTFS and possible DEM data are stored\n",
    "r5r_core = setup_r5(data_path = data_path)"
   ]
  },
  {
   "cell_type": "code",
   "execution_count": 21,
   "id": "22782839",
   "metadata": {},
   "outputs": [
    {
     "data": {
      "application/geo+json": {
       "features": [
        {
         "geometry": {
          "coordinates": [
           -0.1408,
           50.8263
          ],
          "type": "Point"
         },
         "properties": {
          "id": "BN1 1AA"
         },
         "type": "Feature"
        },
        {
         "geometry": {
          "coordinates": [
           -0.1418,
           50.823
          ],
          "type": "Point"
         },
         "properties": {
          "id": "BN1 1AB"
         },
         "type": "Feature"
        },
        {
         "geometry": {
          "coordinates": [
           -0.1422,
           50.8217
          ],
          "type": "Point"
         },
         "properties": {
          "id": "BN1 1AD"
         },
         "type": "Feature"
        },
        {
         "geometry": {
          "coordinates": [
           -0.1418,
           50.8214
          ],
          "type": "Point"
         },
         "properties": {
          "id": "BN1 1AE"
         },
         "type": "Feature"
        },
        {
         "geometry": {
          "coordinates": [
           -0.1414,
           50.8225
          ],
          "type": "Point"
         },
         "properties": {
          "id": "BN1 1AF"
         },
         "type": "Feature"
        },
        {
         "geometry": {
          "coordinates": [
           -0.1429,
           50.8229
          ],
          "type": "Point"
         },
         "properties": {
          "id": "BN1 1AG"
         },
         "type": "Feature"
        }
       ],
       "type": "FeatureCollection"
      },
      "text/html": [
       "<table class=\"dataframe\">\n",
       "<caption>A sf: 6 × 2</caption>\n",
       "<thead>\n",
       "\t<tr><th scope=col>id</th><th scope=col>geometry</th></tr>\n",
       "\t<tr><th scope=col>&lt;chr&gt;</th><th scope=col>&lt;POINT [°]&gt;</th></tr>\n",
       "</thead>\n",
       "<tbody>\n",
       "\t<tr><td>BN1 1AA</td><td>POINT (-0.140818 50.82633)</td></tr>\n",
       "\t<tr><td>BN1 1AB</td><td>POINT (-0.14179 50.82296)</td></tr>\n",
       "\t<tr><td>BN1 1AD</td><td>POINT (-0.142167 50.82169)</td></tr>\n",
       "\t<tr><td>BN1 1AE</td><td>POINT (-0.141753 50.82138)</td></tr>\n",
       "\t<tr><td>BN1 1AF</td><td>POINT (-0.141426 50.82248)</td></tr>\n",
       "\t<tr><td>BN1 1AG</td><td>POINT (-0.142871 50.82292)</td></tr>\n",
       "</tbody>\n",
       "</table>\n"
      ],
      "text/latex": [
       "A sf: 6 × 2\n",
       "\\begin{tabular}{ll}\n",
       " id & geometry\\\\\n",
       " <chr> & <POINT {[}°{]}>\\\\\n",
       "\\hline\n",
       "\t BN1 1AA & POINT (-0.140818 50.82633)\\\\\n",
       "\t BN1 1AB & POINT (-0.14179 50.82296)\\\\\n",
       "\t BN1 1AD & POINT (-0.142167 50.82169)\\\\\n",
       "\t BN1 1AE & POINT (-0.141753 50.82138)\\\\\n",
       "\t BN1 1AF & POINT (-0.141426 50.82248)\\\\\n",
       "\t BN1 1AG & POINT (-0.142871 50.82292)\\\\\n",
       "\\end{tabular}\n"
      ],
      "text/markdown": [
       "\n",
       "A sf: 6 × 2\n",
       "\n",
       "| id &lt;chr&gt; | geometry &lt;POINT [°]&gt; |\n",
       "|---|---|\n",
       "| BN1 1AA | POINT (-0.140818 50.82633) |\n",
       "| BN1 1AB | POINT (-0.14179 50.82296) |\n",
       "| BN1 1AD | POINT (-0.142167 50.82169) |\n",
       "| BN1 1AE | POINT (-0.141753 50.82138) |\n",
       "| BN1 1AF | POINT (-0.141426 50.82248) |\n",
       "| BN1 1AG | POINT (-0.142871 50.82292) |\n",
       "\n"
      ],
      "text/plain": [
       "  id      geometry                  \n",
       "1 BN1 1AA POINT (-0.140818 50.82633)\n",
       "2 BN1 1AB POINT (-0.14179 50.82296) \n",
       "3 BN1 1AD POINT (-0.142167 50.82169)\n",
       "4 BN1 1AE POINT (-0.141753 50.82138)\n",
       "5 BN1 1AF POINT (-0.141426 50.82248)\n",
       "6 BN1 1AG POINT (-0.142871 50.82292)"
      ]
     },
     "metadata": {},
     "output_type": "display_data"
    }
   ],
   "source": [
    "# Our population points already has the `x` and `y` columns, check id \n",
    "head(geo_time)"
   ]
  },
  {
   "cell_type": "markdown",
   "id": "f6bc3e7d-d115-47cd-87b4-b8fbd4415b36",
   "metadata": {},
   "source": [
    "## Walk time to nearest rail station for all postcodes"
   ]
  },
  {
   "cell_type": "code",
   "execution_count": null,
   "id": "f1e2f1ef-50f9-439a-a762-95a773fa8f45",
   "metadata": {},
   "outputs": [],
   "source": [
    "# Set parameters\n",
    "mode = c(\"WALK\")\n",
    "max_walk_time = 200 # minutes\n",
    "max_trip_duration = 200 # minutes\n",
    "departure_datetime = as.POSIXct(\"01-12-2022 8:30:00\",\n",
    "                                 format = \"%d-%m-%Y %H:%M:%S\")\n",
    "\n",
    "# Calculate the travel time matrix by Transit\n",
    "ttm_rail_walk_all = travel_time_matrix(r5r_core = r5r_core,\n",
    "                          origins = stations,\n",
    "                          destinations = geo_time,\n",
    "                          mode = mode,\n",
    "                          departure_datetime = departure_datetime,\n",
    "                          max_walk_time = max_walk_time,\n",
    "                          max_trip_duration = max_trip_duration)\n",
    "\n",
    "head(ttm_rail_walk_all)"
   ]
  },
  {
   "cell_type": "code",
   "execution_count": null,
   "id": "42b61269-441a-4ee0-b723-5de5e47c59f8",
   "metadata": {},
   "outputs": [],
   "source": [
    "nrow(ttm_rail_walk)"
   ]
  },
  {
   "cell_type": "code",
   "execution_count": null,
   "id": "762ae9fb-0cc0-448f-ba12-1fea1c449d91",
   "metadata": {},
   "outputs": [],
   "source": [
    "# Handle duplicates for walk travel time to rail stations\n",
    "ttm_rail_walk_all <- ttm_rail_walk_all %>%\n",
    "  group_by(to_id) %>% \n",
    "  arrange(travel_time_p50) %>%\n",
    "  slice_head(n = 1) %>% \n",
    "  ungroup()"
   ]
  },
  {
   "cell_type": "code",
   "execution_count": null,
   "id": "ebc32252-ee4d-4159-b3aa-f7811b238b72",
   "metadata": {},
   "outputs": [],
   "source": [
    "# Check for duplicates in 'id' column of df1\n",
    "duplicates_ttm_rail_walk_all <- duplicated(ttm_rail_walk_all$to_id)\n",
    "# Check for duplicates in 'id' column of df2\n",
    "duplicates_geo_time <- duplicated(geo_time$id)\n",
    "\n",
    "# Check if there are duplicates in df1 or df2\n",
    "if (any(duplicates_ttm_rail_walk_all) || any(duplicates_geo_time)) {\n",
    "  print(\"Duplicates found! Please handle duplicates before performing left join.\")\n",
    "} else {\n",
    "  # Perform the left join, walk time bands from rail station to postcodes\n",
    "  geo_time <- left_join(geo_time, ttm_rail_walk_all, by=c(id = \"to_id\"))\n",
    "  # Print the resulting merged data frame\n",
    "  print(geo_time)\n",
    "}"
   ]
  },
  {
   "cell_type": "code",
   "execution_count": null,
   "id": "b3066947-dd1d-478a-98cf-04e8be3fca9e",
   "metadata": {},
   "outputs": [],
   "source": [
    "geo_time$walk_nearest_rail <- geo_time$travel_time_p50\n",
    "geo_time$travel_time_p50 <- NULL"
   ]
  },
  {
   "cell_type": "code",
   "execution_count": null,
   "id": "3a4988d6-403f-460e-977d-5f8eee118d76",
   "metadata": {},
   "outputs": [],
   "source": [
    "# Plot the travel times\n",
    "tm_shape(geo_time) + tm_symbols(col=\"walk_nearest_rail\", size=0.2, border.lwd=0)"
   ]
  },
  {
   "cell_type": "markdown",
   "id": "f3f3e00f",
   "metadata": {},
   "source": [
    "## Walking bands (5, 10, 15, 20, 25, 30)"
   ]
  },
  {
   "cell_type": "code",
   "execution_count": 22,
   "id": "2aa8aeb6",
   "metadata": {},
   "outputs": [
    {
     "name": "stderr",
     "output_type": "stream",
     "text": [
      "Warning message in assign_points_input(origins, \"origins\"):\n",
      "“'origins$id' forcefully cast to character.”\n"
     ]
    },
    {
     "data": {
      "text/html": [
       "<table class=\"dataframe\">\n",
       "<caption>A data.table: 6 × 3</caption>\n",
       "<thead>\n",
       "\t<tr><th scope=col>from_id</th><th scope=col>to_id</th><th scope=col>travel_time_p50</th></tr>\n",
       "\t<tr><th scope=col>&lt;chr&gt;</th><th scope=col>&lt;chr&gt;</th><th scope=col>&lt;int&gt;</th></tr>\n",
       "</thead>\n",
       "<tbody>\n",
       "\t<tr><td>0</td><td>BN1 1AA</td><td> 7</td></tr>\n",
       "\t<tr><td>0</td><td>BN1 1AB</td><td>15</td></tr>\n",
       "\t<tr><td>0</td><td>BN1 1AD</td><td>18</td></tr>\n",
       "\t<tr><td>0</td><td>BN1 1AE</td><td>18</td></tr>\n",
       "\t<tr><td>0</td><td>BN1 1AF</td><td>16</td></tr>\n",
       "\t<tr><td>0</td><td>BN1 1AG</td><td>14</td></tr>\n",
       "</tbody>\n",
       "</table>\n"
      ],
      "text/latex": [
       "A data.table: 6 × 3\n",
       "\\begin{tabular}{lll}\n",
       " from\\_id & to\\_id & travel\\_time\\_p50\\\\\n",
       " <chr> & <chr> & <int>\\\\\n",
       "\\hline\n",
       "\t 0 & BN1 1AA &  7\\\\\n",
       "\t 0 & BN1 1AB & 15\\\\\n",
       "\t 0 & BN1 1AD & 18\\\\\n",
       "\t 0 & BN1 1AE & 18\\\\\n",
       "\t 0 & BN1 1AF & 16\\\\\n",
       "\t 0 & BN1 1AG & 14\\\\\n",
       "\\end{tabular}\n"
      ],
      "text/markdown": [
       "\n",
       "A data.table: 6 × 3\n",
       "\n",
       "| from_id &lt;chr&gt; | to_id &lt;chr&gt; | travel_time_p50 &lt;int&gt; |\n",
       "|---|---|---|\n",
       "| 0 | BN1 1AA |  7 |\n",
       "| 0 | BN1 1AB | 15 |\n",
       "| 0 | BN1 1AD | 18 |\n",
       "| 0 | BN1 1AE | 18 |\n",
       "| 0 | BN1 1AF | 16 |\n",
       "| 0 | BN1 1AG | 14 |\n",
       "\n"
      ],
      "text/plain": [
       "  from_id to_id   travel_time_p50\n",
       "1 0       BN1 1AA  7             \n",
       "2 0       BN1 1AB 15             \n",
       "3 0       BN1 1AD 18             \n",
       "4 0       BN1 1AE 18             \n",
       "5 0       BN1 1AF 16             \n",
       "6 0       BN1 1AG 14             "
      ]
     },
     "metadata": {},
     "output_type": "display_data"
    }
   ],
   "source": [
    "# Set parameters\n",
    "mode = c(\"WALK\")\n",
    "max_walk_time = 30 # minutes\n",
    "max_trip_duration = 30 # minutes\n",
    "departure_datetime = as.POSIXct(\"01-12-2022 8:30:00\",\n",
    "                                 format = \"%d-%m-%Y %H:%M:%S\")\n",
    "\n",
    "# Calculate the travel time matrix by Transit\n",
    "ttm_rail_walk = travel_time_matrix(r5r_core = r5r_core,\n",
    "                          origins = stations,\n",
    "                          destinations = geo_time,\n",
    "                          mode = mode,\n",
    "                          departure_datetime = departure_datetime,\n",
    "                          max_walk_time = max_walk_time,\n",
    "                          max_trip_duration = max_trip_duration)\n",
    "\n",
    "head(ttm_rail_walk)"
   ]
  },
  {
   "cell_type": "code",
   "execution_count": 25,
   "id": "0413ca21",
   "metadata": {},
   "outputs": [
    {
     "data": {
      "text/html": [
       "13218"
      ],
      "text/latex": [
       "13218"
      ],
      "text/markdown": [
       "13218"
      ],
      "text/plain": [
       "[1] 13218"
      ]
     },
     "metadata": {},
     "output_type": "display_data"
    }
   ],
   "source": [
    "nrow(ttm_rail_walk)"
   ]
  },
  {
   "cell_type": "code",
   "execution_count": 24,
   "id": "264a51db",
   "metadata": {},
   "outputs": [],
   "source": [
    "# Handle duplicates for walk travel time to rail stations\n",
    "ttm_rail_walk <- ttm_rail_walk %>%\n",
    "  group_by(to_id) %>% \n",
    "  arrange(travel_time_p50) %>%\n",
    "  slice_head(n = 1) %>% \n",
    "  ungroup()"
   ]
  },
  {
   "cell_type": "code",
   "execution_count": 21,
   "id": "8a58b8a0",
   "metadata": {},
   "outputs": [
    {
     "name": "stdout",
     "output_type": "stream",
     "text": [
      "Simple feature collection with 35465 features and 3 fields\n",
      "Geometry type: POINT\n",
      "Dimension:     XY\n",
      "Bounding box:  xmin: -0.664785 ymin: 50.73827 xmax: 0.3975 ymax: 50.98748\n",
      "Geodetic CRS:  WGS 84\n",
      "\u001b[90m# A tibble: 35,465 × 4\u001b[39m\n",
      "   id                  geometry from_id travel_time_p50\n",
      "   \u001b[3m\u001b[90m<chr>\u001b[39m\u001b[23m            \u001b[3m\u001b[90m<POINT [°]>\u001b[39m\u001b[23m \u001b[3m\u001b[90m<chr>\u001b[39m\u001b[23m             \u001b[3m\u001b[90m<int>\u001b[39m\u001b[23m\n",
      "\u001b[90m 1\u001b[39m BN1 1AA (-0.140818 50.82633) 0                     7\n",
      "\u001b[90m 2\u001b[39m BN1 1AB  (-0.14179 50.82296) 0                    15\n",
      "\u001b[90m 3\u001b[39m BN1 1AD (-0.142167 50.82169) 0                    18\n",
      "\u001b[90m 4\u001b[39m BN1 1AE (-0.141753 50.82138) 0                    18\n",
      "\u001b[90m 5\u001b[39m BN1 1AF (-0.141426 50.82248) 0                    16\n",
      "\u001b[90m 6\u001b[39m BN1 1AG (-0.142871 50.82292) 0                    14\n",
      "\u001b[90m 7\u001b[39m BN1 1AH (-0.142864 50.82274) 0                    14\n",
      "\u001b[90m 8\u001b[39m BN1 1AJ  (-0.14256 50.82145) 0                    18\n",
      "\u001b[90m 9\u001b[39m BN1 1AL (-0.142961 50.82136) 0                    17\n",
      "\u001b[90m10\u001b[39m BN1 1AN   (-0.1435 50.82209) 0                    15\n",
      "\u001b[90m# ℹ 35,455 more rows\u001b[39m\n"
     ]
    }
   ],
   "source": [
    "# Check for duplicates in 'id' column of df1\n",
    "duplicates_ttm_rail_walk <- duplicated(ttm_rail_walk$to_id)\n",
    "# Check for duplicates in 'id' column of df2\n",
    "duplicates_geo_time <- duplicated(geo_time$id)\n",
    "\n",
    "# Check if there are duplicates in df1 or df2\n",
    "if (any(duplicates_ttm_rail_walk) || any(duplicates_geo_time)) {\n",
    "  print(\"Duplicates found! Please handle duplicates before performing left join.\")\n",
    "} else {\n",
    "  # Perform the left join, walk time bands from rail station to postcodes\n",
    "  geo_time <- left_join(geo_time, ttm_rail_walk, by=c(id = \"to_id\"))\n",
    "  # Print the resulting merged data frame\n",
    "  print(geo_time)\n",
    "}"
   ]
  },
  {
   "cell_type": "code",
   "execution_count": 24,
   "id": "12638175",
   "metadata": {},
   "outputs": [
    {
     "data": {
      "application/geo+json": {
       "features": [
        {
         "geometry": {
          "coordinates": [
           -0.1408,
           50.8263
          ],
          "type": "Point"
         },
         "properties": {
          "from_id": "0",
          "id": "BN1 1AA",
          "rail_walk_time": "5-10_mins",
          "travel_time_p50": 7
         },
         "type": "Feature"
        },
        {
         "geometry": {
          "coordinates": [
           -0.1418,
           50.823
          ],
          "type": "Point"
         },
         "properties": {
          "from_id": "0",
          "id": "BN1 1AB",
          "rail_walk_time": "15-20_mins",
          "travel_time_p50": 15
         },
         "type": "Feature"
        },
        {
         "geometry": {
          "coordinates": [
           -0.1422,
           50.8217
          ],
          "type": "Point"
         },
         "properties": {
          "from_id": "0",
          "id": "BN1 1AD",
          "rail_walk_time": "15-20_mins",
          "travel_time_p50": 18
         },
         "type": "Feature"
        },
        {
         "geometry": {
          "coordinates": [
           -0.1418,
           50.8214
          ],
          "type": "Point"
         },
         "properties": {
          "from_id": "0",
          "id": "BN1 1AE",
          "rail_walk_time": "15-20_mins",
          "travel_time_p50": 18
         },
         "type": "Feature"
        },
        {
         "geometry": {
          "coordinates": [
           -0.1414,
           50.8225
          ],
          "type": "Point"
         },
         "properties": {
          "from_id": "0",
          "id": "BN1 1AF",
          "rail_walk_time": "15-20_mins",
          "travel_time_p50": 16
         },
         "type": "Feature"
        },
        {
         "geometry": {
          "coordinates": [
           -0.1429,
           50.8229
          ],
          "type": "Point"
         },
         "properties": {
          "from_id": "0",
          "id": "BN1 1AG",
          "rail_walk_time": "10-15_mins",
          "travel_time_p50": 14
         },
         "type": "Feature"
        }
       ],
       "type": "FeatureCollection"
      },
      "text/html": [
       "<table class=\"dataframe\">\n",
       "<caption>A sf: 6 × 5</caption>\n",
       "<thead>\n",
       "\t<tr><th scope=col>id</th><th scope=col>geometry</th><th scope=col>from_id</th><th scope=col>travel_time_p50</th><th scope=col>rail_walk_time</th></tr>\n",
       "\t<tr><th scope=col>&lt;chr&gt;</th><th scope=col>&lt;POINT [°]&gt;</th><th scope=col>&lt;chr&gt;</th><th scope=col>&lt;int&gt;</th><th scope=col>&lt;fct&gt;</th></tr>\n",
       "</thead>\n",
       "<tbody>\n",
       "\t<tr><td>BN1 1AA</td><td>POINT (-0.140818 50.82633)</td><td>0</td><td> 7</td><td>5-10_mins </td></tr>\n",
       "\t<tr><td>BN1 1AB</td><td>POINT (-0.14179 50.82296)</td><td>0</td><td>15</td><td>15-20_mins</td></tr>\n",
       "\t<tr><td>BN1 1AD</td><td>POINT (-0.142167 50.82169)</td><td>0</td><td>18</td><td>15-20_mins</td></tr>\n",
       "\t<tr><td>BN1 1AE</td><td>POINT (-0.141753 50.82138)</td><td>0</td><td>18</td><td>15-20_mins</td></tr>\n",
       "\t<tr><td>BN1 1AF</td><td>POINT (-0.141426 50.82248)</td><td>0</td><td>16</td><td>15-20_mins</td></tr>\n",
       "\t<tr><td>BN1 1AG</td><td>POINT (-0.142871 50.82292)</td><td>0</td><td>14</td><td>10-15_mins</td></tr>\n",
       "</tbody>\n",
       "</table>\n"
      ],
      "text/latex": [
       "A sf: 6 × 5\n",
       "\\begin{tabular}{lllll}\n",
       " id & geometry & from\\_id & travel\\_time\\_p50 & rail\\_walk\\_time\\\\\n",
       " <chr> & <POINT {[}°{]}> & <chr> & <int> & <fct>\\\\\n",
       "\\hline\n",
       "\t BN1 1AA & POINT (-0.140818 50.82633) & 0 &  7 & 5-10\\_mins \\\\\n",
       "\t BN1 1AB & POINT (-0.14179 50.82296) & 0 & 15 & 15-20\\_mins\\\\\n",
       "\t BN1 1AD & POINT (-0.142167 50.82169) & 0 & 18 & 15-20\\_mins\\\\\n",
       "\t BN1 1AE & POINT (-0.141753 50.82138) & 0 & 18 & 15-20\\_mins\\\\\n",
       "\t BN1 1AF & POINT (-0.141426 50.82248) & 0 & 16 & 15-20\\_mins\\\\\n",
       "\t BN1 1AG & POINT (-0.142871 50.82292) & 0 & 14 & 10-15\\_mins\\\\\n",
       "\\end{tabular}\n"
      ],
      "text/markdown": [
       "\n",
       "A sf: 6 × 5\n",
       "\n",
       "| id &lt;chr&gt; | geometry &lt;POINT [°]&gt; | from_id &lt;chr&gt; | travel_time_p50 &lt;int&gt; | rail_walk_time &lt;fct&gt; |\n",
       "|---|---|---|---|---|\n",
       "| BN1 1AA | POINT (-0.140818 50.82633) | 0 |  7 | 5-10_mins  |\n",
       "| BN1 1AB | POINT (-0.14179 50.82296) | 0 | 15 | 15-20_mins |\n",
       "| BN1 1AD | POINT (-0.142167 50.82169) | 0 | 18 | 15-20_mins |\n",
       "| BN1 1AE | POINT (-0.141753 50.82138) | 0 | 18 | 15-20_mins |\n",
       "| BN1 1AF | POINT (-0.141426 50.82248) | 0 | 16 | 15-20_mins |\n",
       "| BN1 1AG | POINT (-0.142871 50.82292) | 0 | 14 | 10-15_mins |\n",
       "\n"
      ],
      "text/plain": [
       "  id      geometry                   from_id travel_time_p50 rail_walk_time\n",
       "1 BN1 1AA POINT (-0.140818 50.82633) 0        7              5-10_mins     \n",
       "2 BN1 1AB POINT (-0.14179 50.82296)  0       15              15-20_mins    \n",
       "3 BN1 1AD POINT (-0.142167 50.82169) 0       18              15-20_mins    \n",
       "4 BN1 1AE POINT (-0.141753 50.82138) 0       18              15-20_mins    \n",
       "5 BN1 1AF POINT (-0.141426 50.82248) 0       16              15-20_mins    \n",
       "6 BN1 1AG POINT (-0.142871 50.82292) 0       14              10-15_mins    "
      ]
     },
     "metadata": {},
     "output_type": "display_data"
    }
   ],
   "source": [
    "# Create a new categorical column based on travel time\n",
    "# Define the breaks for the bands (including endpoints)\n",
    "breaks <- c(0, 5, 10, 15, 20, 25, 30)\n",
    "#, 25, 30)\n",
    "\n",
    "# Define the labels for each band\n",
    "labels <- c(\"0-5_mins\", \"5-10_mins\", \"10-15_mins\", \"15-20_mins\", \"20-25_mins\", \"25-30_mins\")\n",
    "\n",
    "# Create the categorical column based on travel time bands\n",
    "geo_time$rail_walk_time <- cut(geo_time$travel_time_p50, breaks = breaks, labels = labels, include.lowest = TRUE, right = FALSE)\n",
    "\n",
    "# Print the updated data frame\n",
    "head(geo_time)\n"
   ]
  },
  {
   "cell_type": "code",
   "execution_count": 22,
   "id": "7f1b896d",
   "metadata": {},
   "outputs": [],
   "source": [
    "#use from_id to generate rail name\n",
    "#from postcode to rail name\n",
    "postcode_rail_dict <- setNames(stations$address, stations$id)\n",
    "# Use match() and the dictionary to replace postcodes with school names\n",
    "geo_time$nearest_rail_name <- postcode_rail_dict[match(geo_time$from_id, names(postcode_rail_dict))]\n",
    "## nearest rail name is limited to 30 mins proximity"
   ]
  },
  {
   "cell_type": "code",
   "execution_count": 30,
   "id": "7c20d0c4",
   "metadata": {},
   "outputs": [
    {
     "data": {
      "application/geo+json": {
       "features": [
        {
         "geometry": {
          "coordinates": [
           -0.1408,
           50.8263
          ],
          "type": "Point"
         },
         "properties": {
          "joincode": "BN1 1AA",
          "walk_nearest_rail": 7
         },
         "type": "Feature"
        },
        {
         "geometry": {
          "coordinates": [
           -0.1418,
           50.823
          ],
          "type": "Point"
         },
         "properties": {
          "joincode": "BN1 1AB",
          "walk_nearest_rail": 15
         },
         "type": "Feature"
        },
        {
         "geometry": {
          "coordinates": [
           -0.1422,
           50.8217
          ],
          "type": "Point"
         },
         "properties": {
          "joincode": "BN1 1AD",
          "walk_nearest_rail": 18
         },
         "type": "Feature"
        },
        {
         "geometry": {
          "coordinates": [
           -0.1418,
           50.8214
          ],
          "type": "Point"
         },
         "properties": {
          "joincode": "BN1 1AE",
          "walk_nearest_rail": 18
         },
         "type": "Feature"
        },
        {
         "geometry": {
          "coordinates": [
           -0.1414,
           50.8225
          ],
          "type": "Point"
         },
         "properties": {
          "joincode": "BN1 1AF",
          "walk_nearest_rail": 16
         },
         "type": "Feature"
        },
        {
         "geometry": {
          "coordinates": [
           -0.1429,
           50.8229
          ],
          "type": "Point"
         },
         "properties": {
          "joincode": "BN1 1AG",
          "walk_nearest_rail": 14
         },
         "type": "Feature"
        }
       ],
       "type": "FeatureCollection"
      },
      "text/html": [
       "<table class=\"dataframe\">\n",
       "<caption>A sf: 6 × 3</caption>\n",
       "<thead>\n",
       "\t<tr><th scope=col>walk_nearest_rail</th><th scope=col>geometry</th><th scope=col>joincode</th></tr>\n",
       "\t<tr><th scope=col>&lt;int&gt;</th><th scope=col>&lt;POINT [°]&gt;</th><th scope=col>&lt;chr&gt;</th></tr>\n",
       "</thead>\n",
       "<tbody>\n",
       "\t<tr><td> 7</td><td>POINT (-0.140818 50.82633)</td><td>BN1 1AA</td></tr>\n",
       "\t<tr><td>15</td><td>POINT (-0.14179 50.82296)</td><td>BN1 1AB</td></tr>\n",
       "\t<tr><td>18</td><td>POINT (-0.142167 50.82169)</td><td>BN1 1AD</td></tr>\n",
       "\t<tr><td>18</td><td>POINT (-0.141753 50.82138)</td><td>BN1 1AE</td></tr>\n",
       "\t<tr><td>16</td><td>POINT (-0.141426 50.82248)</td><td>BN1 1AF</td></tr>\n",
       "\t<tr><td>14</td><td>POINT (-0.142871 50.82292)</td><td>BN1 1AG</td></tr>\n",
       "</tbody>\n",
       "</table>\n"
      ],
      "text/latex": [
       "A sf: 6 × 3\n",
       "\\begin{tabular}{lll}\n",
       " walk\\_nearest\\_rail & geometry & joincode\\\\\n",
       " <int> & <POINT {[}°{]}> & <chr>\\\\\n",
       "\\hline\n",
       "\t  7 & POINT (-0.140818 50.82633) & BN1 1AA\\\\\n",
       "\t 15 & POINT (-0.14179 50.82296) & BN1 1AB\\\\\n",
       "\t 18 & POINT (-0.142167 50.82169) & BN1 1AD\\\\\n",
       "\t 18 & POINT (-0.141753 50.82138) & BN1 1AE\\\\\n",
       "\t 16 & POINT (-0.141426 50.82248) & BN1 1AF\\\\\n",
       "\t 14 & POINT (-0.142871 50.82292) & BN1 1AG\\\\\n",
       "\\end{tabular}\n"
      ],
      "text/markdown": [
       "\n",
       "A sf: 6 × 3\n",
       "\n",
       "| walk_nearest_rail &lt;int&gt; | geometry &lt;POINT [°]&gt; | joincode &lt;chr&gt; |\n",
       "|---|---|---|\n",
       "|  7 | POINT (-0.140818 50.82633) | BN1 1AA |\n",
       "| 15 | POINT (-0.14179 50.82296) | BN1 1AB |\n",
       "| 18 | POINT (-0.142167 50.82169) | BN1 1AD |\n",
       "| 18 | POINT (-0.141753 50.82138) | BN1 1AE |\n",
       "| 16 | POINT (-0.141426 50.82248) | BN1 1AF |\n",
       "| 14 | POINT (-0.142871 50.82292) | BN1 1AG |\n",
       "\n"
      ],
      "text/plain": [
       "  walk_nearest_rail geometry                   joincode\n",
       "1  7                POINT (-0.140818 50.82633) BN1 1AA \n",
       "2 15                POINT (-0.14179 50.82296)  BN1 1AB \n",
       "3 18                POINT (-0.142167 50.82169) BN1 1AD \n",
       "4 18                POINT (-0.141753 50.82138) BN1 1AE \n",
       "5 16                POINT (-0.141426 50.82248) BN1 1AF \n",
       "6 14                POINT (-0.142871 50.82292) BN1 1AG "
      ]
     },
     "metadata": {},
     "output_type": "display_data"
    }
   ],
   "source": [
    "head(geo_time)"
   ]
  },
  {
   "cell_type": "code",
   "execution_count": 24,
   "id": "cead2ad6",
   "metadata": {},
   "outputs": [],
   "source": [
    "geo_time$walk_nearest_rail <- geo_time$travel_time_p50"
   ]
  },
  {
   "cell_type": "code",
   "execution_count": 26,
   "id": "9f93b8f6",
   "metadata": {},
   "outputs": [],
   "source": [
    "geo_time$travel_time_p50 <- NULL"
   ]
  },
  {
   "cell_type": "code",
   "execution_count": 28,
   "id": "babde680",
   "metadata": {},
   "outputs": [],
   "source": [
    "geo_time <- subset(geo_time, select = -c(geometry, from_id, nearest_rail_name))"
   ]
  },
  {
   "cell_type": "code",
   "execution_count": 27,
   "id": "5deed0a5",
   "metadata": {},
   "outputs": [
    {
     "data": {
      "image/png": "[encoded data removed]",
      "text/plain": [
       "plot without title"
      ]
     },
     "metadata": {
      "image/png": {
       "height": 420,
       "width": 420
      }
     },
     "output_type": "display_data"
    }
   ],
   "source": [
    "# Plot the travel times\n",
    "tm_shape(geo_time) + tm_symbols(col=\"nearest_rail_name\", size=0.2, border.lwd=0)"
   ]
  },
  {
   "cell_type": "code",
   "execution_count": 28,
   "id": "cedd0cc9",
   "metadata": {},
   "outputs": [
    {
     "name": "stdout",
     "output_type": "stream",
     "text": [
      "Simple feature collection with 35465 features and 3 fields\n",
      "Geometry type: POINT\n",
      "Dimension:     XY\n",
      "Bounding box:  xmin: -0.664785 ymin: 50.73827 xmax: 0.3975 ymax: 50.98748\n",
      "Geodetic CRS:  WGS 84\n",
      "\u001b[90m# A tibble: 35,465 × 4\u001b[39m\n",
      "   id                  geometry rail_walk_time nearest_rail_name       \n",
      "   \u001b[3m\u001b[90m<chr>\u001b[39m\u001b[23m            \u001b[3m\u001b[90m<POINT [°]>\u001b[39m\u001b[23m \u001b[3m\u001b[90m<fct>\u001b[39m\u001b[23m          \u001b[3m\u001b[90m<chr>\u001b[39m\u001b[23m                   \n",
      "\u001b[90m 1\u001b[39m BN1 1AA (-0.140818 50.82633) 5-10_mins      Brighton railway station\n",
      "\u001b[90m 2\u001b[39m BN1 1AB  (-0.14179 50.82296) 15-20_mins     Brighton railway station\n",
      "\u001b[90m 3\u001b[39m BN1 1AD (-0.142167 50.82169) 15-20_mins     Brighton railway station\n",
      "\u001b[90m 4\u001b[39m BN1 1AE (-0.141753 50.82138) 15-20_mins     Brighton railway station\n",
      "\u001b[90m 5\u001b[39m BN1 1AF (-0.141426 50.82248) 15-20_mins     Brighton railway station\n",
      "\u001b[90m 6\u001b[39m BN1 1AG (-0.142871 50.82292) 10-15_mins     Brighton railway station\n",
      "\u001b[90m 7\u001b[39m BN1 1AH (-0.142864 50.82274) 10-15_mins     Brighton railway station\n",
      "\u001b[90m 8\u001b[39m BN1 1AJ  (-0.14256 50.82145) 15-20_mins     Brighton railway station\n",
      "\u001b[90m 9\u001b[39m BN1 1AL (-0.142961 50.82136) 15-20_mins     Brighton railway station\n",
      "\u001b[90m10\u001b[39m BN1 1AN   (-0.1435 50.82209) 15-20_mins     Brighton railway station\n",
      "\u001b[90m# ℹ 35,455 more rows\u001b[39m\n"
     ]
    }
   ],
   "source": [
    "## Drop the columns from_id and travel_time_p50\n",
    "geo_time <- geo_time[, !(names(geo_time) %in% c('from_id', 'travel_time_p50'))]\n",
    "\n",
    "# Print the updated data frame\n",
    "print(geo_time)"
   ]
  },
  {
   "cell_type": "code",
   "execution_count": 29,
   "id": "ff8e79d2",
   "metadata": {},
   "outputs": [
    {
     "name": "stdout",
     "output_type": "stream",
     "text": [
      "[1] 29286\n"
     ]
    }
   ],
   "source": [
    "print(sum(is.na(geo_time$rail_walk_time)))"
   ]
  },
  {
   "cell_type": "code",
   "execution_count": 30,
   "id": "975574d6",
   "metadata": {},
   "outputs": [
    {
     "data": {
      "text/html": [
       "35465"
      ],
      "text/latex": [
       "35465"
      ],
      "text/markdown": [
       "35465"
      ],
      "text/plain": [
       "[1] 35465"
      ]
     },
     "metadata": {},
     "output_type": "display_data"
    }
   ],
   "source": [
    "nrow(geo_time)"
   ]
  },
  {
   "cell_type": "markdown",
   "id": "26f705db",
   "metadata": {},
   "source": [
    "## Rail Bus time bands (5, 10, 15, 20, 25, 30)"
   ]
  },
  {
   "cell_type": "code",
   "execution_count": 39,
   "id": "49fe489f",
   "metadata": {},
   "outputs": [
    {
     "name": "stderr",
     "output_type": "stream",
     "text": [
      "Warning message in assign_points_input(origins, \"origins\"):\n",
      "“'origins$id' forcefully cast to character.”\n"
     ]
    },
    {
     "data": {
      "text/html": [
       "<table class=\"dataframe\">\n",
       "<caption>A data.table: 6 × 3</caption>\n",
       "<thead>\n",
       "\t<tr><th scope=col>from_id</th><th scope=col>to_id</th><th scope=col>travel_time_p50</th></tr>\n",
       "\t<tr><th scope=col>&lt;chr&gt;</th><th scope=col>&lt;chr&gt;</th><th scope=col>&lt;int&gt;</th></tr>\n",
       "</thead>\n",
       "<tbody>\n",
       "\t<tr><td>0</td><td>BN1 1AA</td><td> 7</td></tr>\n",
       "\t<tr><td>0</td><td>BN1 1AB</td><td>13</td></tr>\n",
       "\t<tr><td>0</td><td>BN1 1AD</td><td>15</td></tr>\n",
       "\t<tr><td>0</td><td>BN1 1AE</td><td>15</td></tr>\n",
       "\t<tr><td>0</td><td>BN1 1AF</td><td>13</td></tr>\n",
       "\t<tr><td>0</td><td>BN1 1AG</td><td>12</td></tr>\n",
       "</tbody>\n",
       "</table>\n"
      ],
      "text/latex": [
       "A data.table: 6 × 3\n",
       "\\begin{tabular}{lll}\n",
       " from\\_id & to\\_id & travel\\_time\\_p50\\\\\n",
       " <chr> & <chr> & <int>\\\\\n",
       "\\hline\n",
       "\t 0 & BN1 1AA &  7\\\\\n",
       "\t 0 & BN1 1AB & 13\\\\\n",
       "\t 0 & BN1 1AD & 15\\\\\n",
       "\t 0 & BN1 1AE & 15\\\\\n",
       "\t 0 & BN1 1AF & 13\\\\\n",
       "\t 0 & BN1 1AG & 12\\\\\n",
       "\\end{tabular}\n"
      ],
      "text/markdown": [
       "\n",
       "A data.table: 6 × 3\n",
       "\n",
       "| from_id &lt;chr&gt; | to_id &lt;chr&gt; | travel_time_p50 &lt;int&gt; |\n",
       "|---|---|---|\n",
       "| 0 | BN1 1AA |  7 |\n",
       "| 0 | BN1 1AB | 13 |\n",
       "| 0 | BN1 1AD | 15 |\n",
       "| 0 | BN1 1AE | 15 |\n",
       "| 0 | BN1 1AF | 13 |\n",
       "| 0 | BN1 1AG | 12 |\n",
       "\n"
      ],
      "text/plain": [
       "  from_id to_id   travel_time_p50\n",
       "1 0       BN1 1AA  7             \n",
       "2 0       BN1 1AB 13             \n",
       "3 0       BN1 1AD 15             \n",
       "4 0       BN1 1AE 15             \n",
       "5 0       BN1 1AF 13             \n",
       "6 0       BN1 1AG 12             "
      ]
     },
     "metadata": {},
     "output_type": "display_data"
    }
   ],
   "source": [
    "# Set parameters\n",
    "mode = c(\"WALK\",\"BUS\")\n",
    "max_walk_time = 10 # minutes\n",
    "max_trip_duration = 30 # minutes\n",
    "departure_datetime = as.POSIXct(\"01-12-2022 8:30:00\",\n",
    "                                 format = \"%d-%m-%Y %H:%M:%S\")\n",
    "\n",
    "# Calculate the travel time matrix by Transit\n",
    "ttm_rail_bus = travel_time_matrix(r5r_core = r5r_core,\n",
    "                          origins = stations,\n",
    "                          destinations = geo_time,\n",
    "                          mode = mode,\n",
    "                          departure_datetime = departure_datetime,\n",
    "                          max_walk_time = max_walk_time,\n",
    "                          max_trip_duration = max_trip_duration)\n",
    "\n",
    "head(ttm_rail_bus)\n"
   ]
  },
  {
   "cell_type": "code",
   "execution_count": 40,
   "id": "d137aa93",
   "metadata": {},
   "outputs": [
    {
     "data": {
      "text/html": [
       "12719"
      ],
      "text/latex": [
       "12719"
      ],
      "text/markdown": [
       "12719"
      ],
      "text/plain": [
       "[1] 12719"
      ]
     },
     "metadata": {},
     "output_type": "display_data"
    }
   ],
   "source": [
    "nrow(ttm_rail_bus)"
   ]
  },
  {
   "cell_type": "code",
   "execution_count": 43,
   "id": "d71336ee",
   "metadata": {},
   "outputs": [],
   "source": [
    "# Handle duplicates for bus travel time to rail stations\n",
    "ttm_rail_bus <- ttm_rail_bus %>% \n",
    "    group_by(to_id) %>%\n",
    "    arrange(travel_time_p50) %>%\n",
    "    slice_head(n=1) %>%\n",
    "    ungroup()"
   ]
  },
  {
   "cell_type": "code",
   "execution_count": 44,
   "id": "e37333f9",
   "metadata": {},
   "outputs": [
    {
     "data": {
      "text/html": [
       "7258"
      ],
      "text/latex": [
       "7258"
      ],
      "text/markdown": [
       "7258"
      ],
      "text/plain": [
       "[1] 7258"
      ]
     },
     "metadata": {},
     "output_type": "display_data"
    }
   ],
   "source": [
    "nrow(ttm_rail_bus)"
   ]
  },
  {
   "cell_type": "code",
   "execution_count": 45,
   "id": "1e2a6b58",
   "metadata": {},
   "outputs": [
    {
     "name": "stdout",
     "output_type": "stream",
     "text": [
      "Simple feature collection with 35465 features and 5 fields\n",
      "Geometry type: POINT\n",
      "Dimension:     XY\n",
      "Bounding box:  xmin: -0.664785 ymin: 50.73827 xmax: 0.3975 ymax: 50.98748\n",
      "Geodetic CRS:  WGS 84\n",
      "\u001b[90m# A tibble: 35,465 × 6\u001b[39m\n",
      "   id                  geometry rail_walk_time nearest_rail_name        from_id\n",
      "   \u001b[3m\u001b[90m<chr>\u001b[39m\u001b[23m            \u001b[3m\u001b[90m<POINT [°]>\u001b[39m\u001b[23m \u001b[3m\u001b[90m<fct>\u001b[39m\u001b[23m          \u001b[3m\u001b[90m<chr>\u001b[39m\u001b[23m                    \u001b[3m\u001b[90m<chr>\u001b[39m\u001b[23m  \n",
      "\u001b[90m 1\u001b[39m BN1 1AA (-0.140818 50.82633) 5-10_mins      Brighton railway station 0      \n",
      "\u001b[90m 2\u001b[39m BN1 1AB  (-0.14179 50.82296) 15-20_mins     Brighton railway station 0      \n",
      "\u001b[90m 3\u001b[39m BN1 1AD (-0.142167 50.82169) 15-20_mins     Brighton railway station 0      \n",
      "\u001b[90m 4\u001b[39m BN1 1AE (-0.141753 50.82138) 15-20_mins     Brighton railway station 0      \n",
      "\u001b[90m 5\u001b[39m BN1 1AF (-0.141426 50.82248) 15-20_mins     Brighton railway station 0      \n",
      "\u001b[90m 6\u001b[39m BN1 1AG (-0.142871 50.82292) 10-15_mins     Brighton railway station 0      \n",
      "\u001b[90m 7\u001b[39m BN1 1AH (-0.142864 50.82274) 10-15_mins     Brighton railway station 0      \n",
      "\u001b[90m 8\u001b[39m BN1 1AJ  (-0.14256 50.82145) 15-20_mins     Brighton railway station 0      \n",
      "\u001b[90m 9\u001b[39m BN1 1AL (-0.142961 50.82136) 15-20_mins     Brighton railway station 0      \n",
      "\u001b[90m10\u001b[39m BN1 1AN   (-0.1435 50.82209) 15-20_mins     Brighton railway station 0      \n",
      "\u001b[90m# ℹ 35,455 more rows\u001b[39m\n",
      "\u001b[90m# ℹ 1 more variable: travel_time_p50 <int>\u001b[39m\n"
     ]
    }
   ],
   "source": [
    "# Check for duplicates in 'id' column of df1\n",
    "duplicates_ttm_rail_bus <- duplicated(ttm_rail_bus$to_id)\n",
    "# Check for duplicates in 'id' column of df2\n",
    "duplicates_geo_time <- duplicated(geo_time$id)\n",
    "\n",
    "# Check if there are duplicates in df1 or df2\n",
    "if (any(duplicates_ttm_rail_bus) || any(duplicates_geo_time)) {\n",
    "  print(\"Duplicates found! Please handle duplicates before performing left join.\")\n",
    "} else {\n",
    "  # Perform the left join, walk time bands from rail station to postcodes\n",
    "  geo_time <- left_join(geo_time, ttm_rail_bus, by=c(id = \"to_id\"))\n",
    "  # Print the resulting merged data frame\n",
    "  print(geo_time)\n",
    "}"
   ]
  },
  {
   "cell_type": "code",
   "execution_count": 46,
   "id": "0b196f4b",
   "metadata": {},
   "outputs": [
    {
     "data": {
      "text/html": [
       "35465"
      ],
      "text/latex": [
       "35465"
      ],
      "text/markdown": [
       "35465"
      ],
      "text/plain": [
       "[1] 35465"
      ]
     },
     "metadata": {},
     "output_type": "display_data"
    }
   ],
   "source": [
    "nrow(geo_time)"
   ]
  },
  {
   "cell_type": "code",
   "execution_count": 47,
   "id": "519e86de",
   "metadata": {},
   "outputs": [
    {
     "name": "stdout",
     "output_type": "stream",
     "text": [
      "Simple feature collection with 35465 features and 6 fields\n",
      "Geometry type: POINT\n",
      "Dimension:     XY\n",
      "Bounding box:  xmin: -0.664785 ymin: 50.73827 xmax: 0.3975 ymax: 50.98748\n",
      "Geodetic CRS:  WGS 84\n",
      "\u001b[90m# A tibble: 35,465 × 7\u001b[39m\n",
      "   id                  geometry rail_walk_time nearest_rail_name        from_id\n",
      " \u001b[90m*\u001b[39m \u001b[3m\u001b[90m<chr>\u001b[39m\u001b[23m            \u001b[3m\u001b[90m<POINT [°]>\u001b[39m\u001b[23m \u001b[3m\u001b[90m<fct>\u001b[39m\u001b[23m          \u001b[3m\u001b[90m<chr>\u001b[39m\u001b[23m                    \u001b[3m\u001b[90m<chr>\u001b[39m\u001b[23m  \n",
      "\u001b[90m 1\u001b[39m BN1 1AA (-0.140818 50.82633) 5-10_mins      Brighton railway station 0      \n",
      "\u001b[90m 2\u001b[39m BN1 1AB  (-0.14179 50.82296) 15-20_mins     Brighton railway station 0      \n",
      "\u001b[90m 3\u001b[39m BN1 1AD (-0.142167 50.82169) 15-20_mins     Brighton railway station 0      \n",
      "\u001b[90m 4\u001b[39m BN1 1AE (-0.141753 50.82138) 15-20_mins     Brighton railway station 0      \n",
      "\u001b[90m 5\u001b[39m BN1 1AF (-0.141426 50.82248) 15-20_mins     Brighton railway station 0      \n",
      "\u001b[90m 6\u001b[39m BN1 1AG (-0.142871 50.82292) 10-15_mins     Brighton railway station 0      \n",
      "\u001b[90m 7\u001b[39m BN1 1AH (-0.142864 50.82274) 10-15_mins     Brighton railway station 0      \n",
      "\u001b[90m 8\u001b[39m BN1 1AJ  (-0.14256 50.82145) 15-20_mins     Brighton railway station 0      \n",
      "\u001b[90m 9\u001b[39m BN1 1AL (-0.142961 50.82136) 15-20_mins     Brighton railway station 0      \n",
      "\u001b[90m10\u001b[39m BN1 1AN   (-0.1435 50.82209) 15-20_mins     Brighton railway station 0      \n",
      "\u001b[90m# ℹ 35,455 more rows\u001b[39m\n",
      "\u001b[90m# ℹ 2 more variables: travel_time_p50 <int>, rail_bus_time <fct>\u001b[39m\n"
     ]
    }
   ],
   "source": [
    "# Create a new categorical column based on travel time\n",
    "# Define the breaks for the bands (including endpoints)\n",
    "breaks <- c(0, 5, 10, 15, 20, 25, 30)\n",
    "\n",
    "\n",
    "# Define the labels for each band\n",
    "labels <- c(\"0-5_mins\", \"5-10_mins\", \"10-15_mins\", \"15-20_mins\", \"20-25_mins\", \"25-30_mins\")\n",
    "#\"30-35_mins\", \"35-40_mins\")\n",
    "\n",
    "\n",
    "# Create the categorical column based on travel time bands\n",
    "geo_time$rail_bus_time <- cut(geo_time$travel_time_p50, breaks = breaks, labels = labels, include.lowest = TRUE, right = FALSE)\n",
    "\n",
    "# Print the updated data frame\n",
    "print(geo_time)"
   ]
  },
  {
   "cell_type": "code",
   "execution_count": 34,
   "id": "f8296774",
   "metadata": {},
   "outputs": [
    {
     "data": {
      "image/png": "[encoded data removed]",
      "text/plain": [
       "plot without title"
      ]
     },
     "metadata": {
      "image/png": {
       "height": 420,
       "width": 420
      }
     },
     "output_type": "display_data"
    }
   ],
   "source": [
    "# Plot the travel times\n",
    "tm_shape(geo_time) + tm_symbols(col=\"rail_bus_time\", size=0.2, border.lwd=0)"
   ]
  },
  {
   "cell_type": "code",
   "execution_count": 53,
   "id": "4388ce71",
   "metadata": {},
   "outputs": [
    {
     "name": "stdout",
     "output_type": "stream",
     "text": [
      "Simple feature collection with 35465 features and 4 fields\n",
      "Geometry type: POINT\n",
      "Dimension:     XY\n",
      "Bounding box:  xmin: -0.664785 ymin: 50.73827 xmax: 0.3975 ymax: 50.98748\n",
      "Geodetic CRS:  WGS 84\n",
      "\u001b[90m# A tibble: 35,465 × 5\u001b[39m\n",
      "   id                  geometry rail_walk_time nearest_rail_name       \n",
      "   \u001b[3m\u001b[90m<chr>\u001b[39m\u001b[23m            \u001b[3m\u001b[90m<POINT [°]>\u001b[39m\u001b[23m \u001b[3m\u001b[90m<fct>\u001b[39m\u001b[23m          \u001b[3m\u001b[90m<chr>\u001b[39m\u001b[23m                   \n",
      "\u001b[90m 1\u001b[39m BN1 1AA (-0.140818 50.82633) 5-10_mins      Brighton railway station\n",
      "\u001b[90m 2\u001b[39m BN1 1AB  (-0.14179 50.82296) 15-20_mins     Brighton railway station\n",
      "\u001b[90m 3\u001b[39m BN1 1AD (-0.142167 50.82169) 15-20_mins     Brighton railway station\n",
      "\u001b[90m 4\u001b[39m BN1 1AE (-0.141753 50.82138) 15-20_mins     Brighton railway station\n",
      "\u001b[90m 5\u001b[39m BN1 1AF (-0.141426 50.82248) 15-20_mins     Brighton railway station\n",
      "\u001b[90m 6\u001b[39m BN1 1AG (-0.142871 50.82292) 10-15_mins     Brighton railway station\n",
      "\u001b[90m 7\u001b[39m BN1 1AH (-0.142864 50.82274) 10-15_mins     Brighton railway station\n",
      "\u001b[90m 8\u001b[39m BN1 1AJ  (-0.14256 50.82145) 15-20_mins     Brighton railway station\n",
      "\u001b[90m 9\u001b[39m BN1 1AL (-0.142961 50.82136) 15-20_mins     Brighton railway station\n",
      "\u001b[90m10\u001b[39m BN1 1AN   (-0.1435 50.82209) 15-20_mins     Brighton railway station\n",
      "\u001b[90m# ℹ 35,455 more rows\u001b[39m\n",
      "\u001b[90m# ℹ 1 more variable: rail_bus_time <fct>\u001b[39m\n"
     ]
    }
   ],
   "source": [
    "## Drop the columns from_id and travel_time_p50\n",
    "geo_time <- geo_time[, !(names(geo_time) %in% c('from_id', 'travel_time_p50'))]\n",
    "\n",
    "# Print the updated data frame\n",
    "print(geo_time)"
   ]
  },
  {
   "cell_type": "code",
   "execution_count": 56,
   "id": "bcf6daa2",
   "metadata": {},
   "outputs": [
    {
     "name": "stdout",
     "output_type": "stream",
     "text": [
      "[1] 28207\n"
     ]
    }
   ],
   "source": [
    "print(sum(is.na(geo_time$rail_bus_time)))"
   ]
  },
  {
   "cell_type": "code",
   "execution_count": 55,
   "id": "bcd914a7",
   "metadata": {},
   "outputs": [
    {
     "data": {
      "text/html": [
       "35465"
      ],
      "text/latex": [
       "35465"
      ],
      "text/markdown": [
       "35465"
      ],
      "text/plain": [
       "[1] 35465"
      ]
     },
     "metadata": {},
     "output_type": "display_data"
    }
   ],
   "source": [
    "nrow(geo_time)"
   ]
  },
  {
   "cell_type": "code",
   "execution_count": 57,
   "id": "40bda69f",
   "metadata": {},
   "outputs": [
    {
     "name": "stdout",
     "output_type": "stream",
     "text": [
      "            \n",
      "             0-5_mins 5-10_mins 10-15_mins 15-20_mins 20-25_mins 25-30_mins\n",
      "  0-5_mins        952         0          0          0          0          0\n",
      "  5-10_mins         0      2071          0          0          0          0\n",
      "  10-15_mins        0        85        221        191         20         13\n",
      "  15-20_mins        0         0        236        398         98         46\n",
      "  20-25_mins        0         0        116        373        214         87\n",
      "  25-30_mins        0         0         16        232        459        133\n",
      "  <NA>              0         0          1        206        379        711\n",
      "            \n",
      "              <NA>\n",
      "  0-5_mins       0\n",
      "  5-10_mins      0\n",
      "  10-15_mins    11\n",
      "  15-20_mins    33\n",
      "  20-25_mins    94\n",
      "  25-30_mins    80\n",
      "  <NA>       27989\n"
     ]
    }
   ],
   "source": [
    "comparison_table <- table(geo_time$rail_walk_time, geo_time$rail_bus_time, useNA = \"always\")\n",
    "\n",
    "# Print the comparison table\n",
    "print(comparison_table)"
   ]
  },
  {
   "cell_type": "markdown",
   "id": "1ca74421",
   "metadata": {},
   "source": [
    "# City Centre "
   ]
  },
  {
   "cell_type": "code",
   "execution_count": 58,
   "id": "8076ba66",
   "metadata": {},
   "outputs": [
    {
     "data": {
      "text/html": [
       "<table class=\"dataframe\">\n",
       "<caption>A tibble: 1 × 4</caption>\n",
       "<thead>\n",
       "\t<tr><th scope=col>address</th><th scope=col>id</th><th scope=col>lon</th><th scope=col>lat</th></tr>\n",
       "\t<tr><th scope=col>&lt;chr&gt;</th><th scope=col>&lt;chr&gt;</th><th scope=col>&lt;chr&gt;</th><th scope=col>&lt;chr&gt;</th></tr>\n",
       "</thead>\n",
       "<tbody>\n",
       "\t<tr><td>Brighton City Centre</td><td>0</td><td>-0.140272</td><td>50.822566</td></tr>\n",
       "</tbody>\n",
       "</table>\n"
      ],
      "text/latex": [
       "A tibble: 1 × 4\n",
       "\\begin{tabular}{llll}\n",
       " address & id & lon & lat\\\\\n",
       " <chr> & <chr> & <chr> & <chr>\\\\\n",
       "\\hline\n",
       "\t Brighton City Centre & 0 & -0.140272 & 50.822566\\\\\n",
       "\\end{tabular}\n"
      ],
      "text/markdown": [
       "\n",
       "A tibble: 1 × 4\n",
       "\n",
       "| address &lt;chr&gt; | id &lt;chr&gt; | lon &lt;chr&gt; | lat &lt;chr&gt; |\n",
       "|---|---|---|---|\n",
       "| Brighton City Centre | 0 | -0.140272 | 50.822566 |\n",
       "\n"
      ],
      "text/plain": [
       "  address              id lon       lat      \n",
       "1 Brighton City Centre 0  -0.140272 50.822566"
      ]
     },
     "metadata": {},
     "output_type": "display_data"
    }
   ],
   "source": [
    "#read in city centre coords\n",
    "city_centre_fp = file.path(data_path, \"city_centre.csv\")\n",
    "citycen = read_sf(city_centre_fp)\n",
    "head(citycen)"
   ]
  },
  {
   "cell_type": "code",
   "execution_count": 59,
   "id": "2d7cc029",
   "metadata": {},
   "outputs": [
    {
     "data": {
      "text/html": [
       "<style>\n",
       ".list-inline {list-style: none; margin:0; padding: 0}\n",
       ".list-inline>li {display: inline-block}\n",
       ".list-inline>li:not(:last-child)::after {content: \"\\00b7\"; padding: 0 .5ex}\n",
       "</style>\n",
       "<ol class=list-inline><li>'tbl_df'</li><li>'tbl'</li><li>'data.frame'</li></ol>\n"
      ],
      "text/latex": [
       "\\begin{enumerate*}\n",
       "\\item 'tbl\\_df'\n",
       "\\item 'tbl'\n",
       "\\item 'data.frame'\n",
       "\\end{enumerate*}\n"
      ],
      "text/markdown": [
       "1. 'tbl_df'\n",
       "2. 'tbl'\n",
       "3. 'data.frame'\n",
       "\n",
       "\n"
      ],
      "text/plain": [
       "[1] \"tbl_df\"     \"tbl\"        \"data.frame\""
      ]
     },
     "metadata": {},
     "output_type": "display_data"
    }
   ],
   "source": [
    "citycen$lon = as.numeric(as.character(citycen$lon))\n",
    "citycen$lat = as.numeric(as.character(citycen$lat))\n",
    "citycen$id = as.double(as.character(citycen$id))\n",
    "citycen = citycen %>% st_drop_geometry()\n",
    "class(citycen)"
   ]
  },
  {
   "cell_type": "markdown",
   "id": "365c7ee0",
   "metadata": {},
   "source": [
    "## Walking time bands (5,10,15,20,25,30)"
   ]
  },
  {
   "cell_type": "code",
   "execution_count": 60,
   "id": "0cc80bbc",
   "metadata": {},
   "outputs": [
    {
     "name": "stderr",
     "output_type": "stream",
     "text": [
      "Warning message in assign_points_input(origins, \"origins\"):\n",
      "“'origins$id' forcefully cast to character.”\n"
     ]
    },
    {
     "data": {
      "text/html": [
       "<table class=\"dataframe\">\n",
       "<caption>A data.table: 6 × 3</caption>\n",
       "<thead>\n",
       "\t<tr><th scope=col>from_id</th><th scope=col>to_id</th><th scope=col>travel_time_p50</th></tr>\n",
       "\t<tr><th scope=col>&lt;chr&gt;</th><th scope=col>&lt;chr&gt;</th><th scope=col>&lt;int&gt;</th></tr>\n",
       "</thead>\n",
       "<tbody>\n",
       "\t<tr><td>0</td><td>BN1 1AA</td><td>10</td></tr>\n",
       "\t<tr><td>0</td><td>BN1 1AB</td><td> 3</td></tr>\n",
       "\t<tr><td>0</td><td>BN1 1AD</td><td> 3</td></tr>\n",
       "\t<tr><td>0</td><td>BN1 1AE</td><td> 4</td></tr>\n",
       "\t<tr><td>0</td><td>BN1 1AF</td><td> 2</td></tr>\n",
       "\t<tr><td>0</td><td>BN1 1AG</td><td> 4</td></tr>\n",
       "</tbody>\n",
       "</table>\n"
      ],
      "text/latex": [
       "A data.table: 6 × 3\n",
       "\\begin{tabular}{lll}\n",
       " from\\_id & to\\_id & travel\\_time\\_p50\\\\\n",
       " <chr> & <chr> & <int>\\\\\n",
       "\\hline\n",
       "\t 0 & BN1 1AA & 10\\\\\n",
       "\t 0 & BN1 1AB &  3\\\\\n",
       "\t 0 & BN1 1AD &  3\\\\\n",
       "\t 0 & BN1 1AE &  4\\\\\n",
       "\t 0 & BN1 1AF &  2\\\\\n",
       "\t 0 & BN1 1AG &  4\\\\\n",
       "\\end{tabular}\n"
      ],
      "text/markdown": [
       "\n",
       "A data.table: 6 × 3\n",
       "\n",
       "| from_id &lt;chr&gt; | to_id &lt;chr&gt; | travel_time_p50 &lt;int&gt; |\n",
       "|---|---|---|\n",
       "| 0 | BN1 1AA | 10 |\n",
       "| 0 | BN1 1AB |  3 |\n",
       "| 0 | BN1 1AD |  3 |\n",
       "| 0 | BN1 1AE |  4 |\n",
       "| 0 | BN1 1AF |  2 |\n",
       "| 0 | BN1 1AG |  4 |\n",
       "\n"
      ],
      "text/plain": [
       "  from_id to_id   travel_time_p50\n",
       "1 0       BN1 1AA 10             \n",
       "2 0       BN1 1AB  3             \n",
       "3 0       BN1 1AD  3             \n",
       "4 0       BN1 1AE  4             \n",
       "5 0       BN1 1AF  2             \n",
       "6 0       BN1 1AG  4             "
      ]
     },
     "metadata": {},
     "output_type": "display_data"
    }
   ],
   "source": [
    "# Set parameters\n",
    "mode = c(\"WALK\")\n",
    "max_walk_time = 30 # minutes\n",
    "max_trip_duration = 30 # minutes\n",
    "departure_datetime = as.POSIXct(\"01-12-2022 8:30:00\",\n",
    "                                 format = \"%d-%m-%Y %H:%M:%S\")\n",
    "\n",
    "# Calculate the travel time matrix by Transit\n",
    "ttm_cc_walk = travel_time_matrix(r5r_core = r5r_core,\n",
    "                          origins = citycen,\n",
    "                          destinations = geo_time,\n",
    "                          mode = mode,\n",
    "                          departure_datetime = departure_datetime,\n",
    "                          max_walk_time = max_walk_time,\n",
    "                          max_trip_duration = max_trip_duration)\n",
    "\n",
    "head(ttm_cc_walk)"
   ]
  },
  {
   "cell_type": "code",
   "execution_count": 61,
   "id": "a3ad0483",
   "metadata": {},
   "outputs": [],
   "source": [
    "# Handle duplicates for bus travel time to city centre (tho unlikely)\n",
    "ttm_cc_walk <- subset(ttm_cc_walk, select = -c(from_id))\n",
    "\n",
    "ttm_cc_walk <- ttm_cc_walk %>% \n",
    "group_by(to_id) %>%\n",
    "slice_min(travel_time_p50) %>%\n",
    "distinct()"
   ]
  },
  {
   "cell_type": "code",
   "execution_count": 62,
   "id": "176c91a9",
   "metadata": {},
   "outputs": [
    {
     "name": "stdout",
     "output_type": "stream",
     "text": [
      "Simple feature collection with 35465 features and 5 fields\n",
      "Geometry type: POINT\n",
      "Dimension:     XY\n",
      "Bounding box:  xmin: -0.664785 ymin: 50.73827 xmax: 0.3975 ymax: 50.98748\n",
      "Geodetic CRS:  WGS 84\n",
      "\u001b[90m# A tibble: 35,465 × 6\u001b[39m\n",
      "   id                  geometry rail_walk_time nearest_rail_name       \n",
      "   \u001b[3m\u001b[90m<chr>\u001b[39m\u001b[23m            \u001b[3m\u001b[90m<POINT [°]>\u001b[39m\u001b[23m \u001b[3m\u001b[90m<fct>\u001b[39m\u001b[23m          \u001b[3m\u001b[90m<chr>\u001b[39m\u001b[23m                   \n",
      "\u001b[90m 1\u001b[39m BN1 1AA (-0.140818 50.82633) 5-10_mins      Brighton railway station\n",
      "\u001b[90m 2\u001b[39m BN1 1AB  (-0.14179 50.82296) 15-20_mins     Brighton railway station\n",
      "\u001b[90m 3\u001b[39m BN1 1AD (-0.142167 50.82169) 15-20_mins     Brighton railway station\n",
      "\u001b[90m 4\u001b[39m BN1 1AE (-0.141753 50.82138) 15-20_mins     Brighton railway station\n",
      "\u001b[90m 5\u001b[39m BN1 1AF (-0.141426 50.82248) 15-20_mins     Brighton railway station\n",
      "\u001b[90m 6\u001b[39m BN1 1AG (-0.142871 50.82292) 10-15_mins     Brighton railway station\n",
      "\u001b[90m 7\u001b[39m BN1 1AH (-0.142864 50.82274) 10-15_mins     Brighton railway station\n",
      "\u001b[90m 8\u001b[39m BN1 1AJ  (-0.14256 50.82145) 15-20_mins     Brighton railway station\n",
      "\u001b[90m 9\u001b[39m BN1 1AL (-0.142961 50.82136) 15-20_mins     Brighton railway station\n",
      "\u001b[90m10\u001b[39m BN1 1AN   (-0.1435 50.82209) 15-20_mins     Brighton railway station\n",
      "\u001b[90m# ℹ 35,455 more rows\u001b[39m\n",
      "\u001b[90m# ℹ 2 more variables: rail_bus_time <fct>, travel_time_p50 <int>\u001b[39m\n"
     ]
    }
   ],
   "source": [
    "# Check for duplicates in 'id' column of df1\n",
    "duplicates_ttm_cc_walk <- duplicated(ttm_cc_walk$to_id)\n",
    "# Check for duplicates in 'id' column of df2\n",
    "duplicates_geo_time <- duplicated(geo_time$id)\n",
    "\n",
    "# Check if there are duplicates in df1 or df2\n",
    "if (any(duplicates_ttm_cc_walk) || any(duplicates_geo_time)) {\n",
    "  print(\"Duplicates found! Please handle duplicates before performing left join.\")\n",
    "} else {\n",
    "  # Perform the left join, walk time bands from rail station to postcodes\n",
    "  geo_time <- left_join(geo_time, ttm_cc_walk, by=c(id = \"to_id\"))\n",
    "  # Print the resulting merged data frame\n",
    "  print(geo_time)\n",
    "}"
   ]
  },
  {
   "cell_type": "code",
   "execution_count": 63,
   "id": "c62a1021",
   "metadata": {},
   "outputs": [
    {
     "name": "stdout",
     "output_type": "stream",
     "text": [
      "Simple feature collection with 35465 features and 6 fields\n",
      "Geometry type: POINT\n",
      "Dimension:     XY\n",
      "Bounding box:  xmin: -0.664785 ymin: 50.73827 xmax: 0.3975 ymax: 50.98748\n",
      "Geodetic CRS:  WGS 84\n",
      "\u001b[90m# A tibble: 35,465 × 7\u001b[39m\n",
      "   id                  geometry rail_walk_time nearest_rail_name       \n",
      " \u001b[90m*\u001b[39m \u001b[3m\u001b[90m<chr>\u001b[39m\u001b[23m            \u001b[3m\u001b[90m<POINT [°]>\u001b[39m\u001b[23m \u001b[3m\u001b[90m<fct>\u001b[39m\u001b[23m          \u001b[3m\u001b[90m<chr>\u001b[39m\u001b[23m                   \n",
      "\u001b[90m 1\u001b[39m BN1 1AA (-0.140818 50.82633) 5-10_mins      Brighton railway station\n",
      "\u001b[90m 2\u001b[39m BN1 1AB  (-0.14179 50.82296) 15-20_mins     Brighton railway station\n",
      "\u001b[90m 3\u001b[39m BN1 1AD (-0.142167 50.82169) 15-20_mins     Brighton railway station\n",
      "\u001b[90m 4\u001b[39m BN1 1AE (-0.141753 50.82138) 15-20_mins     Brighton railway station\n",
      "\u001b[90m 5\u001b[39m BN1 1AF (-0.141426 50.82248) 15-20_mins     Brighton railway station\n",
      "\u001b[90m 6\u001b[39m BN1 1AG (-0.142871 50.82292) 10-15_mins     Brighton railway station\n",
      "\u001b[90m 7\u001b[39m BN1 1AH (-0.142864 50.82274) 10-15_mins     Brighton railway station\n",
      "\u001b[90m 8\u001b[39m BN1 1AJ  (-0.14256 50.82145) 15-20_mins     Brighton railway station\n",
      "\u001b[90m 9\u001b[39m BN1 1AL (-0.142961 50.82136) 15-20_mins     Brighton railway station\n",
      "\u001b[90m10\u001b[39m BN1 1AN   (-0.1435 50.82209) 15-20_mins     Brighton railway station\n",
      "\u001b[90m# ℹ 35,455 more rows\u001b[39m\n",
      "\u001b[90m# ℹ 3 more variables: rail_bus_time <fct>, travel_time_p50 <int>,\u001b[39m\n",
      "\u001b[90m#   cc_walk_time <fct>\u001b[39m\n"
     ]
    }
   ],
   "source": [
    "# Create a new categorical column based on travel time\n",
    "# Define the breaks for the bands (including endpoints)\n",
    "breaks <- c(0, 5, 10, 15, 20, 25, 30)\n",
    "\n",
    "\n",
    "# Define the labels for each band\n",
    "labels <- c(\"0-5_mins\", \"5-10_mins\", \"10-15_mins\", \"15-20_mins\", \"20-25_mins\", \"25-30_mins\")\n",
    "\n",
    "# Create the categorical column based on travel time bands\n",
    "geo_time$cc_walk_time <- cut(geo_time$travel_time_p50, breaks = breaks, labels = labels, include.lowest = TRUE, right = FALSE)\n",
    "\n",
    "# Print the updated data frame\n",
    "print(geo_time)\n"
   ]
  },
  {
   "cell_type": "code",
   "execution_count": 45,
   "id": "bfadf2d3",
   "metadata": {},
   "outputs": [
    {
     "data": {
      "image/png": "[encoded data removed]",
      "text/plain": [
       "plot without title"
      ]
     },
     "metadata": {
      "image/png": {
       "height": 420,
       "width": 420
      }
     },
     "output_type": "display_data"
    }
   ],
   "source": [
    "# Plot the travel times\n",
    "tm_shape(geo_time) + tm_symbols(col=\"cc_walk_time\", size=0.2, border.lwd=0)"
   ]
  },
  {
   "cell_type": "code",
   "execution_count": 64,
   "id": "a8b0a42b",
   "metadata": {},
   "outputs": [
    {
     "name": "stdout",
     "output_type": "stream",
     "text": [
      "Simple feature collection with 35465 features and 5 fields\n",
      "Geometry type: POINT\n",
      "Dimension:     XY\n",
      "Bounding box:  xmin: -0.664785 ymin: 50.73827 xmax: 0.3975 ymax: 50.98748\n",
      "Geodetic CRS:  WGS 84\n",
      "\u001b[90m# A tibble: 35,465 × 6\u001b[39m\n",
      "   id                  geometry rail_walk_time nearest_rail_name       \n",
      "   \u001b[3m\u001b[90m<chr>\u001b[39m\u001b[23m            \u001b[3m\u001b[90m<POINT [°]>\u001b[39m\u001b[23m \u001b[3m\u001b[90m<fct>\u001b[39m\u001b[23m          \u001b[3m\u001b[90m<chr>\u001b[39m\u001b[23m                   \n",
      "\u001b[90m 1\u001b[39m BN1 1AA (-0.140818 50.82633) 5-10_mins      Brighton railway station\n",
      "\u001b[90m 2\u001b[39m BN1 1AB  (-0.14179 50.82296) 15-20_mins     Brighton railway station\n",
      "\u001b[90m 3\u001b[39m BN1 1AD (-0.142167 50.82169) 15-20_mins     Brighton railway station\n",
      "\u001b[90m 4\u001b[39m BN1 1AE (-0.141753 50.82138) 15-20_mins     Brighton railway station\n",
      "\u001b[90m 5\u001b[39m BN1 1AF (-0.141426 50.82248) 15-20_mins     Brighton railway station\n",
      "\u001b[90m 6\u001b[39m BN1 1AG (-0.142871 50.82292) 10-15_mins     Brighton railway station\n",
      "\u001b[90m 7\u001b[39m BN1 1AH (-0.142864 50.82274) 10-15_mins     Brighton railway station\n",
      "\u001b[90m 8\u001b[39m BN1 1AJ  (-0.14256 50.82145) 15-20_mins     Brighton railway station\n",
      "\u001b[90m 9\u001b[39m BN1 1AL (-0.142961 50.82136) 15-20_mins     Brighton railway station\n",
      "\u001b[90m10\u001b[39m BN1 1AN   (-0.1435 50.82209) 15-20_mins     Brighton railway station\n",
      "\u001b[90m# ℹ 35,455 more rows\u001b[39m\n",
      "\u001b[90m# ℹ 2 more variables: rail_bus_time <fct>, cc_walk_time <fct>\u001b[39m\n"
     ]
    }
   ],
   "source": [
    "## Drop the columns from_id and travel_time_p50\n",
    "geo_time <- geo_time[, !(names(geo_time) %in% c('from_id', 'travel_time_p50'))]\n",
    "\n",
    "# Print the updated data frame\n",
    "print(geo_time)"
   ]
  },
  {
   "cell_type": "markdown",
   "id": "3797e220",
   "metadata": {},
   "source": [
    "## Bus time bands to city centre"
   ]
  },
  {
   "cell_type": "code",
   "execution_count": 65,
   "id": "8da68244",
   "metadata": {},
   "outputs": [
    {
     "name": "stderr",
     "output_type": "stream",
     "text": [
      "Warning message in assign_points_input(origins, \"origins\"):\n",
      "“'origins$id' forcefully cast to character.”\n"
     ]
    },
    {
     "data": {
      "text/html": [
       "<table class=\"dataframe\">\n",
       "<caption>A data.table: 6 × 3</caption>\n",
       "<thead>\n",
       "\t<tr><th scope=col>from_id</th><th scope=col>to_id</th><th scope=col>travel_time_p50</th></tr>\n",
       "\t<tr><th scope=col>&lt;chr&gt;</th><th scope=col>&lt;chr&gt;</th><th scope=col>&lt;int&gt;</th></tr>\n",
       "</thead>\n",
       "<tbody>\n",
       "\t<tr><td>0</td><td>BN1 1AA</td><td>10</td></tr>\n",
       "\t<tr><td>0</td><td>BN1 1AB</td><td> 3</td></tr>\n",
       "\t<tr><td>0</td><td>BN1 1AD</td><td> 3</td></tr>\n",
       "\t<tr><td>0</td><td>BN1 1AE</td><td> 4</td></tr>\n",
       "\t<tr><td>0</td><td>BN1 1AF</td><td> 2</td></tr>\n",
       "\t<tr><td>0</td><td>BN1 1AG</td><td> 4</td></tr>\n",
       "</tbody>\n",
       "</table>\n"
      ],
      "text/latex": [
       "A data.table: 6 × 3\n",
       "\\begin{tabular}{lll}\n",
       " from\\_id & to\\_id & travel\\_time\\_p50\\\\\n",
       " <chr> & <chr> & <int>\\\\\n",
       "\\hline\n",
       "\t 0 & BN1 1AA & 10\\\\\n",
       "\t 0 & BN1 1AB &  3\\\\\n",
       "\t 0 & BN1 1AD &  3\\\\\n",
       "\t 0 & BN1 1AE &  4\\\\\n",
       "\t 0 & BN1 1AF &  2\\\\\n",
       "\t 0 & BN1 1AG &  4\\\\\n",
       "\\end{tabular}\n"
      ],
      "text/markdown": [
       "\n",
       "A data.table: 6 × 3\n",
       "\n",
       "| from_id &lt;chr&gt; | to_id &lt;chr&gt; | travel_time_p50 &lt;int&gt; |\n",
       "|---|---|---|\n",
       "| 0 | BN1 1AA | 10 |\n",
       "| 0 | BN1 1AB |  3 |\n",
       "| 0 | BN1 1AD |  3 |\n",
       "| 0 | BN1 1AE |  4 |\n",
       "| 0 | BN1 1AF |  2 |\n",
       "| 0 | BN1 1AG |  4 |\n",
       "\n"
      ],
      "text/plain": [
       "  from_id to_id   travel_time_p50\n",
       "1 0       BN1 1AA 10             \n",
       "2 0       BN1 1AB  3             \n",
       "3 0       BN1 1AD  3             \n",
       "4 0       BN1 1AE  4             \n",
       "5 0       BN1 1AF  2             \n",
       "6 0       BN1 1AG  4             "
      ]
     },
     "metadata": {},
     "output_type": "display_data"
    }
   ],
   "source": [
    "# Set parameters\n",
    "mode = c(\"WALK\",\"BUS\")\n",
    "max_walk_time = 20 # minutes\n",
    "max_trip_duration = 45 # minutes\n",
    "departure_datetime = as.POSIXct(\"01-12-2022 8:30:00\",\n",
    "                                 format = \"%d-%m-%Y %H:%M:%S\")\n",
    "\n",
    "# Calculate the travel time matrix by Transit\n",
    "ttm_cc_bus = travel_time_matrix(r5r_core = r5r_core,\n",
    "                          origins = citycen,\n",
    "                          destinations = geo_time,\n",
    "                          mode = mode,\n",
    "                          departure_datetime = departure_datetime,\n",
    "                          max_walk_time = max_walk_time,\n",
    "                          max_trip_duration = max_trip_duration)\n",
    "\n",
    "head(ttm_cc_bus)"
   ]
  },
  {
   "cell_type": "code",
   "execution_count": 66,
   "id": "87e0c99a",
   "metadata": {},
   "outputs": [],
   "source": [
    "# Handle duplicates for bus travel time to city centre (tho unlikely)\n",
    "ttm_cc_bus <- subset(ttm_cc_bus, select = -c(from_id))\n",
    "\n",
    "ttm_cc_bus <- ttm_cc_bus %>% \n",
    "group_by(to_id) %>%\n",
    "slice_min(travel_time_p50) %>%\n",
    "distinct()"
   ]
  },
  {
   "cell_type": "code",
   "execution_count": 67,
   "id": "3c995248",
   "metadata": {},
   "outputs": [
    {
     "name": "stdout",
     "output_type": "stream",
     "text": [
      "Simple feature collection with 35465 features and 6 fields\n",
      "Geometry type: POINT\n",
      "Dimension:     XY\n",
      "Bounding box:  xmin: -0.664785 ymin: 50.73827 xmax: 0.3975 ymax: 50.98748\n",
      "Geodetic CRS:  WGS 84\n",
      "\u001b[90m# A tibble: 35,465 × 7\u001b[39m\n",
      "   id                  geometry rail_walk_time nearest_rail_name       \n",
      "   \u001b[3m\u001b[90m<chr>\u001b[39m\u001b[23m            \u001b[3m\u001b[90m<POINT [°]>\u001b[39m\u001b[23m \u001b[3m\u001b[90m<fct>\u001b[39m\u001b[23m          \u001b[3m\u001b[90m<chr>\u001b[39m\u001b[23m                   \n",
      "\u001b[90m 1\u001b[39m BN1 1AA (-0.140818 50.82633) 5-10_mins      Brighton railway station\n",
      "\u001b[90m 2\u001b[39m BN1 1AB  (-0.14179 50.82296) 15-20_mins     Brighton railway station\n",
      "\u001b[90m 3\u001b[39m BN1 1AD (-0.142167 50.82169) 15-20_mins     Brighton railway station\n",
      "\u001b[90m 4\u001b[39m BN1 1AE (-0.141753 50.82138) 15-20_mins     Brighton railway station\n",
      "\u001b[90m 5\u001b[39m BN1 1AF (-0.141426 50.82248) 15-20_mins     Brighton railway station\n",
      "\u001b[90m 6\u001b[39m BN1 1AG (-0.142871 50.82292) 10-15_mins     Brighton railway station\n",
      "\u001b[90m 7\u001b[39m BN1 1AH (-0.142864 50.82274) 10-15_mins     Brighton railway station\n",
      "\u001b[90m 8\u001b[39m BN1 1AJ  (-0.14256 50.82145) 15-20_mins     Brighton railway station\n",
      "\u001b[90m 9\u001b[39m BN1 1AL (-0.142961 50.82136) 15-20_mins     Brighton railway station\n",
      "\u001b[90m10\u001b[39m BN1 1AN   (-0.1435 50.82209) 15-20_mins     Brighton railway station\n",
      "\u001b[90m# ℹ 35,455 more rows\u001b[39m\n",
      "\u001b[90m# ℹ 3 more variables: rail_bus_time <fct>, cc_walk_time <fct>,\u001b[39m\n",
      "\u001b[90m#   travel_time_p50 <int>\u001b[39m\n"
     ]
    }
   ],
   "source": [
    "# Check for duplicates in 'id' column of df1\n",
    "duplicates_ttm_cc_bus <- duplicated(ttm_cc_bus$to_id)\n",
    "# Check for duplicates in 'id' column of df2\n",
    "duplicates_geo_time <- duplicated(geo_time$id)\n",
    "\n",
    "# Check if there are duplicates in df1 or df2\n",
    "if (any(duplicates_ttm_cc_bus) || any(duplicates_geo_time)) {\n",
    "  print(\"Duplicates found! Please handle duplicates before performing left join.\")\n",
    "} else {\n",
    "  # Perform the left join, walk time bands from rail station to postcodes\n",
    "  geo_time <- left_join(geo_time, ttm_cc_bus, by=c(id = \"to_id\"))\n",
    "  # Print the resulting merged data frame\n",
    "  print(geo_time)\n",
    "}"
   ]
  },
  {
   "cell_type": "code",
   "execution_count": 68,
   "id": "a17f98ab",
   "metadata": {},
   "outputs": [
    {
     "name": "stdout",
     "output_type": "stream",
     "text": [
      "Simple feature collection with 35465 features and 7 fields\n",
      "Geometry type: POINT\n",
      "Dimension:     XY\n",
      "Bounding box:  xmin: -0.664785 ymin: 50.73827 xmax: 0.3975 ymax: 50.98748\n",
      "Geodetic CRS:  WGS 84\n",
      "\u001b[90m# A tibble: 35,465 × 8\u001b[39m\n",
      "   id                  geometry rail_walk_time nearest_rail_name       \n",
      " \u001b[90m*\u001b[39m \u001b[3m\u001b[90m<chr>\u001b[39m\u001b[23m            \u001b[3m\u001b[90m<POINT [°]>\u001b[39m\u001b[23m \u001b[3m\u001b[90m<fct>\u001b[39m\u001b[23m          \u001b[3m\u001b[90m<chr>\u001b[39m\u001b[23m                   \n",
      "\u001b[90m 1\u001b[39m BN1 1AA (-0.140818 50.82633) 5-10_mins      Brighton railway station\n",
      "\u001b[90m 2\u001b[39m BN1 1AB  (-0.14179 50.82296) 15-20_mins     Brighton railway station\n",
      "\u001b[90m 3\u001b[39m BN1 1AD (-0.142167 50.82169) 15-20_mins     Brighton railway station\n",
      "\u001b[90m 4\u001b[39m BN1 1AE (-0.141753 50.82138) 15-20_mins     Brighton railway station\n",
      "\u001b[90m 5\u001b[39m BN1 1AF (-0.141426 50.82248) 15-20_mins     Brighton railway station\n",
      "\u001b[90m 6\u001b[39m BN1 1AG (-0.142871 50.82292) 10-15_mins     Brighton railway station\n",
      "\u001b[90m 7\u001b[39m BN1 1AH (-0.142864 50.82274) 10-15_mins     Brighton railway station\n",
      "\u001b[90m 8\u001b[39m BN1 1AJ  (-0.14256 50.82145) 15-20_mins     Brighton railway station\n",
      "\u001b[90m 9\u001b[39m BN1 1AL (-0.142961 50.82136) 15-20_mins     Brighton railway station\n",
      "\u001b[90m10\u001b[39m BN1 1AN   (-0.1435 50.82209) 15-20_mins     Brighton railway station\n",
      "\u001b[90m# ℹ 35,455 more rows\u001b[39m\n",
      "\u001b[90m# ℹ 4 more variables: rail_bus_time <fct>, cc_walk_time <fct>,\u001b[39m\n",
      "\u001b[90m#   travel_time_p50 <int>, cc_bus_time <fct>\u001b[39m\n"
     ]
    }
   ],
   "source": [
    "# Create a new categorical column based on travel time\n",
    "# Define the breaks for the bands (including endpoints)\n",
    "breaks <- c(0, 5, 10, 15, 20, 25, 30, 35, 40, 45)\n",
    "\n",
    "\n",
    "# Define the labels for each band\n",
    "labels <- c(\"0-5_mins\", \"5-10_mins\", \"10-15_mins\", \"15-20_mins\", \"20-25_mins\", \"25-30_mins\", \"30-35_mins\", \"35-40_mins\",\n",
    "           \"40-45_mins\")\n",
    "\n",
    "# Create the categorical column based on travel time bands\n",
    "geo_time$cc_bus_time <- cut(geo_time$travel_time_p50, breaks = breaks, labels = labels, include.lowest = TRUE, right = FALSE)\n",
    "\n",
    "# Print the updated data frame\n",
    "print(geo_time)\n"
   ]
  },
  {
   "cell_type": "code",
   "execution_count": 69,
   "id": "b693da68",
   "metadata": {},
   "outputs": [
    {
     "name": "stderr",
     "output_type": "stream",
     "text": [
      "Map saved to /mnt/c/Users/josia/Documents/code/CASA/diss/3A. data/geo_services/cc_bus_time.png\n",
      "\n",
      "Resolution: 3444.507 by 1280.299 pixels\n",
      "\n",
      "Size: 11.48169 by 4.267664 inches (300 dpi)\n",
      "\n"
     ]
    }
   ],
   "source": [
    "# Plot the travel times\n",
    "m <- tm_shape(geo_time) + tm_symbols(col=\"cc_bus_time\", size=0.2, border.lwd=0)\n",
    "tmap_save(m, \"cc_bus_time.png\")"
   ]
  },
  {
   "cell_type": "code",
   "execution_count": 70,
   "id": "f9f1c88f",
   "metadata": {},
   "outputs": [
    {
     "name": "stdout",
     "output_type": "stream",
     "text": [
      "Simple feature collection with 35465 features and 6 fields\n",
      "Geometry type: POINT\n",
      "Dimension:     XY\n",
      "Bounding box:  xmin: -0.664785 ymin: 50.73827 xmax: 0.3975 ymax: 50.98748\n",
      "Geodetic CRS:  WGS 84\n",
      "\u001b[90m# A tibble: 35,465 × 7\u001b[39m\n",
      "   id                  geometry rail_walk_time nearest_rail_name       \n",
      "   \u001b[3m\u001b[90m<chr>\u001b[39m\u001b[23m            \u001b[3m\u001b[90m<POINT [°]>\u001b[39m\u001b[23m \u001b[3m\u001b[90m<fct>\u001b[39m\u001b[23m          \u001b[3m\u001b[90m<chr>\u001b[39m\u001b[23m                   \n",
      "\u001b[90m 1\u001b[39m BN1 1AA (-0.140818 50.82633) 5-10_mins      Brighton railway station\n",
      "\u001b[90m 2\u001b[39m BN1 1AB  (-0.14179 50.82296) 15-20_mins     Brighton railway station\n",
      "\u001b[90m 3\u001b[39m BN1 1AD (-0.142167 50.82169) 15-20_mins     Brighton railway station\n",
      "\u001b[90m 4\u001b[39m BN1 1AE (-0.141753 50.82138) 15-20_mins     Brighton railway station\n",
      "\u001b[90m 5\u001b[39m BN1 1AF (-0.141426 50.82248) 15-20_mins     Brighton railway station\n",
      "\u001b[90m 6\u001b[39m BN1 1AG (-0.142871 50.82292) 10-15_mins     Brighton railway station\n",
      "\u001b[90m 7\u001b[39m BN1 1AH (-0.142864 50.82274) 10-15_mins     Brighton railway station\n",
      "\u001b[90m 8\u001b[39m BN1 1AJ  (-0.14256 50.82145) 15-20_mins     Brighton railway station\n",
      "\u001b[90m 9\u001b[39m BN1 1AL (-0.142961 50.82136) 15-20_mins     Brighton railway station\n",
      "\u001b[90m10\u001b[39m BN1 1AN   (-0.1435 50.82209) 15-20_mins     Brighton railway station\n",
      "\u001b[90m# ℹ 35,455 more rows\u001b[39m\n",
      "\u001b[90m# ℹ 3 more variables: rail_bus_time <fct>, cc_walk_time <fct>,\u001b[39m\n",
      "\u001b[90m#   cc_bus_time <fct>\u001b[39m\n"
     ]
    }
   ],
   "source": [
    "## Drop the columns from_id and travel_time_p50\n",
    "geo_time <- geo_time[, !(names(geo_time) %in% c('from_id', 'travel_time_p50'))]\n",
    "\n",
    "# Print the updated data frame\n",
    "print(geo_time)"
   ]
  },
  {
   "cell_type": "code",
   "execution_count": 71,
   "id": "2be3fc95",
   "metadata": {},
   "outputs": [
    {
     "name": "stdout",
     "output_type": "stream",
     "text": [
      "            \n",
      "             0-5_mins 5-10_mins 10-15_mins 15-20_mins 20-25_mins 25-30_mins\n",
      "  0-5_mins        177         0          0          0          0          0\n",
      "  5-10_mins         0       221          0          0          0          0\n",
      "  10-15_mins        0        80       1885          0          0          0\n",
      "  15-20_mins        0        17        288        126          0          0\n",
      "  20-25_mins        0         1        181        198         68          0\n",
      "  25-30_mins        0         0        118        146        241         12\n",
      "  <NA>              0         0         52        571       1687       1192\n",
      "            \n",
      "             30-35_mins 35-40_mins 40-45_mins  <NA>\n",
      "  0-5_mins            0          0          0     0\n",
      "  5-10_mins           0          0          0     0\n",
      "  10-15_mins          0          0          0     0\n",
      "  15-20_mins          0          0          0     0\n",
      "  20-25_mins          0          0          0     0\n",
      "  25-30_mins          0          0          0     0\n",
      "  <NA>              957       1213       1353 24681\n"
     ]
    }
   ],
   "source": [
    "comparison_table2 <- table(geo_time$cc_walk_time, geo_time$cc_bus_time, useNA = \"always\")\n",
    "\n",
    "# Print the comparison table\n",
    "print(comparison_table2)"
   ]
  },
  {
   "cell_type": "code",
   "execution_count": 72,
   "id": "695cd41d",
   "metadata": {},
   "outputs": [],
   "source": [
    "### Save \n",
    "# Extract the latitude and longitude coordinates\n",
    "coordinates <- st_coordinates(geo_time)\n",
    "\n",
    "# Combine the coordinates with the other columns of the object\n",
    "df <- cbind.data.frame(geo_time[, -2], coordinates)\n",
    "\n",
    "# Rename the coordinate columns\n",
    "colnames(df)[5:6] <- c(\"longitude\", \"latitude\")\n",
    "\n",
    "# Save the resulting data frame to a CSV file\n",
    "write.csv(df, file = \"geotimes.csv\", row.names = FALSE)"
   ]
  },
  {
   "cell_type": "code",
   "execution_count": 56,
   "id": "7c64ed66",
   "metadata": {},
   "outputs": [
    {
     "name": "stderr",
     "output_type": "stream",
     "text": [
      "Warning message in abbreviate_shapefile_names(obj):\n",
      "“Field names abbreviated for ESRI Shapefile driver”\n"
     ]
    },
    {
     "name": "stdout",
     "output_type": "stream",
     "text": [
      "Writing layer `postcode_data' to data source \n",
      "  `dataset/postcode_data.shp' using driver `ESRI Shapefile'\n",
      "Writing 35465 features with 5 fields and geometry type Point.\n"
     ]
    }
   ],
   "source": [
    "st_write(geo_time, 'dataset/postcode_data.shp')"
   ]
  },
  {
   "cell_type": "code",
   "execution_count": 73,
   "id": "548f573e",
   "metadata": {},
   "outputs": [],
   "source": [
    "geo_time_df <- subset(geo_time, select = -c(geometry))"
   ]
  },
  {
   "cell_type": "code",
   "execution_count": 58,
   "id": "82aa7d07",
   "metadata": {},
   "outputs": [
    {
     "data": {
      "text/html": [
       "35465"
      ],
      "text/latex": [
       "35465"
      ],
      "text/markdown": [
       "35465"
      ],
      "text/plain": [
       "[1] 35465"
      ]
     },
     "metadata": {},
     "output_type": "display_data"
    }
   ],
   "source": [
    "nrow(geo_time)"
   ]
  },
  {
   "cell_type": "code",
   "execution_count": 59,
   "id": "b1761526",
   "metadata": {},
   "outputs": [
    {
     "data": {
      "text/html": [
       "35465"
      ],
      "text/latex": [
       "35465"
      ],
      "text/markdown": [
       "35465"
      ],
      "text/plain": [
       "[1] 35465"
      ]
     },
     "metadata": {},
     "output_type": "display_data"
    }
   ],
   "source": [
    "nrow(geo_time_df)"
   ]
  },
  {
   "cell_type": "markdown",
   "id": "e66a3ca5",
   "metadata": {},
   "source": [
    "# Joining all travel times to priceper dataset\n"
   ]
  },
  {
   "cell_type": "code",
   "execution_count": 60,
   "id": "80c59899",
   "metadata": {},
   "outputs": [
    {
     "name": "stderr",
     "output_type": "stream",
     "text": [
      "\u001b[1mRows: \u001b[22m\u001b[34m114152\u001b[39m \u001b[1mColumns: \u001b[22m\u001b[34m16\u001b[39m\n",
      "\u001b[36m──\u001b[39m \u001b[1mColumn specification\u001b[22m \u001b[36m────────────────────────────────────────────────────────────────────────────────────────────────\u001b[39m\n",
      "\u001b[1mDelimiter:\u001b[22m \",\"\n",
      "\u001b[31mchr\u001b[39m  (6): propertytype, duration, postcode, lad21cd, transactionid, CONSTRUC...\n",
      "\u001b[32mdbl\u001b[39m  (9): priceper, year, price, id, tfarea, numberrooms, classt, CURRENT_EN...\n",
      "\u001b[34mdate\u001b[39m (1): dateoftransfer\n",
      "\n",
      "\u001b[36mℹ\u001b[39m Use `spec()` to retrieve the full column specification for this data.\n",
      "\u001b[36mℹ\u001b[39m Specify the column types or set `show_col_types = FALSE` to quiet this message.\n"
     ]
    }
   ],
   "source": [
    "#priceper = read_csv(\"data/Brighton/Brighton_and_Hove_link_13082022.csv\")"
   ]
  },
  {
   "cell_type": "code",
   "execution_count": 62,
   "id": "309135ac",
   "metadata": {},
   "outputs": [
    {
     "data": {
      "text/html": [
       "<table class=\"dataframe\">\n",
       "<caption>A tibble: 6 × 21</caption>\n",
       "<thead>\n",
       "\t<tr><th scope=col>priceper</th><th scope=col>year</th><th scope=col>dateoftransfer</th><th scope=col>propertytype</th><th scope=col>duration</th><th scope=col>price</th><th scope=col>postcode</th><th scope=col>lad21cd</th><th scope=col>transactionid</th><th scope=col>id</th><th scope=col>⋯</th><th scope=col>numberrooms</th><th scope=col>classt</th><th scope=col>CURRENT_ENERGY_EFFICIENCY</th><th scope=col>POTENTIAL_ENERGY_EFFICIENCY</th><th scope=col>CONSTRUCTION_AGE_BAND</th><th scope=col>rail_walk_time</th><th scope=col>rail_bus_time</th><th scope=col>cc_walk_time</th><th scope=col>cc_bus_time</th><th scope=col>geometry</th></tr>\n",
       "\t<tr><th scope=col>&lt;dbl&gt;</th><th scope=col>&lt;dbl&gt;</th><th scope=col>&lt;date&gt;</th><th scope=col>&lt;chr&gt;</th><th scope=col>&lt;chr&gt;</th><th scope=col>&lt;dbl&gt;</th><th scope=col>&lt;chr&gt;</th><th scope=col>&lt;chr&gt;</th><th scope=col>&lt;chr&gt;</th><th scope=col>&lt;dbl&gt;</th><th scope=col>⋯</th><th scope=col>&lt;dbl&gt;</th><th scope=col>&lt;dbl&gt;</th><th scope=col>&lt;dbl&gt;</th><th scope=col>&lt;dbl&gt;</th><th scope=col>&lt;chr&gt;</th><th scope=col>&lt;fct&gt;</th><th scope=col>&lt;fct&gt;</th><th scope=col>&lt;fct&gt;</th><th scope=col>&lt;fct&gt;</th><th scope=col>&lt;POINT [°]&gt;</th></tr>\n",
       "</thead>\n",
       "<tbody>\n",
       "\t<tr><td>4244.731</td><td>2015</td><td>2015-11-13</td><td>F</td><td>L</td><td>290000</td><td>BN1 1AD</td><td>E06000043</td><td>{288DCE29-0585-E510-E050-A8C06205480E}</td><td>3268426</td><td>⋯</td><td>3</td><td>11</td><td>69</td><td>76</td><td>England and Wales: before 1900</td><td>15-20_mins</td><td>15-20_mins</td><td>0-5_mins</td><td>0-5_mins</td><td>POINT (-0.142167 50.82169)</td></tr>\n",
       "\t<tr><td>2927.400</td><td>2003</td><td>2003-02-21</td><td>F</td><td>L</td><td>200000</td><td>BN1 1AD</td><td>E06000043</td><td>{8F424A5C-E6DD-492F-8827-7AF9523BB665}</td><td>3268426</td><td>⋯</td><td>3</td><td>11</td><td>69</td><td>76</td><td>England and Wales: before 1900</td><td>15-20_mins</td><td>15-20_mins</td><td>0-5_mins</td><td>0-5_mins</td><td>POINT (-0.142167 50.82169)</td></tr>\n",
       "\t<tr><td>3496.503</td><td>2013</td><td>2013-12-04</td><td>F</td><td>L</td><td>500000</td><td>BN1 1AD</td><td>E06000043</td><td>{AECCFEF8-D159-4688-B479-62C68F590D73}</td><td>3279748</td><td>⋯</td><td>4</td><td>11</td><td>67</td><td>78</td><td>England and Wales: 1930-1949  </td><td>15-20_mins</td><td>15-20_mins</td><td>0-5_mins</td><td>0-5_mins</td><td>POINT (-0.142167 50.82169)</td></tr>\n",
       "\t<tr><td>3220.141</td><td>2006</td><td>2006-11-02</td><td>F</td><td>L</td><td>220000</td><td>BN1 1AD</td><td>E06000043</td><td>{4863D52D-C206-4176-9706-A19CDFA1678E}</td><td>3268426</td><td>⋯</td><td>3</td><td>11</td><td>69</td><td>76</td><td>England and Wales: before 1900</td><td>15-20_mins</td><td>15-20_mins</td><td>0-5_mins</td><td>0-5_mins</td><td>POINT (-0.142167 50.82169)</td></tr>\n",
       "\t<tr><td>1816.084</td><td>2004</td><td>2004-08-26</td><td>F</td><td>L</td><td>259700</td><td>BN1 1AD</td><td>E06000043</td><td>{DEC7C004-0B15-42DA-8620-A4D8B25855E5}</td><td>3279748</td><td>⋯</td><td>4</td><td>11</td><td>67</td><td>78</td><td>England and Wales: 1930-1949  </td><td>15-20_mins</td><td>15-20_mins</td><td>0-5_mins</td><td>0-5_mins</td><td>POINT (-0.142167 50.82169)</td></tr>\n",
       "\t<tr><td>3146.853</td><td>2017</td><td>2017-03-31</td><td>F</td><td>L</td><td>450000</td><td>BN1 1AD</td><td>E06000043</td><td>{4E95D757-551D-EDA1-E050-A8C0630539E2}</td><td>3328370</td><td>⋯</td><td>5</td><td>11</td><td>58</td><td>81</td><td>England and Wales: before 1900</td><td>15-20_mins</td><td>15-20_mins</td><td>0-5_mins</td><td>0-5_mins</td><td>POINT (-0.142167 50.82169)</td></tr>\n",
       "</tbody>\n",
       "</table>\n"
      ],
      "text/latex": [
       "A tibble: 6 × 21\n",
       "\\begin{tabular}{lllllllllllllllllllll}\n",
       " priceper & year & dateoftransfer & propertytype & duration & price & postcode & lad21cd & transactionid & id & ⋯ & numberrooms & classt & CURRENT\\_ENERGY\\_EFFICIENCY & POTENTIAL\\_ENERGY\\_EFFICIENCY & CONSTRUCTION\\_AGE\\_BAND & rail\\_walk\\_time & rail\\_bus\\_time & cc\\_walk\\_time & cc\\_bus\\_time & geometry\\\\\n",
       " <dbl> & <dbl> & <date> & <chr> & <chr> & <dbl> & <chr> & <chr> & <chr> & <dbl> & ⋯ & <dbl> & <dbl> & <dbl> & <dbl> & <chr> & <fct> & <fct> & <fct> & <fct> & <POINT {[}°{]}>\\\\\n",
       "\\hline\n",
       "\t 4244.731 & 2015 & 2015-11-13 & F & L & 290000 & BN1 1AD & E06000043 & \\{288DCE29-0585-E510-E050-A8C06205480E\\} & 3268426 & ⋯ & 3 & 11 & 69 & 76 & England and Wales: before 1900 & 15-20\\_mins & 15-20\\_mins & 0-5\\_mins & 0-5\\_mins & POINT (-0.142167 50.82169)\\\\\n",
       "\t 2927.400 & 2003 & 2003-02-21 & F & L & 200000 & BN1 1AD & E06000043 & \\{8F424A5C-E6DD-492F-8827-7AF9523BB665\\} & 3268426 & ⋯ & 3 & 11 & 69 & 76 & England and Wales: before 1900 & 15-20\\_mins & 15-20\\_mins & 0-5\\_mins & 0-5\\_mins & POINT (-0.142167 50.82169)\\\\\n",
       "\t 3496.503 & 2013 & 2013-12-04 & F & L & 500000 & BN1 1AD & E06000043 & \\{AECCFEF8-D159-4688-B479-62C68F590D73\\} & 3279748 & ⋯ & 4 & 11 & 67 & 78 & England and Wales: 1930-1949   & 15-20\\_mins & 15-20\\_mins & 0-5\\_mins & 0-5\\_mins & POINT (-0.142167 50.82169)\\\\\n",
       "\t 3220.141 & 2006 & 2006-11-02 & F & L & 220000 & BN1 1AD & E06000043 & \\{4863D52D-C206-4176-9706-A19CDFA1678E\\} & 3268426 & ⋯ & 3 & 11 & 69 & 76 & England and Wales: before 1900 & 15-20\\_mins & 15-20\\_mins & 0-5\\_mins & 0-5\\_mins & POINT (-0.142167 50.82169)\\\\\n",
       "\t 1816.084 & 2004 & 2004-08-26 & F & L & 259700 & BN1 1AD & E06000043 & \\{DEC7C004-0B15-42DA-8620-A4D8B25855E5\\} & 3279748 & ⋯ & 4 & 11 & 67 & 78 & England and Wales: 1930-1949   & 15-20\\_mins & 15-20\\_mins & 0-5\\_mins & 0-5\\_mins & POINT (-0.142167 50.82169)\\\\\n",
       "\t 3146.853 & 2017 & 2017-03-31 & F & L & 450000 & BN1 1AD & E06000043 & \\{4E95D757-551D-EDA1-E050-A8C0630539E2\\} & 3328370 & ⋯ & 5 & 11 & 58 & 81 & England and Wales: before 1900 & 15-20\\_mins & 15-20\\_mins & 0-5\\_mins & 0-5\\_mins & POINT (-0.142167 50.82169)\\\\\n",
       "\\end{tabular}\n"
      ],
      "text/markdown": [
       "\n",
       "A tibble: 6 × 21\n",
       "\n",
       "| priceper &lt;dbl&gt; | year &lt;dbl&gt; | dateoftransfer &lt;date&gt; | propertytype &lt;chr&gt; | duration &lt;chr&gt; | price &lt;dbl&gt; | postcode &lt;chr&gt; | lad21cd &lt;chr&gt; | transactionid &lt;chr&gt; | id &lt;dbl&gt; | ⋯ ⋯ | numberrooms &lt;dbl&gt; | classt &lt;dbl&gt; | CURRENT_ENERGY_EFFICIENCY &lt;dbl&gt; | POTENTIAL_ENERGY_EFFICIENCY &lt;dbl&gt; | CONSTRUCTION_AGE_BAND &lt;chr&gt; | rail_walk_time &lt;fct&gt; | rail_bus_time &lt;fct&gt; | cc_walk_time &lt;fct&gt; | cc_bus_time &lt;fct&gt; | geometry &lt;POINT [°]&gt; |\n",
       "|---|---|---|---|---|---|---|---|---|---|---|---|---|---|---|---|---|---|---|---|---|\n",
       "| 4244.731 | 2015 | 2015-11-13 | F | L | 290000 | BN1 1AD | E06000043 | {288DCE29-0585-E510-E050-A8C06205480E} | 3268426 | ⋯ | 3 | 11 | 69 | 76 | England and Wales: before 1900 | 15-20_mins | 15-20_mins | 0-5_mins | 0-5_mins | POINT (-0.142167 50.82169) |\n",
       "| 2927.400 | 2003 | 2003-02-21 | F | L | 200000 | BN1 1AD | E06000043 | {8F424A5C-E6DD-492F-8827-7AF9523BB665} | 3268426 | ⋯ | 3 | 11 | 69 | 76 | England and Wales: before 1900 | 15-20_mins | 15-20_mins | 0-5_mins | 0-5_mins | POINT (-0.142167 50.82169) |\n",
       "| 3496.503 | 2013 | 2013-12-04 | F | L | 500000 | BN1 1AD | E06000043 | {AECCFEF8-D159-4688-B479-62C68F590D73} | 3279748 | ⋯ | 4 | 11 | 67 | 78 | England and Wales: 1930-1949   | 15-20_mins | 15-20_mins | 0-5_mins | 0-5_mins | POINT (-0.142167 50.82169) |\n",
       "| 3220.141 | 2006 | 2006-11-02 | F | L | 220000 | BN1 1AD | E06000043 | {4863D52D-C206-4176-9706-A19CDFA1678E} | 3268426 | ⋯ | 3 | 11 | 69 | 76 | England and Wales: before 1900 | 15-20_mins | 15-20_mins | 0-5_mins | 0-5_mins | POINT (-0.142167 50.82169) |\n",
       "| 1816.084 | 2004 | 2004-08-26 | F | L | 259700 | BN1 1AD | E06000043 | {DEC7C004-0B15-42DA-8620-A4D8B25855E5} | 3279748 | ⋯ | 4 | 11 | 67 | 78 | England and Wales: 1930-1949   | 15-20_mins | 15-20_mins | 0-5_mins | 0-5_mins | POINT (-0.142167 50.82169) |\n",
       "| 3146.853 | 2017 | 2017-03-31 | F | L | 450000 | BN1 1AD | E06000043 | {4E95D757-551D-EDA1-E050-A8C0630539E2} | 3328370 | ⋯ | 5 | 11 | 58 | 81 | England and Wales: before 1900 | 15-20_mins | 15-20_mins | 0-5_mins | 0-5_mins | POINT (-0.142167 50.82169) |\n",
       "\n"
      ],
      "text/plain": [
       "  priceper year dateoftransfer propertytype duration price  postcode lad21cd  \n",
       "1 4244.731 2015 2015-11-13     F            L        290000 BN1 1AD  E06000043\n",
       "2 2927.400 2003 2003-02-21     F            L        200000 BN1 1AD  E06000043\n",
       "3 3496.503 2013 2013-12-04     F            L        500000 BN1 1AD  E06000043\n",
       "4 3220.141 2006 2006-11-02     F            L        220000 BN1 1AD  E06000043\n",
       "5 1816.084 2004 2004-08-26     F            L        259700 BN1 1AD  E06000043\n",
       "6 3146.853 2017 2017-03-31     F            L        450000 BN1 1AD  E06000043\n",
       "  transactionid                          id      ⋯ numberrooms classt\n",
       "1 {288DCE29-0585-E510-E050-A8C06205480E} 3268426 ⋯ 3           11    \n",
       "2 {8F424A5C-E6DD-492F-8827-7AF9523BB665} 3268426 ⋯ 3           11    \n",
       "3 {AECCFEF8-D159-4688-B479-62C68F590D73} 3279748 ⋯ 4           11    \n",
       "4 {4863D52D-C206-4176-9706-A19CDFA1678E} 3268426 ⋯ 3           11    \n",
       "5 {DEC7C004-0B15-42DA-8620-A4D8B25855E5} 3279748 ⋯ 4           11    \n",
       "6 {4E95D757-551D-EDA1-E050-A8C0630539E2} 3328370 ⋯ 5           11    \n",
       "  CURRENT_ENERGY_EFFICIENCY POTENTIAL_ENERGY_EFFICIENCY\n",
       "1 69                        76                         \n",
       "2 69                        76                         \n",
       "3 67                        78                         \n",
       "4 69                        76                         \n",
       "5 67                        78                         \n",
       "6 58                        81                         \n",
       "  CONSTRUCTION_AGE_BAND          rail_walk_time rail_bus_time cc_walk_time\n",
       "1 England and Wales: before 1900 15-20_mins     15-20_mins    0-5_mins    \n",
       "2 England and Wales: before 1900 15-20_mins     15-20_mins    0-5_mins    \n",
       "3 England and Wales: 1930-1949   15-20_mins     15-20_mins    0-5_mins    \n",
       "4 England and Wales: before 1900 15-20_mins     15-20_mins    0-5_mins    \n",
       "5 England and Wales: 1930-1949   15-20_mins     15-20_mins    0-5_mins    \n",
       "6 England and Wales: before 1900 15-20_mins     15-20_mins    0-5_mins    \n",
       "  cc_bus_time geometry                  \n",
       "1 0-5_mins    POINT (-0.142167 50.82169)\n",
       "2 0-5_mins    POINT (-0.142167 50.82169)\n",
       "3 0-5_mins    POINT (-0.142167 50.82169)\n",
       "4 0-5_mins    POINT (-0.142167 50.82169)\n",
       "5 0-5_mins    POINT (-0.142167 50.82169)\n",
       "6 0-5_mins    POINT (-0.142167 50.82169)"
      ]
     },
     "metadata": {},
     "output_type": "display_data"
    }
   ],
   "source": [
    "#priceper_time <- left_join(priceper, geo_time_df, by=c(\"postcode\" = \"id\"))\n",
    "#head(priceper_time)"
   ]
  },
  {
   "cell_type": "code",
   "execution_count": 64,
   "id": "4cb77e2a",
   "metadata": {},
   "outputs": [
    {
     "data": {
      "text/html": [
       "114152"
      ],
      "text/latex": [
       "114152"
      ],
      "text/markdown": [
       "114152"
      ],
      "text/plain": [
       "[1] 114152"
      ]
     },
     "metadata": {},
     "output_type": "display_data"
    }
   ],
   "source": [
    "#nrow(priceper_time)"
   ]
  },
  {
   "cell_type": "code",
   "execution_count": 65,
   "id": "43113719",
   "metadata": {},
   "outputs": [
    {
     "data": {
      "text/html": [
       "114152"
      ],
      "text/latex": [
       "114152"
      ],
      "text/markdown": [
       "114152"
      ],
      "text/plain": [
       "[1] 114152"
      ]
     },
     "metadata": {},
     "output_type": "display_data"
    }
   ],
   "source": [
    "#nrow(priceper)"
   ]
  },
  {
   "cell_type": "code",
   "execution_count": 66,
   "id": "83ce51a3",
   "metadata": {},
   "outputs": [
    {
     "data": {
      "text/html": [
       "114152"
      ],
      "text/latex": [
       "114152"
      ],
      "text/markdown": [
       "114152"
      ],
      "text/plain": [
       "[1] 114152"
      ]
     },
     "metadata": {},
     "output_type": "display_data"
    }
   ],
   "source": [
    "# priceper_time <- priceper_time[, !(names(priceper_time) %in% c('geometry'))]\n",
    "# nrow(priceper_time)\n",
    "# save with write.csv(priceper_time, file = \"priceper_railcc.csv\", row.names = FALSE)\n"
   ]
  }
 ],
 "metadata": {
  "kernelspec": {
   "display_name": "Python 3 (ipykernel)",
   "language": "python",
   "name": "python3"
  },
  "language_info": {
   "codemirror_mode": {
    "name": "ipython",
    "version": 3
   },
   "file_extension": ".py",
   "mimetype": "text/x-python",
   "name": "python",
   "nbconvert_exporter": "python",
   "pygments_lexer": "ipython3",
   "version": "3.10.5"
  }
 },
 "nbformat": 4,
 "nbformat_minor": 5
}
