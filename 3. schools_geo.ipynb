{
 "cells": [
  {
   "cell_type": "markdown",
   "id": "e7fc42f3-aa28-44b0-afdd-5855b1c6e5a0",
   "metadata": {},
   "source": [
    "# Generating Proximity to good schools (R)"
   ]
  },
  {
   "cell_type": "code",
   "execution_count": 1,
   "id": "d83f626c",
   "metadata": {},
   "outputs": [
    {
     "name": "stderr",
     "output_type": "stream",
     "text": [
      "Linking to GEOS 3.11.2, GDAL 3.7.0, PROJ 9.2.0; sf_use_s2() is TRUE\n",
      "\n",
      "The legacy packages maptools, rgdal, and rgeos, underpinning this package\n",
      "will retire shortly. Please refer to R-spatial evolution reports on\n",
      "https://r-spatial.org/r/2023/05/15/evolution4.html for details.\n",
      "This package is now running under evolution status 0 \n",
      "\n",
      "\n",
      "Attaching package: ‘dplyr’\n",
      "\n",
      "\n",
      "The following objects are masked from ‘package:data.table’:\n",
      "\n",
      "    between, first, last\n",
      "\n",
      "\n",
      "The following objects are masked from ‘package:stats’:\n",
      "\n",
      "    filter, lag\n",
      "\n",
      "\n",
      "The following objects are masked from ‘package:base’:\n",
      "\n",
      "    intersect, setdiff, setequal, union\n",
      "\n",
      "\n",
      "Data (c) OpenStreetMap contributors, ODbL 1.0. https://www.openstreetmap.org/copyright\n",
      "\n"
     ]
    }
   ],
   "source": [
    "# Import libraries\n",
    "library(sf)\n",
    "library(data.table)\n",
    "library(ggplot2)\n",
    "library(tmap)\n",
    "library(tidygeocoder)\n",
    "library(leaflet)\n",
    "library(dplyr)\n",
    "library(osmdata)\n",
    "library(tmaptools)\n",
    "library(tidyr)\n",
    "library(readr)"
   ]
  },
  {
   "cell_type": "code",
   "execution_count": 2,
   "id": "4f04a374",
   "metadata": {},
   "outputs": [
    {
     "data": {
      "text/html": [
       "<style>\n",
       ".list-inline {list-style: none; margin:0; padding: 0}\n",
       ".list-inline>li {display: inline-block}\n",
       ".list-inline>li:not(:last-child)::after {content: \"\\00b7\"; padding: 0 .5ex}\n",
       "</style>\n",
       "<ol class=list-inline><li>'Brighton_and_Hove_link_13082022.csv'</li><li>'Brighton-DEM.tif'</li><li>'brightonhove_1667288932.zip'</li><li>'brightonhove.pbf'</li><li>'brightonhove.pbf.mapdb'</li><li>'brightonhove.pbf.mapdb.p'</li><li>'ks2_hist_df.csv'</li><li>'ks4_hist_df.csv'</li><li>'network_settings.json'</li><li>'network.dat'</li><li>'ONSPD_MAY_2023_UK_BN.csv'</li><li>'secschools_geo_both.csv'</li><li>'secschools_geo_bus.csv'</li><li>'secschools_geo_walk.csv'</li><li>'secschools_geocoded.dbf'</li><li>'secschools_geocoded.prj'</li><li>'secschools_geocoded.shp'</li><li>'secschools_geocoded.shx'</li><li>'shapefiles'</li></ol>\n"
      ],
      "text/latex": [
       "\\begin{enumerate*}\n",
       "\\item 'Brighton\\_and\\_Hove\\_link\\_13082022.csv'\n",
       "\\item 'Brighton-DEM.tif'\n",
       "\\item 'brightonhove\\_1667288932.zip'\n",
       "\\item 'brightonhove.pbf'\n",
       "\\item 'brightonhove.pbf.mapdb'\n",
       "\\item 'brightonhove.pbf.mapdb.p'\n",
       "\\item 'ks2\\_hist\\_df.csv'\n",
       "\\item 'ks4\\_hist\\_df.csv'\n",
       "\\item 'network\\_settings.json'\n",
       "\\item 'network.dat'\n",
       "\\item 'ONSPD\\_MAY\\_2023\\_UK\\_BN.csv'\n",
       "\\item 'secschools\\_geo\\_both.csv'\n",
       "\\item 'secschools\\_geo\\_bus.csv'\n",
       "\\item 'secschools\\_geo\\_walk.csv'\n",
       "\\item 'secschools\\_geocoded.dbf'\n",
       "\\item 'secschools\\_geocoded.prj'\n",
       "\\item 'secschools\\_geocoded.shp'\n",
       "\\item 'secschools\\_geocoded.shx'\n",
       "\\item 'shapefiles'\n",
       "\\end{enumerate*}\n"
      ],
      "text/markdown": [
       "1. 'Brighton_and_Hove_link_13082022.csv'\n",
       "2. 'Brighton-DEM.tif'\n",
       "3. 'brightonhove_1667288932.zip'\n",
       "4. 'brightonhove.pbf'\n",
       "5. 'brightonhove.pbf.mapdb'\n",
       "6. 'brightonhove.pbf.mapdb.p'\n",
       "7. 'ks2_hist_df.csv'\n",
       "8. 'ks4_hist_df.csv'\n",
       "9. 'network_settings.json'\n",
       "10. 'network.dat'\n",
       "11. 'ONSPD_MAY_2023_UK_BN.csv'\n",
       "12. 'secschools_geo_both.csv'\n",
       "13. 'secschools_geo_bus.csv'\n",
       "14. 'secschools_geo_walk.csv'\n",
       "15. 'secschools_geocoded.dbf'\n",
       "16. 'secschools_geocoded.prj'\n",
       "17. 'secschools_geocoded.shp'\n",
       "18. 'secschools_geocoded.shx'\n",
       "19. 'shapefiles'\n",
       "\n",
       "\n"
      ],
      "text/plain": [
       " [1] \"Brighton_and_Hove_link_13082022.csv\" \"Brighton-DEM.tif\"                   \n",
       " [3] \"brightonhove_1667288932.zip\"         \"brightonhove.pbf\"                   \n",
       " [5] \"brightonhove.pbf.mapdb\"              \"brightonhove.pbf.mapdb.p\"           \n",
       " [7] \"ks2_hist_df.csv\"                     \"ks4_hist_df.csv\"                    \n",
       " [9] \"network_settings.json\"               \"network.dat\"                        \n",
       "[11] \"ONSPD_MAY_2023_UK_BN.csv\"            \"secschools_geo_both.csv\"            \n",
       "[13] \"secschools_geo_bus.csv\"              \"secschools_geo_walk.csv\"            \n",
       "[15] \"secschools_geocoded.dbf\"             \"secschools_geocoded.prj\"            \n",
       "[17] \"secschools_geocoded.shp\"             \"secschools_geocoded.shx\"            \n",
       "[19] \"shapefiles\"                         "
      ]
     },
     "metadata": {},
     "output_type": "display_data"
    }
   ],
   "source": [
    "# Specify data directory\n",
    "data_path = \"data/schools_geo\"\n",
    "\n",
    "# Check what files we have\n",
    "list.files(data_path)"
   ]
  },
  {
   "cell_type": "markdown",
   "id": "6e4237f2",
   "metadata": {},
   "source": [
    "## Extract postcodes from Brighton and Hove link to run analysis on. "
   ]
  },
  {
   "cell_type": "code",
   "execution_count": 3,
   "id": "3034dc04",
   "metadata": {},
   "outputs": [
    {
     "name": "stderr",
     "output_type": "stream",
     "text": [
      "\u001b[1mRows: \u001b[22m\u001b[34m114152\u001b[39m \u001b[1mColumns: \u001b[22m\u001b[34m16\u001b[39m\n",
      "\u001b[36m──\u001b[39m \u001b[1mColumn specification\u001b[22m \u001b[36m────────────────────────────────────────────────────────────────────────────────────────────────\u001b[39m\n",
      "\u001b[1mDelimiter:\u001b[22m \",\"\n",
      "\u001b[31mchr\u001b[39m  (6): propertytype, duration, postcode, lad21cd, transactionid, CONSTRUC...\n",
      "\u001b[32mdbl\u001b[39m  (9): priceper, year, price, id, tfarea, numberrooms, classt, CURRENT_EN...\n",
      "\u001b[34mdate\u001b[39m (1): dateoftransfer\n",
      "\n",
      "\u001b[36mℹ\u001b[39m Use `spec()` to retrieve the full column specification for this data.\n",
      "\u001b[36mℹ\u001b[39m Specify the column types or set `show_col_types = FALSE` to quiet this message.\n"
     ]
    },
    {
     "data": {
      "text/html": [
       "<table class=\"dataframe\">\n",
       "<caption>A tibble: 6 × 16</caption>\n",
       "<thead>\n",
       "\t<tr><th scope=col>priceper</th><th scope=col>year</th><th scope=col>dateoftransfer</th><th scope=col>propertytype</th><th scope=col>duration</th><th scope=col>price</th><th scope=col>postcode</th><th scope=col>lad21cd</th><th scope=col>transactionid</th><th scope=col>id</th><th scope=col>tfarea</th><th scope=col>numberrooms</th><th scope=col>classt</th><th scope=col>CURRENT_ENERGY_EFFICIENCY</th><th scope=col>POTENTIAL_ENERGY_EFFICIENCY</th><th scope=col>CONSTRUCTION_AGE_BAND</th></tr>\n",
       "\t<tr><th scope=col>&lt;dbl&gt;</th><th scope=col>&lt;dbl&gt;</th><th scope=col>&lt;date&gt;</th><th scope=col>&lt;chr&gt;</th><th scope=col>&lt;chr&gt;</th><th scope=col>&lt;dbl&gt;</th><th scope=col>&lt;chr&gt;</th><th scope=col>&lt;chr&gt;</th><th scope=col>&lt;chr&gt;</th><th scope=col>&lt;dbl&gt;</th><th scope=col>&lt;dbl&gt;</th><th scope=col>&lt;dbl&gt;</th><th scope=col>&lt;dbl&gt;</th><th scope=col>&lt;dbl&gt;</th><th scope=col>&lt;dbl&gt;</th><th scope=col>&lt;chr&gt;</th></tr>\n",
       "</thead>\n",
       "<tbody>\n",
       "\t<tr><td>4244.731</td><td>2015</td><td>2015-11-13</td><td>F</td><td>L</td><td>290000</td><td>BN1 1AD</td><td>E06000043</td><td>{288DCE29-0585-E510-E050-A8C06205480E}</td><td>3268426</td><td> 68.32</td><td>3</td><td>11</td><td>69</td><td>76</td><td>England and Wales: before 1900</td></tr>\n",
       "\t<tr><td>2927.400</td><td>2003</td><td>2003-02-21</td><td>F</td><td>L</td><td>200000</td><td>BN1 1AD</td><td>E06000043</td><td>{8F424A5C-E6DD-492F-8827-7AF9523BB665}</td><td>3268426</td><td> 68.32</td><td>3</td><td>11</td><td>69</td><td>76</td><td>England and Wales: before 1900</td></tr>\n",
       "\t<tr><td>3496.503</td><td>2013</td><td>2013-12-04</td><td>F</td><td>L</td><td>500000</td><td>BN1 1AD</td><td>E06000043</td><td>{AECCFEF8-D159-4688-B479-62C68F590D73}</td><td>3279748</td><td>143.00</td><td>4</td><td>11</td><td>67</td><td>78</td><td>England and Wales: 1930-1949  </td></tr>\n",
       "\t<tr><td>3220.141</td><td>2006</td><td>2006-11-02</td><td>F</td><td>L</td><td>220000</td><td>BN1 1AD</td><td>E06000043</td><td>{4863D52D-C206-4176-9706-A19CDFA1678E}</td><td>3268426</td><td> 68.32</td><td>3</td><td>11</td><td>69</td><td>76</td><td>England and Wales: before 1900</td></tr>\n",
       "\t<tr><td>1816.084</td><td>2004</td><td>2004-08-26</td><td>F</td><td>L</td><td>259700</td><td>BN1 1AD</td><td>E06000043</td><td>{DEC7C004-0B15-42DA-8620-A4D8B25855E5}</td><td>3279748</td><td>143.00</td><td>4</td><td>11</td><td>67</td><td>78</td><td>England and Wales: 1930-1949  </td></tr>\n",
       "\t<tr><td>3146.853</td><td>2017</td><td>2017-03-31</td><td>F</td><td>L</td><td>450000</td><td>BN1 1AD</td><td>E06000043</td><td>{4E95D757-551D-EDA1-E050-A8C0630539E2}</td><td>3328370</td><td>143.00</td><td>5</td><td>11</td><td>58</td><td>81</td><td>England and Wales: before 1900</td></tr>\n",
       "</tbody>\n",
       "</table>\n"
      ],
      "text/latex": [
       "A tibble: 6 × 16\n",
       "\\begin{tabular}{llllllllllllllll}\n",
       " priceper & year & dateoftransfer & propertytype & duration & price & postcode & lad21cd & transactionid & id & tfarea & numberrooms & classt & CURRENT\\_ENERGY\\_EFFICIENCY & POTENTIAL\\_ENERGY\\_EFFICIENCY & CONSTRUCTION\\_AGE\\_BAND\\\\\n",
       " <dbl> & <dbl> & <date> & <chr> & <chr> & <dbl> & <chr> & <chr> & <chr> & <dbl> & <dbl> & <dbl> & <dbl> & <dbl> & <dbl> & <chr>\\\\\n",
       "\\hline\n",
       "\t 4244.731 & 2015 & 2015-11-13 & F & L & 290000 & BN1 1AD & E06000043 & \\{288DCE29-0585-E510-E050-A8C06205480E\\} & 3268426 &  68.32 & 3 & 11 & 69 & 76 & England and Wales: before 1900\\\\\n",
       "\t 2927.400 & 2003 & 2003-02-21 & F & L & 200000 & BN1 1AD & E06000043 & \\{8F424A5C-E6DD-492F-8827-7AF9523BB665\\} & 3268426 &  68.32 & 3 & 11 & 69 & 76 & England and Wales: before 1900\\\\\n",
       "\t 3496.503 & 2013 & 2013-12-04 & F & L & 500000 & BN1 1AD & E06000043 & \\{AECCFEF8-D159-4688-B479-62C68F590D73\\} & 3279748 & 143.00 & 4 & 11 & 67 & 78 & England and Wales: 1930-1949  \\\\\n",
       "\t 3220.141 & 2006 & 2006-11-02 & F & L & 220000 & BN1 1AD & E06000043 & \\{4863D52D-C206-4176-9706-A19CDFA1678E\\} & 3268426 &  68.32 & 3 & 11 & 69 & 76 & England and Wales: before 1900\\\\\n",
       "\t 1816.084 & 2004 & 2004-08-26 & F & L & 259700 & BN1 1AD & E06000043 & \\{DEC7C004-0B15-42DA-8620-A4D8B25855E5\\} & 3279748 & 143.00 & 4 & 11 & 67 & 78 & England and Wales: 1930-1949  \\\\\n",
       "\t 3146.853 & 2017 & 2017-03-31 & F & L & 450000 & BN1 1AD & E06000043 & \\{4E95D757-551D-EDA1-E050-A8C0630539E2\\} & 3328370 & 143.00 & 5 & 11 & 58 & 81 & England and Wales: before 1900\\\\\n",
       "\\end{tabular}\n"
      ],
      "text/markdown": [
       "\n",
       "A tibble: 6 × 16\n",
       "\n",
       "| priceper &lt;dbl&gt; | year &lt;dbl&gt; | dateoftransfer &lt;date&gt; | propertytype &lt;chr&gt; | duration &lt;chr&gt; | price &lt;dbl&gt; | postcode &lt;chr&gt; | lad21cd &lt;chr&gt; | transactionid &lt;chr&gt; | id &lt;dbl&gt; | tfarea &lt;dbl&gt; | numberrooms &lt;dbl&gt; | classt &lt;dbl&gt; | CURRENT_ENERGY_EFFICIENCY &lt;dbl&gt; | POTENTIAL_ENERGY_EFFICIENCY &lt;dbl&gt; | CONSTRUCTION_AGE_BAND &lt;chr&gt; |\n",
       "|---|---|---|---|---|---|---|---|---|---|---|---|---|---|---|---|\n",
       "| 4244.731 | 2015 | 2015-11-13 | F | L | 290000 | BN1 1AD | E06000043 | {288DCE29-0585-E510-E050-A8C06205480E} | 3268426 |  68.32 | 3 | 11 | 69 | 76 | England and Wales: before 1900 |\n",
       "| 2927.400 | 2003 | 2003-02-21 | F | L | 200000 | BN1 1AD | E06000043 | {8F424A5C-E6DD-492F-8827-7AF9523BB665} | 3268426 |  68.32 | 3 | 11 | 69 | 76 | England and Wales: before 1900 |\n",
       "| 3496.503 | 2013 | 2013-12-04 | F | L | 500000 | BN1 1AD | E06000043 | {AECCFEF8-D159-4688-B479-62C68F590D73} | 3279748 | 143.00 | 4 | 11 | 67 | 78 | England and Wales: 1930-1949   |\n",
       "| 3220.141 | 2006 | 2006-11-02 | F | L | 220000 | BN1 1AD | E06000043 | {4863D52D-C206-4176-9706-A19CDFA1678E} | 3268426 |  68.32 | 3 | 11 | 69 | 76 | England and Wales: before 1900 |\n",
       "| 1816.084 | 2004 | 2004-08-26 | F | L | 259700 | BN1 1AD | E06000043 | {DEC7C004-0B15-42DA-8620-A4D8B25855E5} | 3279748 | 143.00 | 4 | 11 | 67 | 78 | England and Wales: 1930-1949   |\n",
       "| 3146.853 | 2017 | 2017-03-31 | F | L | 450000 | BN1 1AD | E06000043 | {4E95D757-551D-EDA1-E050-A8C0630539E2} | 3328370 | 143.00 | 5 | 11 | 58 | 81 | England and Wales: before 1900 |\n",
       "\n"
      ],
      "text/plain": [
       "  priceper year dateoftransfer propertytype duration price  postcode lad21cd  \n",
       "1 4244.731 2015 2015-11-13     F            L        290000 BN1 1AD  E06000043\n",
       "2 2927.400 2003 2003-02-21     F            L        200000 BN1 1AD  E06000043\n",
       "3 3496.503 2013 2013-12-04     F            L        500000 BN1 1AD  E06000043\n",
       "4 3220.141 2006 2006-11-02     F            L        220000 BN1 1AD  E06000043\n",
       "5 1816.084 2004 2004-08-26     F            L        259700 BN1 1AD  E06000043\n",
       "6 3146.853 2017 2017-03-31     F            L        450000 BN1 1AD  E06000043\n",
       "  transactionid                          id      tfarea numberrooms classt\n",
       "1 {288DCE29-0585-E510-E050-A8C06205480E} 3268426  68.32 3           11    \n",
       "2 {8F424A5C-E6DD-492F-8827-7AF9523BB665} 3268426  68.32 3           11    \n",
       "3 {AECCFEF8-D159-4688-B479-62C68F590D73} 3279748 143.00 4           11    \n",
       "4 {4863D52D-C206-4176-9706-A19CDFA1678E} 3268426  68.32 3           11    \n",
       "5 {DEC7C004-0B15-42DA-8620-A4D8B25855E5} 3279748 143.00 4           11    \n",
       "6 {4E95D757-551D-EDA1-E050-A8C0630539E2} 3328370 143.00 5           11    \n",
       "  CURRENT_ENERGY_EFFICIENCY POTENTIAL_ENERGY_EFFICIENCY\n",
       "1 69                        76                         \n",
       "2 69                        76                         \n",
       "3 67                        78                         \n",
       "4 69                        76                         \n",
       "5 67                        78                         \n",
       "6 58                        81                         \n",
       "  CONSTRUCTION_AGE_BAND         \n",
       "1 England and Wales: before 1900\n",
       "2 England and Wales: before 1900\n",
       "3 England and Wales: 1930-1949  \n",
       "4 England and Wales: before 1900\n",
       "5 England and Wales: 1930-1949  \n",
       "6 England and Wales: before 1900"
      ]
     },
     "metadata": {},
     "output_type": "display_data"
    }
   ],
   "source": [
    "## Load priceper postcodes\n",
    "priceper = read_csv(\"schools_geo/Brighton_and_Hove_link_13082022.csv\")\n",
    "head(priceper)"
   ]
  },
  {
   "cell_type": "code",
   "execution_count": 4,
   "id": "5cde89c1",
   "metadata": {},
   "outputs": [],
   "source": [
    "unique_postcodes <- unique(priceper$postcode)"
   ]
  },
  {
   "cell_type": "code",
   "execution_count": 5,
   "id": "8e94c830",
   "metadata": {},
   "outputs": [
    {
     "data": {
      "text/html": [
       "<table class=\"dataframe\">\n",
       "<caption>A data.frame: 6 × 1</caption>\n",
       "<thead>\n",
       "\t<tr><th></th><th scope=col>postcode</th></tr>\n",
       "\t<tr><th></th><th scope=col>&lt;chr&gt;</th></tr>\n",
       "</thead>\n",
       "<tbody>\n",
       "\t<tr><th scope=row>1</th><td>BN1 1AD</td></tr>\n",
       "\t<tr><th scope=row>2</th><td>BN1 1AJ</td></tr>\n",
       "\t<tr><th scope=row>3</th><td>BN1 1AL</td></tr>\n",
       "\t<tr><th scope=row>4</th><td>BN1 1AN</td></tr>\n",
       "\t<tr><th scope=row>5</th><td>BN1 1AP</td></tr>\n",
       "\t<tr><th scope=row>6</th><td>BN1 1BG</td></tr>\n",
       "</tbody>\n",
       "</table>\n"
      ],
      "text/latex": [
       "A data.frame: 6 × 1\n",
       "\\begin{tabular}{r|l}\n",
       "  & postcode\\\\\n",
       "  & <chr>\\\\\n",
       "\\hline\n",
       "\t1 & BN1 1AD\\\\\n",
       "\t2 & BN1 1AJ\\\\\n",
       "\t3 & BN1 1AL\\\\\n",
       "\t4 & BN1 1AN\\\\\n",
       "\t5 & BN1 1AP\\\\\n",
       "\t6 & BN1 1BG\\\\\n",
       "\\end{tabular}\n"
      ],
      "text/markdown": [
       "\n",
       "A data.frame: 6 × 1\n",
       "\n",
       "| <!--/--> | postcode &lt;chr&gt; |\n",
       "|---|---|\n",
       "| 1 | BN1 1AD |\n",
       "| 2 | BN1 1AJ |\n",
       "| 3 | BN1 1AL |\n",
       "| 4 | BN1 1AN |\n",
       "| 5 | BN1 1AP |\n",
       "| 6 | BN1 1BG |\n",
       "\n"
      ],
      "text/plain": [
       "  postcode\n",
       "1 BN1 1AD \n",
       "2 BN1 1AJ \n",
       "3 BN1 1AL \n",
       "4 BN1 1AN \n",
       "5 BN1 1AP \n",
       "6 BN1 1BG "
      ]
     },
     "metadata": {},
     "output_type": "display_data"
    }
   ],
   "source": [
    "postcode_dir <- data.frame(postcode = unique_postcodes)\n",
    "head(postcode_dir)"
   ]
  },
  {
   "cell_type": "code",
   "execution_count": 6,
   "id": "665a6e3d",
   "metadata": {},
   "outputs": [
    {
     "data": {
      "text/html": [
       "3902"
      ],
      "text/latex": [
       "3902"
      ],
      "text/markdown": [
       "3902"
      ],
      "text/plain": [
       "[1] 3902"
      ]
     },
     "metadata": {},
     "output_type": "display_data"
    }
   ],
   "source": [
    "nrow(postcode_dir)"
   ]
  },
  {
   "cell_type": "code",
   "execution_count": 7,
   "id": "60eb27f4",
   "metadata": {},
   "outputs": [
    {
     "name": "stderr",
     "output_type": "stream",
     "text": [
      "\u001b[1mRows: \u001b[22m\u001b[34m35547\u001b[39m \u001b[1mColumns: \u001b[22m\u001b[34m53\u001b[39m\n",
      "\u001b[36m──\u001b[39m \u001b[1mColumn specification\u001b[22m \u001b[36m────────────────────────────────────────────────────────────────────────────────────────────────\u001b[39m\n",
      "\u001b[1mDelimiter:\u001b[22m \",\"\n",
      "\u001b[31mchr\u001b[39m (42): pcd, pcd2, pcds, oscty, ced, oslaua, osward, parish, osnrth1m, osh...\n",
      "\u001b[32mdbl\u001b[39m (10): dointr, doterm, usertype, oseast1m, osgrdind, streg, ur01ind, lat,...\n",
      "\u001b[33mlgl\u001b[39m  (1): lep2\n",
      "\n",
      "\u001b[36mℹ\u001b[39m Use `spec()` to retrieve the full column specification for this data.\n",
      "\u001b[36mℹ\u001b[39m Specify the column types or set `show_col_types = FALSE` to quiet this message.\n"
     ]
    }
   ],
   "source": [
    "postcode_ref = read_csv(\"schools_geo/ONSPD_MAY_2023_UK_BN.csv\")"
   ]
  },
  {
   "cell_type": "code",
   "execution_count": 8,
   "id": "05effd5a",
   "metadata": {},
   "outputs": [
    {
     "data": {
      "text/html": [
       "<table class=\"dataframe\">\n",
       "<caption>A tibble: 6 × 3</caption>\n",
       "<thead>\n",
       "\t<tr><th scope=col>pcds</th><th scope=col>lat</th><th scope=col>long</th></tr>\n",
       "\t<tr><th scope=col>&lt;chr&gt;</th><th scope=col>&lt;dbl&gt;</th><th scope=col>&lt;dbl&gt;</th></tr>\n",
       "</thead>\n",
       "<tbody>\n",
       "\t<tr><td>BN1 1AA</td><td>50.82633</td><td>-0.140818</td></tr>\n",
       "\t<tr><td>BN1 1AB</td><td>50.82296</td><td>-0.141790</td></tr>\n",
       "\t<tr><td>BN1 1AD</td><td>50.82169</td><td>-0.142167</td></tr>\n",
       "\t<tr><td>BN1 1AE</td><td>50.82138</td><td>-0.141753</td></tr>\n",
       "\t<tr><td>BN1 1AF</td><td>50.82248</td><td>-0.141426</td></tr>\n",
       "\t<tr><td>BN1 1AG</td><td>50.82292</td><td>-0.142871</td></tr>\n",
       "</tbody>\n",
       "</table>\n"
      ],
      "text/latex": [
       "A tibble: 6 × 3\n",
       "\\begin{tabular}{lll}\n",
       " pcds & lat & long\\\\\n",
       " <chr> & <dbl> & <dbl>\\\\\n",
       "\\hline\n",
       "\t BN1 1AA & 50.82633 & -0.140818\\\\\n",
       "\t BN1 1AB & 50.82296 & -0.141790\\\\\n",
       "\t BN1 1AD & 50.82169 & -0.142167\\\\\n",
       "\t BN1 1AE & 50.82138 & -0.141753\\\\\n",
       "\t BN1 1AF & 50.82248 & -0.141426\\\\\n",
       "\t BN1 1AG & 50.82292 & -0.142871\\\\\n",
       "\\end{tabular}\n"
      ],
      "text/markdown": [
       "\n",
       "A tibble: 6 × 3\n",
       "\n",
       "| pcds &lt;chr&gt; | lat &lt;dbl&gt; | long &lt;dbl&gt; |\n",
       "|---|---|---|\n",
       "| BN1 1AA | 50.82633 | -0.140818 |\n",
       "| BN1 1AB | 50.82296 | -0.141790 |\n",
       "| BN1 1AD | 50.82169 | -0.142167 |\n",
       "| BN1 1AE | 50.82138 | -0.141753 |\n",
       "| BN1 1AF | 50.82248 | -0.141426 |\n",
       "| BN1 1AG | 50.82292 | -0.142871 |\n",
       "\n"
      ],
      "text/plain": [
       "  pcds    lat      long     \n",
       "1 BN1 1AA 50.82633 -0.140818\n",
       "2 BN1 1AB 50.82296 -0.141790\n",
       "3 BN1 1AD 50.82169 -0.142167\n",
       "4 BN1 1AE 50.82138 -0.141753\n",
       "5 BN1 1AF 50.82248 -0.141426\n",
       "6 BN1 1AG 50.82292 -0.142871"
      ]
     },
     "metadata": {},
     "output_type": "display_data"
    }
   ],
   "source": [
    "# Load postcode data\n",
    "keep <- c(\"pcds\", \"lat\", \"long\")\n",
    "postcode_df = postcode_ref[keep]\n",
    "head(postcode_df)"
   ]
  },
  {
   "cell_type": "code",
   "execution_count": 9,
   "id": "6ea9ecfe",
   "metadata": {},
   "outputs": [],
   "source": [
    "## left join postcode_df to unique_postcodes \n",
    "brighton_postcodes <- left_join(postcode_dir, postcode_df, by=c(\"postcode\" = \"pcds\"))"
   ]
  },
  {
   "cell_type": "code",
   "execution_count": 10,
   "id": "2e0f65ef",
   "metadata": {},
   "outputs": [
    {
     "data": {
      "text/html": [
       "3902"
      ],
      "text/latex": [
       "3902"
      ],
      "text/markdown": [
       "3902"
      ],
      "text/plain": [
       "[1] 3902"
      ]
     },
     "metadata": {},
     "output_type": "display_data"
    }
   ],
   "source": [
    "nrow(brighton_postcodes)"
   ]
  },
  {
   "cell_type": "code",
   "execution_count": 11,
   "id": "fbaf67c9",
   "metadata": {},
   "outputs": [],
   "source": [
    "brighton_houses <- brighton_postcodes%>%\n",
    "  #remove NAs or 0\n",
    "  filter(long != 0 )%>%\n",
    "  filter(lat != 0)%>%\n",
    "  st_as_sf(., coords = c(\"long\",\"lat\"), \n",
    "                   crs = 4326)"
   ]
  },
  {
   "cell_type": "code",
   "execution_count": 12,
   "id": "f7de6951",
   "metadata": {},
   "outputs": [],
   "source": [
    "names(brighton_houses)[names(brighton_houses) == \"postcode\"] <- \"id\""
   ]
  },
  {
   "cell_type": "code",
   "execution_count": 13,
   "id": "3de060de",
   "metadata": {},
   "outputs": [
    {
     "name": "stderr",
     "output_type": "stream",
     "text": [
      "Registered S3 method overwritten by 'geojsonsf':\n",
      "  method        from   \n",
      "  print.geojson geojson\n",
      "\n"
     ]
    },
    {
     "data": {
      "application/geo+json": {
       "features": [
        {
         "geometry": {
          "coordinates": [
           -0.1422,
           50.8217
          ],
          "type": "Point"
         },
         "properties": {
          "id": "BN1 1AD"
         },
         "type": "Feature"
        },
        {
         "geometry": {
          "coordinates": [
           -0.1426,
           50.8215
          ],
          "type": "Point"
         },
         "properties": {
          "id": "BN1 1AJ"
         },
         "type": "Feature"
        },
        {
         "geometry": {
          "coordinates": [
           -0.143,
           50.8214
          ],
          "type": "Point"
         },
         "properties": {
          "id": "BN1 1AL"
         },
         "type": "Feature"
        },
        {
         "geometry": {
          "coordinates": [
           -0.1435,
           50.8221
          ],
          "type": "Point"
         },
         "properties": {
          "id": "BN1 1AN"
         },
         "type": "Feature"
        },
        {
         "geometry": {
          "coordinates": [
           -0.1437,
           50.8208
          ],
          "type": "Point"
         },
         "properties": {
          "id": "BN1 1AP"
         },
         "type": "Feature"
        },
        {
         "geometry": {
          "coordinates": [
           -0.1421,
           50.8223
          ],
          "type": "Point"
         },
         "properties": {
          "id": "BN1 1BG"
         },
         "type": "Feature"
        }
       ],
       "type": "FeatureCollection"
      },
      "text/html": [
       "<table class=\"dataframe\">\n",
       "<caption>A sf: 6 × 2</caption>\n",
       "<thead>\n",
       "\t<tr><th></th><th scope=col>id</th><th scope=col>geometry</th></tr>\n",
       "\t<tr><th></th><th scope=col>&lt;chr&gt;</th><th scope=col>&lt;POINT [°]&gt;</th></tr>\n",
       "</thead>\n",
       "<tbody>\n",
       "\t<tr><th scope=row>1</th><td>BN1 1AD</td><td>POINT (-0.142167 50.82169)</td></tr>\n",
       "\t<tr><th scope=row>2</th><td>BN1 1AJ</td><td>POINT (-0.14256 50.82145)</td></tr>\n",
       "\t<tr><th scope=row>3</th><td>BN1 1AL</td><td>POINT (-0.142961 50.82136)</td></tr>\n",
       "\t<tr><th scope=row>4</th><td>BN1 1AN</td><td>POINT (-0.1435 50.82209)</td></tr>\n",
       "\t<tr><th scope=row>5</th><td>BN1 1AP</td><td>POINT (-0.143707 50.8208)</td></tr>\n",
       "\t<tr><th scope=row>6</th><td>BN1 1BG</td><td>POINT (-0.1421 50.82231)</td></tr>\n",
       "</tbody>\n",
       "</table>\n"
      ],
      "text/latex": [
       "A sf: 6 × 2\n",
       "\\begin{tabular}{r|ll}\n",
       "  & id & geometry\\\\\n",
       "  & <chr> & <POINT {[}°{]}>\\\\\n",
       "\\hline\n",
       "\t1 & BN1 1AD & POINT (-0.142167 50.82169)\\\\\n",
       "\t2 & BN1 1AJ & POINT (-0.14256 50.82145)\\\\\n",
       "\t3 & BN1 1AL & POINT (-0.142961 50.82136)\\\\\n",
       "\t4 & BN1 1AN & POINT (-0.1435 50.82209)\\\\\n",
       "\t5 & BN1 1AP & POINT (-0.143707 50.8208)\\\\\n",
       "\t6 & BN1 1BG & POINT (-0.1421 50.82231)\\\\\n",
       "\\end{tabular}\n"
      ],
      "text/markdown": [
       "\n",
       "A sf: 6 × 2\n",
       "\n",
       "| <!--/--> | id &lt;chr&gt; | geometry &lt;POINT [°]&gt; |\n",
       "|---|---|---|\n",
       "| 1 | BN1 1AD | POINT (-0.142167 50.82169) |\n",
       "| 2 | BN1 1AJ | POINT (-0.14256 50.82145) |\n",
       "| 3 | BN1 1AL | POINT (-0.142961 50.82136) |\n",
       "| 4 | BN1 1AN | POINT (-0.1435 50.82209) |\n",
       "| 5 | BN1 1AP | POINT (-0.143707 50.8208) |\n",
       "| 6 | BN1 1BG | POINT (-0.1421 50.82231) |\n",
       "\n"
      ],
      "text/plain": [
       "  id      geometry                  \n",
       "1 BN1 1AD POINT (-0.142167 50.82169)\n",
       "2 BN1 1AJ POINT (-0.14256 50.82145) \n",
       "3 BN1 1AL POINT (-0.142961 50.82136)\n",
       "4 BN1 1AN POINT (-0.1435 50.82209)  \n",
       "5 BN1 1AP POINT (-0.143707 50.8208) \n",
       "6 BN1 1BG POINT (-0.1421 50.82231)  "
      ]
     },
     "metadata": {},
     "output_type": "display_data"
    }
   ],
   "source": [
    "head(brighton_houses)"
   ]
  },
  {
   "cell_type": "code",
   "execution_count": 14,
   "id": "b558b25c",
   "metadata": {},
   "outputs": [
    {
     "data": {
      "image/png": "[encoded data removed]",
      "text/plain": [
       "plot without title"
      ]
     },
     "metadata": {
      "image/png": {
       "height": 420,
       "width": 420
      }
     },
     "output_type": "display_data"
    }
   ],
   "source": [
    "tm_shape(brighton_houses) + tm_symbols(size=1, col=\"red\", border.lwd=0, alpha=0.5)"
   ]
  },
  {
   "cell_type": "markdown",
   "id": "889dd8c7",
   "metadata": {},
   "source": [
    "### Sec schools data"
   ]
  },
  {
   "cell_type": "code",
   "execution_count": 14,
   "id": "cec486d6",
   "metadata": {},
   "outputs": [
    {
     "name": "stderr",
     "output_type": "stream",
     "text": [
      "\u001b[1mRows: \u001b[22m\u001b[34m10\u001b[39m \u001b[1mColumns: \u001b[22m\u001b[34m23\u001b[39m\n",
      "\u001b[36m──\u001b[39m \u001b[1mColumn specification\u001b[22m \u001b[36m────────────────────────────────────────────────────────────────────────────────────────────────\u001b[39m\n",
      "\u001b[1mDelimiter:\u001b[22m \",\"\n",
      "\u001b[31mchr\u001b[39m (22): School name, School postcode, 2000, 2001, 2002, 2003, 2004, 2005, ...\n",
      "\u001b[32mdbl\u001b[39m  (1): LAESTAB\n",
      "\n",
      "\u001b[36mℹ\u001b[39m Use `spec()` to retrieve the full column specification for this data.\n",
      "\u001b[36mℹ\u001b[39m Specify the column types or set `show_col_types = FALSE` to quiet this message.\n"
     ]
    },
    {
     "data": {
      "text/html": [
       "<table class=\"dataframe\">\n",
       "<caption>A tibble: 6 × 23</caption>\n",
       "<thead>\n",
       "\t<tr><th scope=col>LAESTAB</th><th scope=col>School name</th><th scope=col>School postcode</th><th scope=col>2000</th><th scope=col>2001</th><th scope=col>2002</th><th scope=col>2003</th><th scope=col>2004</th><th scope=col>2005</th><th scope=col>2006</th><th scope=col>⋯</th><th scope=col>2010</th><th scope=col>2011</th><th scope=col>2012</th><th scope=col>2013</th><th scope=col>2014</th><th scope=col>2015</th><th scope=col>2016</th><th scope=col>2017</th><th scope=col>2018</th><th scope=col>2019</th></tr>\n",
       "\t<tr><th scope=col>&lt;dbl&gt;</th><th scope=col>&lt;chr&gt;</th><th scope=col>&lt;chr&gt;</th><th scope=col>&lt;chr&gt;</th><th scope=col>&lt;chr&gt;</th><th scope=col>&lt;chr&gt;</th><th scope=col>&lt;chr&gt;</th><th scope=col>&lt;chr&gt;</th><th scope=col>&lt;chr&gt;</th><th scope=col>&lt;chr&gt;</th><th scope=col>⋯</th><th scope=col>&lt;chr&gt;</th><th scope=col>&lt;chr&gt;</th><th scope=col>&lt;chr&gt;</th><th scope=col>&lt;chr&gt;</th><th scope=col>&lt;chr&gt;</th><th scope=col>&lt;chr&gt;</th><th scope=col>&lt;chr&gt;</th><th scope=col>&lt;chr&gt;</th><th scope=col>&lt;chr&gt;</th><th scope=col>&lt;chr&gt;</th></tr>\n",
       "</thead>\n",
       "<tbody>\n",
       "\t<tr><td>8464605</td><td>Cardinal Newman Catholic School       </td><td>BN3 6ND</td><td>Outstanding</td><td>Outstanding</td><td>Outstanding</td><td>Outstanding</td><td>Outstanding</td><td>Good       </td><td>Outstanding</td><td>⋯</td><td>Outstanding</td><td>Outstanding</td><td>Outstanding</td><td>Outstanding</td><td>Outstanding</td><td>Outstanding</td><td>Outstanding</td><td>Outstanding</td><td>Outstanding</td><td>Outstanding</td></tr>\n",
       "\t<tr><td>8464012</td><td>Varndean School                       </td><td>BN1 6NP</td><td>Outstanding</td><td>Good       </td><td>Outstanding</td><td>Good       </td><td>Outstanding</td><td>Outstanding</td><td>Outstanding</td><td>⋯</td><td>Good       </td><td>Outstanding</td><td>Good       </td><td>Good       </td><td>Good       </td><td>Good       </td><td>Good       </td><td>Good       </td><td>Outstanding</td><td>Good       </td></tr>\n",
       "\t<tr><td>8464016</td><td>Dorothy Stringer School               </td><td>BN1 6PZ</td><td>Outstanding</td><td>Outstanding</td><td>Outstanding</td><td>Good       </td><td>Outstanding</td><td>Outstanding</td><td>Outstanding</td><td>⋯</td><td>Outstanding</td><td>Outstanding</td><td>Outstanding</td><td>Outstanding</td><td>Outstanding</td><td>Outstanding</td><td>Outstanding</td><td>Outstanding</td><td>Outstanding</td><td>Outstanding</td></tr>\n",
       "\t<tr><td>8464018</td><td>Longhill High School                  </td><td>BN2 7FR</td><td>Good       </td><td>Outstanding</td><td>Good       </td><td>Good       </td><td>Good       </td><td>Good       </td><td>Good       </td><td>⋯</td><td>Good       </td><td>Poor       </td><td>Poor       </td><td>Poor       </td><td>Good       </td><td>Poor       </td><td>Poor       </td><td>Poor       </td><td>Poor       </td><td>Poor       </td></tr>\n",
       "\t<tr><td>8464067</td><td>Blatchington Mill School              </td><td>BN3 7BW</td><td>Good       </td><td>Good       </td><td>Good       </td><td>Outstanding</td><td>Good       </td><td>Outstanding</td><td>Good       </td><td>⋯</td><td>Outstanding</td><td>Outstanding</td><td>Outstanding</td><td>Outstanding</td><td>Outstanding</td><td>Outstanding</td><td>Outstanding</td><td>Outstanding</td><td>Good       </td><td>Outstanding</td></tr>\n",
       "\t<tr><td>8464068</td><td>Hove Park School and Sixth Form Centre</td><td>BN3 7BN</td><td>Good       </td><td>Good       </td><td>Good       </td><td>Poor       </td><td>Poor       </td><td>Poor       </td><td>Poor       </td><td>⋯</td><td>Good       </td><td>Good       </td><td>Good       </td><td>Good       </td><td>Good       </td><td>Good       </td><td>Good       </td><td>Good       </td><td>Good       </td><td>Good       </td></tr>\n",
       "</tbody>\n",
       "</table>\n"
      ],
      "text/latex": [
       "A tibble: 6 × 23\n",
       "\\begin{tabular}{lllllllllllllllllllll}\n",
       " LAESTAB & School name & School postcode & 2000 & 2001 & 2002 & 2003 & 2004 & 2005 & 2006 & ⋯ & 2010 & 2011 & 2012 & 2013 & 2014 & 2015 & 2016 & 2017 & 2018 & 2019\\\\\n",
       " <dbl> & <chr> & <chr> & <chr> & <chr> & <chr> & <chr> & <chr> & <chr> & <chr> & ⋯ & <chr> & <chr> & <chr> & <chr> & <chr> & <chr> & <chr> & <chr> & <chr> & <chr>\\\\\n",
       "\\hline\n",
       "\t 8464605 & Cardinal Newman Catholic School        & BN3 6ND & Outstanding & Outstanding & Outstanding & Outstanding & Outstanding & Good        & Outstanding & ⋯ & Outstanding & Outstanding & Outstanding & Outstanding & Outstanding & Outstanding & Outstanding & Outstanding & Outstanding & Outstanding\\\\\n",
       "\t 8464012 & Varndean School                        & BN1 6NP & Outstanding & Good        & Outstanding & Good        & Outstanding & Outstanding & Outstanding & ⋯ & Good        & Outstanding & Good        & Good        & Good        & Good        & Good        & Good        & Outstanding & Good       \\\\\n",
       "\t 8464016 & Dorothy Stringer School                & BN1 6PZ & Outstanding & Outstanding & Outstanding & Good        & Outstanding & Outstanding & Outstanding & ⋯ & Outstanding & Outstanding & Outstanding & Outstanding & Outstanding & Outstanding & Outstanding & Outstanding & Outstanding & Outstanding\\\\\n",
       "\t 8464018 & Longhill High School                   & BN2 7FR & Good        & Outstanding & Good        & Good        & Good        & Good        & Good        & ⋯ & Good        & Poor        & Poor        & Poor        & Good        & Poor        & Poor        & Poor        & Poor        & Poor       \\\\\n",
       "\t 8464067 & Blatchington Mill School               & BN3 7BW & Good        & Good        & Good        & Outstanding & Good        & Outstanding & Good        & ⋯ & Outstanding & Outstanding & Outstanding & Outstanding & Outstanding & Outstanding & Outstanding & Outstanding & Good        & Outstanding\\\\\n",
       "\t 8464068 & Hove Park School and Sixth Form Centre & BN3 7BN & Good        & Good        & Good        & Poor        & Poor        & Poor        & Poor        & ⋯ & Good        & Good        & Good        & Good        & Good        & Good        & Good        & Good        & Good        & Good       \\\\\n",
       "\\end{tabular}\n"
      ],
      "text/markdown": [
       "\n",
       "A tibble: 6 × 23\n",
       "\n",
       "| LAESTAB &lt;dbl&gt; | School name &lt;chr&gt; | School postcode &lt;chr&gt; | 2000 &lt;chr&gt; | 2001 &lt;chr&gt; | 2002 &lt;chr&gt; | 2003 &lt;chr&gt; | 2004 &lt;chr&gt; | 2005 &lt;chr&gt; | 2006 &lt;chr&gt; | ⋯ ⋯ | 2010 &lt;chr&gt; | 2011 &lt;chr&gt; | 2012 &lt;chr&gt; | 2013 &lt;chr&gt; | 2014 &lt;chr&gt; | 2015 &lt;chr&gt; | 2016 &lt;chr&gt; | 2017 &lt;chr&gt; | 2018 &lt;chr&gt; | 2019 &lt;chr&gt; |\n",
       "|---|---|---|---|---|---|---|---|---|---|---|---|---|---|---|---|---|---|---|---|---|\n",
       "| 8464605 | Cardinal Newman Catholic School        | BN3 6ND | Outstanding | Outstanding | Outstanding | Outstanding | Outstanding | Good        | Outstanding | ⋯ | Outstanding | Outstanding | Outstanding | Outstanding | Outstanding | Outstanding | Outstanding | Outstanding | Outstanding | Outstanding |\n",
       "| 8464012 | Varndean School                        | BN1 6NP | Outstanding | Good        | Outstanding | Good        | Outstanding | Outstanding | Outstanding | ⋯ | Good        | Outstanding | Good        | Good        | Good        | Good        | Good        | Good        | Outstanding | Good        |\n",
       "| 8464016 | Dorothy Stringer School                | BN1 6PZ | Outstanding | Outstanding | Outstanding | Good        | Outstanding | Outstanding | Outstanding | ⋯ | Outstanding | Outstanding | Outstanding | Outstanding | Outstanding | Outstanding | Outstanding | Outstanding | Outstanding | Outstanding |\n",
       "| 8464018 | Longhill High School                   | BN2 7FR | Good        | Outstanding | Good        | Good        | Good        | Good        | Good        | ⋯ | Good        | Poor        | Poor        | Poor        | Good        | Poor        | Poor        | Poor        | Poor        | Poor        |\n",
       "| 8464067 | Blatchington Mill School               | BN3 7BW | Good        | Good        | Good        | Outstanding | Good        | Outstanding | Good        | ⋯ | Outstanding | Outstanding | Outstanding | Outstanding | Outstanding | Outstanding | Outstanding | Outstanding | Good        | Outstanding |\n",
       "| 8464068 | Hove Park School and Sixth Form Centre | BN3 7BN | Good        | Good        | Good        | Poor        | Poor        | Poor        | Poor        | ⋯ | Good        | Good        | Good        | Good        | Good        | Good        | Good        | Good        | Good        | Good        |\n",
       "\n"
      ],
      "text/plain": [
       "  LAESTAB School name                            School postcode 2000       \n",
       "1 8464605 Cardinal Newman Catholic School        BN3 6ND         Outstanding\n",
       "2 8464012 Varndean School                        BN1 6NP         Outstanding\n",
       "3 8464016 Dorothy Stringer School                BN1 6PZ         Outstanding\n",
       "4 8464018 Longhill High School                   BN2 7FR         Good       \n",
       "5 8464067 Blatchington Mill School               BN3 7BW         Good       \n",
       "6 8464068 Hove Park School and Sixth Form Centre BN3 7BN         Good       \n",
       "  2001        2002        2003        2004        2005        2006        ⋯\n",
       "1 Outstanding Outstanding Outstanding Outstanding Good        Outstanding ⋯\n",
       "2 Good        Outstanding Good        Outstanding Outstanding Outstanding ⋯\n",
       "3 Outstanding Outstanding Good        Outstanding Outstanding Outstanding ⋯\n",
       "4 Outstanding Good        Good        Good        Good        Good        ⋯\n",
       "5 Good        Good        Outstanding Good        Outstanding Good        ⋯\n",
       "6 Good        Good        Poor        Poor        Poor        Poor        ⋯\n",
       "  2010        2011        2012        2013        2014        2015       \n",
       "1 Outstanding Outstanding Outstanding Outstanding Outstanding Outstanding\n",
       "2 Good        Outstanding Good        Good        Good        Good       \n",
       "3 Outstanding Outstanding Outstanding Outstanding Outstanding Outstanding\n",
       "4 Good        Poor        Poor        Poor        Good        Poor       \n",
       "5 Outstanding Outstanding Outstanding Outstanding Outstanding Outstanding\n",
       "6 Good        Good        Good        Good        Good        Good       \n",
       "  2016        2017        2018        2019       \n",
       "1 Outstanding Outstanding Outstanding Outstanding\n",
       "2 Good        Good        Outstanding Good       \n",
       "3 Outstanding Outstanding Outstanding Outstanding\n",
       "4 Poor        Poor        Poor        Poor       \n",
       "5 Outstanding Outstanding Good        Outstanding\n",
       "6 Good        Good        Good        Good       "
      ]
     },
     "metadata": {},
     "output_type": "display_data"
    }
   ],
   "source": [
    "## leftjoin secondary schools with lat lon data\n",
    "sec_schools <- read_csv(\"schools_geo/ks4_hist_df.csv\")\n",
    "head(sec_schools)"
   ]
  },
  {
   "cell_type": "code",
   "execution_count": 15,
   "id": "c178dac4",
   "metadata": {},
   "outputs": [],
   "source": [
    "names(postcode_df)[names(postcode_df) == \"pcds\"] <- \"id\""
   ]
  },
  {
   "cell_type": "code",
   "execution_count": 16,
   "id": "48a309cd",
   "metadata": {},
   "outputs": [
    {
     "data": {
      "text/html": [
       "<table class=\"dataframe\">\n",
       "<caption>A spec_tbl_df: 10 × 25</caption>\n",
       "<thead>\n",
       "\t<tr><th scope=col>LAESTAB</th><th scope=col>School name</th><th scope=col>School postcode</th><th scope=col>2000</th><th scope=col>2001</th><th scope=col>2002</th><th scope=col>2003</th><th scope=col>2004</th><th scope=col>2005</th><th scope=col>2006</th><th scope=col>⋯</th><th scope=col>2012</th><th scope=col>2013</th><th scope=col>2014</th><th scope=col>2015</th><th scope=col>2016</th><th scope=col>2017</th><th scope=col>2018</th><th scope=col>2019</th><th scope=col>lat</th><th scope=col>long</th></tr>\n",
       "\t<tr><th scope=col>&lt;dbl&gt;</th><th scope=col>&lt;chr&gt;</th><th scope=col>&lt;chr&gt;</th><th scope=col>&lt;chr&gt;</th><th scope=col>&lt;chr&gt;</th><th scope=col>&lt;chr&gt;</th><th scope=col>&lt;chr&gt;</th><th scope=col>&lt;chr&gt;</th><th scope=col>&lt;chr&gt;</th><th scope=col>&lt;chr&gt;</th><th scope=col>⋯</th><th scope=col>&lt;chr&gt;</th><th scope=col>&lt;chr&gt;</th><th scope=col>&lt;chr&gt;</th><th scope=col>&lt;chr&gt;</th><th scope=col>&lt;chr&gt;</th><th scope=col>&lt;chr&gt;</th><th scope=col>&lt;chr&gt;</th><th scope=col>&lt;chr&gt;</th><th scope=col>&lt;dbl&gt;</th><th scope=col>&lt;dbl&gt;</th></tr>\n",
       "</thead>\n",
       "<tbody>\n",
       "\t<tr><td>8464605</td><td>Cardinal Newman Catholic School       </td><td>BN3 6ND </td><td>Outstanding</td><td>Outstanding</td><td>Outstanding</td><td>Outstanding</td><td>Outstanding</td><td>Good       </td><td>Outstanding</td><td>⋯</td><td>Outstanding</td><td>Outstanding</td><td>Outstanding</td><td>Outstanding</td><td>Outstanding</td><td>Outstanding</td><td>Outstanding</td><td>Outstanding</td><td>50.83681</td><td>-0.158368</td></tr>\n",
       "\t<tr><td>8464012</td><td>Varndean School                       </td><td>BN1 6NP </td><td>Outstanding</td><td>Good       </td><td>Outstanding</td><td>Good       </td><td>Outstanding</td><td>Outstanding</td><td>Outstanding</td><td>⋯</td><td>Good       </td><td>Good       </td><td>Good       </td><td>Good       </td><td>Good       </td><td>Good       </td><td>Outstanding</td><td>Good       </td><td>50.85030</td><td>-0.137138</td></tr>\n",
       "\t<tr><td>8464016</td><td>Dorothy Stringer School               </td><td>BN1 6PZ </td><td>Outstanding</td><td>Outstanding</td><td>Outstanding</td><td>Good       </td><td>Outstanding</td><td>Outstanding</td><td>Outstanding</td><td>⋯</td><td>Outstanding</td><td>Outstanding</td><td>Outstanding</td><td>Outstanding</td><td>Outstanding</td><td>Outstanding</td><td>Outstanding</td><td>Outstanding</td><td>50.84895</td><td>-0.143414</td></tr>\n",
       "\t<tr><td>8464018</td><td>Longhill High School                  </td><td>BN2 7FR </td><td>Good       </td><td>Outstanding</td><td>Good       </td><td>Good       </td><td>Good       </td><td>Good       </td><td>Good       </td><td>⋯</td><td>Poor       </td><td>Poor       </td><td>Good       </td><td>Poor       </td><td>Poor       </td><td>Poor       </td><td>Poor       </td><td>Poor       </td><td>50.81900</td><td>-0.067270</td></tr>\n",
       "\t<tr><td>8464067</td><td>Blatchington Mill School              </td><td>BN3 7BW </td><td>Good       </td><td>Good       </td><td>Good       </td><td>Outstanding</td><td>Good       </td><td>Outstanding</td><td>Good       </td><td>⋯</td><td>Outstanding</td><td>Outstanding</td><td>Outstanding</td><td>Outstanding</td><td>Outstanding</td><td>Outstanding</td><td>Good       </td><td>Outstanding</td><td>50.84530</td><td>-0.184029</td></tr>\n",
       "\t<tr><td>8464068</td><td>Hove Park School and Sixth Form Centre</td><td>BN3 7BN </td><td>Good       </td><td>Good       </td><td>Good       </td><td>Poor       </td><td>Poor       </td><td>Poor       </td><td>Poor       </td><td>⋯</td><td>Good       </td><td>Good       </td><td>Good       </td><td>Good       </td><td>Good       </td><td>Good       </td><td>Good       </td><td>Good       </td><td>50.84087</td><td>-0.179613</td></tr>\n",
       "\t<tr><td>8464068</td><td>Hove Park School and Sixth Form Centre</td><td>BN3 8AA </td><td>Good       </td><td>Good       </td><td>Good       </td><td>Poor       </td><td>Poor       </td><td>Poor       </td><td>Poor       </td><td>⋯</td><td>Good       </td><td>Good       </td><td>Good       </td><td>Good       </td><td>Good       </td><td>Good       </td><td>Good       </td><td>Good       </td><td>50.84316</td><td>-0.202294</td></tr>\n",
       "\t<tr><td>8464001</td><td>Portslade Aldridge Community Academy  </td><td>BN41 2WS</td><td>Poor       </td><td>Poor       </td><td>Poor       </td><td>Poor       </td><td>Good       </td><td>Good       </td><td>Good       </td><td>⋯</td><td>Poor       </td><td>Poor       </td><td>Poor       </td><td>Good       </td><td>Poor       </td><td>Poor       </td><td>Poor       </td><td>Poor       </td><td>50.85064</td><td>-0.225774</td></tr>\n",
       "\t<tr><td>8464072</td><td>Patcham High School                   </td><td>BN1 8PB </td><td>Poor       </td><td>Poor       </td><td>Poor       </td><td>Poor       </td><td>Poor       </td><td>Poor       </td><td>Poor       </td><td>⋯</td><td>Good       </td><td>Good       </td><td>Poor       </td><td>Poor       </td><td>Good       </td><td>Good       </td><td>Good       </td><td>Good       </td><td>50.86219</td><td>-0.143940</td></tr>\n",
       "\t<tr><td>8466905</td><td>Brighton Aldridge Community Academy   </td><td>BN1 9PW </td><td>Poor       </td><td>Poor       </td><td>Poor       </td><td>Poor       </td><td>Poor       </td><td>Poor       </td><td>Poor       </td><td>⋯</td><td>Poor       </td><td>Poor       </td><td>Poor       </td><td>Poor       </td><td>Poor       </td><td>Poor       </td><td>Poor       </td><td>Poor       </td><td>50.85802</td><td>-0.091234</td></tr>\n",
       "</tbody>\n",
       "</table>\n"
      ],
      "text/latex": [
       "A spec\\_tbl\\_df: 10 × 25\n",
       "\\begin{tabular}{lllllllllllllllllllll}\n",
       " LAESTAB & School name & School postcode & 2000 & 2001 & 2002 & 2003 & 2004 & 2005 & 2006 & ⋯ & 2012 & 2013 & 2014 & 2015 & 2016 & 2017 & 2018 & 2019 & lat & long\\\\\n",
       " <dbl> & <chr> & <chr> & <chr> & <chr> & <chr> & <chr> & <chr> & <chr> & <chr> & ⋯ & <chr> & <chr> & <chr> & <chr> & <chr> & <chr> & <chr> & <chr> & <dbl> & <dbl>\\\\\n",
       "\\hline\n",
       "\t 8464605 & Cardinal Newman Catholic School        & BN3 6ND  & Outstanding & Outstanding & Outstanding & Outstanding & Outstanding & Good        & Outstanding & ⋯ & Outstanding & Outstanding & Outstanding & Outstanding & Outstanding & Outstanding & Outstanding & Outstanding & 50.83681 & -0.158368\\\\\n",
       "\t 8464012 & Varndean School                        & BN1 6NP  & Outstanding & Good        & Outstanding & Good        & Outstanding & Outstanding & Outstanding & ⋯ & Good        & Good        & Good        & Good        & Good        & Good        & Outstanding & Good        & 50.85030 & -0.137138\\\\\n",
       "\t 8464016 & Dorothy Stringer School                & BN1 6PZ  & Outstanding & Outstanding & Outstanding & Good        & Outstanding & Outstanding & Outstanding & ⋯ & Outstanding & Outstanding & Outstanding & Outstanding & Outstanding & Outstanding & Outstanding & Outstanding & 50.84895 & -0.143414\\\\\n",
       "\t 8464018 & Longhill High School                   & BN2 7FR  & Good        & Outstanding & Good        & Good        & Good        & Good        & Good        & ⋯ & Poor        & Poor        & Good        & Poor        & Poor        & Poor        & Poor        & Poor        & 50.81900 & -0.067270\\\\\n",
       "\t 8464067 & Blatchington Mill School               & BN3 7BW  & Good        & Good        & Good        & Outstanding & Good        & Outstanding & Good        & ⋯ & Outstanding & Outstanding & Outstanding & Outstanding & Outstanding & Outstanding & Good        & Outstanding & 50.84530 & -0.184029\\\\\n",
       "\t 8464068 & Hove Park School and Sixth Form Centre & BN3 7BN  & Good        & Good        & Good        & Poor        & Poor        & Poor        & Poor        & ⋯ & Good        & Good        & Good        & Good        & Good        & Good        & Good        & Good        & 50.84087 & -0.179613\\\\\n",
       "\t 8464068 & Hove Park School and Sixth Form Centre & BN3 8AA  & Good        & Good        & Good        & Poor        & Poor        & Poor        & Poor        & ⋯ & Good        & Good        & Good        & Good        & Good        & Good        & Good        & Good        & 50.84316 & -0.202294\\\\\n",
       "\t 8464001 & Portslade Aldridge Community Academy   & BN41 2WS & Poor        & Poor        & Poor        & Poor        & Good        & Good        & Good        & ⋯ & Poor        & Poor        & Poor        & Good        & Poor        & Poor        & Poor        & Poor        & 50.85064 & -0.225774\\\\\n",
       "\t 8464072 & Patcham High School                    & BN1 8PB  & Poor        & Poor        & Poor        & Poor        & Poor        & Poor        & Poor        & ⋯ & Good        & Good        & Poor        & Poor        & Good        & Good        & Good        & Good        & 50.86219 & -0.143940\\\\\n",
       "\t 8466905 & Brighton Aldridge Community Academy    & BN1 9PW  & Poor        & Poor        & Poor        & Poor        & Poor        & Poor        & Poor        & ⋯ & Poor        & Poor        & Poor        & Poor        & Poor        & Poor        & Poor        & Poor        & 50.85802 & -0.091234\\\\\n",
       "\\end{tabular}\n"
      ],
      "text/markdown": [
       "\n",
       "A spec_tbl_df: 10 × 25\n",
       "\n",
       "| LAESTAB &lt;dbl&gt; | School name &lt;chr&gt; | School postcode &lt;chr&gt; | 2000 &lt;chr&gt; | 2001 &lt;chr&gt; | 2002 &lt;chr&gt; | 2003 &lt;chr&gt; | 2004 &lt;chr&gt; | 2005 &lt;chr&gt; | 2006 &lt;chr&gt; | ⋯ ⋯ | 2012 &lt;chr&gt; | 2013 &lt;chr&gt; | 2014 &lt;chr&gt; | 2015 &lt;chr&gt; | 2016 &lt;chr&gt; | 2017 &lt;chr&gt; | 2018 &lt;chr&gt; | 2019 &lt;chr&gt; | lat &lt;dbl&gt; | long &lt;dbl&gt; |\n",
       "|---|---|---|---|---|---|---|---|---|---|---|---|---|---|---|---|---|---|---|---|---|\n",
       "| 8464605 | Cardinal Newman Catholic School        | BN3 6ND  | Outstanding | Outstanding | Outstanding | Outstanding | Outstanding | Good        | Outstanding | ⋯ | Outstanding | Outstanding | Outstanding | Outstanding | Outstanding | Outstanding | Outstanding | Outstanding | 50.83681 | -0.158368 |\n",
       "| 8464012 | Varndean School                        | BN1 6NP  | Outstanding | Good        | Outstanding | Good        | Outstanding | Outstanding | Outstanding | ⋯ | Good        | Good        | Good        | Good        | Good        | Good        | Outstanding | Good        | 50.85030 | -0.137138 |\n",
       "| 8464016 | Dorothy Stringer School                | BN1 6PZ  | Outstanding | Outstanding | Outstanding | Good        | Outstanding | Outstanding | Outstanding | ⋯ | Outstanding | Outstanding | Outstanding | Outstanding | Outstanding | Outstanding | Outstanding | Outstanding | 50.84895 | -0.143414 |\n",
       "| 8464018 | Longhill High School                   | BN2 7FR  | Good        | Outstanding | Good        | Good        | Good        | Good        | Good        | ⋯ | Poor        | Poor        | Good        | Poor        | Poor        | Poor        | Poor        | Poor        | 50.81900 | -0.067270 |\n",
       "| 8464067 | Blatchington Mill School               | BN3 7BW  | Good        | Good        | Good        | Outstanding | Good        | Outstanding | Good        | ⋯ | Outstanding | Outstanding | Outstanding | Outstanding | Outstanding | Outstanding | Good        | Outstanding | 50.84530 | -0.184029 |\n",
       "| 8464068 | Hove Park School and Sixth Form Centre | BN3 7BN  | Good        | Good        | Good        | Poor        | Poor        | Poor        | Poor        | ⋯ | Good        | Good        | Good        | Good        | Good        | Good        | Good        | Good        | 50.84087 | -0.179613 |\n",
       "| 8464068 | Hove Park School and Sixth Form Centre | BN3 8AA  | Good        | Good        | Good        | Poor        | Poor        | Poor        | Poor        | ⋯ | Good        | Good        | Good        | Good        | Good        | Good        | Good        | Good        | 50.84316 | -0.202294 |\n",
       "| 8464001 | Portslade Aldridge Community Academy   | BN41 2WS | Poor        | Poor        | Poor        | Poor        | Good        | Good        | Good        | ⋯ | Poor        | Poor        | Poor        | Good        | Poor        | Poor        | Poor        | Poor        | 50.85064 | -0.225774 |\n",
       "| 8464072 | Patcham High School                    | BN1 8PB  | Poor        | Poor        | Poor        | Poor        | Poor        | Poor        | Poor        | ⋯ | Good        | Good        | Poor        | Poor        | Good        | Good        | Good        | Good        | 50.86219 | -0.143940 |\n",
       "| 8466905 | Brighton Aldridge Community Academy    | BN1 9PW  | Poor        | Poor        | Poor        | Poor        | Poor        | Poor        | Poor        | ⋯ | Poor        | Poor        | Poor        | Poor        | Poor        | Poor        | Poor        | Poor        | 50.85802 | -0.091234 |\n",
       "\n"
      ],
      "text/plain": [
       "   LAESTAB School name                            School postcode 2000       \n",
       "1  8464605 Cardinal Newman Catholic School        BN3 6ND         Outstanding\n",
       "2  8464012 Varndean School                        BN1 6NP         Outstanding\n",
       "3  8464016 Dorothy Stringer School                BN1 6PZ         Outstanding\n",
       "4  8464018 Longhill High School                   BN2 7FR         Good       \n",
       "5  8464067 Blatchington Mill School               BN3 7BW         Good       \n",
       "6  8464068 Hove Park School and Sixth Form Centre BN3 7BN         Good       \n",
       "7  8464068 Hove Park School and Sixth Form Centre BN3 8AA         Good       \n",
       "8  8464001 Portslade Aldridge Community Academy   BN41 2WS        Poor       \n",
       "9  8464072 Patcham High School                    BN1 8PB         Poor       \n",
       "10 8466905 Brighton Aldridge Community Academy    BN1 9PW         Poor       \n",
       "   2001        2002        2003        2004        2005        2006        ⋯\n",
       "1  Outstanding Outstanding Outstanding Outstanding Good        Outstanding ⋯\n",
       "2  Good        Outstanding Good        Outstanding Outstanding Outstanding ⋯\n",
       "3  Outstanding Outstanding Good        Outstanding Outstanding Outstanding ⋯\n",
       "4  Outstanding Good        Good        Good        Good        Good        ⋯\n",
       "5  Good        Good        Outstanding Good        Outstanding Good        ⋯\n",
       "6  Good        Good        Poor        Poor        Poor        Poor        ⋯\n",
       "7  Good        Good        Poor        Poor        Poor        Poor        ⋯\n",
       "8  Poor        Poor        Poor        Good        Good        Good        ⋯\n",
       "9  Poor        Poor        Poor        Poor        Poor        Poor        ⋯\n",
       "10 Poor        Poor        Poor        Poor        Poor        Poor        ⋯\n",
       "   2012        2013        2014        2015        2016        2017       \n",
       "1  Outstanding Outstanding Outstanding Outstanding Outstanding Outstanding\n",
       "2  Good        Good        Good        Good        Good        Good       \n",
       "3  Outstanding Outstanding Outstanding Outstanding Outstanding Outstanding\n",
       "4  Poor        Poor        Good        Poor        Poor        Poor       \n",
       "5  Outstanding Outstanding Outstanding Outstanding Outstanding Outstanding\n",
       "6  Good        Good        Good        Good        Good        Good       \n",
       "7  Good        Good        Good        Good        Good        Good       \n",
       "8  Poor        Poor        Poor        Good        Poor        Poor       \n",
       "9  Good        Good        Poor        Poor        Good        Good       \n",
       "10 Poor        Poor        Poor        Poor        Poor        Poor       \n",
       "   2018        2019        lat      long     \n",
       "1  Outstanding Outstanding 50.83681 -0.158368\n",
       "2  Outstanding Good        50.85030 -0.137138\n",
       "3  Outstanding Outstanding 50.84895 -0.143414\n",
       "4  Poor        Poor        50.81900 -0.067270\n",
       "5  Good        Outstanding 50.84530 -0.184029\n",
       "6  Good        Good        50.84087 -0.179613\n",
       "7  Good        Good        50.84316 -0.202294\n",
       "8  Poor        Poor        50.85064 -0.225774\n",
       "9  Good        Good        50.86219 -0.143940\n",
       "10 Poor        Poor        50.85802 -0.091234"
      ]
     },
     "metadata": {},
     "output_type": "display_data"
    }
   ],
   "source": [
    "sec_schools <- left_join(sec_schools, postcode_df, by=c(\"School postcode\" = \"id\"))\n",
    "sec_schools"
   ]
  },
  {
   "cell_type": "code",
   "execution_count": 18,
   "id": "9ef251e6",
   "metadata": {},
   "outputs": [],
   "source": [
    "# convert st as sf "
   ]
  },
  {
   "cell_type": "code",
   "execution_count": 17,
   "id": "246beb2e",
   "metadata": {},
   "outputs": [],
   "source": [
    "sec_schools_geocoded <- sec_schools%>%\n",
    "  #remove NAs or 0\n",
    "  filter(long != 0 )%>%\n",
    "  filter(lat != 0)%>%\n",
    "  st_as_sf(., coords = c(\"long\",\"lat\"), \n",
    "                   crs = 4326)"
   ]
  },
  {
   "cell_type": "code",
   "execution_count": 65,
   "id": "268d13c8",
   "metadata": {},
   "outputs": [],
   "source": [
    "names(sec_schools_geocoded)[names(sec_schools_geocoded) == \"School postcode\"] <- \"id\"\n",
    "names(sec_schools_geocoded)[names(sec_schools_geocoded) == \"School name\"] <- \"school_name\""
   ]
  },
  {
   "cell_type": "code",
   "execution_count": 20,
   "id": "a8298bd5",
   "metadata": {},
   "outputs": [
    {
     "data": {
      "image/png": "[encoded data removed]",
      "text/plain": [
       "plot without title"
      ]
     },
     "metadata": {
      "image/png": {
       "height": 420,
       "width": 420
      }
     },
     "output_type": "display_data"
    }
   ],
   "source": [
    "tm_shape(sec_schools_geocoded) + tm_symbols(size=1, col=\"red\", border.lwd=0, alpha=0.5)"
   ]
  },
  {
   "cell_type": "markdown",
   "id": "2589961b",
   "metadata": {},
   "source": [
    "## r5r Prep"
   ]
  },
  {
   "cell_type": "code",
   "execution_count": 11,
   "id": "1fca9907",
   "metadata": {},
   "outputs": [
    {
     "name": "stderr",
     "output_type": "stream",
     "text": [
      "Please make sure you have already allocated some memory to Java by running:\n",
      "  options(java.parameters = '-Xmx2G').\n",
      "You should replace '2G' by the amount of memory you'll require. Currently, Java memory is set to -Xmx6G\n",
      "\n",
      "Using cached R5 version from /home/jtej22/miniconda3/envs/r5/lib/R/library/r5r/jar/r5-v6.9-all.jar\n",
      "\n",
      "\n",
      "Using cached network.dat from schools_geo/network.dat\n",
      "\n"
     ]
    }
   ],
   "source": [
    "# Allow 6 GiB of memory\n",
    "options(java.parameters = \"-Xmx6G\")\n",
    "\n",
    "# After allocating the memory import the r5r\n",
    "library(r5r)\n",
    "\n",
    "# Create the routable network by indicating the path where OSM, GTFS and possible DEM data are stored\n",
    "r5r_core = setup_r5(data_path = data_path)"
   ]
  },
  {
   "cell_type": "markdown",
   "id": "f3725dbc",
   "metadata": {},
   "source": [
    "# Proximity to nearest school variable\n",
    "Using brighton_houses as dests and to store r5r generated data, using sec_schools_geocoded as origins"
   ]
  },
  {
   "cell_type": "code",
   "execution_count": 66,
   "id": "9f7f40fa",
   "metadata": {},
   "outputs": [
    {
     "data": {
      "text/html": [
       "<table class=\"dataframe\">\n",
       "<caption>A data.table: 6 × 3</caption>\n",
       "<thead>\n",
       "\t<tr><th scope=col>from_id</th><th scope=col>to_id</th><th scope=col>travel_time_p50</th></tr>\n",
       "\t<tr><th scope=col>&lt;chr&gt;</th><th scope=col>&lt;chr&gt;</th><th scope=col>&lt;int&gt;</th></tr>\n",
       "</thead>\n",
       "<tbody>\n",
       "\t<tr><td>BN1 1AD</td><td>BN3 6ND</td><td>50</td></tr>\n",
       "\t<tr><td>BN1 1AD</td><td>BN1 6NP</td><td>71</td></tr>\n",
       "\t<tr><td>BN1 1AD</td><td>BN1 6PZ</td><td>76</td></tr>\n",
       "\t<tr><td>BN1 1AD</td><td>BN3 7BW</td><td>86</td></tr>\n",
       "\t<tr><td>BN1 1AD</td><td>BN3 7BN</td><td>74</td></tr>\n",
       "\t<tr><td>BN1 1AD</td><td>BN1 8PB</td><td>96</td></tr>\n",
       "</tbody>\n",
       "</table>\n"
      ],
      "text/latex": [
       "A data.table: 6 × 3\n",
       "\\begin{tabular}{lll}\n",
       " from\\_id & to\\_id & travel\\_time\\_p50\\\\\n",
       " <chr> & <chr> & <int>\\\\\n",
       "\\hline\n",
       "\t BN1 1AD & BN3 6ND & 50\\\\\n",
       "\t BN1 1AD & BN1 6NP & 71\\\\\n",
       "\t BN1 1AD & BN1 6PZ & 76\\\\\n",
       "\t BN1 1AD & BN3 7BW & 86\\\\\n",
       "\t BN1 1AD & BN3 7BN & 74\\\\\n",
       "\t BN1 1AD & BN1 8PB & 96\\\\\n",
       "\\end{tabular}\n"
      ],
      "text/markdown": [
       "\n",
       "A data.table: 6 × 3\n",
       "\n",
       "| from_id &lt;chr&gt; | to_id &lt;chr&gt; | travel_time_p50 &lt;int&gt; |\n",
       "|---|---|---|\n",
       "| BN1 1AD | BN3 6ND | 50 |\n",
       "| BN1 1AD | BN1 6NP | 71 |\n",
       "| BN1 1AD | BN1 6PZ | 76 |\n",
       "| BN1 1AD | BN3 7BW | 86 |\n",
       "| BN1 1AD | BN3 7BN | 74 |\n",
       "| BN1 1AD | BN1 8PB | 96 |\n",
       "\n"
      ],
      "text/plain": [
       "  from_id to_id   travel_time_p50\n",
       "1 BN1 1AD BN3 6ND 50             \n",
       "2 BN1 1AD BN1 6NP 71             \n",
       "3 BN1 1AD BN1 6PZ 76             \n",
       "4 BN1 1AD BN3 7BW 86             \n",
       "5 BN1 1AD BN3 7BN 74             \n",
       "6 BN1 1AD BN1 8PB 96             "
      ]
     },
     "metadata": {},
     "output_type": "display_data"
    }
   ],
   "source": [
    "# Set parameters\n",
    "mode = c(\"WALK\")\n",
    "max_walk_time = 100 # minutes\n",
    "max_trip_duration = 100 # minutes\n",
    "departure_datetime = as.POSIXct(\"01-12-2022 8:30:00\",\n",
    "                                 format = \"%d-%m-%Y %H:%M:%S\")\n",
    "\n",
    "# Calculate the travel time matrix by Transit\n",
    "ttm_nearest_sec = travel_time_matrix(r5r_core = r5r_core,\n",
    "                          origins = brighton_houses,\n",
    "                          destinations = sec_schools_geocoded,\n",
    "                          mode = mode,\n",
    "                          departure_datetime = departure_datetime,\n",
    "                          max_walk_time = max_walk_time,\n",
    "                          max_trip_duration = max_trip_duration)\n",
    "\n",
    "head(ttm_nearest_sec)"
   ]
  },
  {
   "cell_type": "code",
   "execution_count": 67,
   "id": "db53dbd4",
   "metadata": {},
   "outputs": [
    {
     "data": {
      "text/html": [
       "22633"
      ],
      "text/latex": [
       "22633"
      ],
      "text/markdown": [
       "22633"
      ],
      "text/plain": [
       "[1] 22633"
      ]
     },
     "metadata": {},
     "output_type": "display_data"
    }
   ],
   "source": [
    "nrow(ttm_nearest_sec)"
   ]
  },
  {
   "cell_type": "code",
   "execution_count": 1,
   "id": "f10f31f3",
   "metadata": {},
   "outputs": [
    {
     "ename": "SyntaxError",
     "evalue": "invalid syntax (1835282717.py, line 1)",
     "output_type": "error",
     "traceback": [
      "\u001b[0;36m  Input \u001b[0;32mIn [1]\u001b[0;36m\u001b[0m\n\u001b[0;31m    ttm_nearest_sec <- ttm_nearest_sec %>%\u001b[0m\n\u001b[0m                                        ^\u001b[0m\n\u001b[0;31mSyntaxError\u001b[0m\u001b[0;31m:\u001b[0m invalid syntax\n"
     ]
    }
   ],
   "source": [
    "## Handle duplicates for walk travel time to rail stations\n",
    "ttm_nearest_sec <- ttm_nearest_sec %>%\n",
    "  group_by(from_id) %>% \n",
    "  arrange(travel_time_p50) %>%\n",
    "  slice_head(n = 1) %>% \n",
    "  ungroup()"
   ]
  },
  {
   "cell_type": "code",
   "execution_count": 69,
   "id": "fb92acee",
   "metadata": {},
   "outputs": [
    {
     "data": {
      "text/html": [
       "3902"
      ],
      "text/latex": [
       "3902"
      ],
      "text/markdown": [
       "3902"
      ],
      "text/plain": [
       "[1] 3902"
      ]
     },
     "metadata": {},
     "output_type": "display_data"
    }
   ],
   "source": [
    "nrow(ttm_nearest_sec)\n",
    "##3902 correct"
   ]
  },
  {
   "cell_type": "code",
   "execution_count": 70,
   "id": "60ac6f66",
   "metadata": {},
   "outputs": [
    {
     "name": "stdout",
     "output_type": "stream",
     "text": [
      "Simple feature collection with 3902 features and 3 fields\n",
      "Geometry type: POINT\n",
      "Dimension:     XY\n",
      "Bounding box:  xmin: -0.235465 ymin: 50.80051 xmax: -0.02655 ymax: 50.87138\n",
      "Geodetic CRS:  WGS 84\n",
      "First 10 features:\n",
      "        id   to_id travel_time_p50                   geometry\n",
      "1  BN1 1AD BN3 6ND              50 POINT (-0.142167 50.82169)\n",
      "2  BN1 1AJ BN3 6ND              50  POINT (-0.14256 50.82145)\n",
      "3  BN1 1AL BN3 6ND              49 POINT (-0.142961 50.82136)\n",
      "4  BN1 1AN BN3 6ND              47   POINT (-0.1435 50.82209)\n",
      "5  BN1 1AP BN3 6ND              51  POINT (-0.143707 50.8208)\n",
      "6  BN1 1BG BN3 6ND              48   POINT (-0.1421 50.82231)\n",
      "7  BN1 1EA BN3 6ND              51  POINT (-0.13946 50.82263)\n",
      "8  BN1 1EG BN3 6ND              53 POINT (-0.138162 50.82136)\n",
      "9  BN1 1EH BN3 6ND              53 POINT (-0.137542 50.82162)\n",
      "10 BN1 1EJ BN3 6ND              56 POINT (-0.136211 50.82151)\n"
     ]
    }
   ],
   "source": [
    "# Check for duplicates in 'id' column of df1\n",
    "duplicates_ttm_nearest_sec <- duplicated(ttm_nearest_sec$from_id)\n",
    "# Check for duplicates in 'id' column of df2\n",
    "duplicates_brighton_houses <- duplicated(brighton_houses$id)\n",
    "\n",
    "# Check if there are duplicates in df1 or df2\n",
    "if (any(duplicates_ttm_nearest_sec) || any(duplicates_brighton_houses)) {\n",
    "  print(\"Duplicates found! Please handle duplicates before performing left join.\")\n",
    "} else {\n",
    "  # Perform the left join, walk time bands from rail station to postcodes\n",
    "  brighton_houses <- left_join(brighton_houses, ttm_nearest_sec, by=c(id = \"from_id\"))\n",
    "  # Print the resulting merged data frame\n",
    "  print(brighton_houses)\n",
    "}"
   ]
  },
  {
   "cell_type": "code",
   "execution_count": 71,
   "id": "6ba928f9",
   "metadata": {},
   "outputs": [
    {
     "name": "stdout",
     "output_type": "stream",
     "text": [
      "[1] 0\n"
     ]
    }
   ],
   "source": [
    "print(sum(is.na(brighton_houses$travel_time_p50)))\n",
    "#0 nas"
   ]
  },
  {
   "cell_type": "code",
   "execution_count": 72,
   "id": "ed479ec6",
   "metadata": {},
   "outputs": [],
   "source": [
    "colnames(brighton_houses)[colnames(brighton_houses) == \"travel_time_p50\"] <- \"walk_nearest_sec\""
   ]
  },
  {
   "cell_type": "code",
   "execution_count": 73,
   "id": "2154a3d7",
   "metadata": {},
   "outputs": [
    {
     "data": {
      "image/png": "[encoded data removed]",
      "text/plain": [
       "Plot with title “Histogram of brighton_houses$walk_nearest_sec”"
      ]
     },
     "metadata": {
      "image/png": {
       "height": 420,
       "width": 420
      }
     },
     "output_type": "display_data"
    }
   ],
   "source": [
    "hist(brighton_houses$walk_nearest_sec)"
   ]
  },
  {
   "cell_type": "code",
   "execution_count": 30,
   "id": "2540ff59",
   "metadata": {},
   "outputs": [
    {
     "data": {
      "image/png": "[encoded data removed]",
      "text/plain": [
       "plot without title"
      ]
     },
     "metadata": {
      "image/png": {
       "height": 420,
       "width": 420
      }
     },
     "output_type": "display_data"
    }
   ],
   "source": [
    "tm_shape(brighton_houses) + tm_symbols(size=0.05, col=\"walk_nearest_sec\", border.lwd=0, alpha=0.5)"
   ]
  },
  {
   "cell_type": "code",
   "execution_count": null,
   "id": "9c236435-6f82-4202-bd1d-680905d837a3",
   "metadata": {},
   "outputs": [],
   "source": [
    "#use to_id to generate school name\n",
    "#from postcode to school name\n",
    "postcode_school_dict <- setNames(sec_schools_geocoded$school_name, sec_schools_geocoded$id)\n",
    "\n",
    "# Use match() and the dictionary to replace postcodes with school names\n",
    "brighton_houses$nearest_sec_name <- postcode_school_dict[match(brighton_houses$to_id, names(postcode_school_dict))]\n"
   ]
  },
  {
   "cell_type": "code",
   "execution_count": 31,
   "id": "c75aa2ac",
   "metadata": {},
   "outputs": [
    {
     "data": {
      "application/geo+json": {
       "features": [
        {
         "geometry": {
          "coordinates": [
           -0.1422,
           50.8217
          ],
          "type": "Point"
         },
         "properties": {
          "id": "BN1 1AD",
          "walk_nearest_sec": 50
         },
         "type": "Feature"
        },
        {
         "geometry": {
          "coordinates": [
           -0.1426,
           50.8215
          ],
          "type": "Point"
         },
         "properties": {
          "id": "BN1 1AJ",
          "walk_nearest_sec": 50
         },
         "type": "Feature"
        },
        {
         "geometry": {
          "coordinates": [
           -0.143,
           50.8214
          ],
          "type": "Point"
         },
         "properties": {
          "id": "BN1 1AL",
          "walk_nearest_sec": 49
         },
         "type": "Feature"
        },
        {
         "geometry": {
          "coordinates": [
           -0.1435,
           50.8221
          ],
          "type": "Point"
         },
         "properties": {
          "id": "BN1 1AN",
          "walk_nearest_sec": 47
         },
         "type": "Feature"
        },
        {
         "geometry": {
          "coordinates": [
           -0.1437,
           50.8208
          ],
          "type": "Point"
         },
         "properties": {
          "id": "BN1 1AP",
          "walk_nearest_sec": 51
         },
         "type": "Feature"
        },
        {
         "geometry": {
          "coordinates": [
           -0.1421,
           50.8223
          ],
          "type": "Point"
         },
         "properties": {
          "id": "BN1 1BG",
          "walk_nearest_sec": 48
         },
         "type": "Feature"
        }
       ],
       "type": "FeatureCollection"
      },
      "text/html": [
       "<table class=\"dataframe\">\n",
       "<caption>A sf: 6 × 3</caption>\n",
       "<thead>\n",
       "\t<tr><th></th><th scope=col>id</th><th scope=col>walk_nearest_sec</th><th scope=col>geometry</th></tr>\n",
       "\t<tr><th></th><th scope=col>&lt;chr&gt;</th><th scope=col>&lt;int&gt;</th><th scope=col>&lt;POINT [°]&gt;</th></tr>\n",
       "</thead>\n",
       "<tbody>\n",
       "\t<tr><th scope=row>1</th><td>BN1 1AD</td><td>50</td><td>POINT (-0.142167 50.82169)</td></tr>\n",
       "\t<tr><th scope=row>2</th><td>BN1 1AJ</td><td>50</td><td>POINT (-0.14256 50.82145)</td></tr>\n",
       "\t<tr><th scope=row>3</th><td>BN1 1AL</td><td>49</td><td>POINT (-0.142961 50.82136)</td></tr>\n",
       "\t<tr><th scope=row>4</th><td>BN1 1AN</td><td>47</td><td>POINT (-0.1435 50.82209)</td></tr>\n",
       "\t<tr><th scope=row>5</th><td>BN1 1AP</td><td>51</td><td>POINT (-0.143707 50.8208)</td></tr>\n",
       "\t<tr><th scope=row>6</th><td>BN1 1BG</td><td>48</td><td>POINT (-0.1421 50.82231)</td></tr>\n",
       "</tbody>\n",
       "</table>\n"
      ],
      "text/latex": [
       "A sf: 6 × 3\n",
       "\\begin{tabular}{r|lll}\n",
       "  & id & walk\\_nearest\\_sec & geometry\\\\\n",
       "  & <chr> & <int> & <POINT {[}°{]}>\\\\\n",
       "\\hline\n",
       "\t1 & BN1 1AD & 50 & POINT (-0.142167 50.82169)\\\\\n",
       "\t2 & BN1 1AJ & 50 & POINT (-0.14256 50.82145)\\\\\n",
       "\t3 & BN1 1AL & 49 & POINT (-0.142961 50.82136)\\\\\n",
       "\t4 & BN1 1AN & 47 & POINT (-0.1435 50.82209)\\\\\n",
       "\t5 & BN1 1AP & 51 & POINT (-0.143707 50.8208)\\\\\n",
       "\t6 & BN1 1BG & 48 & POINT (-0.1421 50.82231)\\\\\n",
       "\\end{tabular}\n"
      ],
      "text/markdown": [
       "\n",
       "A sf: 6 × 3\n",
       "\n",
       "| <!--/--> | id &lt;chr&gt; | walk_nearest_sec &lt;int&gt; | geometry &lt;POINT [°]&gt; |\n",
       "|---|---|---|---|\n",
       "| 1 | BN1 1AD | 50 | POINT (-0.142167 50.82169) |\n",
       "| 2 | BN1 1AJ | 50 | POINT (-0.14256 50.82145) |\n",
       "| 3 | BN1 1AL | 49 | POINT (-0.142961 50.82136) |\n",
       "| 4 | BN1 1AN | 47 | POINT (-0.1435 50.82209) |\n",
       "| 5 | BN1 1AP | 51 | POINT (-0.143707 50.8208) |\n",
       "| 6 | BN1 1BG | 48 | POINT (-0.1421 50.82231) |\n",
       "\n"
      ],
      "text/plain": [
       "  id      walk_nearest_sec geometry                  \n",
       "1 BN1 1AD 50               POINT (-0.142167 50.82169)\n",
       "2 BN1 1AJ 50               POINT (-0.14256 50.82145) \n",
       "3 BN1 1AL 49               POINT (-0.142961 50.82136)\n",
       "4 BN1 1AN 47               POINT (-0.1435 50.82209)  \n",
       "5 BN1 1AP 51               POINT (-0.143707 50.8208) \n",
       "6 BN1 1BG 48               POINT (-0.1421 50.82231)  "
      ]
     },
     "metadata": {},
     "output_type": "display_data"
    }
   ],
   "source": [
    "brighton_houses$to_id <- NULL\n",
    "head(brighton_houses)"
   ]
  },
  {
   "cell_type": "markdown",
   "id": "ae2d956a",
   "metadata": {},
   "source": [
    "## Quality of schools:\n",
    "Walking time to nearest Outstanding/Good school for each year"
   ]
  },
  {
   "cell_type": "code",
   "execution_count": 74,
   "id": "5c75c9c2",
   "metadata": {},
   "outputs": [
    {
     "data": {
      "application/geo+json": {
       "features": [
        {
         "geometry": {
          "coordinates": [
           -0.1584,
           50.8368
          ],
          "type": "Point"
         },
         "properties": {
          "2000": "Outstanding",
          "2001": "Outstanding",
          "2002": "Outstanding",
          "2003": "Outstanding",
          "2004": "Outstanding",
          "2005": "Good",
          "2006": "Outstanding",
          "2007": "Outstanding",
          "2008": "Outstanding",
          "2009": "Outstanding",
          "2010": "Outstanding",
          "2011": "Outstanding",
          "2012": "Outstanding",
          "2013": "Outstanding",
          "2014": "Outstanding",
          "2015": "Outstanding",
          "2016": "Outstanding",
          "2017": "Outstanding",
          "2018": "Outstanding",
          "2019": "Outstanding",
          "LAESTAB": 8464605,
          "School name": "Cardinal Newman Catholic School",
          "id": "BN3 6ND"
         },
         "type": "Feature"
        },
        {
         "geometry": {
          "coordinates": [
           -0.1371,
           50.8503
          ],
          "type": "Point"
         },
         "properties": {
          "2000": "Outstanding",
          "2001": "Good",
          "2002": "Outstanding",
          "2003": "Good",
          "2004": "Outstanding",
          "2005": "Outstanding",
          "2006": "Outstanding",
          "2007": "Good",
          "2008": "Good",
          "2009": "Good",
          "2010": "Good",
          "2011": "Outstanding",
          "2012": "Good",
          "2013": "Good",
          "2014": "Good",
          "2015": "Good",
          "2016": "Good",
          "2017": "Good",
          "2018": "Outstanding",
          "2019": "Good",
          "LAESTAB": 8464012,
          "School name": "Varndean School",
          "id": "BN1 6NP"
         },
         "type": "Feature"
        },
        {
         "geometry": {
          "coordinates": [
           -0.1434,
           50.8489
          ],
          "type": "Point"
         },
         "properties": {
          "2000": "Outstanding",
          "2001": "Outstanding",
          "2002": "Outstanding",
          "2003": "Good",
          "2004": "Outstanding",
          "2005": "Outstanding",
          "2006": "Outstanding",
          "2007": "Outstanding",
          "2008": "Outstanding",
          "2009": "Outstanding",
          "2010": "Outstanding",
          "2011": "Outstanding",
          "2012": "Outstanding",
          "2013": "Outstanding",
          "2014": "Outstanding",
          "2015": "Outstanding",
          "2016": "Outstanding",
          "2017": "Outstanding",
          "2018": "Outstanding",
          "2019": "Outstanding",
          "LAESTAB": 8464016,
          "School name": "Dorothy Stringer School",
          "id": "BN1 6PZ"
         },
         "type": "Feature"
        },
        {
         "geometry": {
          "coordinates": [
           -0.0673,
           50.819
          ],
          "type": "Point"
         },
         "properties": {
          "2000": "Good",
          "2001": "Outstanding",
          "2002": "Good",
          "2003": "Good",
          "2004": "Good",
          "2005": "Good",
          "2006": "Good",
          "2007": "Good",
          "2008": "Good",
          "2009": "Good",
          "2010": "Good",
          "2011": "Poor",
          "2012": "Poor",
          "2013": "Poor",
          "2014": "Good",
          "2015": "Poor",
          "2016": "Poor",
          "2017": "Poor",
          "2018": "Poor",
          "2019": "Poor",
          "LAESTAB": 8464018,
          "School name": "Longhill High School",
          "id": "BN2 7FR"
         },
         "type": "Feature"
        },
        {
         "geometry": {
          "coordinates": [
           -0.184,
           50.8453
          ],
          "type": "Point"
         },
         "properties": {
          "2000": "Good",
          "2001": "Good",
          "2002": "Good",
          "2003": "Outstanding",
          "2004": "Good",
          "2005": "Outstanding",
          "2006": "Good",
          "2007": "Outstanding",
          "2008": "Outstanding",
          "2009": "Outstanding",
          "2010": "Outstanding",
          "2011": "Outstanding",
          "2012": "Outstanding",
          "2013": "Outstanding",
          "2014": "Outstanding",
          "2015": "Outstanding",
          "2016": "Outstanding",
          "2017": "Outstanding",
          "2018": "Good",
          "2019": "Outstanding",
          "LAESTAB": 8464067,
          "School name": "Blatchington Mill School",
          "id": "BN3 7BW"
         },
         "type": "Feature"
        },
        {
         "geometry": {
          "coordinates": [
           -0.1796,
           50.8409
          ],
          "type": "Point"
         },
         "properties": {
          "2000": "Good",
          "2001": "Good",
          "2002": "Good",
          "2003": "Poor",
          "2004": "Poor",
          "2005": "Poor",
          "2006": "Poor",
          "2007": "Good",
          "2008": "Good",
          "2009": "Poor",
          "2010": "Good",
          "2011": "Good",
          "2012": "Good",
          "2013": "Good",
          "2014": "Good",
          "2015": "Good",
          "2016": "Good",
          "2017": "Good",
          "2018": "Good",
          "2019": "Good",
          "LAESTAB": 8464068,
          "School name": "Hove Park School and Sixth Form Centre",
          "id": "BN3 7BN"
         },
         "type": "Feature"
        }
       ],
       "type": "FeatureCollection"
      },
      "text/html": [
       "<table class=\"dataframe\">\n",
       "<caption>A sf: 6 × 24</caption>\n",
       "<thead>\n",
       "\t<tr><th scope=col>LAESTAB</th><th scope=col>School name</th><th scope=col>id</th><th scope=col>2000</th><th scope=col>2001</th><th scope=col>2002</th><th scope=col>2003</th><th scope=col>2004</th><th scope=col>2005</th><th scope=col>2006</th><th scope=col>geometry</th><th scope=col>⋯</th><th scope=col>2011</th><th scope=col>2012</th><th scope=col>2013</th><th scope=col>2014</th><th scope=col>2015</th><th scope=col>2016</th><th scope=col>2017</th><th scope=col>2018</th><th scope=col>2019</th><th scope=col>geometry</th></tr>\n",
       "\t<tr><th scope=col>&lt;dbl&gt;</th><th scope=col>&lt;chr&gt;</th><th scope=col>&lt;chr&gt;</th><th scope=col>&lt;chr&gt;</th><th scope=col>&lt;chr&gt;</th><th scope=col>&lt;chr&gt;</th><th scope=col>&lt;chr&gt;</th><th scope=col>&lt;chr&gt;</th><th scope=col>&lt;chr&gt;</th><th scope=col>&lt;chr&gt;</th><th scope=col>⋯</th><th scope=col>&lt;chr&gt;</th><th scope=col>&lt;chr&gt;</th><th scope=col>&lt;chr&gt;</th><th scope=col>&lt;chr&gt;</th><th scope=col>&lt;chr&gt;</th><th scope=col>&lt;chr&gt;</th><th scope=col>&lt;chr&gt;</th><th scope=col>&lt;chr&gt;</th><th scope=col>&lt;chr&gt;</th><th scope=col>&lt;POINT [°]&gt;</th></tr>\n",
       "</thead>\n",
       "<tbody>\n",
       "\t<tr><td>8464605</td><td>Cardinal Newman Catholic School       </td><td>BN3 6ND</td><td>Outstanding</td><td>Outstanding</td><td>Outstanding</td><td>Outstanding</td><td>Outstanding</td><td>Good       </td><td>Outstanding</td><td>POINT (-0.158368 50.83681)</td><td>⋯</td><td>Outstanding</td><td>Outstanding</td><td>Outstanding</td><td>Outstanding</td><td>Outstanding</td><td>Outstanding</td><td>Outstanding</td><td>Outstanding</td><td>Outstanding</td><td>POINT (-0.158368 50.83681)</td></tr>\n",
       "\t<tr><td>8464012</td><td>Varndean School                       </td><td>BN1 6NP</td><td>Outstanding</td><td>Good       </td><td>Outstanding</td><td>Good       </td><td>Outstanding</td><td>Outstanding</td><td>Outstanding</td><td>POINT (-0.137138 50.8503)</td><td>⋯</td><td>Outstanding</td><td>Good       </td><td>Good       </td><td>Good       </td><td>Good       </td><td>Good       </td><td>Good       </td><td>Outstanding</td><td>Good       </td><td>POINT (-0.137138 50.8503)</td></tr>\n",
       "\t<tr><td>8464016</td><td>Dorothy Stringer School               </td><td>BN1 6PZ</td><td>Outstanding</td><td>Outstanding</td><td>Outstanding</td><td>Good       </td><td>Outstanding</td><td>Outstanding</td><td>Outstanding</td><td>POINT (-0.143414 50.84895)</td><td>⋯</td><td>Outstanding</td><td>Outstanding</td><td>Outstanding</td><td>Outstanding</td><td>Outstanding</td><td>Outstanding</td><td>Outstanding</td><td>Outstanding</td><td>Outstanding</td><td>POINT (-0.143414 50.84895)</td></tr>\n",
       "\t<tr><td>8464018</td><td>Longhill High School                  </td><td>BN2 7FR</td><td>Good       </td><td>Outstanding</td><td>Good       </td><td>Good       </td><td>Good       </td><td>Good       </td><td>Good       </td><td>POINT (-0.06727 50.819)</td><td>⋯</td><td>Poor       </td><td>Poor       </td><td>Poor       </td><td>Good       </td><td>Poor       </td><td>Poor       </td><td>Poor       </td><td>Poor       </td><td>Poor       </td><td>POINT (-0.06727 50.819)</td></tr>\n",
       "\t<tr><td>8464067</td><td>Blatchington Mill School              </td><td>BN3 7BW</td><td>Good       </td><td>Good       </td><td>Good       </td><td>Outstanding</td><td>Good       </td><td>Outstanding</td><td>Good       </td><td>POINT (-0.184029 50.8453)</td><td>⋯</td><td>Outstanding</td><td>Outstanding</td><td>Outstanding</td><td>Outstanding</td><td>Outstanding</td><td>Outstanding</td><td>Outstanding</td><td>Good       </td><td>Outstanding</td><td>POINT (-0.184029 50.8453)</td></tr>\n",
       "\t<tr><td>8464068</td><td>Hove Park School and Sixth Form Centre</td><td>BN3 7BN</td><td>Good       </td><td>Good       </td><td>Good       </td><td>Poor       </td><td>Poor       </td><td>Poor       </td><td>Poor       </td><td>POINT (-0.179613 50.84087)</td><td>⋯</td><td>Good       </td><td>Good       </td><td>Good       </td><td>Good       </td><td>Good       </td><td>Good       </td><td>Good       </td><td>Good       </td><td>Good       </td><td>POINT (-0.179613 50.84087)</td></tr>\n",
       "</tbody>\n",
       "</table>\n"
      ],
      "text/latex": [
       "A sf: 6 × 24\n",
       "\\begin{tabular}{lllllllllllllllllllll}\n",
       " LAESTAB & School name & id & 2000 & 2001 & 2002 & 2003 & 2004 & 2005 & 2006 & geometry & ⋯ & 2011 & 2012 & 2013 & 2014 & 2015 & 2016 & 2017 & 2018 & 2019 & geometry\\\\\n",
       " <dbl> & <chr> & <chr> & <chr> & <chr> & <chr> & <chr> & <chr> & <chr> & <chr> & ⋯ & <chr> & <chr> & <chr> & <chr> & <chr> & <chr> & <chr> & <chr> & <chr> & <POINT {[}°{]}>\\\\\n",
       "\\hline\n",
       "\t 8464605 & Cardinal Newman Catholic School        & BN3 6ND & Outstanding & Outstanding & Outstanding & Outstanding & Outstanding & Good        & Outstanding & POINT (-0.158368 50.83681) & ⋯ & Outstanding & Outstanding & Outstanding & Outstanding & Outstanding & Outstanding & Outstanding & Outstanding & Outstanding & POINT (-0.158368 50.83681)\\\\\n",
       "\t 8464012 & Varndean School                        & BN1 6NP & Outstanding & Good        & Outstanding & Good        & Outstanding & Outstanding & Outstanding & POINT (-0.137138 50.8503) & ⋯ & Outstanding & Good        & Good        & Good        & Good        & Good        & Good        & Outstanding & Good        & POINT (-0.137138 50.8503)\\\\\n",
       "\t 8464016 & Dorothy Stringer School                & BN1 6PZ & Outstanding & Outstanding & Outstanding & Good        & Outstanding & Outstanding & Outstanding & POINT (-0.143414 50.84895) & ⋯ & Outstanding & Outstanding & Outstanding & Outstanding & Outstanding & Outstanding & Outstanding & Outstanding & Outstanding & POINT (-0.143414 50.84895)\\\\\n",
       "\t 8464018 & Longhill High School                   & BN2 7FR & Good        & Outstanding & Good        & Good        & Good        & Good        & Good        & POINT (-0.06727 50.819) & ⋯ & Poor        & Poor        & Poor        & Good        & Poor        & Poor        & Poor        & Poor        & Poor        & POINT (-0.06727 50.819)\\\\\n",
       "\t 8464067 & Blatchington Mill School               & BN3 7BW & Good        & Good        & Good        & Outstanding & Good        & Outstanding & Good        & POINT (-0.184029 50.8453) & ⋯ & Outstanding & Outstanding & Outstanding & Outstanding & Outstanding & Outstanding & Outstanding & Good        & Outstanding & POINT (-0.184029 50.8453)\\\\\n",
       "\t 8464068 & Hove Park School and Sixth Form Centre & BN3 7BN & Good        & Good        & Good        & Poor        & Poor        & Poor        & Poor        & POINT (-0.179613 50.84087) & ⋯ & Good        & Good        & Good        & Good        & Good        & Good        & Good        & Good        & Good        & POINT (-0.179613 50.84087)\\\\\n",
       "\\end{tabular}\n"
      ],
      "text/markdown": [
       "\n",
       "A sf: 6 × 24\n",
       "\n",
       "| LAESTAB &lt;dbl&gt; | School name &lt;chr&gt; | id &lt;chr&gt; | 2000 &lt;chr&gt; | 2001 &lt;chr&gt; | 2002 &lt;chr&gt; | 2003 &lt;chr&gt; | 2004 &lt;chr&gt; | 2005 &lt;chr&gt; | 2006 &lt;chr&gt; | geometry ⋯ | ⋯ &lt;chr&gt; | 2011 &lt;chr&gt; | 2012 &lt;chr&gt; | 2013 &lt;chr&gt; | 2014 &lt;chr&gt; | 2015 &lt;chr&gt; | 2016 &lt;chr&gt; | 2017 &lt;chr&gt; | 2018 &lt;chr&gt; | 2019 &lt;POINT [°]&gt; | geometry &lt;dbl&gt; |\n",
       "|---|---|---|---|---|---|---|---|---|---|---|---|---|---|---|---|---|---|---|---|---|\n",
       "| 8464605 | Cardinal Newman Catholic School        | BN3 6ND | Outstanding | Outstanding | Outstanding | Outstanding | Outstanding | Good        | Outstanding | POINT (-0.158368 50.83681) | ⋯ | Outstanding | Outstanding | Outstanding | Outstanding | Outstanding | Outstanding | Outstanding | Outstanding | Outstanding | POINT (-0.158368 50.83681) |\n",
       "| 8464012 | Varndean School                        | BN1 6NP | Outstanding | Good        | Outstanding | Good        | Outstanding | Outstanding | Outstanding | POINT (-0.137138 50.8503) | ⋯ | Outstanding | Good        | Good        | Good        | Good        | Good        | Good        | Outstanding | Good        | POINT (-0.137138 50.8503) |\n",
       "| 8464016 | Dorothy Stringer School                | BN1 6PZ | Outstanding | Outstanding | Outstanding | Good        | Outstanding | Outstanding | Outstanding | POINT (-0.143414 50.84895) | ⋯ | Outstanding | Outstanding | Outstanding | Outstanding | Outstanding | Outstanding | Outstanding | Outstanding | Outstanding | POINT (-0.143414 50.84895) |\n",
       "| 8464018 | Longhill High School                   | BN2 7FR | Good        | Outstanding | Good        | Good        | Good        | Good        | Good        | POINT (-0.06727 50.819) | ⋯ | Poor        | Poor        | Poor        | Good        | Poor        | Poor        | Poor        | Poor        | Poor        | POINT (-0.06727 50.819) |\n",
       "| 8464067 | Blatchington Mill School               | BN3 7BW | Good        | Good        | Good        | Outstanding | Good        | Outstanding | Good        | POINT (-0.184029 50.8453) | ⋯ | Outstanding | Outstanding | Outstanding | Outstanding | Outstanding | Outstanding | Outstanding | Good        | Outstanding | POINT (-0.184029 50.8453) |\n",
       "| 8464068 | Hove Park School and Sixth Form Centre | BN3 7BN | Good        | Good        | Good        | Poor        | Poor        | Poor        | Poor        | POINT (-0.179613 50.84087) | ⋯ | Good        | Good        | Good        | Good        | Good        | Good        | Good        | Good        | Good        | POINT (-0.179613 50.84087) |\n",
       "\n"
      ],
      "text/plain": [
       "  LAESTAB School name                            id      2000       \n",
       "1 8464605 Cardinal Newman Catholic School        BN3 6ND Outstanding\n",
       "2 8464012 Varndean School                        BN1 6NP Outstanding\n",
       "3 8464016 Dorothy Stringer School                BN1 6PZ Outstanding\n",
       "4 8464018 Longhill High School                   BN2 7FR Good       \n",
       "5 8464067 Blatchington Mill School               BN3 7BW Good       \n",
       "6 8464068 Hove Park School and Sixth Form Centre BN3 7BN Good       \n",
       "  2001        2002        2003        2004        2005        2006        ⋯\n",
       "1 Outstanding Outstanding Outstanding Outstanding Good        Outstanding ⋯\n",
       "2 Good        Outstanding Good        Outstanding Outstanding Outstanding ⋯\n",
       "3 Outstanding Outstanding Good        Outstanding Outstanding Outstanding ⋯\n",
       "4 Outstanding Good        Good        Good        Good        Good        ⋯\n",
       "5 Good        Good        Outstanding Good        Outstanding Good        ⋯\n",
       "6 Good        Good        Poor        Poor        Poor        Poor        ⋯\n",
       "  2011        2012        2013        2014        2015        2016       \n",
       "1 Outstanding Outstanding Outstanding Outstanding Outstanding Outstanding\n",
       "2 Outstanding Good        Good        Good        Good        Good       \n",
       "3 Outstanding Outstanding Outstanding Outstanding Outstanding Outstanding\n",
       "4 Poor        Poor        Poor        Good        Poor        Poor       \n",
       "5 Outstanding Outstanding Outstanding Outstanding Outstanding Outstanding\n",
       "6 Good        Good        Good        Good        Good        Good       \n",
       "  2017        2018        2019        geometry                  \n",
       "1 Outstanding Outstanding Outstanding POINT (-0.158368 50.83681)\n",
       "2 Good        Outstanding Good        POINT (-0.137138 50.8503) \n",
       "3 Outstanding Outstanding Outstanding POINT (-0.143414 50.84895)\n",
       "4 Poor        Poor        Poor        POINT (-0.06727 50.819)   \n",
       "5 Outstanding Good        Outstanding POINT (-0.184029 50.8453) \n",
       "6 Good        Good        Good        POINT (-0.179613 50.84087)"
      ]
     },
     "metadata": {},
     "output_type": "display_data"
    }
   ],
   "source": [
    "head(sec_schools_geocoded)"
   ]
  },
  {
   "cell_type": "code",
   "execution_count": 35,
   "id": "db41e647",
   "metadata": {},
   "outputs": [],
   "source": [
    "good_2000 <- sec_schools_geocoded[sec_schools_geocoded$`2000` %in% c(\"Good\", \"Outstanding\"), ]"
   ]
  },
  {
   "cell_type": "code",
   "execution_count": 36,
   "id": "ca974c58",
   "metadata": {},
   "outputs": [
    {
     "data": {
      "text/html": [
       "<table class=\"dataframe\">\n",
       "<caption>A data.table: 6 × 3</caption>\n",
       "<thead>\n",
       "\t<tr><th scope=col>from_id</th><th scope=col>to_id</th><th scope=col>travel_time_p50</th></tr>\n",
       "\t<tr><th scope=col>&lt;chr&gt;</th><th scope=col>&lt;chr&gt;</th><th scope=col>&lt;int&gt;</th></tr>\n",
       "</thead>\n",
       "<tbody>\n",
       "\t<tr><td>BN3 6ND</td><td>BN1 3AG</td><td>30</td></tr>\n",
       "\t<tr><td>BN3 6ND</td><td>BN1 3AH</td><td>29</td></tr>\n",
       "\t<tr><td>BN3 6ND</td><td>BN1 3AJ</td><td>30</td></tr>\n",
       "\t<tr><td>BN3 6ND</td><td>BN1 3AP</td><td>29</td></tr>\n",
       "\t<tr><td>BN3 6ND</td><td>BN1 3AQ</td><td>29</td></tr>\n",
       "\t<tr><td>BN3 6ND</td><td>BN1 3AU</td><td>30</td></tr>\n",
       "</tbody>\n",
       "</table>\n"
      ],
      "text/latex": [
       "A data.table: 6 × 3\n",
       "\\begin{tabular}{lll}\n",
       " from\\_id & to\\_id & travel\\_time\\_p50\\\\\n",
       " <chr> & <chr> & <int>\\\\\n",
       "\\hline\n",
       "\t BN3 6ND & BN1 3AG & 30\\\\\n",
       "\t BN3 6ND & BN1 3AH & 29\\\\\n",
       "\t BN3 6ND & BN1 3AJ & 30\\\\\n",
       "\t BN3 6ND & BN1 3AP & 29\\\\\n",
       "\t BN3 6ND & BN1 3AQ & 29\\\\\n",
       "\t BN3 6ND & BN1 3AU & 30\\\\\n",
       "\\end{tabular}\n"
      ],
      "text/markdown": [
       "\n",
       "A data.table: 6 × 3\n",
       "\n",
       "| from_id &lt;chr&gt; | to_id &lt;chr&gt; | travel_time_p50 &lt;int&gt; |\n",
       "|---|---|---|\n",
       "| BN3 6ND | BN1 3AG | 30 |\n",
       "| BN3 6ND | BN1 3AH | 29 |\n",
       "| BN3 6ND | BN1 3AJ | 30 |\n",
       "| BN3 6ND | BN1 3AP | 29 |\n",
       "| BN3 6ND | BN1 3AQ | 29 |\n",
       "| BN3 6ND | BN1 3AU | 30 |\n",
       "\n"
      ],
      "text/plain": [
       "  from_id to_id   travel_time_p50\n",
       "1 BN3 6ND BN1 3AG 30             \n",
       "2 BN3 6ND BN1 3AH 29             \n",
       "3 BN3 6ND BN1 3AJ 30             \n",
       "4 BN3 6ND BN1 3AP 29             \n",
       "5 BN3 6ND BN1 3AQ 29             \n",
       "6 BN3 6ND BN1 3AU 30             "
      ]
     },
     "metadata": {},
     "output_type": "display_data"
    }
   ],
   "source": [
    "# Set parameters\n",
    "mode = c(\"WALK\")\n",
    "max_walk_time = 30 # minutes\n",
    "max_trip_duration = 30 # minutes\n",
    "departure_datetime = as.POSIXct(\"01-12-2022 8:30:00\",\n",
    "                                 format = \"%d-%m-%Y %H:%M:%S\")\n",
    "\n",
    "# Calculate the travel time matrix by Transit\n",
    "ttm_good_walk = travel_time_matrix(r5r_core = r5r_core,\n",
    "                          origins = sec_schools_geocoded,\n",
    "                          destinations = brighton_houses,\n",
    "                          mode = mode,\n",
    "                          departure_datetime = departure_datetime,\n",
    "                          max_walk_time = max_walk_time,\n",
    "                          max_trip_duration = max_trip_duration)\n",
    "\n",
    "head(ttm_good_walk)"
   ]
  },
  {
   "cell_type": "code",
   "execution_count": 37,
   "id": "74a62a4b",
   "metadata": {},
   "outputs": [],
   "source": [
    "ttm_good_walk <- ttm_good_walk %>%\n",
    "  group_by(to_id) %>% \n",
    "  arrange(travel_time_p50) %>%\n",
    "  slice_head(n = 1) %>% \n",
    "  ungroup()"
   ]
  },
  {
   "cell_type": "code",
   "execution_count": 38,
   "id": "6920d846",
   "metadata": {},
   "outputs": [
    {
     "name": "stdout",
     "output_type": "stream",
     "text": [
      "Simple feature collection with 3902 features and 5 fields\n",
      "Geometry type: POINT\n",
      "Dimension:     XY\n",
      "Bounding box:  xmin: -0.235465 ymin: 50.80051 xmax: -0.02655 ymax: 50.87138\n",
      "Geodetic CRS:  WGS 84\n",
      "First 10 features:\n",
      "        id   to_id walk_nearest_sec from_id travel_time_p50\n",
      "1  BN1 1AD BN3 6ND               50    <NA>              NA\n",
      "2  BN1 1AJ BN3 6ND               50    <NA>              NA\n",
      "3  BN1 1AL BN3 6ND               49    <NA>              NA\n",
      "4  BN1 1AN BN3 6ND               47    <NA>              NA\n",
      "5  BN1 1AP BN3 6ND               51    <NA>              NA\n",
      "6  BN1 1BG BN3 6ND               48    <NA>              NA\n",
      "7  BN1 1EA BN3 6ND               51    <NA>              NA\n",
      "8  BN1 1EG BN3 6ND               53    <NA>              NA\n",
      "9  BN1 1EH BN3 6ND               53    <NA>              NA\n",
      "10 BN1 1EJ BN3 6ND               56    <NA>              NA\n",
      "                     geometry\n",
      "1  POINT (-0.142167 50.82169)\n",
      "2   POINT (-0.14256 50.82145)\n",
      "3  POINT (-0.142961 50.82136)\n",
      "4    POINT (-0.1435 50.82209)\n",
      "5   POINT (-0.143707 50.8208)\n",
      "6    POINT (-0.1421 50.82231)\n",
      "7   POINT (-0.13946 50.82263)\n",
      "8  POINT (-0.138162 50.82136)\n",
      "9  POINT (-0.137542 50.82162)\n",
      "10 POINT (-0.136211 50.82151)\n"
     ]
    }
   ],
   "source": [
    "# Check for duplicates in 'id' column of df1\n",
    "duplicates_ttm_good_walk <- duplicated(ttm_good_walk$to_id)\n",
    "# Check for duplicates in 'id' column of df2\n",
    "duplicates_brighton_houses <- duplicated(brighton_houses$id)\n",
    "\n",
    "# Check if there are duplicates in df1 or df2\n",
    "if (any(duplicates_ttm_good_walk) || any(duplicates_brighton_houses)) {\n",
    "  print(\"Duplicates found! Please handle duplicates before performing left join.\")\n",
    "} else {\n",
    "  # Perform the left join, walk time bands from rail station to postcodes\n",
    "  brighton_houses <- left_join(brighton_houses, ttm_good_walk, by=c(id = \"to_id\"))\n",
    "  # Print the resulting merged data frame\n",
    "  print(brighton_houses)\n",
    "}"
   ]
  },
  {
   "cell_type": "code",
   "execution_count": 39,
   "id": "d9323bef",
   "metadata": {},
   "outputs": [
    {
     "data": {
      "application/geo+json": {
       "features": [
        {
         "geometry": {
          "coordinates": [
           -0.1422,
           50.8217
          ],
          "type": "Point"
         },
         "properties": {
          "from_id": null,
          "good_walk_2000": null,
          "id": "BN1 1AD",
          "to_id": "BN3 6ND",
          "travel_time_p50": "NA",
          "walk_nearest_sec": 50
         },
         "type": "Feature"
        },
        {
         "geometry": {
          "coordinates": [
           -0.1426,
           50.8215
          ],
          "type": "Point"
         },
         "properties": {
          "from_id": null,
          "good_walk_2000": null,
          "id": "BN1 1AJ",
          "to_id": "BN3 6ND",
          "travel_time_p50": "NA",
          "walk_nearest_sec": 50
         },
         "type": "Feature"
        },
        {
         "geometry": {
          "coordinates": [
           -0.143,
           50.8214
          ],
          "type": "Point"
         },
         "properties": {
          "from_id": null,
          "good_walk_2000": null,
          "id": "BN1 1AL",
          "to_id": "BN3 6ND",
          "travel_time_p50": "NA",
          "walk_nearest_sec": 49
         },
         "type": "Feature"
        },
        {
         "geometry": {
          "coordinates": [
           -0.1435,
           50.8221
          ],
          "type": "Point"
         },
         "properties": {
          "from_id": null,
          "good_walk_2000": null,
          "id": "BN1 1AN",
          "to_id": "BN3 6ND",
          "travel_time_p50": "NA",
          "walk_nearest_sec": 47
         },
         "type": "Feature"
        },
        {
         "geometry": {
          "coordinates": [
           -0.1437,
           50.8208
          ],
          "type": "Point"
         },
         "properties": {
          "from_id": null,
          "good_walk_2000": null,
          "id": "BN1 1AP",
          "to_id": "BN3 6ND",
          "travel_time_p50": "NA",
          "walk_nearest_sec": 51
         },
         "type": "Feature"
        },
        {
         "geometry": {
          "coordinates": [
           -0.1421,
           50.8223
          ],
          "type": "Point"
         },
         "properties": {
          "from_id": null,
          "good_walk_2000": null,
          "id": "BN1 1BG",
          "to_id": "BN3 6ND",
          "travel_time_p50": "NA",
          "walk_nearest_sec": 48
         },
         "type": "Feature"
        }
       ],
       "type": "FeatureCollection"
      },
      "text/html": [
       "<table class=\"dataframe\">\n",
       "<caption>A sf: 6 × 7</caption>\n",
       "<thead>\n",
       "\t<tr><th></th><th scope=col>id</th><th scope=col>to_id</th><th scope=col>walk_nearest_sec</th><th scope=col>from_id</th><th scope=col>travel_time_p50</th><th scope=col>geometry</th><th scope=col>good_walk_2000</th></tr>\n",
       "\t<tr><th></th><th scope=col>&lt;chr&gt;</th><th scope=col>&lt;chr&gt;</th><th scope=col>&lt;int&gt;</th><th scope=col>&lt;chr&gt;</th><th scope=col>&lt;int&gt;</th><th scope=col>&lt;POINT [°]&gt;</th><th scope=col>&lt;fct&gt;</th></tr>\n",
       "</thead>\n",
       "<tbody>\n",
       "\t<tr><th scope=row>1</th><td>BN1 1AD</td><td>BN3 6ND</td><td>50</td><td>NA</td><td>NA</td><td>POINT (-0.142167 50.82169)</td><td>NA</td></tr>\n",
       "\t<tr><th scope=row>2</th><td>BN1 1AJ</td><td>BN3 6ND</td><td>50</td><td>NA</td><td>NA</td><td>POINT (-0.14256 50.82145)</td><td>NA</td></tr>\n",
       "\t<tr><th scope=row>3</th><td>BN1 1AL</td><td>BN3 6ND</td><td>49</td><td>NA</td><td>NA</td><td>POINT (-0.142961 50.82136)</td><td>NA</td></tr>\n",
       "\t<tr><th scope=row>4</th><td>BN1 1AN</td><td>BN3 6ND</td><td>47</td><td>NA</td><td>NA</td><td>POINT (-0.1435 50.82209)</td><td>NA</td></tr>\n",
       "\t<tr><th scope=row>5</th><td>BN1 1AP</td><td>BN3 6ND</td><td>51</td><td>NA</td><td>NA</td><td>POINT (-0.143707 50.8208)</td><td>NA</td></tr>\n",
       "\t<tr><th scope=row>6</th><td>BN1 1BG</td><td>BN3 6ND</td><td>48</td><td>NA</td><td>NA</td><td>POINT (-0.1421 50.82231)</td><td>NA</td></tr>\n",
       "</tbody>\n",
       "</table>\n"
      ],
      "text/latex": [
       "A sf: 6 × 7\n",
       "\\begin{tabular}{r|lllllll}\n",
       "  & id & to\\_id & walk\\_nearest\\_sec & from\\_id & travel\\_time\\_p50 & geometry & good\\_walk\\_2000\\\\\n",
       "  & <chr> & <chr> & <int> & <chr> & <int> & <POINT {[}°{]}> & <fct>\\\\\n",
       "\\hline\n",
       "\t1 & BN1 1AD & BN3 6ND & 50 & NA & NA & POINT (-0.142167 50.82169) & NA\\\\\n",
       "\t2 & BN1 1AJ & BN3 6ND & 50 & NA & NA & POINT (-0.14256 50.82145) & NA\\\\\n",
       "\t3 & BN1 1AL & BN3 6ND & 49 & NA & NA & POINT (-0.142961 50.82136) & NA\\\\\n",
       "\t4 & BN1 1AN & BN3 6ND & 47 & NA & NA & POINT (-0.1435 50.82209) & NA\\\\\n",
       "\t5 & BN1 1AP & BN3 6ND & 51 & NA & NA & POINT (-0.143707 50.8208) & NA\\\\\n",
       "\t6 & BN1 1BG & BN3 6ND & 48 & NA & NA & POINT (-0.1421 50.82231) & NA\\\\\n",
       "\\end{tabular}\n"
      ],
      "text/markdown": [
       "\n",
       "A sf: 6 × 7\n",
       "\n",
       "| <!--/--> | id &lt;chr&gt; | to_id &lt;chr&gt; | walk_nearest_sec &lt;int&gt; | from_id &lt;chr&gt; | travel_time_p50 &lt;int&gt; | geometry &lt;POINT [°]&gt; | good_walk_2000 &lt;fct&gt; |\n",
       "|---|---|---|---|---|---|---|---|\n",
       "| 1 | BN1 1AD | BN3 6ND | 50 | NA | NA | POINT (-0.142167 50.82169) | NA |\n",
       "| 2 | BN1 1AJ | BN3 6ND | 50 | NA | NA | POINT (-0.14256 50.82145) | NA |\n",
       "| 3 | BN1 1AL | BN3 6ND | 49 | NA | NA | POINT (-0.142961 50.82136) | NA |\n",
       "| 4 | BN1 1AN | BN3 6ND | 47 | NA | NA | POINT (-0.1435 50.82209) | NA |\n",
       "| 5 | BN1 1AP | BN3 6ND | 51 | NA | NA | POINT (-0.143707 50.8208) | NA |\n",
       "| 6 | BN1 1BG | BN3 6ND | 48 | NA | NA | POINT (-0.1421 50.82231) | NA |\n",
       "\n"
      ],
      "text/plain": [
       "  id      to_id   walk_nearest_sec from_id travel_time_p50\n",
       "1 BN1 1AD BN3 6ND 50               NA      NA             \n",
       "2 BN1 1AJ BN3 6ND 50               NA      NA             \n",
       "3 BN1 1AL BN3 6ND 49               NA      NA             \n",
       "4 BN1 1AN BN3 6ND 47               NA      NA             \n",
       "5 BN1 1AP BN3 6ND 51               NA      NA             \n",
       "6 BN1 1BG BN3 6ND 48               NA      NA             \n",
       "  geometry                   good_walk_2000\n",
       "1 POINT (-0.142167 50.82169) NA            \n",
       "2 POINT (-0.14256 50.82145)  NA            \n",
       "3 POINT (-0.142961 50.82136) NA            \n",
       "4 POINT (-0.1435 50.82209)   NA            \n",
       "5 POINT (-0.143707 50.8208)  NA            \n",
       "6 POINT (-0.1421 50.82231)   NA            "
      ]
     },
     "metadata": {},
     "output_type": "display_data"
    }
   ],
   "source": [
    "# Create a new categorical column based on travel time\n",
    "# Define the breaks for the bands (including endpoints)\n",
    "breaks <- c(0, 5, 10, 15, 20, 25, 30)\n",
    "#, 25, 30)\n",
    "\n",
    "# Define the labels for each band\n",
    "labels <- c(\"0-5_mins\", \"5-10_mins\", \"10-15_mins\", \"15-20_mins\", \"20-25_mins\", \"25-30_mins\")\n",
    "\n",
    "# Create the categorical column based on travel time bands\n",
    "brighton_houses$good_walk_2000 <- cut(brighton_houses$travel_time_p50, breaks = breaks, labels = labels, include.lowest = TRUE, right = FALSE)\n",
    "\n",
    "# Print the updated data frame\n",
    "head(brighton_houses)"
   ]
  },
  {
   "cell_type": "code",
   "execution_count": 40,
   "id": "21e3c243",
   "metadata": {},
   "outputs": [
    {
     "name": "stdout",
     "output_type": "stream",
     "text": [
      "Simple feature collection with 3902 features and 4 fields\n",
      "Geometry type: POINT\n",
      "Dimension:     XY\n",
      "Bounding box:  xmin: -0.235465 ymin: 50.80051 xmax: -0.02655 ymax: 50.87138\n",
      "Geodetic CRS:  WGS 84\n",
      "First 10 features:\n",
      "        id   to_id walk_nearest_sec                   geometry good_walk_2000\n",
      "1  BN1 1AD BN3 6ND               50 POINT (-0.142167 50.82169)           <NA>\n",
      "2  BN1 1AJ BN3 6ND               50  POINT (-0.14256 50.82145)           <NA>\n",
      "3  BN1 1AL BN3 6ND               49 POINT (-0.142961 50.82136)           <NA>\n",
      "4  BN1 1AN BN3 6ND               47   POINT (-0.1435 50.82209)           <NA>\n",
      "5  BN1 1AP BN3 6ND               51  POINT (-0.143707 50.8208)           <NA>\n",
      "6  BN1 1BG BN3 6ND               48   POINT (-0.1421 50.82231)           <NA>\n",
      "7  BN1 1EA BN3 6ND               51  POINT (-0.13946 50.82263)           <NA>\n",
      "8  BN1 1EG BN3 6ND               53 POINT (-0.138162 50.82136)           <NA>\n",
      "9  BN1 1EH BN3 6ND               53 POINT (-0.137542 50.82162)           <NA>\n",
      "10 BN1 1EJ BN3 6ND               56 POINT (-0.136211 50.82151)           <NA>\n"
     ]
    }
   ],
   "source": [
    "## Drop the columns from_id and travel_time_p50\n",
    "brighton_houses <- brighton_houses[, !(names(brighton_houses) %in% c('from_id', 'travel_time_p50'))]\n",
    "\n",
    "# Print the updated data frame\n",
    "print(brighton_houses)"
   ]
  },
  {
   "cell_type": "code",
   "execution_count": 41,
   "id": "ab726771",
   "metadata": {},
   "outputs": [
    {
     "data": {
      "image/png": "[encoded data removed]",
      "text/plain": [
       "plot without title"
      ]
     },
     "metadata": {
      "image/png": {
       "height": 420,
       "width": 420
      }
     },
     "output_type": "display_data"
    }
   ],
   "source": [
    "tm_shape(brighton_houses) + tm_symbols(col=\"good_walk_2000\", size=0.2, border.lwd=0)"
   ]
  },
  {
   "cell_type": "markdown",
   "id": "86d01a5b",
   "metadata": {},
   "source": [
    "## Quality of secondary schools walking function"
   ]
  },
  {
   "cell_type": "code",
   "execution_count": 75,
   "id": "2aea0e9e",
   "metadata": {},
   "outputs": [],
   "source": [
    "walk_condense_data <- function(sec_schools_geocoded, brighton_houses, start_year, end_year) {\n",
    "  # Set parameters\n",
    "  mode <- c(\"WALK\")\n",
    "  max_walk_time <- 30 # minutes\n",
    "  max_trip_duration <- 30 # minutes\n",
    "  departure_datetime <- as.POSIXct(\"01-12-2022 8:30:00\", format = \"%d-%m-%Y %H:%M:%S\")\n",
    "  \n",
    "  for (year in start_year:end_year) {\n",
    "    # Extract rows with 'Good' or 'Outstanding' for the given year\n",
    "    good_year <- paste0(year)\n",
    "    good_data <- sec_schools_geocoded[sec_schools_geocoded[[good_year]] %in% c(\"Good\", \"Outstanding\"), ]\n",
    "    \n",
    "    # Calculate travel time matrix by transit\n",
    "    ttm_good_walk <- travel_time_matrix(r5r_core = r5r_core,\n",
    "                                        origins = good_data,\n",
    "                                        destinations = brighton_houses,\n",
    "                                        mode = mode,\n",
    "                                        departure_datetime = departure_datetime,\n",
    "                                        max_walk_time = max_walk_time,\n",
    "                                        max_trip_duration = max_trip_duration)\n",
    "    # Remove duplicates from each postcode (in case a postcode is within 30 mins walking from more than 1 Good/Oustanding schools)\n",
    "      #from_id = schools, to_id = houses/postcodes\n",
    "      ttm_good_walk <- ttm_good_walk %>%\n",
    "      group_by(to_id) %>% \n",
    "      arrange(travel_time_p50) %>%\n",
    "      slice_head(n = 1) %>% \n",
    "      ungroup()\n",
    "      \n",
    "    # Remove duplicates in 'to_id' column\n",
    "    duplicates_ttm_good_walk <- duplicated(ttm_good_walk$to_id)\n",
    "    duplicates_brighton_houses <- duplicated(brighton_houses$id)\n",
    "    \n",
    "    if (any(duplicates_ttm_good_walk) || any(duplicates_brighton_houses)) {\n",
    "      print(\"Duplicates found! Please handle duplicates before performing the left join.\")\n",
    "      return(NULL)\n",
    "    } else {\n",
    "      # Perform left join to merge dataframes\n",
    "      brighton_houses <- left_join(brighton_houses, ttm_good_walk, by = c(\"id\" = \"to_id\"))\n",
    "    }\n",
    "    \n",
    "    # Create a new categorical column based on travel time\n",
    "    breaks <- c(0, 5, 10, 15, 20, 25, 30)\n",
    "    labels <- c(\"0-5_mins\", \"5-10_mins\", \"10-15_mins\", \"15-20_mins\", \"20-25_mins\", \"25-30_mins\")\n",
    "    brighton_houses[[paste0(year, \"_good_sec_walk\")]] <- cut(brighton_houses$travel_time_p50, breaks = breaks,\n",
    "                                                         labels = labels, include.lowest = TRUE, right = FALSE)\n",
    "    \n",
    "    # Drop unnecessary columns\n",
    "    brighton_houses <- brighton_houses[, !(names(brighton_houses) %in% c('from_id', 'travel_time_p50'))]\n",
    "  }\n",
    "  \n",
    "  return(brighton_houses)\n",
    "}"
   ]
  },
  {
   "cell_type": "code",
   "execution_count": 76,
   "id": "e43c1f5d",
   "metadata": {},
   "outputs": [],
   "source": [
    "result_walk <- walk_condense_data(sec_schools_geocoded, brighton_houses, 2000, 2019)"
   ]
  },
  {
   "cell_type": "code",
   "execution_count": 77,
   "id": "e787eb8a",
   "metadata": {},
   "outputs": [
    {
     "data": {
      "text/html": [
       "<style>\n",
       ".list-inline {list-style: none; margin:0; padding: 0}\n",
       ".list-inline>li {display: inline-block}\n",
       ".list-inline>li:not(:last-child)::after {content: \"\\00b7\"; padding: 0 .5ex}\n",
       "</style>\n",
       "<ol class=list-inline><li>'id'</li><li>'to_id'</li><li>'walk_nearest_sec'</li><li>'2000_good_sec_walk'</li><li>'2001_good_sec_walk'</li><li>'2002_good_sec_walk'</li><li>'2003_good_sec_walk'</li><li>'2004_good_sec_walk'</li><li>'2005_good_sec_walk'</li><li>'2006_good_sec_walk'</li><li>'2007_good_sec_walk'</li><li>'2008_good_sec_walk'</li><li>'2009_good_sec_walk'</li><li>'2010_good_sec_walk'</li><li>'2011_good_sec_walk'</li><li>'2012_good_sec_walk'</li><li>'2013_good_sec_walk'</li><li>'2014_good_sec_walk'</li><li>'2015_good_sec_walk'</li><li>'2016_good_sec_walk'</li><li>'2017_good_sec_walk'</li><li>'2018_good_sec_walk'</li><li>'geometry'</li><li>'2019_good_sec_walk'</li></ol>\n"
      ],
      "text/latex": [
       "\\begin{enumerate*}\n",
       "\\item 'id'\n",
       "\\item 'to\\_id'\n",
       "\\item 'walk\\_nearest\\_sec'\n",
       "\\item '2000\\_good\\_sec\\_walk'\n",
       "\\item '2001\\_good\\_sec\\_walk'\n",
       "\\item '2002\\_good\\_sec\\_walk'\n",
       "\\item '2003\\_good\\_sec\\_walk'\n",
       "\\item '2004\\_good\\_sec\\_walk'\n",
       "\\item '2005\\_good\\_sec\\_walk'\n",
       "\\item '2006\\_good\\_sec\\_walk'\n",
       "\\item '2007\\_good\\_sec\\_walk'\n",
       "\\item '2008\\_good\\_sec\\_walk'\n",
       "\\item '2009\\_good\\_sec\\_walk'\n",
       "\\item '2010\\_good\\_sec\\_walk'\n",
       "\\item '2011\\_good\\_sec\\_walk'\n",
       "\\item '2012\\_good\\_sec\\_walk'\n",
       "\\item '2013\\_good\\_sec\\_walk'\n",
       "\\item '2014\\_good\\_sec\\_walk'\n",
       "\\item '2015\\_good\\_sec\\_walk'\n",
       "\\item '2016\\_good\\_sec\\_walk'\n",
       "\\item '2017\\_good\\_sec\\_walk'\n",
       "\\item '2018\\_good\\_sec\\_walk'\n",
       "\\item 'geometry'\n",
       "\\item '2019\\_good\\_sec\\_walk'\n",
       "\\end{enumerate*}\n"
      ],
      "text/markdown": [
       "1. 'id'\n",
       "2. 'to_id'\n",
       "3. 'walk_nearest_sec'\n",
       "4. '2000_good_sec_walk'\n",
       "5. '2001_good_sec_walk'\n",
       "6. '2002_good_sec_walk'\n",
       "7. '2003_good_sec_walk'\n",
       "8. '2004_good_sec_walk'\n",
       "9. '2005_good_sec_walk'\n",
       "10. '2006_good_sec_walk'\n",
       "11. '2007_good_sec_walk'\n",
       "12. '2008_good_sec_walk'\n",
       "13. '2009_good_sec_walk'\n",
       "14. '2010_good_sec_walk'\n",
       "15. '2011_good_sec_walk'\n",
       "16. '2012_good_sec_walk'\n",
       "17. '2013_good_sec_walk'\n",
       "18. '2014_good_sec_walk'\n",
       "19. '2015_good_sec_walk'\n",
       "20. '2016_good_sec_walk'\n",
       "21. '2017_good_sec_walk'\n",
       "22. '2018_good_sec_walk'\n",
       "23. 'geometry'\n",
       "24. '2019_good_sec_walk'\n",
       "\n",
       "\n"
      ],
      "text/plain": [
       " [1] \"id\"                 \"to_id\"              \"walk_nearest_sec\"  \n",
       " [4] \"2000_good_sec_walk\" \"2001_good_sec_walk\" \"2002_good_sec_walk\"\n",
       " [7] \"2003_good_sec_walk\" \"2004_good_sec_walk\" \"2005_good_sec_walk\"\n",
       "[10] \"2006_good_sec_walk\" \"2007_good_sec_walk\" \"2008_good_sec_walk\"\n",
       "[13] \"2009_good_sec_walk\" \"2010_good_sec_walk\" \"2011_good_sec_walk\"\n",
       "[16] \"2012_good_sec_walk\" \"2013_good_sec_walk\" \"2014_good_sec_walk\"\n",
       "[19] \"2015_good_sec_walk\" \"2016_good_sec_walk\" \"2017_good_sec_walk\"\n",
       "[22] \"2018_good_sec_walk\" \"geometry\"           \"2019_good_sec_walk\""
      ]
     },
     "metadata": {},
     "output_type": "display_data"
    }
   ],
   "source": [
    "colnames(result_walk)"
   ]
  },
  {
   "cell_type": "code",
   "execution_count": 79,
   "id": "788462c3",
   "metadata": {},
   "outputs": [
    {
     "data": {
      "image/png": "[encoded data removed]",
      "text/plain": [
       "plot without title"
      ]
     },
     "metadata": {
      "image/png": {
       "height": 420,
       "width": 420
      }
     },
     "output_type": "display_data"
    }
   ],
   "source": [
    "tm_shape(result_walk) + tm_symbols(col=\"2010_good_sec_walk\", size=0.2, border.lwd=0)"
   ]
  },
  {
   "cell_type": "code",
   "execution_count": 80,
   "id": "7879b222",
   "metadata": {},
   "outputs": [],
   "source": [
    "# # ### Save \n",
    "# # Extract latitude and longitude coordinates from 'geometry' column\n",
    "# result_walk$latitude <- st_coordinates(st_geometry(result_walk))[ ,2]\n",
    "# result_walk$longitude <- st_coordinates(st_geometry(result_walk))[ ,1]\n",
    "\n",
    "# # Drop geom column\n",
    "# result_walk <- result_walk[, !names(result_walk) %in% \"geometry\"]\n",
    "\n",
    "# # Save the updated dataframe as a CSV file\n",
    "# write.csv(result_walk, \"data/schools_geo/secschools_geo_walk.csv\", row.names = FALSE)"
   ]
  },
  {
   "cell_type": "markdown",
   "id": "f969fd65",
   "metadata": {},
   "source": [
    "## Quality of schools bus function"
   ]
  },
  {
   "cell_type": "code",
   "execution_count": 81,
   "id": "1b46b49f",
   "metadata": {},
   "outputs": [],
   "source": [
    "bus_condense_data <- function(sec_schools_geocoded, brighton_houses, start_year, end_year) {\n",
    "  # Set parameters\n",
    "  mode <- c(\"WALK\", \"BUS\")\n",
    "  max_walk_time <- 20 # minutes\n",
    "  max_trip_duration <- 45 # minutes\n",
    "  departure_datetime <- as.POSIXct(\"01-12-2022 8:30:00\", format = \"%d-%m-%Y %H:%M:%S\")\n",
    "  \n",
    "  for (year in start_year:end_year) {\n",
    "    # Extract rows with 'Good' or 'Outstanding' for the given year\n",
    "    good_year <- paste0(year)\n",
    "    good_data <- sec_schools_geocoded[sec_schools_geocoded[[good_year]] %in% c(\"Good\", \"Outstanding\"), ]\n",
    "    \n",
    "    # Calculate travel time matrix by transit\n",
    "    ttm_good_bus <- travel_time_matrix(r5r_core = r5r_core,\n",
    "                                        origins = good_data,\n",
    "                                        destinations = brighton_houses,\n",
    "                                        mode = mode,\n",
    "                                        departure_datetime = departure_datetime,\n",
    "                                        max_walk_time = max_walk_time,\n",
    "                                        max_trip_duration = max_trip_duration)\n",
    "    # Remove duplicates from each postcode (in case a postcode is within 30 mins walking from more than 1 Good/Oustanding schools)\n",
    "      #from_id = schools, to_id = houses/postcodes\n",
    "      ttm_good_bus <- ttm_good_bus %>%\n",
    "      group_by(to_id) %>% \n",
    "      arrange(travel_time_p50) %>%\n",
    "      slice_head(n = 1) %>% \n",
    "      ungroup()\n",
    "      \n",
    "    # Remove duplicates in 'to_id' column\n",
    "    duplicates_ttm_good_bus <- duplicated(ttm_good_bus$to_id)\n",
    "    duplicates_brighton_houses <- duplicated(brighton_houses$id)\n",
    "    \n",
    "    if (any(duplicates_ttm_good_bus) || any(duplicates_brighton_houses)) {\n",
    "      print(\"Duplicates found! Please handle duplicates before performing the left join.\")\n",
    "      return(NULL)\n",
    "    } else {\n",
    "      # Perform left join to merge dataframes\n",
    "      brighton_houses <- left_join(brighton_houses, ttm_good_bus, by = c(\"id\" = \"to_id\"))\n",
    "    }\n",
    "    \n",
    "    # Create a new categorical column based on travel time\n",
    "    breaks <- c(0, 5, 10, 15, 20, 25, 30, 35, 40, 45)\n",
    "    labels <- c(\"0-5_mins\", \"5-10_mins\", \"10-15_mins\", \"15-20_mins\", \"20-25_mins\", \"25-30_mins\", \"30-35_mins\", \"35-40_mins\", \"40-45_mins\")\n",
    "    brighton_houses[[paste0(year, \"_good_sec_bus\")]] <- cut(brighton_houses$travel_time_p50, breaks = breaks,\n",
    "                                                         labels = labels, include.lowest = TRUE, right = FALSE)\n",
    "    \n",
    "    # Drop unnecessary columns\n",
    "    brighton_houses <- brighton_houses[, !(names(brighton_houses) %in% c('from_id', 'travel_time_p50'))]\n",
    "  }\n",
    "  \n",
    "  return(brighton_houses)\n",
    "}"
   ]
  },
  {
   "cell_type": "code",
   "execution_count": 82,
   "id": "d0b3db96",
   "metadata": {},
   "outputs": [],
   "source": [
    "result_bus <- bus_condense_data(sec_schools_geocoded, brighton_houses, 2000, 2019)"
   ]
  },
  {
   "cell_type": "code",
   "execution_count": 83,
   "id": "c2157f42",
   "metadata": {},
   "outputs": [
    {
     "data": {
      "text/html": [
       "<style>\n",
       ".list-inline {list-style: none; margin:0; padding: 0}\n",
       ".list-inline>li {display: inline-block}\n",
       ".list-inline>li:not(:last-child)::after {content: \"\\00b7\"; padding: 0 .5ex}\n",
       "</style>\n",
       "<ol class=list-inline><li>'id'</li><li>'to_id'</li><li>'walk_nearest_sec'</li><li>'2000_good_sec_bus'</li><li>'2001_good_sec_bus'</li><li>'2002_good_sec_bus'</li><li>'2003_good_sec_bus'</li><li>'2004_good_sec_bus'</li><li>'2005_good_sec_bus'</li><li>'2006_good_sec_bus'</li><li>'2007_good_sec_bus'</li><li>'2008_good_sec_bus'</li><li>'2009_good_sec_bus'</li><li>'2010_good_sec_bus'</li><li>'2011_good_sec_bus'</li><li>'2012_good_sec_bus'</li><li>'2013_good_sec_bus'</li><li>'2014_good_sec_bus'</li><li>'2015_good_sec_bus'</li><li>'2016_good_sec_bus'</li><li>'2017_good_sec_bus'</li><li>'2018_good_sec_bus'</li><li>'geometry'</li><li>'2019_good_sec_bus'</li></ol>\n"
      ],
      "text/latex": [
       "\\begin{enumerate*}\n",
       "\\item 'id'\n",
       "\\item 'to\\_id'\n",
       "\\item 'walk\\_nearest\\_sec'\n",
       "\\item '2000\\_good\\_sec\\_bus'\n",
       "\\item '2001\\_good\\_sec\\_bus'\n",
       "\\item '2002\\_good\\_sec\\_bus'\n",
       "\\item '2003\\_good\\_sec\\_bus'\n",
       "\\item '2004\\_good\\_sec\\_bus'\n",
       "\\item '2005\\_good\\_sec\\_bus'\n",
       "\\item '2006\\_good\\_sec\\_bus'\n",
       "\\item '2007\\_good\\_sec\\_bus'\n",
       "\\item '2008\\_good\\_sec\\_bus'\n",
       "\\item '2009\\_good\\_sec\\_bus'\n",
       "\\item '2010\\_good\\_sec\\_bus'\n",
       "\\item '2011\\_good\\_sec\\_bus'\n",
       "\\item '2012\\_good\\_sec\\_bus'\n",
       "\\item '2013\\_good\\_sec\\_bus'\n",
       "\\item '2014\\_good\\_sec\\_bus'\n",
       "\\item '2015\\_good\\_sec\\_bus'\n",
       "\\item '2016\\_good\\_sec\\_bus'\n",
       "\\item '2017\\_good\\_sec\\_bus'\n",
       "\\item '2018\\_good\\_sec\\_bus'\n",
       "\\item 'geometry'\n",
       "\\item '2019\\_good\\_sec\\_bus'\n",
       "\\end{enumerate*}\n"
      ],
      "text/markdown": [
       "1. 'id'\n",
       "2. 'to_id'\n",
       "3. 'walk_nearest_sec'\n",
       "4. '2000_good_sec_bus'\n",
       "5. '2001_good_sec_bus'\n",
       "6. '2002_good_sec_bus'\n",
       "7. '2003_good_sec_bus'\n",
       "8. '2004_good_sec_bus'\n",
       "9. '2005_good_sec_bus'\n",
       "10. '2006_good_sec_bus'\n",
       "11. '2007_good_sec_bus'\n",
       "12. '2008_good_sec_bus'\n",
       "13. '2009_good_sec_bus'\n",
       "14. '2010_good_sec_bus'\n",
       "15. '2011_good_sec_bus'\n",
       "16. '2012_good_sec_bus'\n",
       "17. '2013_good_sec_bus'\n",
       "18. '2014_good_sec_bus'\n",
       "19. '2015_good_sec_bus'\n",
       "20. '2016_good_sec_bus'\n",
       "21. '2017_good_sec_bus'\n",
       "22. '2018_good_sec_bus'\n",
       "23. 'geometry'\n",
       "24. '2019_good_sec_bus'\n",
       "\n",
       "\n"
      ],
      "text/plain": [
       " [1] \"id\"                \"to_id\"             \"walk_nearest_sec\" \n",
       " [4] \"2000_good_sec_bus\" \"2001_good_sec_bus\" \"2002_good_sec_bus\"\n",
       " [7] \"2003_good_sec_bus\" \"2004_good_sec_bus\" \"2005_good_sec_bus\"\n",
       "[10] \"2006_good_sec_bus\" \"2007_good_sec_bus\" \"2008_good_sec_bus\"\n",
       "[13] \"2009_good_sec_bus\" \"2010_good_sec_bus\" \"2011_good_sec_bus\"\n",
       "[16] \"2012_good_sec_bus\" \"2013_good_sec_bus\" \"2014_good_sec_bus\"\n",
       "[19] \"2015_good_sec_bus\" \"2016_good_sec_bus\" \"2017_good_sec_bus\"\n",
       "[22] \"2018_good_sec_bus\" \"geometry\"          \"2019_good_sec_bus\""
      ]
     },
     "metadata": {},
     "output_type": "display_data"
    }
   ],
   "source": [
    "colnames(result_bus)"
   ]
  },
  {
   "cell_type": "code",
   "execution_count": 84,
   "id": "c930b439",
   "metadata": {},
   "outputs": [
    {
     "data": {
      "application/geo+json": {
       "features": [
        {
         "geometry": {
          "coordinates": [
           -0.1422,
           50.8217
          ],
          "type": "Point"
         },
         "properties": {
          "2000_good_sec_bus": "30-35_mins",
          "2001_good_sec_bus": "30-35_mins",
          "2002_good_sec_bus": "30-35_mins",
          "2003_good_sec_bus": "30-35_mins",
          "2004_good_sec_bus": "30-35_mins",
          "2005_good_sec_bus": "30-35_mins",
          "2006_good_sec_bus": "30-35_mins",
          "2007_good_sec_bus": "30-35_mins",
          "2008_good_sec_bus": "30-35_mins",
          "2009_good_sec_bus": "30-35_mins",
          "2010_good_sec_bus": "30-35_mins",
          "2011_good_sec_bus": "30-35_mins",
          "2012_good_sec_bus": "30-35_mins",
          "2013_good_sec_bus": "30-35_mins",
          "2014_good_sec_bus": "30-35_mins",
          "2015_good_sec_bus": "30-35_mins",
          "2016_good_sec_bus": "30-35_mins",
          "2017_good_sec_bus": "30-35_mins",
          "2018_good_sec_bus": "30-35_mins",
          "2019_good_sec_bus": "30-35_mins",
          "id": "BN1 1AD",
          "to_id": "BN3 6ND",
          "walk_nearest_sec": 50
         },
         "type": "Feature"
        },
        {
         "geometry": {
          "coordinates": [
           -0.1426,
           50.8215
          ],
          "type": "Point"
         },
         "properties": {
          "2000_good_sec_bus": "30-35_mins",
          "2001_good_sec_bus": "30-35_mins",
          "2002_good_sec_bus": "30-35_mins",
          "2003_good_sec_bus": "30-35_mins",
          "2004_good_sec_bus": "30-35_mins",
          "2005_good_sec_bus": "30-35_mins",
          "2006_good_sec_bus": "30-35_mins",
          "2007_good_sec_bus": "30-35_mins",
          "2008_good_sec_bus": "30-35_mins",
          "2009_good_sec_bus": "30-35_mins",
          "2010_good_sec_bus": "30-35_mins",
          "2011_good_sec_bus": "30-35_mins",
          "2012_good_sec_bus": "30-35_mins",
          "2013_good_sec_bus": "30-35_mins",
          "2014_good_sec_bus": "30-35_mins",
          "2015_good_sec_bus": "30-35_mins",
          "2016_good_sec_bus": "30-35_mins",
          "2017_good_sec_bus": "30-35_mins",
          "2018_good_sec_bus": "30-35_mins",
          "2019_good_sec_bus": "30-35_mins",
          "id": "BN1 1AJ",
          "to_id": "BN3 6ND",
          "walk_nearest_sec": 50
         },
         "type": "Feature"
        },
        {
         "geometry": {
          "coordinates": [
           -0.143,
           50.8214
          ],
          "type": "Point"
         },
         "properties": {
          "2000_good_sec_bus": "30-35_mins",
          "2001_good_sec_bus": "30-35_mins",
          "2002_good_sec_bus": "30-35_mins",
          "2003_good_sec_bus": "30-35_mins",
          "2004_good_sec_bus": "30-35_mins",
          "2005_good_sec_bus": "30-35_mins",
          "2006_good_sec_bus": "30-35_mins",
          "2007_good_sec_bus": "30-35_mins",
          "2008_good_sec_bus": "30-35_mins",
          "2009_good_sec_bus": "30-35_mins",
          "2010_good_sec_bus": "30-35_mins",
          "2011_good_sec_bus": "30-35_mins",
          "2012_good_sec_bus": "30-35_mins",
          "2013_good_sec_bus": "30-35_mins",
          "2014_good_sec_bus": "30-35_mins",
          "2015_good_sec_bus": "30-35_mins",
          "2016_good_sec_bus": "30-35_mins",
          "2017_good_sec_bus": "30-35_mins",
          "2018_good_sec_bus": "30-35_mins",
          "2019_good_sec_bus": "30-35_mins",
          "id": "BN1 1AL",
          "to_id": "BN3 6ND",
          "walk_nearest_sec": 49
         },
         "type": "Feature"
        },
        {
         "geometry": {
          "coordinates": [
           -0.1435,
           50.8221
          ],
          "type": "Point"
         },
         "properties": {
          "2000_good_sec_bus": "30-35_mins",
          "2001_good_sec_bus": "30-35_mins",
          "2002_good_sec_bus": "30-35_mins",
          "2003_good_sec_bus": "30-35_mins",
          "2004_good_sec_bus": "30-35_mins",
          "2005_good_sec_bus": "30-35_mins",
          "2006_good_sec_bus": "30-35_mins",
          "2007_good_sec_bus": "30-35_mins",
          "2008_good_sec_bus": "30-35_mins",
          "2009_good_sec_bus": "30-35_mins",
          "2010_good_sec_bus": "30-35_mins",
          "2011_good_sec_bus": "30-35_mins",
          "2012_good_sec_bus": "30-35_mins",
          "2013_good_sec_bus": "30-35_mins",
          "2014_good_sec_bus": "30-35_mins",
          "2015_good_sec_bus": "30-35_mins",
          "2016_good_sec_bus": "30-35_mins",
          "2017_good_sec_bus": "30-35_mins",
          "2018_good_sec_bus": "30-35_mins",
          "2019_good_sec_bus": "30-35_mins",
          "id": "BN1 1AN",
          "to_id": "BN3 6ND",
          "walk_nearest_sec": 47
         },
         "type": "Feature"
        },
        {
         "geometry": {
          "coordinates": [
           -0.1437,
           50.8208
          ],
          "type": "Point"
         },
         "properties": {
          "2000_good_sec_bus": "30-35_mins",
          "2001_good_sec_bus": "30-35_mins",
          "2002_good_sec_bus": "30-35_mins",
          "2003_good_sec_bus": "30-35_mins",
          "2004_good_sec_bus": "30-35_mins",
          "2005_good_sec_bus": "30-35_mins",
          "2006_good_sec_bus": "30-35_mins",
          "2007_good_sec_bus": "30-35_mins",
          "2008_good_sec_bus": "30-35_mins",
          "2009_good_sec_bus": "30-35_mins",
          "2010_good_sec_bus": "30-35_mins",
          "2011_good_sec_bus": "30-35_mins",
          "2012_good_sec_bus": "30-35_mins",
          "2013_good_sec_bus": "30-35_mins",
          "2014_good_sec_bus": "30-35_mins",
          "2015_good_sec_bus": "30-35_mins",
          "2016_good_sec_bus": "30-35_mins",
          "2017_good_sec_bus": "30-35_mins",
          "2018_good_sec_bus": "30-35_mins",
          "2019_good_sec_bus": "30-35_mins",
          "id": "BN1 1AP",
          "to_id": "BN3 6ND",
          "walk_nearest_sec": 51
         },
         "type": "Feature"
        },
        {
         "geometry": {
          "coordinates": [
           -0.1421,
           50.8223
          ],
          "type": "Point"
         },
         "properties": {
          "2000_good_sec_bus": "30-35_mins",
          "2001_good_sec_bus": "30-35_mins",
          "2002_good_sec_bus": "30-35_mins",
          "2003_good_sec_bus": "30-35_mins",
          "2004_good_sec_bus": "30-35_mins",
          "2005_good_sec_bus": "30-35_mins",
          "2006_good_sec_bus": "30-35_mins",
          "2007_good_sec_bus": "30-35_mins",
          "2008_good_sec_bus": "30-35_mins",
          "2009_good_sec_bus": "30-35_mins",
          "2010_good_sec_bus": "30-35_mins",
          "2011_good_sec_bus": "30-35_mins",
          "2012_good_sec_bus": "30-35_mins",
          "2013_good_sec_bus": "30-35_mins",
          "2014_good_sec_bus": "30-35_mins",
          "2015_good_sec_bus": "30-35_mins",
          "2016_good_sec_bus": "30-35_mins",
          "2017_good_sec_bus": "30-35_mins",
          "2018_good_sec_bus": "30-35_mins",
          "2019_good_sec_bus": "30-35_mins",
          "id": "BN1 1BG",
          "to_id": "BN3 6ND",
          "walk_nearest_sec": 48
         },
         "type": "Feature"
        }
       ],
       "type": "FeatureCollection"
      },
      "text/html": [
       "<table class=\"dataframe\">\n",
       "<caption>A sf: 6 × 24</caption>\n",
       "<thead>\n",
       "\t<tr><th></th><th scope=col>id</th><th scope=col>to_id</th><th scope=col>walk_nearest_sec</th><th scope=col>2000_good_sec_bus</th><th scope=col>2001_good_sec_bus</th><th scope=col>2002_good_sec_bus</th><th scope=col>2003_good_sec_bus</th><th scope=col>2004_good_sec_bus</th><th scope=col>2005_good_sec_bus</th><th scope=col>2006_good_sec_bus</th><th scope=col>geometry</th><th scope=col>⋯</th><th scope=col>2011_good_sec_bus</th><th scope=col>2012_good_sec_bus</th><th scope=col>2013_good_sec_bus</th><th scope=col>2014_good_sec_bus</th><th scope=col>2015_good_sec_bus</th><th scope=col>2016_good_sec_bus</th><th scope=col>2017_good_sec_bus</th><th scope=col>2018_good_sec_bus</th><th scope=col>geometry</th><th scope=col>2019_good_sec_bus</th></tr>\n",
       "\t<tr><th></th><th scope=col>&lt;chr&gt;</th><th scope=col>&lt;chr&gt;</th><th scope=col>&lt;int&gt;</th><th scope=col>&lt;fct&gt;</th><th scope=col>&lt;fct&gt;</th><th scope=col>&lt;fct&gt;</th><th scope=col>&lt;fct&gt;</th><th scope=col>&lt;fct&gt;</th><th scope=col>&lt;fct&gt;</th><th scope=col>&lt;fct&gt;</th><th scope=col>⋯</th><th scope=col>&lt;fct&gt;</th><th scope=col>&lt;fct&gt;</th><th scope=col>&lt;fct&gt;</th><th scope=col>&lt;fct&gt;</th><th scope=col>&lt;fct&gt;</th><th scope=col>&lt;fct&gt;</th><th scope=col>&lt;fct&gt;</th><th scope=col>&lt;fct&gt;</th><th scope=col>&lt;POINT [°]&gt;</th><th scope=col>&lt;fct&gt;</th></tr>\n",
       "</thead>\n",
       "<tbody>\n",
       "\t<tr><th scope=row>1</th><td>BN1 1AD</td><td>BN3 6ND</td><td>50</td><td>30-35_mins</td><td>30-35_mins</td><td>30-35_mins</td><td>30-35_mins</td><td>30-35_mins</td><td>30-35_mins</td><td>30-35_mins</td><td>POINT (-0.142167 50.82169)</td><td>⋯</td><td>30-35_mins</td><td>30-35_mins</td><td>30-35_mins</td><td>30-35_mins</td><td>30-35_mins</td><td>30-35_mins</td><td>30-35_mins</td><td>30-35_mins</td><td>POINT (-0.142167 50.82169)</td><td>30-35_mins</td></tr>\n",
       "\t<tr><th scope=row>2</th><td>BN1 1AJ</td><td>BN3 6ND</td><td>50</td><td>30-35_mins</td><td>30-35_mins</td><td>30-35_mins</td><td>30-35_mins</td><td>30-35_mins</td><td>30-35_mins</td><td>30-35_mins</td><td>POINT (-0.14256 50.82145)</td><td>⋯</td><td>30-35_mins</td><td>30-35_mins</td><td>30-35_mins</td><td>30-35_mins</td><td>30-35_mins</td><td>30-35_mins</td><td>30-35_mins</td><td>30-35_mins</td><td>POINT (-0.14256 50.82145)</td><td>30-35_mins</td></tr>\n",
       "\t<tr><th scope=row>3</th><td>BN1 1AL</td><td>BN3 6ND</td><td>49</td><td>30-35_mins</td><td>30-35_mins</td><td>30-35_mins</td><td>30-35_mins</td><td>30-35_mins</td><td>30-35_mins</td><td>30-35_mins</td><td>POINT (-0.142961 50.82136)</td><td>⋯</td><td>30-35_mins</td><td>30-35_mins</td><td>30-35_mins</td><td>30-35_mins</td><td>30-35_mins</td><td>30-35_mins</td><td>30-35_mins</td><td>30-35_mins</td><td>POINT (-0.142961 50.82136)</td><td>30-35_mins</td></tr>\n",
       "\t<tr><th scope=row>4</th><td>BN1 1AN</td><td>BN3 6ND</td><td>47</td><td>30-35_mins</td><td>30-35_mins</td><td>30-35_mins</td><td>30-35_mins</td><td>30-35_mins</td><td>30-35_mins</td><td>30-35_mins</td><td>POINT (-0.1435 50.82209)</td><td>⋯</td><td>30-35_mins</td><td>30-35_mins</td><td>30-35_mins</td><td>30-35_mins</td><td>30-35_mins</td><td>30-35_mins</td><td>30-35_mins</td><td>30-35_mins</td><td>POINT (-0.1435 50.82209)</td><td>30-35_mins</td></tr>\n",
       "\t<tr><th scope=row>5</th><td>BN1 1AP</td><td>BN3 6ND</td><td>51</td><td>30-35_mins</td><td>30-35_mins</td><td>30-35_mins</td><td>30-35_mins</td><td>30-35_mins</td><td>30-35_mins</td><td>30-35_mins</td><td>POINT (-0.143707 50.8208)</td><td>⋯</td><td>30-35_mins</td><td>30-35_mins</td><td>30-35_mins</td><td>30-35_mins</td><td>30-35_mins</td><td>30-35_mins</td><td>30-35_mins</td><td>30-35_mins</td><td>POINT (-0.143707 50.8208)</td><td>30-35_mins</td></tr>\n",
       "\t<tr><th scope=row>6</th><td>BN1 1BG</td><td>BN3 6ND</td><td>48</td><td>30-35_mins</td><td>30-35_mins</td><td>30-35_mins</td><td>30-35_mins</td><td>30-35_mins</td><td>30-35_mins</td><td>30-35_mins</td><td>POINT (-0.1421 50.82231)</td><td>⋯</td><td>30-35_mins</td><td>30-35_mins</td><td>30-35_mins</td><td>30-35_mins</td><td>30-35_mins</td><td>30-35_mins</td><td>30-35_mins</td><td>30-35_mins</td><td>POINT (-0.1421 50.82231)</td><td>30-35_mins</td></tr>\n",
       "</tbody>\n",
       "</table>\n"
      ],
      "text/latex": [
       "A sf: 6 × 24\n",
       "\\begin{tabular}{r|lllllllllllllllllllll}\n",
       "  & id & to\\_id & walk\\_nearest\\_sec & 2000\\_good\\_sec\\_bus & 2001\\_good\\_sec\\_bus & 2002\\_good\\_sec\\_bus & 2003\\_good\\_sec\\_bus & 2004\\_good\\_sec\\_bus & 2005\\_good\\_sec\\_bus & 2006\\_good\\_sec\\_bus & geometry & ⋯ & 2011\\_good\\_sec\\_bus & 2012\\_good\\_sec\\_bus & 2013\\_good\\_sec\\_bus & 2014\\_good\\_sec\\_bus & 2015\\_good\\_sec\\_bus & 2016\\_good\\_sec\\_bus & 2017\\_good\\_sec\\_bus & 2018\\_good\\_sec\\_bus & geometry & 2019\\_good\\_sec\\_bus\\\\\n",
       "  & <chr> & <chr> & <int> & <fct> & <fct> & <fct> & <fct> & <fct> & <fct> & <fct> & ⋯ & <fct> & <fct> & <fct> & <fct> & <fct> & <fct> & <fct> & <fct> & <POINT {[}°{]}> & <fct>\\\\\n",
       "\\hline\n",
       "\t1 & BN1 1AD & BN3 6ND & 50 & 30-35\\_mins & 30-35\\_mins & 30-35\\_mins & 30-35\\_mins & 30-35\\_mins & 30-35\\_mins & 30-35\\_mins & POINT (-0.142167 50.82169) & ⋯ & 30-35\\_mins & 30-35\\_mins & 30-35\\_mins & 30-35\\_mins & 30-35\\_mins & 30-35\\_mins & 30-35\\_mins & 30-35\\_mins & POINT (-0.142167 50.82169) & 30-35\\_mins\\\\\n",
       "\t2 & BN1 1AJ & BN3 6ND & 50 & 30-35\\_mins & 30-35\\_mins & 30-35\\_mins & 30-35\\_mins & 30-35\\_mins & 30-35\\_mins & 30-35\\_mins & POINT (-0.14256 50.82145) & ⋯ & 30-35\\_mins & 30-35\\_mins & 30-35\\_mins & 30-35\\_mins & 30-35\\_mins & 30-35\\_mins & 30-35\\_mins & 30-35\\_mins & POINT (-0.14256 50.82145) & 30-35\\_mins\\\\\n",
       "\t3 & BN1 1AL & BN3 6ND & 49 & 30-35\\_mins & 30-35\\_mins & 30-35\\_mins & 30-35\\_mins & 30-35\\_mins & 30-35\\_mins & 30-35\\_mins & POINT (-0.142961 50.82136) & ⋯ & 30-35\\_mins & 30-35\\_mins & 30-35\\_mins & 30-35\\_mins & 30-35\\_mins & 30-35\\_mins & 30-35\\_mins & 30-35\\_mins & POINT (-0.142961 50.82136) & 30-35\\_mins\\\\\n",
       "\t4 & BN1 1AN & BN3 6ND & 47 & 30-35\\_mins & 30-35\\_mins & 30-35\\_mins & 30-35\\_mins & 30-35\\_mins & 30-35\\_mins & 30-35\\_mins & POINT (-0.1435 50.82209) & ⋯ & 30-35\\_mins & 30-35\\_mins & 30-35\\_mins & 30-35\\_mins & 30-35\\_mins & 30-35\\_mins & 30-35\\_mins & 30-35\\_mins & POINT (-0.1435 50.82209) & 30-35\\_mins\\\\\n",
       "\t5 & BN1 1AP & BN3 6ND & 51 & 30-35\\_mins & 30-35\\_mins & 30-35\\_mins & 30-35\\_mins & 30-35\\_mins & 30-35\\_mins & 30-35\\_mins & POINT (-0.143707 50.8208) & ⋯ & 30-35\\_mins & 30-35\\_mins & 30-35\\_mins & 30-35\\_mins & 30-35\\_mins & 30-35\\_mins & 30-35\\_mins & 30-35\\_mins & POINT (-0.143707 50.8208) & 30-35\\_mins\\\\\n",
       "\t6 & BN1 1BG & BN3 6ND & 48 & 30-35\\_mins & 30-35\\_mins & 30-35\\_mins & 30-35\\_mins & 30-35\\_mins & 30-35\\_mins & 30-35\\_mins & POINT (-0.1421 50.82231) & ⋯ & 30-35\\_mins & 30-35\\_mins & 30-35\\_mins & 30-35\\_mins & 30-35\\_mins & 30-35\\_mins & 30-35\\_mins & 30-35\\_mins & POINT (-0.1421 50.82231) & 30-35\\_mins\\\\\n",
       "\\end{tabular}\n"
      ],
      "text/markdown": [
       "\n",
       "A sf: 6 × 24\n",
       "\n",
       "| <!--/--> | id &lt;chr&gt; | to_id &lt;chr&gt; | walk_nearest_sec &lt;int&gt; | 2000_good_sec_bus &lt;fct&gt; | 2001_good_sec_bus &lt;fct&gt; | 2002_good_sec_bus &lt;fct&gt; | 2003_good_sec_bus &lt;fct&gt; | 2004_good_sec_bus &lt;fct&gt; | 2005_good_sec_bus &lt;fct&gt; | 2006_good_sec_bus &lt;fct&gt; | geometry ⋯ | ⋯ &lt;fct&gt; | 2011_good_sec_bus &lt;fct&gt; | 2012_good_sec_bus &lt;fct&gt; | 2013_good_sec_bus &lt;fct&gt; | 2014_good_sec_bus &lt;fct&gt; | 2015_good_sec_bus &lt;fct&gt; | 2016_good_sec_bus &lt;fct&gt; | 2017_good_sec_bus &lt;fct&gt; | 2018_good_sec_bus &lt;POINT [°]&gt; | geometry &lt;fct&gt; | 2019_good_sec_bus &lt;chr&gt; |\n",
       "|---|---|---|---|---|---|---|---|---|---|---|---|---|---|---|---|---|---|---|---|---|---|\n",
       "| 1 | BN1 1AD | BN3 6ND | 50 | 30-35_mins | 30-35_mins | 30-35_mins | 30-35_mins | 30-35_mins | 30-35_mins | 30-35_mins | POINT (-0.142167 50.82169) | ⋯ | 30-35_mins | 30-35_mins | 30-35_mins | 30-35_mins | 30-35_mins | 30-35_mins | 30-35_mins | 30-35_mins | POINT (-0.142167 50.82169) | 30-35_mins |\n",
       "| 2 | BN1 1AJ | BN3 6ND | 50 | 30-35_mins | 30-35_mins | 30-35_mins | 30-35_mins | 30-35_mins | 30-35_mins | 30-35_mins | POINT (-0.14256 50.82145) | ⋯ | 30-35_mins | 30-35_mins | 30-35_mins | 30-35_mins | 30-35_mins | 30-35_mins | 30-35_mins | 30-35_mins | POINT (-0.14256 50.82145) | 30-35_mins |\n",
       "| 3 | BN1 1AL | BN3 6ND | 49 | 30-35_mins | 30-35_mins | 30-35_mins | 30-35_mins | 30-35_mins | 30-35_mins | 30-35_mins | POINT (-0.142961 50.82136) | ⋯ | 30-35_mins | 30-35_mins | 30-35_mins | 30-35_mins | 30-35_mins | 30-35_mins | 30-35_mins | 30-35_mins | POINT (-0.142961 50.82136) | 30-35_mins |\n",
       "| 4 | BN1 1AN | BN3 6ND | 47 | 30-35_mins | 30-35_mins | 30-35_mins | 30-35_mins | 30-35_mins | 30-35_mins | 30-35_mins | POINT (-0.1435 50.82209) | ⋯ | 30-35_mins | 30-35_mins | 30-35_mins | 30-35_mins | 30-35_mins | 30-35_mins | 30-35_mins | 30-35_mins | POINT (-0.1435 50.82209) | 30-35_mins |\n",
       "| 5 | BN1 1AP | BN3 6ND | 51 | 30-35_mins | 30-35_mins | 30-35_mins | 30-35_mins | 30-35_mins | 30-35_mins | 30-35_mins | POINT (-0.143707 50.8208) | ⋯ | 30-35_mins | 30-35_mins | 30-35_mins | 30-35_mins | 30-35_mins | 30-35_mins | 30-35_mins | 30-35_mins | POINT (-0.143707 50.8208) | 30-35_mins |\n",
       "| 6 | BN1 1BG | BN3 6ND | 48 | 30-35_mins | 30-35_mins | 30-35_mins | 30-35_mins | 30-35_mins | 30-35_mins | 30-35_mins | POINT (-0.1421 50.82231) | ⋯ | 30-35_mins | 30-35_mins | 30-35_mins | 30-35_mins | 30-35_mins | 30-35_mins | 30-35_mins | 30-35_mins | POINT (-0.1421 50.82231) | 30-35_mins |\n",
       "\n"
      ],
      "text/plain": [
       "  id      to_id   walk_nearest_sec 2000_good_sec_bus 2001_good_sec_bus\n",
       "1 BN1 1AD BN3 6ND 50               30-35_mins        30-35_mins       \n",
       "2 BN1 1AJ BN3 6ND 50               30-35_mins        30-35_mins       \n",
       "3 BN1 1AL BN3 6ND 49               30-35_mins        30-35_mins       \n",
       "4 BN1 1AN BN3 6ND 47               30-35_mins        30-35_mins       \n",
       "5 BN1 1AP BN3 6ND 51               30-35_mins        30-35_mins       \n",
       "6 BN1 1BG BN3 6ND 48               30-35_mins        30-35_mins       \n",
       "  2002_good_sec_bus 2003_good_sec_bus 2004_good_sec_bus 2005_good_sec_bus\n",
       "1 30-35_mins        30-35_mins        30-35_mins        30-35_mins       \n",
       "2 30-35_mins        30-35_mins        30-35_mins        30-35_mins       \n",
       "3 30-35_mins        30-35_mins        30-35_mins        30-35_mins       \n",
       "4 30-35_mins        30-35_mins        30-35_mins        30-35_mins       \n",
       "5 30-35_mins        30-35_mins        30-35_mins        30-35_mins       \n",
       "6 30-35_mins        30-35_mins        30-35_mins        30-35_mins       \n",
       "  2006_good_sec_bus geometry                   ⋯ 2011_good_sec_bus\n",
       "1 30-35_mins        POINT (-0.142167 50.82169) ⋯ 30-35_mins       \n",
       "2 30-35_mins        POINT (-0.14256 50.82145)  ⋯ 30-35_mins       \n",
       "3 30-35_mins        POINT (-0.142961 50.82136) ⋯ 30-35_mins       \n",
       "4 30-35_mins        POINT (-0.1435 50.82209)   ⋯ 30-35_mins       \n",
       "5 30-35_mins        POINT (-0.143707 50.8208)  ⋯ 30-35_mins       \n",
       "6 30-35_mins        POINT (-0.1421 50.82231)   ⋯ 30-35_mins       \n",
       "  2012_good_sec_bus 2013_good_sec_bus 2014_good_sec_bus 2015_good_sec_bus\n",
       "1 30-35_mins        30-35_mins        30-35_mins        30-35_mins       \n",
       "2 30-35_mins        30-35_mins        30-35_mins        30-35_mins       \n",
       "3 30-35_mins        30-35_mins        30-35_mins        30-35_mins       \n",
       "4 30-35_mins        30-35_mins        30-35_mins        30-35_mins       \n",
       "5 30-35_mins        30-35_mins        30-35_mins        30-35_mins       \n",
       "6 30-35_mins        30-35_mins        30-35_mins        30-35_mins       \n",
       "  2016_good_sec_bus 2017_good_sec_bus 2018_good_sec_bus\n",
       "1 30-35_mins        30-35_mins        30-35_mins       \n",
       "2 30-35_mins        30-35_mins        30-35_mins       \n",
       "3 30-35_mins        30-35_mins        30-35_mins       \n",
       "4 30-35_mins        30-35_mins        30-35_mins       \n",
       "5 30-35_mins        30-35_mins        30-35_mins       \n",
       "6 30-35_mins        30-35_mins        30-35_mins       \n",
       "  geometry                   2019_good_sec_bus\n",
       "1 POINT (-0.142167 50.82169) 30-35_mins       \n",
       "2 POINT (-0.14256 50.82145)  30-35_mins       \n",
       "3 POINT (-0.142961 50.82136) 30-35_mins       \n",
       "4 POINT (-0.1435 50.82209)   30-35_mins       \n",
       "5 POINT (-0.143707 50.8208)  30-35_mins       \n",
       "6 POINT (-0.1421 50.82231)   30-35_mins       "
      ]
     },
     "metadata": {},
     "output_type": "display_data"
    }
   ],
   "source": [
    "head(result_bus)"
   ]
  },
  {
   "cell_type": "code",
   "execution_count": 86,
   "id": "82915ce9",
   "metadata": {},
   "outputs": [
    {
     "data": {
      "image/png": "[encoded data removed]",
      "text/plain": [
       "plot without title"
      ]
     },
     "metadata": {
      "image/png": {
       "height": 420,
       "width": 420
      }
     },
     "output_type": "display_data"
    }
   ],
   "source": [
    "tm_shape(result_bus) + tm_symbols(col=\"2011_good_sec_bus\", size=0.2, border.lwd=0)"
   ]
  },
  {
   "cell_type": "code",
   "execution_count": 87,
   "id": "9ae515cf",
   "metadata": {},
   "outputs": [
    {
     "data": {
      "image/png": "[encoded data removed]",
      "text/plain": [
       "plot without title"
      ]
     },
     "metadata": {
      "image/png": {
       "height": 420,
       "width": 420
      }
     },
     "output_type": "display_data"
    }
   ],
   "source": [
    "tm_shape(result_bus) + \n",
    "tm_symbols(col=\"2011_good_sec_bus\", palette='viridis', size=0.05, border.lwd=0) +\n",
    "tm_layout(main.title = 'Map of travel time(bus) to good schools',legend.outside = TRUE)"
   ]
  },
  {
   "cell_type": "code",
   "execution_count": 88,
   "id": "adf0f3f6",
   "metadata": {},
   "outputs": [],
   "source": [
    "# ### Save \n",
    "# # Extract latitude and longitude coordinates from 'geometry' column\n",
    "# result_bus$latitude <- st_coordinates(st_geometry(result_bus))[ ,2]\n",
    "# result_bus$longitude <- st_coordinates(st_geometry(result_bus))[ ,1]\n",
    "\n",
    "# # Drop geom column\n",
    "# result_bus <- result_bus[, !names(result_bus) %in% \"geometry\"]\n",
    "\n",
    "# # Save the updated dataframe as a CSV file\n",
    "# write.csv(result_bus, \"schools_geo/secschools_geo_bus.csv\", row.names = FALSE)"
   ]
  },
  {
   "cell_type": "code",
   "execution_count": 89,
   "id": "4996673e",
   "metadata": {},
   "outputs": [],
   "source": [
    "# ## Save \n",
    "# # Convert st objects to dataframes for merging\n",
    "# result_walk_df <- as.data.frame(result_walk)\n",
    "# result_bus_df <- as.data.frame(result_bus)\n",
    "\n",
    "# # Merge the dataframes based on common columns\n",
    "# merged_df <- merge(result_walk_df, result_bus_df, by = c(\"id\", \"walk_nearest_sec\", \"geometry\"))\n",
    "\n",
    "# # Convert the merged dataframe back to an st object\n",
    "# merged_result <- st_as_sf(merged_df)\n",
    "\n",
    "# # Extract latitude and longitude coordinates from 'geometry' column\n",
    "# merged_result$latitude <- st_coordinates(st_geometry(merged_result))[ ,2]\n",
    "# merged_result$longitude <- st_coordinates(st_geometry(merged_result))[ ,1]\n",
    "\n",
    "# # Drop geom column\n",
    "# merged_result <- merged_result[, !names(merged_result) %in% \"geometry\"]\n",
    "\n",
    "# # Save the updated dataframe as a CSV file\n",
    "# write.csv(merged_result, \"schools_geo/secschools_geo_both.csv\", row.names = FALSE)"
   ]
  },
  {
   "cell_type": "code",
   "execution_count": 92,
   "id": "662f31b1",
   "metadata": {},
   "outputs": [],
   "source": [
    "#st_write(merged_result, 'schools_geo/shapefiles/secschools_geo_both.shp', append=FALSE)"
   ]
  },
  {
   "cell_type": "markdown",
   "id": "3370f580",
   "metadata": {},
   "source": [
    "# Primary schools"
   ]
  },
  {
   "cell_type": "code",
   "execution_count": 26,
   "id": "2cf20d75",
   "metadata": {},
   "outputs": [],
   "source": [
    "brighton_houses2 <- brighton_postcodes%>%\n",
    "  #remove NAs or 0\n",
    "  filter(long != 0 )%>%\n",
    "  filter(lat != 0)%>%\n",
    "  st_as_sf(., coords = c(\"long\",\"lat\"), \n",
    "                   crs = 4326)\n",
    "\n",
    "names(brighton_houses2)[names(brighton_houses2) == \"postcode\"] <- \"id\""
   ]
  },
  {
   "cell_type": "code",
   "execution_count": 27,
   "id": "909e52ab",
   "metadata": {},
   "outputs": [
    {
     "name": "stderr",
     "output_type": "stream",
     "text": [
      "\u001b[1mRows: \u001b[22m\u001b[34m47\u001b[39m \u001b[1mColumns: \u001b[22m\u001b[34m20\u001b[39m\n",
      "\u001b[36m──\u001b[39m \u001b[1mColumn specification\u001b[22m \u001b[36m────────────────────────────────────────────────────────────────────────────────────────────────\u001b[39m\n",
      "\u001b[1mDelimiter:\u001b[22m \",\"\n",
      "\u001b[31mchr\u001b[39m (19): School name, School postcode, 2003, 2004, 2005, 2006, 2007, 2008, ...\n",
      "\u001b[32mdbl\u001b[39m  (1): LAESTAB\n",
      "\n",
      "\u001b[36mℹ\u001b[39m Use `spec()` to retrieve the full column specification for this data.\n",
      "\u001b[36mℹ\u001b[39m Specify the column types or set `show_col_types = FALSE` to quiet this message.\n"
     ]
    }
   ],
   "source": [
    "# pri schools\n",
    "## leftjoin pr schools with lat lon data\n",
    "pri_schools <- read_csv(\"schools_geo/ks2_hist_df.csv\")\n",
    "\n",
    "names(postcode_df)[names(postcode_df) == \"pcds\"] <- \"id\"\n",
    "\n",
    "pri_schools <- left_join(pri_schools, postcode_df, by=c(\"School postcode\" = \"id\"))\n",
    "\n",
    "pri_schools_geocoded <- pri_schools%>%\n",
    "  #remove NAs or 0\n",
    "  filter(long != 0 )%>%\n",
    "  filter(lat != 0)%>%\n",
    "  st_as_sf(., coords = c(\"long\",\"lat\"), \n",
    "                   crs = 4326)\n",
    "\n",
    "names(pri_schools_geocoded)[names(pri_schools_geocoded) == \"School postcode\"] <- \"id\"\n",
    "names(pri_schools_geocoded)[names(pri_schools_geocoded) == \"School name\"] <- \"school_name\""
   ]
  },
  {
   "cell_type": "code",
   "execution_count": 30,
   "id": "42518ec4",
   "metadata": {},
   "outputs": [
    {
     "name": "stderr",
     "output_type": "stream",
     "text": [
      "Warning message in abbreviate_shapefile_names(obj):\n",
      "“Field names abbreviated for ESRI Shapefile driver”\n"
     ]
    },
    {
     "name": "stdout",
     "output_type": "stream",
     "text": [
      "Deleting layer `prischools_geocoded' using driver `ESRI Shapefile'\n",
      "Writing layer `prischools_geocoded' to data source \n",
      "  `schools_geo/shapefiles/prischools_geocoded.shp' using driver `ESRI Shapefile'\n",
      "Writing 47 features with 20 fields and geometry type Point.\n"
     ]
    }
   ],
   "source": [
    "##save geocoded schools as shpfile\n",
    "### st_write(pri_schools_geocoded, 'data/schools_geo/shapefiles/prischools_geocoded.shp')"
   ]
  },
  {
   "cell_type": "markdown",
   "id": "f2f74abd",
   "metadata": {},
   "source": [
    "### Obtain nearest school for all postcodes"
   ]
  },
  {
   "cell_type": "code",
   "execution_count": 31,
   "id": "18294f09",
   "metadata": {},
   "outputs": [
    {
     "data": {
      "text/html": [
       "<table class=\"dataframe\">\n",
       "<caption>A data.table: 6 × 3</caption>\n",
       "<thead>\n",
       "\t<tr><th scope=col>from_id</th><th scope=col>to_id</th><th scope=col>travel_time_p50</th></tr>\n",
       "\t<tr><th scope=col>&lt;chr&gt;</th><th scope=col>&lt;chr&gt;</th><th scope=col>&lt;int&gt;</th></tr>\n",
       "</thead>\n",
       "<tbody>\n",
       "\t<tr><td>BN1 1AD</td><td>BN1 5PR</td><td>35</td></tr>\n",
       "\t<tr><td>BN1 1AD</td><td>BN2 0BN</td><td>27</td></tr>\n",
       "\t<tr><td>BN1 1AD</td><td>BN3 6NB</td><td>48</td></tr>\n",
       "\t<tr><td>BN1 1AD</td><td>BN1 3LP</td><td>15</td></tr>\n",
       "\t<tr><td>BN1 1AD</td><td>BN3 3YT</td><td>51</td></tr>\n",
       "\t<tr><td>BN1 1AD</td><td>BN2 9ZE</td><td>39</td></tr>\n",
       "</tbody>\n",
       "</table>\n"
      ],
      "text/latex": [
       "A data.table: 6 × 3\n",
       "\\begin{tabular}{lll}\n",
       " from\\_id & to\\_id & travel\\_time\\_p50\\\\\n",
       " <chr> & <chr> & <int>\\\\\n",
       "\\hline\n",
       "\t BN1 1AD & BN1 5PR & 35\\\\\n",
       "\t BN1 1AD & BN2 0BN & 27\\\\\n",
       "\t BN1 1AD & BN3 6NB & 48\\\\\n",
       "\t BN1 1AD & BN1 3LP & 15\\\\\n",
       "\t BN1 1AD & BN3 3YT & 51\\\\\n",
       "\t BN1 1AD & BN2 9ZE & 39\\\\\n",
       "\\end{tabular}\n"
      ],
      "text/markdown": [
       "\n",
       "A data.table: 6 × 3\n",
       "\n",
       "| from_id &lt;chr&gt; | to_id &lt;chr&gt; | travel_time_p50 &lt;int&gt; |\n",
       "|---|---|---|\n",
       "| BN1 1AD | BN1 5PR | 35 |\n",
       "| BN1 1AD | BN2 0BN | 27 |\n",
       "| BN1 1AD | BN3 6NB | 48 |\n",
       "| BN1 1AD | BN1 3LP | 15 |\n",
       "| BN1 1AD | BN3 3YT | 51 |\n",
       "| BN1 1AD | BN2 9ZE | 39 |\n",
       "\n"
      ],
      "text/plain": [
       "  from_id to_id   travel_time_p50\n",
       "1 BN1 1AD BN1 5PR 35             \n",
       "2 BN1 1AD BN2 0BN 27             \n",
       "3 BN1 1AD BN3 6NB 48             \n",
       "4 BN1 1AD BN1 3LP 15             \n",
       "5 BN1 1AD BN3 3YT 51             \n",
       "6 BN1 1AD BN2 9ZE 39             "
      ]
     },
     "metadata": {},
     "output_type": "display_data"
    }
   ],
   "source": [
    "# Set parameters\n",
    "mode = c(\"WALK\")\n",
    "max_walk_time = 60 # minutes\n",
    "max_trip_duration = 60 # minutes\n",
    "departure_datetime = as.POSIXct(\"01-12-2022 8:30:00\",\n",
    "                                 format = \"%d-%m-%Y %H:%M:%S\")\n",
    "\n",
    "# Calculate the travel time matrix by Transit\n",
    "ttm_nearest_pri = travel_time_matrix(r5r_core = r5r_core,\n",
    "                          origins = brighton_houses2,\n",
    "                          destinations = pri_schools_geocoded,\n",
    "                          mode = mode,\n",
    "                          departure_datetime = departure_datetime,\n",
    "                          max_walk_time = max_walk_time,\n",
    "                          max_trip_duration = max_trip_duration)\n",
    "\n",
    "head(ttm_nearest_pri)"
   ]
  },
  {
   "cell_type": "code",
   "execution_count": 32,
   "id": "fdf2badb",
   "metadata": {},
   "outputs": [
    {
     "data": {
      "text/html": [
       "58376"
      ],
      "text/latex": [
       "58376"
      ],
      "text/markdown": [
       "58376"
      ],
      "text/plain": [
       "[1] 58376"
      ]
     },
     "metadata": {},
     "output_type": "display_data"
    }
   ],
   "source": [
    "nrow(ttm_nearest_pri)"
   ]
  },
  {
   "cell_type": "code",
   "execution_count": 33,
   "id": "c60265e8",
   "metadata": {},
   "outputs": [
    {
     "data": {
      "text/html": [
       "3902"
      ],
      "text/latex": [
       "3902"
      ],
      "text/markdown": [
       "3902"
      ],
      "text/plain": [
       "[1] 3902"
      ]
     },
     "metadata": {},
     "output_type": "display_data"
    }
   ],
   "source": [
    "ttm_nearest_pri <- ttm_nearest_pri %>%\n",
    "  group_by(from_id) %>% \n",
    "  arrange(travel_time_p50) %>%\n",
    "  slice_head(n = 1) %>% \n",
    "  ungroup()\n",
    "\n",
    "nrow(ttm_nearest_pri)"
   ]
  },
  {
   "cell_type": "code",
   "execution_count": 34,
   "id": "83c07430",
   "metadata": {},
   "outputs": [
    {
     "name": "stdout",
     "output_type": "stream",
     "text": [
      "Simple feature collection with 3902 features and 3 fields\n",
      "Geometry type: POINT\n",
      "Dimension:     XY\n",
      "Bounding box:  xmin: -0.235465 ymin: 50.80051 xmax: -0.02655 ymax: 50.87138\n",
      "Geodetic CRS:  WGS 84\n",
      "First 10 features:\n",
      "        id   to_id travel_time_p50                   geometry\n",
      "1  BN1 1AD BN1 1AL               3 POINT (-0.142167 50.82169)\n",
      "2  BN1 1AJ BN1 1AL               1  POINT (-0.14256 50.82145)\n",
      "3  BN1 1AL BN1 1AL               0 POINT (-0.142961 50.82136)\n",
      "4  BN1 1AN BN1 1AL               2   POINT (-0.1435 50.82209)\n",
      "5  BN1 1AP BN1 1AL               2  POINT (-0.143707 50.8208)\n",
      "6  BN1 1BG BN1 1AL               3   POINT (-0.1421 50.82231)\n",
      "7  BN1 1EA BN1 1AL               8  POINT (-0.13946 50.82263)\n",
      "8  BN1 1EG BN1 1AL               9 POINT (-0.138162 50.82136)\n",
      "9  BN1 1EH BN1 1AL               9 POINT (-0.137542 50.82162)\n",
      "10 BN1 1EJ BN1 1AL              12 POINT (-0.136211 50.82151)\n"
     ]
    }
   ],
   "source": [
    "# Check for duplicates in 'id' column of df1\n",
    "duplicates_ttm_nearest_pri <- duplicated(ttm_nearest_pri$from_id)\n",
    "# Check for duplicates in 'id' column of df2\n",
    "duplicates_brighton_houses2 <- duplicated(brighton_houses2$id)\n",
    "\n",
    "# Check if there are duplicates in df1 or df2\n",
    "if (any(duplicates_ttm_nearest_pri) || any(duplicates_brighton_houses2)) {\n",
    "  print(\"Duplicates found! Please handle duplicates before performing left join.\")\n",
    "} else {\n",
    "  # Perform the left join, walk time bands from rail station to postcodes\n",
    "  brighton_houses2 <- left_join(brighton_houses2, ttm_nearest_pri, by=c(id = \"from_id\"))\n",
    "  # Print the resulting merged data frame\n",
    "  print(brighton_houses2)\n",
    "}"
   ]
  },
  {
   "cell_type": "code",
   "execution_count": 35,
   "id": "a02df453",
   "metadata": {},
   "outputs": [
    {
     "name": "stdout",
     "output_type": "stream",
     "text": [
      "[1] 0\n"
     ]
    }
   ],
   "source": [
    "print(sum(is.na(brighton_houses2$travel_time_p50)))\n",
    "#0 nas"
   ]
  },
  {
   "cell_type": "code",
   "execution_count": 36,
   "id": "a1b258eb",
   "metadata": {},
   "outputs": [],
   "source": [
    "colnames(brighton_houses2)[colnames(brighton_houses2) == \"travel_time_p50\"] <- \"walk_nearest_pri\""
   ]
  },
  {
   "cell_type": "code",
   "execution_count": null,
   "id": "0f33506d-23cb-4639-b2a8-e5837f59c138",
   "metadata": {},
   "outputs": [],
   "source": [
    "pri_schools_geocoded_nodup <- subset(pri_schools_geocoded, id != 'BN41 2LA')\n",
    "nrow(pri_schools_geocoded_nodup)"
   ]
  },
  {
   "cell_type": "code",
   "execution_count": null,
   "id": "576235ff-59ff-4489-8bb2-8bc5134889ac",
   "metadata": {},
   "outputs": [],
   "source": [
    "# Brackenbury and St Nic CofE have same postcode hence:\n",
    "# Create base dictionary\n",
    "postcode_prischool_dict <- setNames(pri_schools_geocoded_nodup$school_name, pri_schools_geocoded_nodup$id)\n",
    "\n",
    "# Sample key-value pairs to add\n",
    "add_postcodes <- c('BN41 2LA')\n",
    "add_school_names <- c('St Nicolas CofE Junior School and Brackenbury Primary School')\n",
    "\n",
    "# Adding custom key-value pairs to the dictionary\n",
    "postcode_prischool_dict[add_postcodes] <- add_school_names\n",
    "\n",
    "# Use match() and the dictionary to replace postcodes with school names\n",
    "brighton_houses2$nearest_pri_name <- postcode_prischool_dict[match(brighton_houses2$to_id, names(postcode_prischool_dict))]"
   ]
  },
  {
   "cell_type": "code",
   "execution_count": 37,
   "id": "1b1eec90",
   "metadata": {},
   "outputs": [
    {
     "data": {
      "application/geo+json": {
       "features": [
        {
         "geometry": {
          "coordinates": [
           -0.1422,
           50.8217
          ],
          "type": "Point"
         },
         "properties": {
          "id": "BN1 1AD",
          "walk_nearest_pri": 3
         },
         "type": "Feature"
        },
        {
         "geometry": {
          "coordinates": [
           -0.1426,
           50.8215
          ],
          "type": "Point"
         },
         "properties": {
          "id": "BN1 1AJ",
          "walk_nearest_pri": 1
         },
         "type": "Feature"
        },
        {
         "geometry": {
          "coordinates": [
           -0.143,
           50.8214
          ],
          "type": "Point"
         },
         "properties": {
          "id": "BN1 1AL",
          "walk_nearest_pri": 0
         },
         "type": "Feature"
        },
        {
         "geometry": {
          "coordinates": [
           -0.1435,
           50.8221
          ],
          "type": "Point"
         },
         "properties": {
          "id": "BN1 1AN",
          "walk_nearest_pri": 2
         },
         "type": "Feature"
        },
        {
         "geometry": {
          "coordinates": [
           -0.1437,
           50.8208
          ],
          "type": "Point"
         },
         "properties": {
          "id": "BN1 1AP",
          "walk_nearest_pri": 2
         },
         "type": "Feature"
        },
        {
         "geometry": {
          "coordinates": [
           -0.1421,
           50.8223
          ],
          "type": "Point"
         },
         "properties": {
          "id": "BN1 1BG",
          "walk_nearest_pri": 3
         },
         "type": "Feature"
        }
       ],
       "type": "FeatureCollection"
      },
      "text/html": [
       "<table class=\"dataframe\">\n",
       "<caption>A sf: 6 × 3</caption>\n",
       "<thead>\n",
       "\t<tr><th></th><th scope=col>id</th><th scope=col>walk_nearest_pri</th><th scope=col>geometry</th></tr>\n",
       "\t<tr><th></th><th scope=col>&lt;chr&gt;</th><th scope=col>&lt;int&gt;</th><th scope=col>&lt;POINT [°]&gt;</th></tr>\n",
       "</thead>\n",
       "<tbody>\n",
       "\t<tr><th scope=row>1</th><td>BN1 1AD</td><td>3</td><td>POINT (-0.142167 50.82169)</td></tr>\n",
       "\t<tr><th scope=row>2</th><td>BN1 1AJ</td><td>1</td><td>POINT (-0.14256 50.82145)</td></tr>\n",
       "\t<tr><th scope=row>3</th><td>BN1 1AL</td><td>0</td><td>POINT (-0.142961 50.82136)</td></tr>\n",
       "\t<tr><th scope=row>4</th><td>BN1 1AN</td><td>2</td><td>POINT (-0.1435 50.82209)</td></tr>\n",
       "\t<tr><th scope=row>5</th><td>BN1 1AP</td><td>2</td><td>POINT (-0.143707 50.8208)</td></tr>\n",
       "\t<tr><th scope=row>6</th><td>BN1 1BG</td><td>3</td><td>POINT (-0.1421 50.82231)</td></tr>\n",
       "</tbody>\n",
       "</table>\n"
      ],
      "text/latex": [
       "A sf: 6 × 3\n",
       "\\begin{tabular}{r|lll}\n",
       "  & id & walk\\_nearest\\_pri & geometry\\\\\n",
       "  & <chr> & <int> & <POINT {[}°{]}>\\\\\n",
       "\\hline\n",
       "\t1 & BN1 1AD & 3 & POINT (-0.142167 50.82169)\\\\\n",
       "\t2 & BN1 1AJ & 1 & POINT (-0.14256 50.82145)\\\\\n",
       "\t3 & BN1 1AL & 0 & POINT (-0.142961 50.82136)\\\\\n",
       "\t4 & BN1 1AN & 2 & POINT (-0.1435 50.82209)\\\\\n",
       "\t5 & BN1 1AP & 2 & POINT (-0.143707 50.8208)\\\\\n",
       "\t6 & BN1 1BG & 3 & POINT (-0.1421 50.82231)\\\\\n",
       "\\end{tabular}\n"
      ],
      "text/markdown": [
       "\n",
       "A sf: 6 × 3\n",
       "\n",
       "| <!--/--> | id &lt;chr&gt; | walk_nearest_pri &lt;int&gt; | geometry &lt;POINT [°]&gt; |\n",
       "|---|---|---|---|\n",
       "| 1 | BN1 1AD | 3 | POINT (-0.142167 50.82169) |\n",
       "| 2 | BN1 1AJ | 1 | POINT (-0.14256 50.82145) |\n",
       "| 3 | BN1 1AL | 0 | POINT (-0.142961 50.82136) |\n",
       "| 4 | BN1 1AN | 2 | POINT (-0.1435 50.82209) |\n",
       "| 5 | BN1 1AP | 2 | POINT (-0.143707 50.8208) |\n",
       "| 6 | BN1 1BG | 3 | POINT (-0.1421 50.82231) |\n",
       "\n"
      ],
      "text/plain": [
       "  id      walk_nearest_pri geometry                  \n",
       "1 BN1 1AD 3                POINT (-0.142167 50.82169)\n",
       "2 BN1 1AJ 1                POINT (-0.14256 50.82145) \n",
       "3 BN1 1AL 0                POINT (-0.142961 50.82136)\n",
       "4 BN1 1AN 2                POINT (-0.1435 50.82209)  \n",
       "5 BN1 1AP 2                POINT (-0.143707 50.8208) \n",
       "6 BN1 1BG 3                POINT (-0.1421 50.82231)  "
      ]
     },
     "metadata": {},
     "output_type": "display_data"
    }
   ],
   "source": [
    "head(brighton_houses2)"
   ]
  },
  {
   "cell_type": "code",
   "execution_count": 38,
   "id": "bad2f892",
   "metadata": {},
   "outputs": [
    {
     "data": {
      "image/png": "[encoded data removed]",
      "text/plain": [
       "plot without title"
      ]
     },
     "metadata": {
      "image/png": {
       "height": 420,
       "width": 420
      }
     },
     "output_type": "display_data"
    }
   ],
   "source": [
    "tm_shape(brighton_houses2) + \n",
    "tm_symbols(col=\"walk_nearest_pri\", palette='viridis', style='quantile', size=0.05, border.lwd=0)"
   ]
  },
  {
   "cell_type": "markdown",
   "id": "b0efadf1",
   "metadata": {},
   "source": [
    "### Obtain postcodes within 30 mins walking"
   ]
  },
  {
   "cell_type": "code",
   "execution_count": 93,
   "id": "614f7bad",
   "metadata": {},
   "outputs": [],
   "source": [
    "pri_walk_condense <- function(pri_schools_geocoded, brighton_houses2, start_year, end_year) {\n",
    "  # Set parameters\n",
    "  mode <- c(\"WALK\")\n",
    "  max_walk_time <- 30 # minutes\n",
    "  max_trip_duration <- 30 # minutes\n",
    "  departure_datetime <- as.POSIXct(\"01-12-2022 8:30:00\", format = \"%d-%m-%Y %H:%M:%S\")\n",
    "  \n",
    "  for (year in start_year:end_year) {\n",
    "    # Extract rows with 'Good' or 'Outstanding' for the given year\n",
    "    good_year <- paste0(year)\n",
    "    good_data <- pri_schools_geocoded %>% \n",
    "      filter(.data[[good_year]] %in% c(\"Good\", \"Outstanding\"))\n",
    "    \n",
    "    # Calculate travel time matrix by transit\n",
    "    ttm_good_walk_pri <- travel_time_matrix(r5r_core = r5r_core,\n",
    "                                        origins = good_data,\n",
    "                                        destinations = brighton_houses2,\n",
    "                                        mode = mode,\n",
    "                                        departure_datetime = departure_datetime,\n",
    "                                        max_walk_time = max_walk_time,\n",
    "                                        max_trip_duration = max_trip_duration)\n",
    "    # Remove duplicates from each postcode (in case a postcode is within 30 mins walking from more than 1 Good/Oustanding schools)\n",
    "    # from_id = schools, to_id = houses/postcodes\n",
    "    ttm_good_walk_pri <- ttm_good_walk_pri %>%\n",
    "      group_by(to_id) %>% \n",
    "      arrange(travel_time_p50) %>%\n",
    "      slice_head(n = 1) %>% \n",
    "      ungroup()\n",
    "    \n",
    "    # Remove duplicates in 'to_id' column\n",
    "    duplicates_ttm_good_walk_pri <- duplicated(ttm_good_walk_pri$to_id)\n",
    "    duplicates_brighton_houses2 <- duplicated(brighton_houses2$id)\n",
    "    \n",
    "    if (any(duplicates_ttm_good_walk_pri) || any(duplicates_brighton_houses2)) {\n",
    "      print(\"Duplicates found! Please handle duplicates before performing the left join.\")\n",
    "      return(NULL)\n",
    "    } else {\n",
    "      # Perform left join to merge data frames\n",
    "      brighton_houses2 <- left_join(brighton_houses2, ttm_good_walk_pri, by = c(\"id\" = \"to_id\"))\n",
    "    }\n",
    "    \n",
    "    # Create a new categorical column based on travel time\n",
    "    breaks <- c(0, 5, 10, 15, 20, 25, 30)\n",
    "    labels <- c(\"0-5_mins\", \"5-10_mins\", \"10-15_mins\", \"15-20_mins\", \"20-25_mins\", \"25-30_mins\")\n",
    "    brighton_houses2[[paste0(year, \"_good_pri_walk\")]] <- cut(brighton_houses2$travel_time_p50, breaks = breaks,\n",
    "                                                         labels = labels, include.lowest = TRUE, right = FALSE)\n",
    "    \n",
    "    # Drop unnecessary columns\n",
    "    brighton_houses2 <- brighton_houses2[, !(names(brighton_houses2) %in% c('from_id', 'travel_time_p50'))]\n",
    "  }\n",
    "  \n",
    "  return(brighton_houses2)\n",
    "} "
   ]
  },
  {
   "cell_type": "code",
   "execution_count": 94,
   "id": "3b840a76",
   "metadata": {},
   "outputs": [],
   "source": [
    "pri_walk <- pri_walk_condense(pri_schools_geocoded, brighton_houses2, 2003, 2019)"
   ]
  },
  {
   "cell_type": "code",
   "execution_count": 95,
   "id": "61cd2f09",
   "metadata": {},
   "outputs": [
    {
     "data": {
      "image/png": "[encoded data removed]",
      "text/plain": [
       "plot without title"
      ]
     },
     "metadata": {
      "image/png": {
       "height": 420,
       "width": 420
      }
     },
     "output_type": "display_data"
    }
   ],
   "source": [
    "tm_shape(pri_walk) + \n",
    "tm_symbols(col=\"2019_good_pri_walk\", palette='viridis', size=0.05, border.lwd=0) +\n",
    "tm_layout(main.title = 'Map of travel time(walk) to good pri schools',legend.outside = TRUE)"
   ]
  },
  {
   "cell_type": "code",
   "execution_count": 96,
   "id": "9b4c5fed",
   "metadata": {},
   "outputs": [],
   "source": [
    "# ### Save \n",
    "# # Extract latitude and longitude coordinates from 'geometry' column\n",
    "# pri_walk$latitude <- st_coordinates(st_geometry(pri_walk))[ ,2]\n",
    "# pri_walk$longitude <- st_coordinates(st_geometry(pri_walk))[ ,1]\n",
    "\n",
    "# # Drop geom column\n",
    "# pri_walk <- pri_walk[, !names(pri_walk) %in% \"geometry\"]\n",
    "\n",
    "# # Save the updated dataframe as a CSV file\n",
    "# write.csv(pri_walk, \"data/schools_geo/prischools_geo_walk.csv\", row.names = FALSE)"
   ]
  },
  {
   "cell_type": "markdown",
   "id": "9482705a",
   "metadata": {},
   "source": [
    "## Quality of pri schools bus function"
   ]
  },
  {
   "cell_type": "code",
   "execution_count": 97,
   "id": "352344d5",
   "metadata": {},
   "outputs": [],
   "source": [
    "pri_bus_condense <- function(pri_schools_geocoded, brighton_houses2, start_year, end_year) {\n",
    "  # Set parameters\n",
    "  mode <- c(\"WALK\", \"BUS\")\n",
    "  max_walk_time <- 20 # minutes\n",
    "  max_trip_duration <- 45 # minutes\n",
    "  departure_datetime <- as.POSIXct(\"01-12-2022 8:30:00\", format = \"%d-%m-%Y %H:%M:%S\")\n",
    "  \n",
    "  for (year in start_year:end_year) {\n",
    "    # Extract rows with 'Good' or 'Outstanding' for the given year\n",
    "    good_year <- paste0(year)\n",
    "    good_data <- pri_schools_geocoded %>% \n",
    "      filter(.data[[good_year]] %in% c(\"Good\", \"Outstanding\"))\n",
    "    \n",
    "    # Calculate travel time matrix by transit\n",
    "    ttm_good_bus_pri <- travel_time_matrix(r5r_core = r5r_core,\n",
    "                                        origins = good_data,\n",
    "                                        destinations = brighton_houses2,\n",
    "                                        mode = mode,\n",
    "                                        departure_datetime = departure_datetime,\n",
    "                                        max_walk_time = max_walk_time,\n",
    "                                        max_trip_duration = max_trip_duration)\n",
    "    # Remove duplicates from each postcode (in case a postcode is within 30 mins walking from more than 1 Good/Oustanding schools)\n",
    "    # from_id = schools, to_id = houses/postcodes\n",
    "    ttm_good_bus_pri <- ttm_good_bus_pri %>%\n",
    "      group_by(to_id) %>% \n",
    "      arrange(travel_time_p50) %>%\n",
    "      slice_head(n = 1) %>% \n",
    "      ungroup()\n",
    "    \n",
    "    # Remove duplicates in 'to_id' column\n",
    "    duplicates_ttm_good_bus_pri <- duplicated(ttm_good_bus_pri$to_id)\n",
    "    duplicates_brighton_houses2 <- duplicated(brighton_houses2$id)\n",
    "    \n",
    "    if (any(duplicates_ttm_good_bus_pri) || any(duplicates_brighton_houses2)) {\n",
    "      print(\"Duplicates found! Please handle duplicates before performing the left join.\")\n",
    "      return(NULL)\n",
    "    } else {\n",
    "      # Perform left join to merge data frames\n",
    "      brighton_houses2 <- left_join(brighton_houses2, ttm_good_bus_pri, by = c(\"id\" = \"to_id\"))\n",
    "    }\n",
    "    \n",
    "    # Create a new categorical column based on travel time\n",
    "    breaks <- c(0, 5, 10, 15, 20, 25, 30, 35, 40, 45)\n",
    "    labels <- c(\"0-5_mins\", \"5-10_mins\", \"10-15_mins\", \"15-20_mins\", \"20-25_mins\", \"25-30_mins\", \"30-35_mins\", \"35-40_mins\", \"40-45_mins\")\n",
    "    brighton_houses2[[paste0(year, \"_good_pri_bus\")]] <- cut(brighton_houses2$travel_time_p50, breaks = breaks,\n",
    "                                                         labels = labels, include.lowest = TRUE, right = FALSE)\n",
    "    \n",
    "    # Drop unnecessary columns\n",
    "    brighton_houses2 <- brighton_houses2[, !(names(brighton_houses2) %in% c('from_id', 'travel_time_p50'))]\n",
    "  }\n",
    "  \n",
    "  return(brighton_houses2)\n",
    "} "
   ]
  },
  {
   "cell_type": "code",
   "execution_count": 98,
   "id": "d677fc0e",
   "metadata": {},
   "outputs": [],
   "source": [
    "pri_bus <- pri_bus_condense(pri_schools_geocoded, brighton_houses2, 2003, 2019)"
   ]
  },
  {
   "cell_type": "code",
   "execution_count": 99,
   "id": "888618d4",
   "metadata": {},
   "outputs": [
    {
     "data": {
      "image/png": "[encoded data removed]",
      "text/plain": [
       "plot without title"
      ]
     },
     "metadata": {
      "image/png": {
       "height": 420,
       "width": 420
      }
     },
     "output_type": "display_data"
    }
   ],
   "source": [
    "tm_shape(pri_bus) + \n",
    "tm_symbols(col=\"2019_good_pri_bus\", palette='viridis', size=0.05, border.lwd=0) +\n",
    "tm_layout(main.title = 'Map of travel time(bus) to good pri schools',legend.outside = TRUE)"
   ]
  },
  {
   "cell_type": "code",
   "execution_count": 100,
   "id": "83e300b8",
   "metadata": {},
   "outputs": [],
   "source": [
    "# ### Save \n",
    "# # Extract latitude and longitude coordinates from 'geometry' column\n",
    "# pri_bus$latitude <- st_coordinates(st_geometry(pri_bus))[ ,2]\n",
    "# pri_bus$longitude <- st_coordinates(st_geometry(pri_bus))[ ,1]\n",
    "\n",
    "# # Drop geom column\n",
    "# pri_bus <- pri_bus[, !names(pri_bus) %in% \"geometry\"]\n",
    "\n",
    "# # Save the updated dataframe as a CSV file\n",
    "# write.csv(pri_bus, \"data/schools_geo/prischools_geo_bus.csv\", row.names = FALSE)"
   ]
  },
  {
   "cell_type": "code",
   "execution_count": 102,
   "id": "6f150e2f",
   "metadata": {},
   "outputs": [],
   "source": [
    "# ## Save \n",
    "# # Convert st objects to dataframes for merging\n",
    "# pri_walk_df <- as.data.frame(pri_walk)\n",
    "# pri_bus_df <- as.data.frame(pri_bus)\n",
    "\n",
    "# # Merge the dataframes based on common columns\n",
    "# merged_pri_df <- merge(pri_walk_df, pri_bus_df, by = c(\"id\", \"walk_nearest_pri\", \"geometry\"))\n",
    "\n",
    "# # Convert the merged dataframe back to an st object\n",
    "# merged_pri_result <- st_as_sf(merged_pri_df)\n",
    "\n",
    "# # Extract latitude and longitude coordinates from 'geometry' column\n",
    "# merged_pri_result$latitude <- st_coordinates(st_geometry(merged_pri_result))[ ,2]\n",
    "# merged_pri_result$longitude <- st_coordinates(st_geometry(merged_pri_result))[ ,1]\n",
    "\n",
    "# # Drop geom column\n",
    "# merged_pri_result <- merged_pri_result[, !names(merged_pri_result) %in% \"geometry\"]\n",
    "\n",
    "# # Save the updated dataframe as a CSV file\n",
    "# write.csv(merged_pri_result, \"data/schools_geo/prischools_geo_both.csv\", row.names = FALSE)"
   ]
  },
  {
   "cell_type": "code",
   "execution_count": null,
   "id": "8cd1143a",
   "metadata": {},
   "outputs": [],
   "source": [
    "###st_write(merged_pri_result, 'data/schools_geo/shapefiles/prischools_geo_both.shp')\n",
    "#terrible field names"
   ]
  },
  {
   "cell_type": "markdown",
   "id": "f8131239",
   "metadata": {},
   "source": [
    "# Merge pri and sec data- with postcodes into one df"
   ]
  },
  {
   "cell_type": "code",
   "execution_count": 105,
   "id": "19576751",
   "metadata": {},
   "outputs": [
    {
     "name": "stderr",
     "output_type": "stream",
     "text": [
      "\u001b[1m\u001b[22mNew names:\n",
      "\u001b[36m•\u001b[39m `` -> `...46`\n",
      "\u001b[1mRows: \u001b[22m\u001b[34m3902\u001b[39m \u001b[1mColumns: \u001b[22m\u001b[34m46\u001b[39m\n",
      "\u001b[36m──\u001b[39m \u001b[1mColumn specification\u001b[22m \u001b[36m────────────────────────────────────────────────────────────────────────────────────────────────\u001b[39m\n",
      "\u001b[1mDelimiter:\u001b[22m \",\"\n",
      "\u001b[31mchr\u001b[39m (43): id, 2000_good_sec_walk, 2001_good_sec_walk, 2002_good_sec_walk, 20...\n",
      "\u001b[32mdbl\u001b[39m  (3): walk_nearest_sec, latitude, longitude\n",
      "\n",
      "\u001b[36mℹ\u001b[39m Use `spec()` to retrieve the full column specification for this data.\n",
      "\u001b[36mℹ\u001b[39m Specify the column types or set `show_col_types = FALSE` to quiet this message.\n"
     ]
    },
    {
     "data": {
      "text/html": [
       "<table class=\"dataframe\">\n",
       "<caption>A tibble: 6 × 46</caption>\n",
       "<thead>\n",
       "\t<tr><th scope=col>id</th><th scope=col>walk_nearest_sec</th><th scope=col>2000_good_sec_walk</th><th scope=col>2001_good_sec_walk</th><th scope=col>2002_good_sec_walk</th><th scope=col>2003_good_sec_walk</th><th scope=col>2004_good_sec_walk</th><th scope=col>2005_good_sec_walk</th><th scope=col>2006_good_sec_walk</th><th scope=col>2007_good_sec_walk</th><th scope=col>⋯</th><th scope=col>2014_good_sec_bus</th><th scope=col>2015_good_sec_bus</th><th scope=col>2016_good_sec_bus</th><th scope=col>2017_good_sec_bus</th><th scope=col>2018_good_sec_bus</th><th scope=col>2019_good_sec_bus</th><th scope=col>latitude</th><th scope=col>longitude</th><th scope=col>geometry</th><th scope=col>...46</th></tr>\n",
       "\t<tr><th scope=col>&lt;chr&gt;</th><th scope=col>&lt;dbl&gt;</th><th scope=col>&lt;chr&gt;</th><th scope=col>&lt;chr&gt;</th><th scope=col>&lt;chr&gt;</th><th scope=col>&lt;chr&gt;</th><th scope=col>&lt;chr&gt;</th><th scope=col>&lt;chr&gt;</th><th scope=col>&lt;chr&gt;</th><th scope=col>&lt;chr&gt;</th><th scope=col>⋯</th><th scope=col>&lt;chr&gt;</th><th scope=col>&lt;chr&gt;</th><th scope=col>&lt;chr&gt;</th><th scope=col>&lt;chr&gt;</th><th scope=col>&lt;chr&gt;</th><th scope=col>&lt;chr&gt;</th><th scope=col>&lt;dbl&gt;</th><th scope=col>&lt;dbl&gt;</th><th scope=col>&lt;chr&gt;</th><th scope=col>&lt;chr&gt;</th></tr>\n",
       "</thead>\n",
       "<tbody>\n",
       "\t<tr><td>BN1 1AD</td><td>50</td><td>NA</td><td>NA</td><td>NA</td><td>NA</td><td>NA</td><td>NA</td><td>NA</td><td>NA</td><td>⋯</td><td>30-35_mins</td><td>30-35_mins</td><td>30-35_mins</td><td>30-35_mins</td><td>30-35_mins</td><td>30-35_mins</td><td>50.82169</td><td>-0.142167</td><td>c(-0.142167</td><td>50.821691)</td></tr>\n",
       "\t<tr><td>BN1 1AJ</td><td>50</td><td>NA</td><td>NA</td><td>NA</td><td>NA</td><td>NA</td><td>NA</td><td>NA</td><td>NA</td><td>⋯</td><td>30-35_mins</td><td>30-35_mins</td><td>30-35_mins</td><td>30-35_mins</td><td>30-35_mins</td><td>30-35_mins</td><td>50.82145</td><td>-0.142560</td><td>c(-0.14256 </td><td>50.821451)</td></tr>\n",
       "\t<tr><td>BN1 1AL</td><td>49</td><td>NA</td><td>NA</td><td>NA</td><td>NA</td><td>NA</td><td>NA</td><td>NA</td><td>NA</td><td>⋯</td><td>30-35_mins</td><td>30-35_mins</td><td>30-35_mins</td><td>30-35_mins</td><td>30-35_mins</td><td>30-35_mins</td><td>50.82136</td><td>-0.142961</td><td>c(-0.142961</td><td>50.821362)</td></tr>\n",
       "\t<tr><td>BN1 1AN</td><td>47</td><td>NA</td><td>NA</td><td>NA</td><td>NA</td><td>NA</td><td>NA</td><td>NA</td><td>NA</td><td>⋯</td><td>30-35_mins</td><td>30-35_mins</td><td>30-35_mins</td><td>30-35_mins</td><td>30-35_mins</td><td>30-35_mins</td><td>50.82209</td><td>-0.143500</td><td>c(-0.1435  </td><td>50.822086)</td></tr>\n",
       "\t<tr><td>BN1 1AP</td><td>51</td><td>NA</td><td>NA</td><td>NA</td><td>NA</td><td>NA</td><td>NA</td><td>NA</td><td>NA</td><td>⋯</td><td>30-35_mins</td><td>30-35_mins</td><td>30-35_mins</td><td>30-35_mins</td><td>30-35_mins</td><td>30-35_mins</td><td>50.82080</td><td>-0.143707</td><td>c(-0.143707</td><td>50.820804)</td></tr>\n",
       "\t<tr><td>BN1 1BG</td><td>48</td><td>NA</td><td>NA</td><td>NA</td><td>NA</td><td>NA</td><td>NA</td><td>NA</td><td>NA</td><td>⋯</td><td>30-35_mins</td><td>30-35_mins</td><td>30-35_mins</td><td>30-35_mins</td><td>30-35_mins</td><td>30-35_mins</td><td>50.82231</td><td>-0.142100</td><td>c(-0.1421  </td><td>50.82231) </td></tr>\n",
       "</tbody>\n",
       "</table>\n"
      ],
      "text/latex": [
       "A tibble: 6 × 46\n",
       "\\begin{tabular}{lllllllllllllllllllll}\n",
       " id & walk\\_nearest\\_sec & 2000\\_good\\_sec\\_walk & 2001\\_good\\_sec\\_walk & 2002\\_good\\_sec\\_walk & 2003\\_good\\_sec\\_walk & 2004\\_good\\_sec\\_walk & 2005\\_good\\_sec\\_walk & 2006\\_good\\_sec\\_walk & 2007\\_good\\_sec\\_walk & ⋯ & 2014\\_good\\_sec\\_bus & 2015\\_good\\_sec\\_bus & 2016\\_good\\_sec\\_bus & 2017\\_good\\_sec\\_bus & 2018\\_good\\_sec\\_bus & 2019\\_good\\_sec\\_bus & latitude & longitude & geometry & ...46\\\\\n",
       " <chr> & <dbl> & <chr> & <chr> & <chr> & <chr> & <chr> & <chr> & <chr> & <chr> & ⋯ & <chr> & <chr> & <chr> & <chr> & <chr> & <chr> & <dbl> & <dbl> & <chr> & <chr>\\\\\n",
       "\\hline\n",
       "\t BN1 1AD & 50 & NA & NA & NA & NA & NA & NA & NA & NA & ⋯ & 30-35\\_mins & 30-35\\_mins & 30-35\\_mins & 30-35\\_mins & 30-35\\_mins & 30-35\\_mins & 50.82169 & -0.142167 & c(-0.142167 & 50.821691)\\\\\n",
       "\t BN1 1AJ & 50 & NA & NA & NA & NA & NA & NA & NA & NA & ⋯ & 30-35\\_mins & 30-35\\_mins & 30-35\\_mins & 30-35\\_mins & 30-35\\_mins & 30-35\\_mins & 50.82145 & -0.142560 & c(-0.14256  & 50.821451)\\\\\n",
       "\t BN1 1AL & 49 & NA & NA & NA & NA & NA & NA & NA & NA & ⋯ & 30-35\\_mins & 30-35\\_mins & 30-35\\_mins & 30-35\\_mins & 30-35\\_mins & 30-35\\_mins & 50.82136 & -0.142961 & c(-0.142961 & 50.821362)\\\\\n",
       "\t BN1 1AN & 47 & NA & NA & NA & NA & NA & NA & NA & NA & ⋯ & 30-35\\_mins & 30-35\\_mins & 30-35\\_mins & 30-35\\_mins & 30-35\\_mins & 30-35\\_mins & 50.82209 & -0.143500 & c(-0.1435   & 50.822086)\\\\\n",
       "\t BN1 1AP & 51 & NA & NA & NA & NA & NA & NA & NA & NA & ⋯ & 30-35\\_mins & 30-35\\_mins & 30-35\\_mins & 30-35\\_mins & 30-35\\_mins & 30-35\\_mins & 50.82080 & -0.143707 & c(-0.143707 & 50.820804)\\\\\n",
       "\t BN1 1BG & 48 & NA & NA & NA & NA & NA & NA & NA & NA & ⋯ & 30-35\\_mins & 30-35\\_mins & 30-35\\_mins & 30-35\\_mins & 30-35\\_mins & 30-35\\_mins & 50.82231 & -0.142100 & c(-0.1421   & 50.82231) \\\\\n",
       "\\end{tabular}\n"
      ],
      "text/markdown": [
       "\n",
       "A tibble: 6 × 46\n",
       "\n",
       "| id &lt;chr&gt; | walk_nearest_sec &lt;dbl&gt; | 2000_good_sec_walk &lt;chr&gt; | 2001_good_sec_walk &lt;chr&gt; | 2002_good_sec_walk &lt;chr&gt; | 2003_good_sec_walk &lt;chr&gt; | 2004_good_sec_walk &lt;chr&gt; | 2005_good_sec_walk &lt;chr&gt; | 2006_good_sec_walk &lt;chr&gt; | 2007_good_sec_walk &lt;chr&gt; | ⋯ ⋯ | 2014_good_sec_bus &lt;chr&gt; | 2015_good_sec_bus &lt;chr&gt; | 2016_good_sec_bus &lt;chr&gt; | 2017_good_sec_bus &lt;chr&gt; | 2018_good_sec_bus &lt;chr&gt; | 2019_good_sec_bus &lt;chr&gt; | latitude &lt;dbl&gt; | longitude &lt;dbl&gt; | geometry &lt;chr&gt; | ...46 &lt;chr&gt; |\n",
       "|---|---|---|---|---|---|---|---|---|---|---|---|---|---|---|---|---|---|---|---|---|\n",
       "| BN1 1AD | 50 | NA | NA | NA | NA | NA | NA | NA | NA | ⋯ | 30-35_mins | 30-35_mins | 30-35_mins | 30-35_mins | 30-35_mins | 30-35_mins | 50.82169 | -0.142167 | c(-0.142167 | 50.821691) |\n",
       "| BN1 1AJ | 50 | NA | NA | NA | NA | NA | NA | NA | NA | ⋯ | 30-35_mins | 30-35_mins | 30-35_mins | 30-35_mins | 30-35_mins | 30-35_mins | 50.82145 | -0.142560 | c(-0.14256  | 50.821451) |\n",
       "| BN1 1AL | 49 | NA | NA | NA | NA | NA | NA | NA | NA | ⋯ | 30-35_mins | 30-35_mins | 30-35_mins | 30-35_mins | 30-35_mins | 30-35_mins | 50.82136 | -0.142961 | c(-0.142961 | 50.821362) |\n",
       "| BN1 1AN | 47 | NA | NA | NA | NA | NA | NA | NA | NA | ⋯ | 30-35_mins | 30-35_mins | 30-35_mins | 30-35_mins | 30-35_mins | 30-35_mins | 50.82209 | -0.143500 | c(-0.1435   | 50.822086) |\n",
       "| BN1 1AP | 51 | NA | NA | NA | NA | NA | NA | NA | NA | ⋯ | 30-35_mins | 30-35_mins | 30-35_mins | 30-35_mins | 30-35_mins | 30-35_mins | 50.82080 | -0.143707 | c(-0.143707 | 50.820804) |\n",
       "| BN1 1BG | 48 | NA | NA | NA | NA | NA | NA | NA | NA | ⋯ | 30-35_mins | 30-35_mins | 30-35_mins | 30-35_mins | 30-35_mins | 30-35_mins | 50.82231 | -0.142100 | c(-0.1421   | 50.82231)  |\n",
       "\n"
      ],
      "text/plain": [
       "  id      walk_nearest_sec 2000_good_sec_walk 2001_good_sec_walk\n",
       "1 BN1 1AD 50               NA                 NA                \n",
       "2 BN1 1AJ 50               NA                 NA                \n",
       "3 BN1 1AL 49               NA                 NA                \n",
       "4 BN1 1AN 47               NA                 NA                \n",
       "5 BN1 1AP 51               NA                 NA                \n",
       "6 BN1 1BG 48               NA                 NA                \n",
       "  2002_good_sec_walk 2003_good_sec_walk 2004_good_sec_walk 2005_good_sec_walk\n",
       "1 NA                 NA                 NA                 NA                \n",
       "2 NA                 NA                 NA                 NA                \n",
       "3 NA                 NA                 NA                 NA                \n",
       "4 NA                 NA                 NA                 NA                \n",
       "5 NA                 NA                 NA                 NA                \n",
       "6 NA                 NA                 NA                 NA                \n",
       "  2006_good_sec_walk 2007_good_sec_walk ⋯ 2014_good_sec_bus 2015_good_sec_bus\n",
       "1 NA                 NA                 ⋯ 30-35_mins        30-35_mins       \n",
       "2 NA                 NA                 ⋯ 30-35_mins        30-35_mins       \n",
       "3 NA                 NA                 ⋯ 30-35_mins        30-35_mins       \n",
       "4 NA                 NA                 ⋯ 30-35_mins        30-35_mins       \n",
       "5 NA                 NA                 ⋯ 30-35_mins        30-35_mins       \n",
       "6 NA                 NA                 ⋯ 30-35_mins        30-35_mins       \n",
       "  2016_good_sec_bus 2017_good_sec_bus 2018_good_sec_bus 2019_good_sec_bus\n",
       "1 30-35_mins        30-35_mins        30-35_mins        30-35_mins       \n",
       "2 30-35_mins        30-35_mins        30-35_mins        30-35_mins       \n",
       "3 30-35_mins        30-35_mins        30-35_mins        30-35_mins       \n",
       "4 30-35_mins        30-35_mins        30-35_mins        30-35_mins       \n",
       "5 30-35_mins        30-35_mins        30-35_mins        30-35_mins       \n",
       "6 30-35_mins        30-35_mins        30-35_mins        30-35_mins       \n",
       "  latitude longitude geometry    ...46     \n",
       "1 50.82169 -0.142167 c(-0.142167 50.821691)\n",
       "2 50.82145 -0.142560 c(-0.14256  50.821451)\n",
       "3 50.82136 -0.142961 c(-0.142961 50.821362)\n",
       "4 50.82209 -0.143500 c(-0.1435   50.822086)\n",
       "5 50.82080 -0.143707 c(-0.143707 50.820804)\n",
       "6 50.82231 -0.142100 c(-0.1421   50.82231) "
      ]
     },
     "metadata": {},
     "output_type": "display_data"
    }
   ],
   "source": [
    "secschools_geo_both = read_csv(\"schools_geo/secschools_geo_both.csv\")\n",
    "head(secschools_geo_both)\n"
   ]
  },
  {
   "cell_type": "code",
   "execution_count": 107,
   "id": "1d302e7d",
   "metadata": {},
   "outputs": [
    {
     "data": {
      "text/html": [
       "3902"
      ],
      "text/latex": [
       "3902"
      ],
      "text/markdown": [
       "3902"
      ],
      "text/plain": [
       "[1] 3902"
      ]
     },
     "metadata": {},
     "output_type": "display_data"
    }
   ],
   "source": [
    "nrow(secschools_geo_both)"
   ]
  },
  {
   "cell_type": "code",
   "execution_count": 106,
   "id": "62528db9",
   "metadata": {},
   "outputs": [
    {
     "name": "stderr",
     "output_type": "stream",
     "text": [
      "\u001b[1m\u001b[22mNew names:\n",
      "\u001b[36m•\u001b[39m `` -> `...40`\n",
      "\u001b[1mRows: \u001b[22m\u001b[34m3902\u001b[39m \u001b[1mColumns: \u001b[22m\u001b[34m40\u001b[39m\n",
      "\u001b[36m──\u001b[39m \u001b[1mColumn specification\u001b[22m \u001b[36m────────────────────────────────────────────────────────────────────────────────────────────────\u001b[39m\n",
      "\u001b[1mDelimiter:\u001b[22m \",\"\n",
      "\u001b[31mchr\u001b[39m (37): id, 2003_good_pri_walk, 2004_good_pri_walk, 2005_good_pri_walk, 20...\n",
      "\u001b[32mdbl\u001b[39m  (3): walk_nearest_pri, latitude, longitude\n",
      "\n",
      "\u001b[36mℹ\u001b[39m Use `spec()` to retrieve the full column specification for this data.\n",
      "\u001b[36mℹ\u001b[39m Specify the column types or set `show_col_types = FALSE` to quiet this message.\n"
     ]
    },
    {
     "data": {
      "text/html": [
       "<table class=\"dataframe\">\n",
       "<caption>A tibble: 6 × 40</caption>\n",
       "<thead>\n",
       "\t<tr><th scope=col>id</th><th scope=col>walk_nearest_pri</th><th scope=col>2003_good_pri_walk</th><th scope=col>2004_good_pri_walk</th><th scope=col>2005_good_pri_walk</th><th scope=col>2006_good_pri_walk</th><th scope=col>2007_good_pri_walk</th><th scope=col>2008_good_pri_walk</th><th scope=col>2009_good_pri_walk</th><th scope=col>2010_good_pri_walk</th><th scope=col>⋯</th><th scope=col>2014_good_pri_bus</th><th scope=col>2015_good_pri_bus</th><th scope=col>2016_good_pri_bus</th><th scope=col>2017_good_pri_bus</th><th scope=col>2018_good_pri_bus</th><th scope=col>2019_good_pri_bus</th><th scope=col>latitude</th><th scope=col>longitude</th><th scope=col>geometry</th><th scope=col>...40</th></tr>\n",
       "\t<tr><th scope=col>&lt;chr&gt;</th><th scope=col>&lt;dbl&gt;</th><th scope=col>&lt;chr&gt;</th><th scope=col>&lt;chr&gt;</th><th scope=col>&lt;chr&gt;</th><th scope=col>&lt;chr&gt;</th><th scope=col>&lt;chr&gt;</th><th scope=col>&lt;chr&gt;</th><th scope=col>&lt;chr&gt;</th><th scope=col>&lt;chr&gt;</th><th scope=col>⋯</th><th scope=col>&lt;chr&gt;</th><th scope=col>&lt;chr&gt;</th><th scope=col>&lt;chr&gt;</th><th scope=col>&lt;chr&gt;</th><th scope=col>&lt;chr&gt;</th><th scope=col>&lt;chr&gt;</th><th scope=col>&lt;dbl&gt;</th><th scope=col>&lt;dbl&gt;</th><th scope=col>&lt;chr&gt;</th><th scope=col>&lt;chr&gt;</th></tr>\n",
       "</thead>\n",
       "<tbody>\n",
       "\t<tr><td>BN1 1AD</td><td>3</td><td>0-5_mins</td><td>0-5_mins</td><td>15-20_mins</td><td>0-5_mins</td><td>0-5_mins</td><td>15-20_mins</td><td>15-20_mins</td><td>15-20_mins</td><td>⋯</td><td>0-5_mins</td><td>20-25_mins</td><td>20-25_mins</td><td>0-5_mins</td><td>15-20_mins</td><td>20-25_mins</td><td>50.82169</td><td>-0.142167</td><td>c(-0.142167</td><td>50.821691)</td></tr>\n",
       "\t<tr><td>BN1 1AJ</td><td>1</td><td>0-5_mins</td><td>0-5_mins</td><td>10-15_mins</td><td>0-5_mins</td><td>0-5_mins</td><td>10-15_mins</td><td>10-15_mins</td><td>10-15_mins</td><td>⋯</td><td>0-5_mins</td><td>20-25_mins</td><td>20-25_mins</td><td>0-5_mins</td><td>10-15_mins</td><td>20-25_mins</td><td>50.82145</td><td>-0.142560</td><td>c(-0.14256 </td><td>50.821451)</td></tr>\n",
       "\t<tr><td>BN1 1AL</td><td>0</td><td>0-5_mins</td><td>0-5_mins</td><td>10-15_mins</td><td>0-5_mins</td><td>0-5_mins</td><td>10-15_mins</td><td>10-15_mins</td><td>10-15_mins</td><td>⋯</td><td>0-5_mins</td><td>20-25_mins</td><td>20-25_mins</td><td>0-5_mins</td><td>10-15_mins</td><td>20-25_mins</td><td>50.82136</td><td>-0.142961</td><td>c(-0.142961</td><td>50.821362)</td></tr>\n",
       "\t<tr><td>BN1 1AN</td><td>2</td><td>0-5_mins</td><td>0-5_mins</td><td>10-15_mins</td><td>0-5_mins</td><td>0-5_mins</td><td>10-15_mins</td><td>10-15_mins</td><td>10-15_mins</td><td>⋯</td><td>0-5_mins</td><td>20-25_mins</td><td>20-25_mins</td><td>0-5_mins</td><td>10-15_mins</td><td>20-25_mins</td><td>50.82209</td><td>-0.143500</td><td>c(-0.1435  </td><td>50.822086)</td></tr>\n",
       "\t<tr><td>BN1 1AP</td><td>2</td><td>0-5_mins</td><td>0-5_mins</td><td>15-20_mins</td><td>0-5_mins</td><td>0-5_mins</td><td>15-20_mins</td><td>15-20_mins</td><td>15-20_mins</td><td>⋯</td><td>0-5_mins</td><td>25-30_mins</td><td>25-30_mins</td><td>0-5_mins</td><td>15-20_mins</td><td>20-25_mins</td><td>50.82080</td><td>-0.143707</td><td>c(-0.143707</td><td>50.820804)</td></tr>\n",
       "\t<tr><td>BN1 1BG</td><td>3</td><td>0-5_mins</td><td>0-5_mins</td><td>10-15_mins</td><td>0-5_mins</td><td>0-5_mins</td><td>10-15_mins</td><td>10-15_mins</td><td>10-15_mins</td><td>⋯</td><td>0-5_mins</td><td>20-25_mins</td><td>20-25_mins</td><td>0-5_mins</td><td>10-15_mins</td><td>20-25_mins</td><td>50.82231</td><td>-0.142100</td><td>c(-0.1421  </td><td>50.82231) </td></tr>\n",
       "</tbody>\n",
       "</table>\n"
      ],
      "text/latex": [
       "A tibble: 6 × 40\n",
       "\\begin{tabular}{lllllllllllllllllllll}\n",
       " id & walk\\_nearest\\_pri & 2003\\_good\\_pri\\_walk & 2004\\_good\\_pri\\_walk & 2005\\_good\\_pri\\_walk & 2006\\_good\\_pri\\_walk & 2007\\_good\\_pri\\_walk & 2008\\_good\\_pri\\_walk & 2009\\_good\\_pri\\_walk & 2010\\_good\\_pri\\_walk & ⋯ & 2014\\_good\\_pri\\_bus & 2015\\_good\\_pri\\_bus & 2016\\_good\\_pri\\_bus & 2017\\_good\\_pri\\_bus & 2018\\_good\\_pri\\_bus & 2019\\_good\\_pri\\_bus & latitude & longitude & geometry & ...40\\\\\n",
       " <chr> & <dbl> & <chr> & <chr> & <chr> & <chr> & <chr> & <chr> & <chr> & <chr> & ⋯ & <chr> & <chr> & <chr> & <chr> & <chr> & <chr> & <dbl> & <dbl> & <chr> & <chr>\\\\\n",
       "\\hline\n",
       "\t BN1 1AD & 3 & 0-5\\_mins & 0-5\\_mins & 15-20\\_mins & 0-5\\_mins & 0-5\\_mins & 15-20\\_mins & 15-20\\_mins & 15-20\\_mins & ⋯ & 0-5\\_mins & 20-25\\_mins & 20-25\\_mins & 0-5\\_mins & 15-20\\_mins & 20-25\\_mins & 50.82169 & -0.142167 & c(-0.142167 & 50.821691)\\\\\n",
       "\t BN1 1AJ & 1 & 0-5\\_mins & 0-5\\_mins & 10-15\\_mins & 0-5\\_mins & 0-5\\_mins & 10-15\\_mins & 10-15\\_mins & 10-15\\_mins & ⋯ & 0-5\\_mins & 20-25\\_mins & 20-25\\_mins & 0-5\\_mins & 10-15\\_mins & 20-25\\_mins & 50.82145 & -0.142560 & c(-0.14256  & 50.821451)\\\\\n",
       "\t BN1 1AL & 0 & 0-5\\_mins & 0-5\\_mins & 10-15\\_mins & 0-5\\_mins & 0-5\\_mins & 10-15\\_mins & 10-15\\_mins & 10-15\\_mins & ⋯ & 0-5\\_mins & 20-25\\_mins & 20-25\\_mins & 0-5\\_mins & 10-15\\_mins & 20-25\\_mins & 50.82136 & -0.142961 & c(-0.142961 & 50.821362)\\\\\n",
       "\t BN1 1AN & 2 & 0-5\\_mins & 0-5\\_mins & 10-15\\_mins & 0-5\\_mins & 0-5\\_mins & 10-15\\_mins & 10-15\\_mins & 10-15\\_mins & ⋯ & 0-5\\_mins & 20-25\\_mins & 20-25\\_mins & 0-5\\_mins & 10-15\\_mins & 20-25\\_mins & 50.82209 & -0.143500 & c(-0.1435   & 50.822086)\\\\\n",
       "\t BN1 1AP & 2 & 0-5\\_mins & 0-5\\_mins & 15-20\\_mins & 0-5\\_mins & 0-5\\_mins & 15-20\\_mins & 15-20\\_mins & 15-20\\_mins & ⋯ & 0-5\\_mins & 25-30\\_mins & 25-30\\_mins & 0-5\\_mins & 15-20\\_mins & 20-25\\_mins & 50.82080 & -0.143707 & c(-0.143707 & 50.820804)\\\\\n",
       "\t BN1 1BG & 3 & 0-5\\_mins & 0-5\\_mins & 10-15\\_mins & 0-5\\_mins & 0-5\\_mins & 10-15\\_mins & 10-15\\_mins & 10-15\\_mins & ⋯ & 0-5\\_mins & 20-25\\_mins & 20-25\\_mins & 0-5\\_mins & 10-15\\_mins & 20-25\\_mins & 50.82231 & -0.142100 & c(-0.1421   & 50.82231) \\\\\n",
       "\\end{tabular}\n"
      ],
      "text/markdown": [
       "\n",
       "A tibble: 6 × 40\n",
       "\n",
       "| id &lt;chr&gt; | walk_nearest_pri &lt;dbl&gt; | 2003_good_pri_walk &lt;chr&gt; | 2004_good_pri_walk &lt;chr&gt; | 2005_good_pri_walk &lt;chr&gt; | 2006_good_pri_walk &lt;chr&gt; | 2007_good_pri_walk &lt;chr&gt; | 2008_good_pri_walk &lt;chr&gt; | 2009_good_pri_walk &lt;chr&gt; | 2010_good_pri_walk &lt;chr&gt; | ⋯ ⋯ | 2014_good_pri_bus &lt;chr&gt; | 2015_good_pri_bus &lt;chr&gt; | 2016_good_pri_bus &lt;chr&gt; | 2017_good_pri_bus &lt;chr&gt; | 2018_good_pri_bus &lt;chr&gt; | 2019_good_pri_bus &lt;chr&gt; | latitude &lt;dbl&gt; | longitude &lt;dbl&gt; | geometry &lt;chr&gt; | ...40 &lt;chr&gt; |\n",
       "|---|---|---|---|---|---|---|---|---|---|---|---|---|---|---|---|---|---|---|---|---|\n",
       "| BN1 1AD | 3 | 0-5_mins | 0-5_mins | 15-20_mins | 0-5_mins | 0-5_mins | 15-20_mins | 15-20_mins | 15-20_mins | ⋯ | 0-5_mins | 20-25_mins | 20-25_mins | 0-5_mins | 15-20_mins | 20-25_mins | 50.82169 | -0.142167 | c(-0.142167 | 50.821691) |\n",
       "| BN1 1AJ | 1 | 0-5_mins | 0-5_mins | 10-15_mins | 0-5_mins | 0-5_mins | 10-15_mins | 10-15_mins | 10-15_mins | ⋯ | 0-5_mins | 20-25_mins | 20-25_mins | 0-5_mins | 10-15_mins | 20-25_mins | 50.82145 | -0.142560 | c(-0.14256  | 50.821451) |\n",
       "| BN1 1AL | 0 | 0-5_mins | 0-5_mins | 10-15_mins | 0-5_mins | 0-5_mins | 10-15_mins | 10-15_mins | 10-15_mins | ⋯ | 0-5_mins | 20-25_mins | 20-25_mins | 0-5_mins | 10-15_mins | 20-25_mins | 50.82136 | -0.142961 | c(-0.142961 | 50.821362) |\n",
       "| BN1 1AN | 2 | 0-5_mins | 0-5_mins | 10-15_mins | 0-5_mins | 0-5_mins | 10-15_mins | 10-15_mins | 10-15_mins | ⋯ | 0-5_mins | 20-25_mins | 20-25_mins | 0-5_mins | 10-15_mins | 20-25_mins | 50.82209 | -0.143500 | c(-0.1435   | 50.822086) |\n",
       "| BN1 1AP | 2 | 0-5_mins | 0-5_mins | 15-20_mins | 0-5_mins | 0-5_mins | 15-20_mins | 15-20_mins | 15-20_mins | ⋯ | 0-5_mins | 25-30_mins | 25-30_mins | 0-5_mins | 15-20_mins | 20-25_mins | 50.82080 | -0.143707 | c(-0.143707 | 50.820804) |\n",
       "| BN1 1BG | 3 | 0-5_mins | 0-5_mins | 10-15_mins | 0-5_mins | 0-5_mins | 10-15_mins | 10-15_mins | 10-15_mins | ⋯ | 0-5_mins | 20-25_mins | 20-25_mins | 0-5_mins | 10-15_mins | 20-25_mins | 50.82231 | -0.142100 | c(-0.1421   | 50.82231)  |\n",
       "\n"
      ],
      "text/plain": [
       "  id      walk_nearest_pri 2003_good_pri_walk 2004_good_pri_walk\n",
       "1 BN1 1AD 3                0-5_mins           0-5_mins          \n",
       "2 BN1 1AJ 1                0-5_mins           0-5_mins          \n",
       "3 BN1 1AL 0                0-5_mins           0-5_mins          \n",
       "4 BN1 1AN 2                0-5_mins           0-5_mins          \n",
       "5 BN1 1AP 2                0-5_mins           0-5_mins          \n",
       "6 BN1 1BG 3                0-5_mins           0-5_mins          \n",
       "  2005_good_pri_walk 2006_good_pri_walk 2007_good_pri_walk 2008_good_pri_walk\n",
       "1 15-20_mins         0-5_mins           0-5_mins           15-20_mins        \n",
       "2 10-15_mins         0-5_mins           0-5_mins           10-15_mins        \n",
       "3 10-15_mins         0-5_mins           0-5_mins           10-15_mins        \n",
       "4 10-15_mins         0-5_mins           0-5_mins           10-15_mins        \n",
       "5 15-20_mins         0-5_mins           0-5_mins           15-20_mins        \n",
       "6 10-15_mins         0-5_mins           0-5_mins           10-15_mins        \n",
       "  2009_good_pri_walk 2010_good_pri_walk ⋯ 2014_good_pri_bus 2015_good_pri_bus\n",
       "1 15-20_mins         15-20_mins         ⋯ 0-5_mins          20-25_mins       \n",
       "2 10-15_mins         10-15_mins         ⋯ 0-5_mins          20-25_mins       \n",
       "3 10-15_mins         10-15_mins         ⋯ 0-5_mins          20-25_mins       \n",
       "4 10-15_mins         10-15_mins         ⋯ 0-5_mins          20-25_mins       \n",
       "5 15-20_mins         15-20_mins         ⋯ 0-5_mins          25-30_mins       \n",
       "6 10-15_mins         10-15_mins         ⋯ 0-5_mins          20-25_mins       \n",
       "  2016_good_pri_bus 2017_good_pri_bus 2018_good_pri_bus 2019_good_pri_bus\n",
       "1 20-25_mins        0-5_mins          15-20_mins        20-25_mins       \n",
       "2 20-25_mins        0-5_mins          10-15_mins        20-25_mins       \n",
       "3 20-25_mins        0-5_mins          10-15_mins        20-25_mins       \n",
       "4 20-25_mins        0-5_mins          10-15_mins        20-25_mins       \n",
       "5 25-30_mins        0-5_mins          15-20_mins        20-25_mins       \n",
       "6 20-25_mins        0-5_mins          10-15_mins        20-25_mins       \n",
       "  latitude longitude geometry    ...40     \n",
       "1 50.82169 -0.142167 c(-0.142167 50.821691)\n",
       "2 50.82145 -0.142560 c(-0.14256  50.821451)\n",
       "3 50.82136 -0.142961 c(-0.142961 50.821362)\n",
       "4 50.82209 -0.143500 c(-0.1435   50.822086)\n",
       "5 50.82080 -0.143707 c(-0.143707 50.820804)\n",
       "6 50.82231 -0.142100 c(-0.1421   50.82231) "
      ]
     },
     "metadata": {},
     "output_type": "display_data"
    }
   ],
   "source": [
    "prischools_geo_both = read_csv(\"schools_geo/prischools_geo_both.csv\")\n",
    "head(prischools_geo_both)"
   ]
  },
  {
   "cell_type": "code",
   "execution_count": 109,
   "id": "57b8a884",
   "metadata": {},
   "outputs": [
    {
     "data": {
      "text/html": [
       "3902"
      ],
      "text/latex": [
       "3902"
      ],
      "text/markdown": [
       "3902"
      ],
      "text/plain": [
       "[1] 3902"
      ]
     },
     "metadata": {},
     "output_type": "display_data"
    }
   ],
   "source": [
    "nrow(prischools_geo_both)"
   ]
  },
  {
   "cell_type": "code",
   "execution_count": 111,
   "id": "47011769",
   "metadata": {},
   "outputs": [],
   "source": [
    "postcodes_sch_acc <- merge(secschools_geo_both, prischools_geo_both, by = \"id\", all = TRUE)"
   ]
  },
  {
   "cell_type": "code",
   "execution_count": 112,
   "id": "ad90cc0a",
   "metadata": {},
   "outputs": [
    {
     "data": {
      "text/html": [
       "3902"
      ],
      "text/latex": [
       "3902"
      ],
      "text/markdown": [
       "3902"
      ],
      "text/plain": [
       "[1] 3902"
      ]
     },
     "metadata": {},
     "output_type": "display_data"
    }
   ],
   "source": [
    "nrow(postcodes_sch_acc)"
   ]
  },
  {
   "cell_type": "code",
   "execution_count": 113,
   "id": "373a1861",
   "metadata": {},
   "outputs": [],
   "source": [
    "# write.csv(postcodes_sch_acc, \"schools_geo/allschools_geo_both.csv\", row.names = FALSE)"
   ]
  }
 ],
 "metadata": {
  "kernelspec": {
   "display_name": "Python 3 (ipykernel)",
   "language": "python",
   "name": "python3"
  },
  "language_info": {
   "codemirror_mode": {
    "name": "ipython",
    "version": 3
   },
   "file_extension": ".py",
   "mimetype": "text/x-python",
   "name": "python",
   "nbconvert_exporter": "python",
   "pygments_lexer": "ipython3",
   "version": "3.10.5"
  }
 },
 "nbformat": 4,
 "nbformat_minor": 5
}
