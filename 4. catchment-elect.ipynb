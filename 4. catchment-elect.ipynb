{
 "cells": [
  {
   "cell_type": "markdown",
   "id": "aa42f6f5-2f25-4f6b-acf7-3d204f375683",
   "metadata": {},
   "source": [
    "# Obtain Categorical Variables for Catchment Areas and Electoral Wards (R)"
   ]
  },
  {
   "cell_type": "markdown",
   "id": "a30cbdb1-7c08-4eb1-a43e-307e815925d7",
   "metadata": {},
   "source": [
    "Output of Catchments and Wards csvs to be merged in merge.ipynb"
   ]
  },
  {
   "cell_type": "code",
   "execution_count": null,
   "id": "fb567f43-c94e-4540-9b41-fa3cc62541cf",
   "metadata": {},
   "outputs": [],
   "source": [
    "# Import libraries\n",
    "library(sf)\n",
    "library(data.table)\n",
    "library(ggplot2)\n",
    "library(tmap)\n",
    "library(tidygeocoder)\n",
    "library(leaflet)\n",
    "library(dplyr)\n",
    "library(osmdata)\n",
    "library(tmaptools)\n",
    "library(tidyr)\n",
    "library(readr)"
   ]
  },
  {
   "cell_type": "code",
   "execution_count": 2,
   "id": "e624dd72",
   "metadata": {},
   "outputs": [
    {
     "name": "stderr",
     "output_type": "stream",
     "text": [
      "\u001b[1mRows: \u001b[22m\u001b[34m114152\u001b[39m \u001b[1mColumns: \u001b[22m\u001b[34m16\u001b[39m\n",
      "\u001b[36m──\u001b[39m \u001b[1mColumn specification\u001b[22m \u001b[36m────────────────────────────────────────────────────────────────────────────────────────────────\u001b[39m\n",
      "\u001b[1mDelimiter:\u001b[22m \",\"\n",
      "\u001b[31mchr\u001b[39m  (6): propertytype, duration, postcode, lad21cd, transactionid, CONSTRUC...\n",
      "\u001b[32mdbl\u001b[39m  (9): priceper, year, price, id, tfarea, numberrooms, classt, CURRENT_EN...\n",
      "\u001b[34mdate\u001b[39m (1): dateoftransfer\n",
      "\n",
      "\u001b[36mℹ\u001b[39m Use `spec()` to retrieve the full column specification for this data.\n",
      "\u001b[36mℹ\u001b[39m Specify the column types or set `show_col_types = FALSE` to quiet this message.\n"
     ]
    },
    {
     "data": {
      "text/html": [
       "3902"
      ],
      "text/latex": [
       "3902"
      ],
      "text/markdown": [
       "3902"
      ],
      "text/plain": [
       "[1] 3902"
      ]
     },
     "metadata": {},
     "output_type": "display_data"
    },
    {
     "name": "stderr",
     "output_type": "stream",
     "text": [
      "\u001b[1mRows: \u001b[22m\u001b[34m35547\u001b[39m \u001b[1mColumns: \u001b[22m\u001b[34m53\u001b[39m\n",
      "\u001b[36m──\u001b[39m \u001b[1mColumn specification\u001b[22m \u001b[36m────────────────────────────────────────────────────────────────────────────────────────────────\u001b[39m\n",
      "\u001b[1mDelimiter:\u001b[22m \",\"\n",
      "\u001b[31mchr\u001b[39m (42): pcd, pcd2, pcds, oscty, ced, oslaua, osward, parish, osnrth1m, osh...\n",
      "\u001b[32mdbl\u001b[39m (10): dointr, doterm, usertype, oseast1m, osgrdind, streg, ur01ind, lat,...\n",
      "\u001b[33mlgl\u001b[39m  (1): lep2\n",
      "\n",
      "\u001b[36mℹ\u001b[39m Use `spec()` to retrieve the full column specification for this data.\n",
      "\u001b[36mℹ\u001b[39m Specify the column types or set `show_col_types = FALSE` to quiet this message.\n"
     ]
    },
    {
     "data": {
      "text/html": [
       "<table class=\"dataframe\">\n",
       "<caption>A tibble: 6 × 3</caption>\n",
       "<thead>\n",
       "\t<tr><th scope=col>pcds</th><th scope=col>lat</th><th scope=col>long</th></tr>\n",
       "\t<tr><th scope=col>&lt;chr&gt;</th><th scope=col>&lt;dbl&gt;</th><th scope=col>&lt;dbl&gt;</th></tr>\n",
       "</thead>\n",
       "<tbody>\n",
       "\t<tr><td>BN1 1AA</td><td>50.82633</td><td>-0.140818</td></tr>\n",
       "\t<tr><td>BN1 1AB</td><td>50.82296</td><td>-0.141790</td></tr>\n",
       "\t<tr><td>BN1 1AD</td><td>50.82169</td><td>-0.142167</td></tr>\n",
       "\t<tr><td>BN1 1AE</td><td>50.82138</td><td>-0.141753</td></tr>\n",
       "\t<tr><td>BN1 1AF</td><td>50.82248</td><td>-0.141426</td></tr>\n",
       "\t<tr><td>BN1 1AG</td><td>50.82292</td><td>-0.142871</td></tr>\n",
       "</tbody>\n",
       "</table>\n"
      ],
      "text/latex": [
       "A tibble: 6 × 3\n",
       "\\begin{tabular}{lll}\n",
       " pcds & lat & long\\\\\n",
       " <chr> & <dbl> & <dbl>\\\\\n",
       "\\hline\n",
       "\t BN1 1AA & 50.82633 & -0.140818\\\\\n",
       "\t BN1 1AB & 50.82296 & -0.141790\\\\\n",
       "\t BN1 1AD & 50.82169 & -0.142167\\\\\n",
       "\t BN1 1AE & 50.82138 & -0.141753\\\\\n",
       "\t BN1 1AF & 50.82248 & -0.141426\\\\\n",
       "\t BN1 1AG & 50.82292 & -0.142871\\\\\n",
       "\\end{tabular}\n"
      ],
      "text/markdown": [
       "\n",
       "A tibble: 6 × 3\n",
       "\n",
       "| pcds &lt;chr&gt; | lat &lt;dbl&gt; | long &lt;dbl&gt; |\n",
       "|---|---|---|\n",
       "| BN1 1AA | 50.82633 | -0.140818 |\n",
       "| BN1 1AB | 50.82296 | -0.141790 |\n",
       "| BN1 1AD | 50.82169 | -0.142167 |\n",
       "| BN1 1AE | 50.82138 | -0.141753 |\n",
       "| BN1 1AF | 50.82248 | -0.141426 |\n",
       "| BN1 1AG | 50.82292 | -0.142871 |\n",
       "\n"
      ],
      "text/plain": [
       "  pcds    lat      long     \n",
       "1 BN1 1AA 50.82633 -0.140818\n",
       "2 BN1 1AB 50.82296 -0.141790\n",
       "3 BN1 1AD 50.82169 -0.142167\n",
       "4 BN1 1AE 50.82138 -0.141753\n",
       "5 BN1 1AF 50.82248 -0.141426\n",
       "6 BN1 1AG 50.82292 -0.142871"
      ]
     },
     "metadata": {},
     "output_type": "display_data"
    },
    {
     "data": {
      "text/html": [
       "3902"
      ],
      "text/latex": [
       "3902"
      ],
      "text/markdown": [
       "3902"
      ],
      "text/plain": [
       "[1] 3902"
      ]
     },
     "metadata": {},
     "output_type": "display_data"
    }
   ],
   "source": [
    "## Load priceper postcodes\n",
    "priceper = read_csv(\"schools_geo/Brighton_and_Hove_link_13082022.csv\")\n",
    "# Obtain unique postcodes\n",
    "unique_postcodes <- unique(priceper$postcode)\n",
    "postcode_dir <- data.frame(postcode = unique_postcodes)\n",
    "\n",
    "# Check\n",
    "nrow(postcode_dir)\n",
    "\n",
    "## left join postcode_df to unique_postcodes \n",
    "brighton_postcodes <- left_join(postcode_dir, postcode_df, by=c(\"postcode\" = \"pcds\"))\n",
    "nrow(brighton_postcodes)\n",
    "brighton_houses <- brighton_postcodes%>%\n",
    "  #remove NAs or 0\n",
    "  filter(long != 0 )%>%\n",
    "  filter(lat != 0)%>%\n",
    "  st_as_sf(., coords = c(\"long\",\"lat\"), \n",
    "                   crs = 4326)"
   ]
  },
  {
   "cell_type": "code",
   "execution_count": 3,
   "id": "0454e49f",
   "metadata": {},
   "outputs": [],
   "source": [
    "brighton_houses <- st_transform(brighton_houses, crs = 27700)"
   ]
  },
  {
   "cell_type": "code",
   "execution_count": 12,
   "id": "7464ba10",
   "metadata": {},
   "outputs": [
    {
     "name": "stdout",
     "output_type": "stream",
     "text": [
      "Reading layer `BrightonSecondaryCatchments' from data source \n",
      "  `/mnt/c/Users/josia/Documents/code/CASA/diss/3A. data/schools/schools_geo/shapefiles/BrightonSecondaryCatchments.geojson' \n",
      "  using driver `GeoJSON'\n",
      "Simple feature collection with 6 features and 2 fields\n",
      "Geometry type: MULTIPOLYGON\n",
      "Dimension:     XY\n",
      "Bounding box:  xmin: 523887.8 ymin: 100896.4 xmax: 539613.4 ymax: 110190.1\n",
      "Projected CRS: OSGB36 / British National Grid\n"
     ]
    }
   ],
   "source": [
    "## Read in geojson file of catchment areas\n",
    "catchment_areas <- \"schools_geo/shapefiles/BrightonSecondaryCatchments.geojson\"\n",
    "catchment_areas <- st_read(catchment_areas)\n",
    "catchment_areas_sf <- st_as_sf(catchment_areas)"
   ]
  },
  {
   "cell_type": "code",
   "execution_count": 4,
   "id": "e42e0beb",
   "metadata": {},
   "outputs": [
    {
     "name": "stdout",
     "output_type": "stream",
     "text": [
      "Reading layer `Wards_December_2022_Boundaries_GB_BFC_1176271257858185555' from data source `/mnt/c/Users/josia/Documents/code/CASA/diss/3A. data/schools/schools_geo/shapefiles/Wards_December_2022_Boundaries_GB_BFC_1176271257858185555.geojson' \n",
      "  using driver `GeoJSON'\n",
      "Simple feature collection with 55 features and 12 fields\n",
      "Geometry type: MULTIPOLYGON\n",
      "Dimension:     XY\n",
      "Bounding box:  xmin: 515159.5 ymin: 99378.75 xmax: 549824.7 ymax: 130673\n",
      "Projected CRS: OSGB36 / British National Grid\n"
     ]
    }
   ],
   "source": [
    "## Read in geojson file of electoral wards\n",
    "wards <- \"schools_geo/shapefiles/Wards_December_2022_Boundaries_GB_BFC_1176271257858185555.geojson\"\n",
    "wards <- st_read(wards)\n",
    "wards_sf <- st_as_sf(wards)"
   ]
  },
  {
   "cell_type": "code",
   "execution_count": 15,
   "id": "9223f991",
   "metadata": {},
   "outputs": [
    {
     "data": {
      "application/geo+json": {
       "features": [
        {
         "geometry": {
          "coordinates": [
           530956.0348,
           104106.0253
          ],
          "type": "Point"
         },
         "properties": {
          "AreaName": "StringerVarndean",
          "id": 2,
          "postcode": "BN1 1AD"
         },
         "type": "Feature"
        },
        {
         "geometry": {
          "coordinates": [
           530929.0259,
           104078.644
          ],
          "type": "Point"
         },
         "properties": {
          "AreaName": "StringerVarndean",
          "id": 2,
          "postcode": "BN1 1AJ"
         },
         "type": "Feature"
        },
        {
         "geometry": {
          "coordinates": [
           530901.0311,
           104068.0384
          ],
          "type": "Point"
         },
         "properties": {
          "AreaName": "StringerVarndean",
          "id": 2,
          "postcode": "BN1 1AL"
         },
         "type": "Feature"
        },
        {
         "geometry": {
          "coordinates": [
           530861.0443,
           104147.5871
          ],
          "type": "Point"
         },
         "properties": {
          "AreaName": "StringerVarndean",
          "id": 2,
          "postcode": "BN1 1AN"
         },
         "type": "Feature"
        },
        {
         "geometry": {
          "coordinates": [
           530850.0474,
           104004.6744
          ],
          "type": "Point"
         },
         "properties": {
          "AreaName": "StringerVarndean",
          "id": 2,
          "postcode": "BN1 1AP"
         },
         "type": "Feature"
        },
        {
         "geometry": {
          "coordinates": [
           530959.0226,
           104174.971
          ],
          "type": "Point"
         },
         "properties": {
          "AreaName": "StringerVarndean",
          "id": 2,
          "postcode": "BN1 1BG"
         },
         "type": "Feature"
        }
       ],
       "type": "FeatureCollection"
      },
      "text/html": [
       "<table class=\"dataframe\">\n",
       "<caption>A sf: 6 × 4</caption>\n",
       "<thead>\n",
       "\t<tr><th></th><th scope=col>postcode</th><th scope=col>id</th><th scope=col>AreaName</th><th scope=col>geometry</th></tr>\n",
       "\t<tr><th></th><th scope=col>&lt;chr&gt;</th><th scope=col>&lt;int&gt;</th><th scope=col>&lt;chr&gt;</th><th scope=col>&lt;POINT [m]&gt;</th></tr>\n",
       "</thead>\n",
       "<tbody>\n",
       "\t<tr><th scope=row>1</th><td>BN1 1AD</td><td>2</td><td>StringerVarndean</td><td>POINT (530956 104106)</td></tr>\n",
       "\t<tr><th scope=row>2</th><td>BN1 1AJ</td><td>2</td><td>StringerVarndean</td><td>POINT (530929 104078.6)</td></tr>\n",
       "\t<tr><th scope=row>3</th><td>BN1 1AL</td><td>2</td><td>StringerVarndean</td><td>POINT (530901 104068)</td></tr>\n",
       "\t<tr><th scope=row>4</th><td>BN1 1AN</td><td>2</td><td>StringerVarndean</td><td>POINT (530861 104147.6)</td></tr>\n",
       "\t<tr><th scope=row>5</th><td>BN1 1AP</td><td>2</td><td>StringerVarndean</td><td>POINT (530850 104004.7)</td></tr>\n",
       "\t<tr><th scope=row>6</th><td>BN1 1BG</td><td>2</td><td>StringerVarndean</td><td>POINT (530959 104175)</td></tr>\n",
       "</tbody>\n",
       "</table>\n"
      ],
      "text/latex": [
       "A sf: 6 × 4\n",
       "\\begin{tabular}{r|llll}\n",
       "  & postcode & id & AreaName & geometry\\\\\n",
       "  & <chr> & <int> & <chr> & <POINT {[}m{]}>\\\\\n",
       "\\hline\n",
       "\t1 & BN1 1AD & 2 & StringerVarndean & POINT (530956 104106)\\\\\n",
       "\t2 & BN1 1AJ & 2 & StringerVarndean & POINT (530929 104078.6)\\\\\n",
       "\t3 & BN1 1AL & 2 & StringerVarndean & POINT (530901 104068)\\\\\n",
       "\t4 & BN1 1AN & 2 & StringerVarndean & POINT (530861 104147.6)\\\\\n",
       "\t5 & BN1 1AP & 2 & StringerVarndean & POINT (530850 104004.7)\\\\\n",
       "\t6 & BN1 1BG & 2 & StringerVarndean & POINT (530959 104175)\\\\\n",
       "\\end{tabular}\n"
      ],
      "text/markdown": [
       "\n",
       "A sf: 6 × 4\n",
       "\n",
       "| <!--/--> | postcode &lt;chr&gt; | id &lt;int&gt; | AreaName &lt;chr&gt; | geometry &lt;POINT [m]&gt; |\n",
       "|---|---|---|---|---|\n",
       "| 1 | BN1 1AD | 2 | StringerVarndean | POINT (530956 104106) |\n",
       "| 2 | BN1 1AJ | 2 | StringerVarndean | POINT (530929 104078.6) |\n",
       "| 3 | BN1 1AL | 2 | StringerVarndean | POINT (530901 104068) |\n",
       "| 4 | BN1 1AN | 2 | StringerVarndean | POINT (530861 104147.6) |\n",
       "| 5 | BN1 1AP | 2 | StringerVarndean | POINT (530850 104004.7) |\n",
       "| 6 | BN1 1BG | 2 | StringerVarndean | POINT (530959 104175) |\n",
       "\n"
      ],
      "text/plain": [
       "  postcode id AreaName         geometry               \n",
       "1 BN1 1AD  2  StringerVarndean POINT (530956 104106)  \n",
       "2 BN1 1AJ  2  StringerVarndean POINT (530929 104078.6)\n",
       "3 BN1 1AL  2  StringerVarndean POINT (530901 104068)  \n",
       "4 BN1 1AN  2  StringerVarndean POINT (530861 104147.6)\n",
       "5 BN1 1AP  2  StringerVarndean POINT (530850 104004.7)\n",
       "6 BN1 1BG  2  StringerVarndean POINT (530959 104175)  "
      ]
     },
     "metadata": {},
     "output_type": "display_data"
    }
   ],
   "source": [
    "# Perform a spatial join based on the spatial relationships (i.e., matching postcodes)\n",
    "joined_sf <- st_join(brighton_houses, catchment_areas_sf, join = st_within)\n",
    "head(joined_sf)"
   ]
  },
  {
   "cell_type": "code",
   "execution_count": 5,
   "id": "d2604f33",
   "metadata": {},
   "outputs": [
    {
     "name": "stderr",
     "output_type": "stream",
     "text": [
      "Registered S3 method overwritten by 'geojsonsf':\n",
      "  method        from   \n",
      "  print.geojson geojson\n",
      "\n"
     ]
    },
    {
     "data": {
      "application/geo+json": {
       "features": [
        {
         "geometry": {
          "coordinates": [
           530956.0348,
           104106.0253
          ],
          "type": "Point"
         },
         "properties": {
          "BNG_E": 530633,
          "BNG_N": 104382,
          "GlobalID": "0b3bd8c8-19cb-4b70-852e-3c4da241a953",
          "LAD22CD": "E06000043",
          "LAD22NM": "Brighton and Hove",
          "LAT": 50.8242,
          "LONG": -0.1466,
          "OBJECTID": 790,
          "Shape_Leng": 4786.5414,
          "WD22CD": "E05002432",
          "WD22NM": "Regency",
          "WD22NMW": " ",
          "postcode": "BN1 1AD"
         },
         "type": "Feature"
        },
        {
         "geometry": {
          "coordinates": [
           530929.0259,
           104078.644
          ],
          "type": "Point"
         },
         "properties": {
          "BNG_E": 530633,
          "BNG_N": 104382,
          "GlobalID": "0b3bd8c8-19cb-4b70-852e-3c4da241a953",
          "LAD22CD": "E06000043",
          "LAD22NM": "Brighton and Hove",
          "LAT": 50.8242,
          "LONG": -0.1466,
          "OBJECTID": 790,
          "Shape_Leng": 4786.5414,
          "WD22CD": "E05002432",
          "WD22NM": "Regency",
          "WD22NMW": " ",
          "postcode": "BN1 1AJ"
         },
         "type": "Feature"
        },
        {
         "geometry": {
          "coordinates": [
           530901.0311,
           104068.0384
          ],
          "type": "Point"
         },
         "properties": {
          "BNG_E": 530633,
          "BNG_N": 104382,
          "GlobalID": "0b3bd8c8-19cb-4b70-852e-3c4da241a953",
          "LAD22CD": "E06000043",
          "LAD22NM": "Brighton and Hove",
          "LAT": 50.8242,
          "LONG": -0.1466,
          "OBJECTID": 790,
          "Shape_Leng": 4786.5414,
          "WD22CD": "E05002432",
          "WD22NM": "Regency",
          "WD22NMW": " ",
          "postcode": "BN1 1AL"
         },
         "type": "Feature"
        },
        {
         "geometry": {
          "coordinates": [
           530861.0443,
           104147.5871
          ],
          "type": "Point"
         },
         "properties": {
          "BNG_E": 530633,
          "BNG_N": 104382,
          "GlobalID": "0b3bd8c8-19cb-4b70-852e-3c4da241a953",
          "LAD22CD": "E06000043",
          "LAD22NM": "Brighton and Hove",
          "LAT": 50.8242,
          "LONG": -0.1466,
          "OBJECTID": 790,
          "Shape_Leng": 4786.5414,
          "WD22CD": "E05002432",
          "WD22NM": "Regency",
          "WD22NMW": " ",
          "postcode": "BN1 1AN"
         },
         "type": "Feature"
        },
        {
         "geometry": {
          "coordinates": [
           530850.0474,
           104004.6744
          ],
          "type": "Point"
         },
         "properties": {
          "BNG_E": 530633,
          "BNG_N": 104382,
          "GlobalID": "0b3bd8c8-19cb-4b70-852e-3c4da241a953",
          "LAD22CD": "E06000043",
          "LAD22NM": "Brighton and Hove",
          "LAT": 50.8242,
          "LONG": -0.1466,
          "OBJECTID": 790,
          "Shape_Leng": 4786.5414,
          "WD22CD": "E05002432",
          "WD22NM": "Regency",
          "WD22NMW": " ",
          "postcode": "BN1 1AP"
         },
         "type": "Feature"
        },
        {
         "geometry": {
          "coordinates": [
           530959.0226,
           104174.971
          ],
          "type": "Point"
         },
         "properties": {
          "BNG_E": 530633,
          "BNG_N": 104382,
          "GlobalID": "0b3bd8c8-19cb-4b70-852e-3c4da241a953",
          "LAD22CD": "E06000043",
          "LAD22NM": "Brighton and Hove",
          "LAT": 50.8242,
          "LONG": -0.1466,
          "OBJECTID": 790,
          "Shape_Leng": 4786.5414,
          "WD22CD": "E05002432",
          "WD22NM": "Regency",
          "WD22NMW": " ",
          "postcode": "BN1 1BG"
         },
         "type": "Feature"
        }
       ],
       "type": "FeatureCollection"
      },
      "text/html": [
       "<table class=\"dataframe\">\n",
       "<caption>A sf: 6 × 14</caption>\n",
       "<thead>\n",
       "\t<tr><th></th><th scope=col>postcode</th><th scope=col>WD22CD</th><th scope=col>WD22NM</th><th scope=col>WD22NMW</th><th scope=col>LAD22CD</th><th scope=col>LAD22NM</th><th scope=col>BNG_E</th><th scope=col>BNG_N</th><th scope=col>LONG</th><th scope=col>LAT</th><th scope=col>Shape_Leng</th><th scope=col>OBJECTID</th><th scope=col>GlobalID</th><th scope=col>geometry</th></tr>\n",
       "\t<tr><th></th><th scope=col>&lt;chr&gt;</th><th scope=col>&lt;chr&gt;</th><th scope=col>&lt;chr&gt;</th><th scope=col>&lt;chr&gt;</th><th scope=col>&lt;chr&gt;</th><th scope=col>&lt;chr&gt;</th><th scope=col>&lt;int&gt;</th><th scope=col>&lt;int&gt;</th><th scope=col>&lt;dbl&gt;</th><th scope=col>&lt;dbl&gt;</th><th scope=col>&lt;dbl&gt;</th><th scope=col>&lt;int&gt;</th><th scope=col>&lt;chr&gt;</th><th scope=col>&lt;POINT [m]&gt;</th></tr>\n",
       "</thead>\n",
       "<tbody>\n",
       "\t<tr><th scope=row>1</th><td>BN1 1AD</td><td>E05002432</td><td>Regency</td><td> </td><td>E06000043</td><td>Brighton and Hove</td><td>530633</td><td>104382</td><td>-0.14665</td><td>50.8242</td><td>4786.541</td><td>790</td><td>0b3bd8c8-19cb-4b70-852e-3c4da241a953</td><td>POINT (530956 104106)</td></tr>\n",
       "\t<tr><th scope=row>2</th><td>BN1 1AJ</td><td>E05002432</td><td>Regency</td><td> </td><td>E06000043</td><td>Brighton and Hove</td><td>530633</td><td>104382</td><td>-0.14665</td><td>50.8242</td><td>4786.541</td><td>790</td><td>0b3bd8c8-19cb-4b70-852e-3c4da241a953</td><td>POINT (530929 104078.6)</td></tr>\n",
       "\t<tr><th scope=row>3</th><td>BN1 1AL</td><td>E05002432</td><td>Regency</td><td> </td><td>E06000043</td><td>Brighton and Hove</td><td>530633</td><td>104382</td><td>-0.14665</td><td>50.8242</td><td>4786.541</td><td>790</td><td>0b3bd8c8-19cb-4b70-852e-3c4da241a953</td><td>POINT (530901 104068)</td></tr>\n",
       "\t<tr><th scope=row>4</th><td>BN1 1AN</td><td>E05002432</td><td>Regency</td><td> </td><td>E06000043</td><td>Brighton and Hove</td><td>530633</td><td>104382</td><td>-0.14665</td><td>50.8242</td><td>4786.541</td><td>790</td><td>0b3bd8c8-19cb-4b70-852e-3c4da241a953</td><td>POINT (530861 104147.6)</td></tr>\n",
       "\t<tr><th scope=row>5</th><td>BN1 1AP</td><td>E05002432</td><td>Regency</td><td> </td><td>E06000043</td><td>Brighton and Hove</td><td>530633</td><td>104382</td><td>-0.14665</td><td>50.8242</td><td>4786.541</td><td>790</td><td>0b3bd8c8-19cb-4b70-852e-3c4da241a953</td><td>POINT (530850 104004.7)</td></tr>\n",
       "\t<tr><th scope=row>6</th><td>BN1 1BG</td><td>E05002432</td><td>Regency</td><td> </td><td>E06000043</td><td>Brighton and Hove</td><td>530633</td><td>104382</td><td>-0.14665</td><td>50.8242</td><td>4786.541</td><td>790</td><td>0b3bd8c8-19cb-4b70-852e-3c4da241a953</td><td>POINT (530959 104175)</td></tr>\n",
       "</tbody>\n",
       "</table>\n"
      ],
      "text/latex": [
       "A sf: 6 × 14\n",
       "\\begin{tabular}{r|llllllllllllll}\n",
       "  & postcode & WD22CD & WD22NM & WD22NMW & LAD22CD & LAD22NM & BNG\\_E & BNG\\_N & LONG & LAT & Shape\\_Leng & OBJECTID & GlobalID & geometry\\\\\n",
       "  & <chr> & <chr> & <chr> & <chr> & <chr> & <chr> & <int> & <int> & <dbl> & <dbl> & <dbl> & <int> & <chr> & <POINT {[}m{]}>\\\\\n",
       "\\hline\n",
       "\t1 & BN1 1AD & E05002432 & Regency &   & E06000043 & Brighton and Hove & 530633 & 104382 & -0.14665 & 50.8242 & 4786.541 & 790 & 0b3bd8c8-19cb-4b70-852e-3c4da241a953 & POINT (530956 104106)\\\\\n",
       "\t2 & BN1 1AJ & E05002432 & Regency &   & E06000043 & Brighton and Hove & 530633 & 104382 & -0.14665 & 50.8242 & 4786.541 & 790 & 0b3bd8c8-19cb-4b70-852e-3c4da241a953 & POINT (530929 104078.6)\\\\\n",
       "\t3 & BN1 1AL & E05002432 & Regency &   & E06000043 & Brighton and Hove & 530633 & 104382 & -0.14665 & 50.8242 & 4786.541 & 790 & 0b3bd8c8-19cb-4b70-852e-3c4da241a953 & POINT (530901 104068)\\\\\n",
       "\t4 & BN1 1AN & E05002432 & Regency &   & E06000043 & Brighton and Hove & 530633 & 104382 & -0.14665 & 50.8242 & 4786.541 & 790 & 0b3bd8c8-19cb-4b70-852e-3c4da241a953 & POINT (530861 104147.6)\\\\\n",
       "\t5 & BN1 1AP & E05002432 & Regency &   & E06000043 & Brighton and Hove & 530633 & 104382 & -0.14665 & 50.8242 & 4786.541 & 790 & 0b3bd8c8-19cb-4b70-852e-3c4da241a953 & POINT (530850 104004.7)\\\\\n",
       "\t6 & BN1 1BG & E05002432 & Regency &   & E06000043 & Brighton and Hove & 530633 & 104382 & -0.14665 & 50.8242 & 4786.541 & 790 & 0b3bd8c8-19cb-4b70-852e-3c4da241a953 & POINT (530959 104175)\\\\\n",
       "\\end{tabular}\n"
      ],
      "text/markdown": [
       "\n",
       "A sf: 6 × 14\n",
       "\n",
       "| <!--/--> | postcode &lt;chr&gt; | WD22CD &lt;chr&gt; | WD22NM &lt;chr&gt; | WD22NMW &lt;chr&gt; | LAD22CD &lt;chr&gt; | LAD22NM &lt;chr&gt; | BNG_E &lt;int&gt; | BNG_N &lt;int&gt; | LONG &lt;dbl&gt; | LAT &lt;dbl&gt; | Shape_Leng &lt;dbl&gt; | OBJECTID &lt;int&gt; | GlobalID &lt;chr&gt; | geometry &lt;POINT [m]&gt; |\n",
       "|---|---|---|---|---|---|---|---|---|---|---|---|---|---|---|\n",
       "| 1 | BN1 1AD | E05002432 | Regency | <!----> | E06000043 | Brighton and Hove | 530633 | 104382 | -0.14665 | 50.8242 | 4786.541 | 790 | 0b3bd8c8-19cb-4b70-852e-3c4da241a953 | POINT (530956 104106) |\n",
       "| 2 | BN1 1AJ | E05002432 | Regency | <!----> | E06000043 | Brighton and Hove | 530633 | 104382 | -0.14665 | 50.8242 | 4786.541 | 790 | 0b3bd8c8-19cb-4b70-852e-3c4da241a953 | POINT (530929 104078.6) |\n",
       "| 3 | BN1 1AL | E05002432 | Regency | <!----> | E06000043 | Brighton and Hove | 530633 | 104382 | -0.14665 | 50.8242 | 4786.541 | 790 | 0b3bd8c8-19cb-4b70-852e-3c4da241a953 | POINT (530901 104068) |\n",
       "| 4 | BN1 1AN | E05002432 | Regency | <!----> | E06000043 | Brighton and Hove | 530633 | 104382 | -0.14665 | 50.8242 | 4786.541 | 790 | 0b3bd8c8-19cb-4b70-852e-3c4da241a953 | POINT (530861 104147.6) |\n",
       "| 5 | BN1 1AP | E05002432 | Regency | <!----> | E06000043 | Brighton and Hove | 530633 | 104382 | -0.14665 | 50.8242 | 4786.541 | 790 | 0b3bd8c8-19cb-4b70-852e-3c4da241a953 | POINT (530850 104004.7) |\n",
       "| 6 | BN1 1BG | E05002432 | Regency | <!----> | E06000043 | Brighton and Hove | 530633 | 104382 | -0.14665 | 50.8242 | 4786.541 | 790 | 0b3bd8c8-19cb-4b70-852e-3c4da241a953 | POINT (530959 104175) |\n",
       "\n"
      ],
      "text/plain": [
       "  postcode WD22CD    WD22NM  WD22NMW LAD22CD   LAD22NM           BNG_E  BNG_N \n",
       "1 BN1 1AD  E05002432 Regency         E06000043 Brighton and Hove 530633 104382\n",
       "2 BN1 1AJ  E05002432 Regency         E06000043 Brighton and Hove 530633 104382\n",
       "3 BN1 1AL  E05002432 Regency         E06000043 Brighton and Hove 530633 104382\n",
       "4 BN1 1AN  E05002432 Regency         E06000043 Brighton and Hove 530633 104382\n",
       "5 BN1 1AP  E05002432 Regency         E06000043 Brighton and Hove 530633 104382\n",
       "6 BN1 1BG  E05002432 Regency         E06000043 Brighton and Hove 530633 104382\n",
       "  LONG     LAT     Shape_Leng OBJECTID GlobalID                            \n",
       "1 -0.14665 50.8242 4786.541   790      0b3bd8c8-19cb-4b70-852e-3c4da241a953\n",
       "2 -0.14665 50.8242 4786.541   790      0b3bd8c8-19cb-4b70-852e-3c4da241a953\n",
       "3 -0.14665 50.8242 4786.541   790      0b3bd8c8-19cb-4b70-852e-3c4da241a953\n",
       "4 -0.14665 50.8242 4786.541   790      0b3bd8c8-19cb-4b70-852e-3c4da241a953\n",
       "5 -0.14665 50.8242 4786.541   790      0b3bd8c8-19cb-4b70-852e-3c4da241a953\n",
       "6 -0.14665 50.8242 4786.541   790      0b3bd8c8-19cb-4b70-852e-3c4da241a953\n",
       "  geometry               \n",
       "1 POINT (530956 104106)  \n",
       "2 POINT (530929 104078.6)\n",
       "3 POINT (530901 104068)  \n",
       "4 POINT (530861 104147.6)\n",
       "5 POINT (530850 104004.7)\n",
       "6 POINT (530959 104175)  "
      ]
     },
     "metadata": {},
     "output_type": "display_data"
    }
   ],
   "source": [
    "# Perform a spatial join based on the spatial relationships (i.e., matching postcodes)\n",
    "joined_sf2 <- st_join(brighton_houses, wards_sf, join = st_within)\n",
    "head(joined_sf2)"
   ]
  },
  {
   "cell_type": "code",
   "execution_count": 19,
   "id": "ed163386",
   "metadata": {},
   "outputs": [],
   "source": [
    "### Export\n",
    "# Drop geometry\n",
    "attributes_only <- st_drop_geometry(joined_sf)\n",
    "# Drop id column\n",
    "attributes_only$id <- NULL\n",
    "\n",
    "# Export the data as a CSV file\n",
    "write.csv(attributes_only, file = \"data/BrightonSecondaryCatchments.csv\", row.names = FALSE)"
   ]
  },
  {
   "cell_type": "code",
   "execution_count": 6,
   "id": "e82e955c",
   "metadata": {},
   "outputs": [],
   "source": [
    "### Export\n",
    "# Drop geometry\n",
    "attributes_only2 <- st_drop_geometry(joined_sf2)\n",
    "# Drop id column\n",
    "attributes_only2$id <- NULL\n",
    "\n",
    "# Export the data as a CSV file\n",
    "write.csv(attributes_only2, file = \"data/BrightonElectoralWards.csv\", row.names = FALSE)"
   ]
  },
  {
   "cell_type": "code",
   "execution_count": 7,
   "id": "9404ac99",
   "metadata": {},
   "outputs": [
    {
     "data": {
      "text/html": [
       "3902"
      ],
      "text/latex": [
       "3902"
      ],
      "text/markdown": [
       "3902"
      ],
      "text/plain": [
       "[1] 3902"
      ]
     },
     "metadata": {},
     "output_type": "display_data"
    }
   ],
   "source": [
    "nrow(attributes_only2)"
   ]
  }
 ],
 "metadata": {
  "kernelspec": {
   "display_name": "Python 3 (ipykernel)",
   "language": "python",
   "name": "python3"
  },
  "language_info": {
   "codemirror_mode": {
    "name": "ipython",
    "version": 3
   },
   "file_extension": ".py",
   "mimetype": "text/x-python",
   "name": "python",
   "nbconvert_exporter": "python",
   "pygments_lexer": "ipython3",
   "version": "3.10.5"
  }
 },
 "nbformat": 4,
 "nbformat_minor": 5
}
